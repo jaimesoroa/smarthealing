{
 "cells": [
  {
   "cell_type": "code",
   "execution_count": 1,
   "metadata": {},
   "outputs": [],
   "source": [
    "from testing import get_icd10_codes_and_time, get_icd9_df, save_icd9_codes_to_txt, \\\n",
    "    load_icd9_to_icd10_conversion, clean_icd9_to_icd10, get_final_df\n",
    "import pandas as pd"
   ]
  },
  {
   "cell_type": "code",
   "execution_count": 2,
   "metadata": {},
   "outputs": [
    {
     "name": "stderr",
     "output_type": "stream",
     "text": [
      "/root/code/davnak/smarthealing/smarthealing/model/testing.py:5: DtypeWarning: Columns (10) have mixed types. Specify dtype option on import or set low_memory=False.\n",
      "  df = pd.read_csv('../../raw_data/datos.zip', delimiter=';')\n"
     ]
    }
   ],
   "source": [
    "file = '../../raw_data/Manual_Tiempos_Optimos_IT_2017.pdf'\n",
    "icd10_time_df = get_icd10_codes_and_time(file, last_page=127)\n",
    "icd9_df = get_icd9_df()\n",
    "save_icd9_codes_to_txt(icd9_df)\n",
    "#call python icd9to10.py ../icd_9_codes.txt to get conversion\n"
   ]
  },
  {
   "cell_type": "code",
   "execution_count": 5,
   "metadata": {},
   "outputs": [],
   "source": [
    "icd_9to10_df = load_icd9_to_icd10_conversion()\n",
    "has_icd10 = clean_icd9_to_icd10(icd_9to10_df)\n",
    "final_df = get_final_df(has_icd10, icd10_time_df)"
   ]
  },
  {
   "cell_type": "code",
   "execution_count": 6,
   "metadata": {},
   "outputs": [
    {
     "data": {
      "text/html": [
       "<div>\n",
       "<style scoped>\n",
       "    .dataframe tbody tr th:only-of-type {\n",
       "        vertical-align: middle;\n",
       "    }\n",
       "\n",
       "    .dataframe tbody tr th {\n",
       "        vertical-align: top;\n",
       "    }\n",
       "\n",
       "    .dataframe thead th {\n",
       "        text-align: right;\n",
       "    }\n",
       "</style>\n",
       "<table border=\"1\" class=\"dataframe\">\n",
       "  <thead>\n",
       "    <tr style=\"text-align: right;\">\n",
       "      <th></th>\n",
       "      <th>icd9</th>\n",
       "      <th>icd10</th>\n",
       "      <th>tiempo</th>\n",
       "    </tr>\n",
       "  </thead>\n",
       "  <tbody>\n",
       "    <tr>\n",
       "      <th>0</th>\n",
       "      <td>009.3</td>\n",
       "      <td>A09</td>\n",
       "      <td>4</td>\n",
       "    </tr>\n",
       "    <tr>\n",
       "      <th>1</th>\n",
       "      <td>787.01</td>\n",
       "      <td>R11.2</td>\n",
       "      <td>4</td>\n",
       "    </tr>\n",
       "    <tr>\n",
       "      <th>2</th>\n",
       "      <td>462</td>\n",
       "      <td>J02.9</td>\n",
       "      <td>NaN</td>\n",
       "    </tr>\n",
       "    <tr>\n",
       "      <th>3</th>\n",
       "      <td>460</td>\n",
       "      <td>J00</td>\n",
       "      <td>4</td>\n",
       "    </tr>\n",
       "    <tr>\n",
       "      <th>4</th>\n",
       "      <td>079.99</td>\n",
       "      <td>B97.89</td>\n",
       "      <td>NaN</td>\n",
       "    </tr>\n",
       "    <tr>\n",
       "      <th>...</th>\n",
       "      <td>...</td>\n",
       "      <td>...</td>\n",
       "      <td>...</td>\n",
       "    </tr>\n",
       "    <tr>\n",
       "      <th>3675</th>\n",
       "      <td>382.2</td>\n",
       "      <td>H66.23</td>\n",
       "      <td>NaN</td>\n",
       "    </tr>\n",
       "    <tr>\n",
       "      <th>3676</th>\n",
       "      <td>944.05</td>\n",
       "      <td>T23.059A</td>\n",
       "      <td>NaN</td>\n",
       "    </tr>\n",
       "    <tr>\n",
       "      <th>3677</th>\n",
       "      <td>372.43</td>\n",
       "      <td>H11.029</td>\n",
       "      <td>NaN</td>\n",
       "    </tr>\n",
       "    <tr>\n",
       "      <th>3678</th>\n",
       "      <td>788.29</td>\n",
       "      <td>R33.8</td>\n",
       "      <td>NaN</td>\n",
       "    </tr>\n",
       "    <tr>\n",
       "      <th>3679</th>\n",
       "      <td>726.62</td>\n",
       "      <td>M76.40</td>\n",
       "      <td>NaN</td>\n",
       "    </tr>\n",
       "  </tbody>\n",
       "</table>\n",
       "<p>3680 rows × 3 columns</p>\n",
       "</div>"
      ],
      "text/plain": [
       "        icd9     icd10 tiempo\n",
       "0      009.3       A09      4\n",
       "1     787.01     R11.2      4\n",
       "2        462     J02.9    NaN\n",
       "3        460       J00      4\n",
       "4     079.99    B97.89    NaN\n",
       "...      ...       ...    ...\n",
       "3675   382.2    H66.23    NaN\n",
       "3676  944.05  T23.059A    NaN\n",
       "3677  372.43   H11.029    NaN\n",
       "3678  788.29     R33.8    NaN\n",
       "3679  726.62    M76.40    NaN\n",
       "\n",
       "[3680 rows x 3 columns]"
      ]
     },
     "execution_count": 6,
     "metadata": {},
     "output_type": "execute_result"
    }
   ],
   "source": [
    "final_df"
   ]
  },
  {
   "cell_type": "code",
   "execution_count": null,
   "metadata": {},
   "outputs": [],
   "source": []
  }
 ],
 "metadata": {
  "kernelspec": {
   "display_name": "Python 3.10.6 64-bit ('smarthealing')",
   "language": "python",
   "name": "python3"
  },
  "language_info": {
   "codemirror_mode": {
    "name": "ipython",
    "version": 3
   },
   "file_extension": ".py",
   "mimetype": "text/x-python",
   "name": "python",
   "nbconvert_exporter": "python",
   "pygments_lexer": "ipython3",
   "version": "3.10.6"
  },
  "orig_nbformat": 4,
  "vscode": {
   "interpreter": {
    "hash": "ce16f05cf1d31035f35eb4d7305f21085126e0bede64b4b528fbbe0744373280"
   }
  }
 },
 "nbformat": 4,
 "nbformat_minor": 2
}
