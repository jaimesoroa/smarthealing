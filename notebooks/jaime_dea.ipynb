{
 "cells": [
  {
   "cell_type": "code",
   "execution_count": 1,
   "metadata": {},
   "outputs": [],
   "source": [
    "import pandas as pd\n",
    "import seaborn as sns\n",
    "import numpy as np\n",
    "import matplotlib.pyplot as plt\n",
    "import os\n",
    "from matplotlib.pyplot import figure"
   ]
  },
  {
   "cell_type": "code",
   "execution_count": 2,
   "metadata": {},
   "outputs": [],
   "source": [
    "from sklearn.linear_model import LinearRegression\n",
    "from sklearn.model_selection import cross_validate\n",
    "from sklearn.model_selection import train_test_split\n",
    "from sklearn.model_selection import learning_curve\n",
    "from sklearn.model_selection import train_test_split\n",
    "from fastapi import FastAPI\n",
    "from fastapi.middleware.cors import CORSMiddleware\n",
    "from sklearn.model_selection import cross_validate, cross_val_score\n",
    "from math import pi\n",
    "from sklearn.preprocessing import OneHotEncoder\n",
    "from sklearn.preprocessing import RobustScaler\n",
    "from sklearn.preprocessing import StandardScaler\n",
    "from sklearn.metrics import mean_squared_error, mean_absolute_error\n",
    "from sklearn.model_selection import GridSearchCV, RandomizedSearchCV\n",
    "from sklearn.linear_model import PoissonRegressor\n",
    "from sklearn.linear_model import SGDRegressor\n",
    "from sklearn.neighbors import KNeighborsRegressor\n",
    "from sklearn.svm import SVR\n",
    "from sklearn.ensemble import RandomForestRegressor\n",
    "import xgboost as xgb\n",
    "from sklearn.linear_model import Ridge, Lasso\n",
    "from sklearn.model_selection import RandomizedSearchCV\n",
    "from scipy import stats\n",
    "import pickle"
   ]
  },
  {
   "cell_type": "code",
   "execution_count": 320,
   "metadata": {},
   "outputs": [
    {
     "name": "stderr",
     "output_type": "stream",
     "text": [
      "/Users/jaimesoroarubio/.pyenv/versions/3.10.6/envs/smarthealing/lib/python3.10/site-packages/openpyxl/worksheet/header_footer.py:48: UserWarning: Cannot parse header or footer so it will be ignored\n",
      "  warn(\"\"\"Cannot parse header or footer so it will be ignored\"\"\")\n"
     ]
    }
   ],
   "source": [
    "# 0. Load Data and Drop Duplicates\n",
    "data = pd.read_csv('../raw_data/datos.csv', delimiter = ';', low_memory = False)\n",
    "data.drop_duplicates(inplace = True)\n",
    "outliers = data.query('duracion_baja >= 100')  # Save outliers for analysis.\n",
    "data = data.query('duracion_baja < 100')\n",
    "# data.drop_duplicates(inplace = True)\n",
    "\n",
    "# 1. Handle Null Values\n",
    "# CNAE (only 482)\n",
    "data = data.query('cnae != 0')\n",
    "\n",
    "# CodiPostal (Most Frequent)\n",
    "data['codipostal'] = data['codipostal'].replace('-', (data['codipostal']).mode()[0])\n",
    "\n",
    "# Contracte (Delete few wrongs and then Most Frequent)\n",
    "data = data[data['contracte'] != '001']\n",
    "data = data[data['contracte'] != '019']\n",
    "data = data[data['contracte'] != '999']\n",
    "\n",
    "mf_contracte = data['contracte'].mode()[0]\n",
    "data['contracte'] = data['contracte'].replace('000', mf_contracte).replace('-', mf_contracte)\n",
    "\n",
    "# Grupcoti (Most Frequent)\n",
    "mf_grupcoti = data['grupcoti'].mode()[0]\n",
    "data['grupcoti'] = data['grupcoti'].replace('-', mf_grupcoti).replace('0', mf_grupcoti)\n",
    "\n",
    "# 2. Data Cleaning\n",
    "# ContadorBajasCCC (non-sense)\n",
    "data.drop('ContadorBajasCCC', axis = 1, inplace = True)\n",
    "\n",
    "# ContadorBajasDNI vs ContadordiasBajasDNI\n",
    "data = data.query('ContadorBajasDNI <= ContadordiasBajasDNI')\n",
    "\n",
    "# Categorize CNAE\n",
    "c = pd.read_excel('Tabla_cnae.xlsx', usecols = ['GRUPO', 'COD_CNAE2009'])\n",
    "c.rename(columns = {'GRUPO': 'cnae_cat', 'COD_CNAE2009': 'cnae'}, inplace = True)\n",
    "c['cnae_cat'] = c['cnae_cat'].map(lambda x: ord(x) - 64)\n",
    "c = c.query('cnae.str.isnumeric()').astype('int')\n",
    "data = data.merge(c, how = 'left', on = 'cnae')\n",
    "\n",
    "# Sickness Types\n",
    "block_ends = [140,240,280,290,320,390,460,520,580,630,680,710,740,760,780,800,1000]\n",
    "blocks = [[i+1, s] for i, s in enumerate(block_ends)]\n",
    "special_cases = ['E','V','M']\n",
    "\n",
    "def make_icd9_cat(row):\n",
    "    first_str = row.icd9[0]\n",
    "    if first_str == 'E':\n",
    "        return 18\n",
    "    if first_str == 'V':\n",
    "        return 19\n",
    "    if first_str == 'M':\n",
    "        return 20\n",
    "    else:\n",
    "        code = float(row.icd9)\n",
    "        for block in blocks:\n",
    "            if code < block[1]:\n",
    "                return block[0]\n",
    "data['icd9_cat'] = data.apply(lambda row: make_icd9_cat(row), axis=1)\n",
    "\n",
    "# Sickness Wrong Values\n",
    "data = data.query('sexo != 1 | icd9_cat != 11')\n",
    "data = data[~((data['sexo'] == 1) & (data['icd9'].str[:2].isin(['61', '62'])))]\n",
    "data = data[~((data['sexo'] == 2) & (data['icd9'].str[:2] == '60'))]\n",
    "\n",
    "# Post Code Categories.\n",
    "data['codipostal_cat'] = data['codipostal'].str[:2]\n",
    "\n",
    "# Time in company\n",
    "# Add 0.01 to have the upper limit. (0.00 means up to 3 days)\n",
    "data['proporcion_baja'] = (data['duracion_baja'] / (365 * (data['tiempo_en_empresa'] + 0.01)))\n",
    "by_wrong_proportion = data.sort_values(by = 'proporcion_baja', axis = 0, ascending = False)\n",
    "data = data.query('proporcion_baja <= 1')\n",
    "data.drop('proporcion_baja', axis = 1, inplace = True)\n",
    "\n",
    "# Month not required\n",
    "data.drop('mes_baja', axis = 1, inplace = True)\n",
    "\n",
    "# Cyclic Calendar\n",
    "# data['time'] = (2 * pi * (data['epiweek'] - 1) + ((data['diasemana'] - 1) / 7)) / 52\n",
    "# data['sin_time'] = np.sin(data['time'])\n",
    "# data['cos_time'] = np.cos(data['time'])\n",
    "# data.drop(['time', 'diasemana', 'epiweek'], axis = 1, inplace = True)\n",
    "\n",
    "# 3. Prepare Data for ML\n",
    "data.drop(['cnae', 'icd9', 'codipostal', 'contracte'], axis = 1, inplace = True)\n",
    "\n"
   ]
  },
  {
   "cell_type": "code",
   "execution_count": 317,
   "metadata": {},
   "outputs": [
    {
     "data": {
      "text/html": [
       "<div>\n",
       "<style scoped>\n",
       "    .dataframe tbody tr th:only-of-type {\n",
       "        vertical-align: middle;\n",
       "    }\n",
       "\n",
       "    .dataframe tbody tr th {\n",
       "        vertical-align: top;\n",
       "    }\n",
       "\n",
       "    .dataframe thead th {\n",
       "        text-align: right;\n",
       "    }\n",
       "</style>\n",
       "<table border=\"1\" class=\"dataframe\">\n",
       "  <thead>\n",
       "    <tr style=\"text-align: right;\">\n",
       "      <th></th>\n",
       "      <th>ContadorBajasDNI</th>\n",
       "      <th>sexo</th>\n",
       "      <th>recaida</th>\n",
       "      <th>numtreb</th>\n",
       "      <th>ContadordiasBajasDNI</th>\n",
       "      <th>grupcoti</th>\n",
       "      <th>pluriempleo</th>\n",
       "      <th>diasemana</th>\n",
       "      <th>tiempo_en_empresa</th>\n",
       "      <th>edad</th>\n",
       "      <th>duracion_baja</th>\n",
       "      <th>epiweek</th>\n",
       "      <th>cnae_cat</th>\n",
       "      <th>icd9_cat</th>\n",
       "      <th>codipostal_cat</th>\n",
       "    </tr>\n",
       "  </thead>\n",
       "  <tbody>\n",
       "    <tr>\n",
       "      <th>0</th>\n",
       "      <td>30</td>\n",
       "      <td>2</td>\n",
       "      <td>0</td>\n",
       "      <td>3187</td>\n",
       "      <td>224</td>\n",
       "      <td>2</td>\n",
       "      <td>0</td>\n",
       "      <td>7</td>\n",
       "      <td>0.51</td>\n",
       "      <td>27.2</td>\n",
       "      <td>2</td>\n",
       "      <td>51</td>\n",
       "      <td>8</td>\n",
       "      <td>1</td>\n",
       "      <td>08</td>\n",
       "    </tr>\n",
       "    <tr>\n",
       "      <th>1</th>\n",
       "      <td>5</td>\n",
       "      <td>2</td>\n",
       "      <td>0</td>\n",
       "      <td>3187</td>\n",
       "      <td>12</td>\n",
       "      <td>2</td>\n",
       "      <td>0</td>\n",
       "      <td>4</td>\n",
       "      <td>1.41</td>\n",
       "      <td>31.8</td>\n",
       "      <td>1</td>\n",
       "      <td>52</td>\n",
       "      <td>8</td>\n",
       "      <td>16</td>\n",
       "      <td>39</td>\n",
       "    </tr>\n",
       "    <tr>\n",
       "      <th>2</th>\n",
       "      <td>17</td>\n",
       "      <td>2</td>\n",
       "      <td>0</td>\n",
       "      <td>3187</td>\n",
       "      <td>46</td>\n",
       "      <td>2</td>\n",
       "      <td>0</td>\n",
       "      <td>4</td>\n",
       "      <td>0.54</td>\n",
       "      <td>20.5</td>\n",
       "      <td>1</td>\n",
       "      <td>52</td>\n",
       "      <td>8</td>\n",
       "      <td>8</td>\n",
       "      <td>38</td>\n",
       "    </tr>\n",
       "    <tr>\n",
       "      <th>3</th>\n",
       "      <td>16</td>\n",
       "      <td>2</td>\n",
       "      <td>0</td>\n",
       "      <td>3187</td>\n",
       "      <td>49</td>\n",
       "      <td>2</td>\n",
       "      <td>0</td>\n",
       "      <td>4</td>\n",
       "      <td>2.53</td>\n",
       "      <td>30.6</td>\n",
       "      <td>3</td>\n",
       "      <td>52</td>\n",
       "      <td>8</td>\n",
       "      <td>8</td>\n",
       "      <td>08</td>\n",
       "    </tr>\n",
       "    <tr>\n",
       "      <th>4</th>\n",
       "      <td>7</td>\n",
       "      <td>1</td>\n",
       "      <td>0</td>\n",
       "      <td>3187</td>\n",
       "      <td>548</td>\n",
       "      <td>1</td>\n",
       "      <td>0</td>\n",
       "      <td>5</td>\n",
       "      <td>6.16</td>\n",
       "      <td>32.4</td>\n",
       "      <td>2</td>\n",
       "      <td>52</td>\n",
       "      <td>8</td>\n",
       "      <td>8</td>\n",
       "      <td>02</td>\n",
       "    </tr>\n",
       "    <tr>\n",
       "      <th>...</th>\n",
       "      <td>...</td>\n",
       "      <td>...</td>\n",
       "      <td>...</td>\n",
       "      <td>...</td>\n",
       "      <td>...</td>\n",
       "      <td>...</td>\n",
       "      <td>...</td>\n",
       "      <td>...</td>\n",
       "      <td>...</td>\n",
       "      <td>...</td>\n",
       "      <td>...</td>\n",
       "      <td>...</td>\n",
       "      <td>...</td>\n",
       "      <td>...</td>\n",
       "      <td>...</td>\n",
       "    </tr>\n",
       "    <tr>\n",
       "      <th>231012</th>\n",
       "      <td>9</td>\n",
       "      <td>2</td>\n",
       "      <td>0</td>\n",
       "      <td>8</td>\n",
       "      <td>21</td>\n",
       "      <td>10</td>\n",
       "      <td>0</td>\n",
       "      <td>7</td>\n",
       "      <td>1.99</td>\n",
       "      <td>44.9</td>\n",
       "      <td>1</td>\n",
       "      <td>53</td>\n",
       "      <td>14</td>\n",
       "      <td>16</td>\n",
       "      <td>08</td>\n",
       "    </tr>\n",
       "    <tr>\n",
       "      <th>231013</th>\n",
       "      <td>13</td>\n",
       "      <td>2</td>\n",
       "      <td>0</td>\n",
       "      <td>0</td>\n",
       "      <td>223</td>\n",
       "      <td>7</td>\n",
       "      <td>1</td>\n",
       "      <td>7</td>\n",
       "      <td>9.68</td>\n",
       "      <td>45.1</td>\n",
       "      <td>1</td>\n",
       "      <td>53</td>\n",
       "      <td>18</td>\n",
       "      <td>9</td>\n",
       "      <td>08</td>\n",
       "    </tr>\n",
       "    <tr>\n",
       "      <th>231014</th>\n",
       "      <td>13</td>\n",
       "      <td>2</td>\n",
       "      <td>0</td>\n",
       "      <td>0</td>\n",
       "      <td>223</td>\n",
       "      <td>8</td>\n",
       "      <td>1</td>\n",
       "      <td>7</td>\n",
       "      <td>3.75</td>\n",
       "      <td>45.1</td>\n",
       "      <td>1</td>\n",
       "      <td>53</td>\n",
       "      <td>9</td>\n",
       "      <td>9</td>\n",
       "      <td>08</td>\n",
       "    </tr>\n",
       "    <tr>\n",
       "      <th>231015</th>\n",
       "      <td>1</td>\n",
       "      <td>2</td>\n",
       "      <td>0</td>\n",
       "      <td>1</td>\n",
       "      <td>1</td>\n",
       "      <td>8</td>\n",
       "      <td>0</td>\n",
       "      <td>7</td>\n",
       "      <td>4.26</td>\n",
       "      <td>36.5</td>\n",
       "      <td>1</td>\n",
       "      <td>53</td>\n",
       "      <td>20</td>\n",
       "      <td>1</td>\n",
       "      <td>08</td>\n",
       "    </tr>\n",
       "    <tr>\n",
       "      <th>231016</th>\n",
       "      <td>5</td>\n",
       "      <td>2</td>\n",
       "      <td>0</td>\n",
       "      <td>1106</td>\n",
       "      <td>12</td>\n",
       "      <td>6</td>\n",
       "      <td>0</td>\n",
       "      <td>6</td>\n",
       "      <td>2.12</td>\n",
       "      <td>20.7</td>\n",
       "      <td>1</td>\n",
       "      <td>53</td>\n",
       "      <td>9</td>\n",
       "      <td>13</td>\n",
       "      <td>08</td>\n",
       "    </tr>\n",
       "  </tbody>\n",
       "</table>\n",
       "<p>228180 rows × 15 columns</p>\n",
       "</div>"
      ],
      "text/plain": [
       "        ContadorBajasDNI  sexo  recaida  numtreb  ContadordiasBajasDNI  \\\n",
       "0                     30     2        0     3187                   224   \n",
       "1                      5     2        0     3187                    12   \n",
       "2                     17     2        0     3187                    46   \n",
       "3                     16     2        0     3187                    49   \n",
       "4                      7     1        0     3187                   548   \n",
       "...                  ...   ...      ...      ...                   ...   \n",
       "231012                 9     2        0        8                    21   \n",
       "231013                13     2        0        0                   223   \n",
       "231014                13     2        0        0                   223   \n",
       "231015                 1     2        0        1                     1   \n",
       "231016                 5     2        0     1106                    12   \n",
       "\n",
       "       grupcoti  pluriempleo  diasemana  tiempo_en_empresa  edad  \\\n",
       "0             2            0          7               0.51  27.2   \n",
       "1             2            0          4               1.41  31.8   \n",
       "2             2            0          4               0.54  20.5   \n",
       "3             2            0          4               2.53  30.6   \n",
       "4             1            0          5               6.16  32.4   \n",
       "...         ...          ...        ...                ...   ...   \n",
       "231012       10            0          7               1.99  44.9   \n",
       "231013        7            1          7               9.68  45.1   \n",
       "231014        8            1          7               3.75  45.1   \n",
       "231015        8            0          7               4.26  36.5   \n",
       "231016        6            0          6               2.12  20.7   \n",
       "\n",
       "        duracion_baja  epiweek  cnae_cat  icd9_cat codipostal_cat  \n",
       "0                   2       51         8         1             08  \n",
       "1                   1       52         8        16             39  \n",
       "2                   1       52         8         8             38  \n",
       "3                   3       52         8         8             08  \n",
       "4                   2       52         8         8             02  \n",
       "...               ...      ...       ...       ...            ...  \n",
       "231012              1       53        14        16             08  \n",
       "231013              1       53        18         9             08  \n",
       "231014              1       53         9         9             08  \n",
       "231015              1       53        20         1             08  \n",
       "231016              1       53         9        13             08  \n",
       "\n",
       "[228180 rows x 15 columns]"
      ]
     },
     "execution_count": 317,
     "metadata": {},
     "output_type": "execute_result"
    }
   ],
   "source": [
    "data"
   ]
  },
  {
   "cell_type": "code",
   "execution_count": 318,
   "metadata": {},
   "outputs": [
    {
     "data": {
      "text/plain": [
       "ContadorBajasDNI        3409\n",
       "sexo                    3409\n",
       "recaida                 3409\n",
       "numtreb                 3409\n",
       "ContadordiasBajasDNI    3409\n",
       "grupcoti                3409\n",
       "pluriempleo             3409\n",
       "diasemana               3409\n",
       "tiempo_en_empresa       3409\n",
       "edad                    3409\n",
       "duracion_baja           3409\n",
       "epiweek                 3409\n",
       "cnae_cat                3409\n",
       "icd9_cat                3409\n",
       "codipostal_cat          3409\n",
       "dtype: int64"
      ]
     },
     "execution_count": 318,
     "metadata": {},
     "output_type": "execute_result"
    }
   ],
   "source": [
    "data[(data['ContadorBajasDNI']>25)].count() + data[(data['numtreb']>3200)].count() + data[(data['ContadordiasBajasDNI']>750)].count()"
   ]
  },
  {
   "cell_type": "code",
   "execution_count": 321,
   "metadata": {},
   "outputs": [],
   "source": [
    "data.drop(data[(data['ContadorBajasDNI']>25)].index, axis = 0, inplace = True)\n",
    "data.drop(data[(data['numtreb']>3200)].index, axis = 0, inplace = True)\n",
    "data.drop(data[(data['ContadordiasBajasDNI']>750)].index, axis = 0, inplace = True)"
   ]
  },
  {
   "cell_type": "code",
   "execution_count": 322,
   "metadata": {},
   "outputs": [],
   "source": [
    "sample = data.sample(n = 40000, random_state = 8)"
   ]
  },
  {
   "cell_type": "code",
   "execution_count": 325,
   "metadata": {},
   "outputs": [
    {
     "data": {
      "text/html": [
       "<div>\n",
       "<style scoped>\n",
       "    .dataframe tbody tr th:only-of-type {\n",
       "        vertical-align: middle;\n",
       "    }\n",
       "\n",
       "    .dataframe tbody tr th {\n",
       "        vertical-align: top;\n",
       "    }\n",
       "\n",
       "    .dataframe thead th {\n",
       "        text-align: right;\n",
       "    }\n",
       "</style>\n",
       "<table border=\"1\" class=\"dataframe\">\n",
       "  <thead>\n",
       "    <tr style=\"text-align: right;\">\n",
       "      <th></th>\n",
       "      <th>ContadorBajasDNI</th>\n",
       "      <th>sexo</th>\n",
       "      <th>recaida</th>\n",
       "      <th>numtreb</th>\n",
       "      <th>ContadordiasBajasDNI</th>\n",
       "      <th>grupcoti</th>\n",
       "      <th>pluriempleo</th>\n",
       "      <th>diasemana</th>\n",
       "      <th>tiempo_en_empresa</th>\n",
       "      <th>edad</th>\n",
       "      <th>duracion_baja</th>\n",
       "      <th>epiweek</th>\n",
       "      <th>cnae_cat</th>\n",
       "      <th>icd9_cat</th>\n",
       "      <th>codipostal_cat</th>\n",
       "    </tr>\n",
       "  </thead>\n",
       "  <tbody>\n",
       "    <tr>\n",
       "      <th>92385</th>\n",
       "      <td>2</td>\n",
       "      <td>2</td>\n",
       "      <td>0</td>\n",
       "      <td>63</td>\n",
       "      <td>2</td>\n",
       "      <td>7</td>\n",
       "      <td>0</td>\n",
       "      <td>4</td>\n",
       "      <td>1.52</td>\n",
       "      <td>30.0</td>\n",
       "      <td>37</td>\n",
       "      <td>10</td>\n",
       "      <td>3</td>\n",
       "      <td>10</td>\n",
       "      <td>25</td>\n",
       "    </tr>\n",
       "    <tr>\n",
       "      <th>188227</th>\n",
       "      <td>2</td>\n",
       "      <td>2</td>\n",
       "      <td>0</td>\n",
       "      <td>2</td>\n",
       "      <td>52</td>\n",
       "      <td>5</td>\n",
       "      <td>0</td>\n",
       "      <td>5</td>\n",
       "      <td>12.79</td>\n",
       "      <td>51.1</td>\n",
       "      <td>3</td>\n",
       "      <td>5</td>\n",
       "      <td>7</td>\n",
       "      <td>8</td>\n",
       "      <td>08</td>\n",
       "    </tr>\n",
       "    <tr>\n",
       "      <th>160076</th>\n",
       "      <td>1</td>\n",
       "      <td>2</td>\n",
       "      <td>0</td>\n",
       "      <td>8</td>\n",
       "      <td>1</td>\n",
       "      <td>7</td>\n",
       "      <td>0</td>\n",
       "      <td>5</td>\n",
       "      <td>0.03</td>\n",
       "      <td>20.3</td>\n",
       "      <td>2</td>\n",
       "      <td>7</td>\n",
       "      <td>14</td>\n",
       "      <td>8</td>\n",
       "      <td>46</td>\n",
       "    </tr>\n",
       "    <tr>\n",
       "      <th>214550</th>\n",
       "      <td>5</td>\n",
       "      <td>2</td>\n",
       "      <td>0</td>\n",
       "      <td>10</td>\n",
       "      <td>19</td>\n",
       "      <td>7</td>\n",
       "      <td>0</td>\n",
       "      <td>4</td>\n",
       "      <td>14.58</td>\n",
       "      <td>49.6</td>\n",
       "      <td>32</td>\n",
       "      <td>15</td>\n",
       "      <td>7</td>\n",
       "      <td>9</td>\n",
       "      <td>08</td>\n",
       "    </tr>\n",
       "    <tr>\n",
       "      <th>109145</th>\n",
       "      <td>1</td>\n",
       "      <td>1</td>\n",
       "      <td>0</td>\n",
       "      <td>62</td>\n",
       "      <td>1</td>\n",
       "      <td>9</td>\n",
       "      <td>0</td>\n",
       "      <td>5</td>\n",
       "      <td>2.63</td>\n",
       "      <td>59.5</td>\n",
       "      <td>2</td>\n",
       "      <td>3</td>\n",
       "      <td>3</td>\n",
       "      <td>8</td>\n",
       "      <td>25</td>\n",
       "    </tr>\n",
       "    <tr>\n",
       "      <th>...</th>\n",
       "      <td>...</td>\n",
       "      <td>...</td>\n",
       "      <td>...</td>\n",
       "      <td>...</td>\n",
       "      <td>...</td>\n",
       "      <td>...</td>\n",
       "      <td>...</td>\n",
       "      <td>...</td>\n",
       "      <td>...</td>\n",
       "      <td>...</td>\n",
       "      <td>...</td>\n",
       "      <td>...</td>\n",
       "      <td>...</td>\n",
       "      <td>...</td>\n",
       "      <td>...</td>\n",
       "    </tr>\n",
       "    <tr>\n",
       "      <th>216823</th>\n",
       "      <td>19</td>\n",
       "      <td>1</td>\n",
       "      <td>0</td>\n",
       "      <td>61</td>\n",
       "      <td>286</td>\n",
       "      <td>9</td>\n",
       "      <td>0</td>\n",
       "      <td>5</td>\n",
       "      <td>4.65</td>\n",
       "      <td>41.2</td>\n",
       "      <td>2</td>\n",
       "      <td>17</td>\n",
       "      <td>3</td>\n",
       "      <td>16</td>\n",
       "      <td>08</td>\n",
       "    </tr>\n",
       "    <tr>\n",
       "      <th>46348</th>\n",
       "      <td>1</td>\n",
       "      <td>2</td>\n",
       "      <td>0</td>\n",
       "      <td>44</td>\n",
       "      <td>1</td>\n",
       "      <td>10</td>\n",
       "      <td>0</td>\n",
       "      <td>2</td>\n",
       "      <td>0.35</td>\n",
       "      <td>17.9</td>\n",
       "      <td>1</td>\n",
       "      <td>45</td>\n",
       "      <td>15</td>\n",
       "      <td>8</td>\n",
       "      <td>08</td>\n",
       "    </tr>\n",
       "    <tr>\n",
       "      <th>47623</th>\n",
       "      <td>2</td>\n",
       "      <td>1</td>\n",
       "      <td>0</td>\n",
       "      <td>210</td>\n",
       "      <td>6</td>\n",
       "      <td>8</td>\n",
       "      <td>0</td>\n",
       "      <td>2</td>\n",
       "      <td>4.20</td>\n",
       "      <td>44.3</td>\n",
       "      <td>33</td>\n",
       "      <td>40</td>\n",
       "      <td>3</td>\n",
       "      <td>13</td>\n",
       "      <td>08</td>\n",
       "    </tr>\n",
       "    <tr>\n",
       "      <th>131867</th>\n",
       "      <td>8</td>\n",
       "      <td>2</td>\n",
       "      <td>0</td>\n",
       "      <td>11</td>\n",
       "      <td>137</td>\n",
       "      <td>5</td>\n",
       "      <td>0</td>\n",
       "      <td>7</td>\n",
       "      <td>14.05</td>\n",
       "      <td>48.4</td>\n",
       "      <td>24</td>\n",
       "      <td>29</td>\n",
       "      <td>16</td>\n",
       "      <td>16</td>\n",
       "      <td>28</td>\n",
       "    </tr>\n",
       "    <tr>\n",
       "      <th>182546</th>\n",
       "      <td>2</td>\n",
       "      <td>2</td>\n",
       "      <td>0</td>\n",
       "      <td>7</td>\n",
       "      <td>59</td>\n",
       "      <td>8</td>\n",
       "      <td>0</td>\n",
       "      <td>4</td>\n",
       "      <td>1.25</td>\n",
       "      <td>47.2</td>\n",
       "      <td>21</td>\n",
       "      <td>44</td>\n",
       "      <td>19</td>\n",
       "      <td>9</td>\n",
       "      <td>30</td>\n",
       "    </tr>\n",
       "  </tbody>\n",
       "</table>\n",
       "<p>40000 rows × 15 columns</p>\n",
       "</div>"
      ],
      "text/plain": [
       "        ContadorBajasDNI  sexo  recaida  numtreb  ContadordiasBajasDNI  \\\n",
       "92385                  2     2        0       63                     2   \n",
       "188227                 2     2        0        2                    52   \n",
       "160076                 1     2        0        8                     1   \n",
       "214550                 5     2        0       10                    19   \n",
       "109145                 1     1        0       62                     1   \n",
       "...                  ...   ...      ...      ...                   ...   \n",
       "216823                19     1        0       61                   286   \n",
       "46348                  1     2        0       44                     1   \n",
       "47623                  2     1        0      210                     6   \n",
       "131867                 8     2        0       11                   137   \n",
       "182546                 2     2        0        7                    59   \n",
       "\n",
       "       grupcoti  pluriempleo  diasemana  tiempo_en_empresa  edad  \\\n",
       "92385         7            0          4               1.52  30.0   \n",
       "188227        5            0          5              12.79  51.1   \n",
       "160076        7            0          5               0.03  20.3   \n",
       "214550        7            0          4              14.58  49.6   \n",
       "109145        9            0          5               2.63  59.5   \n",
       "...         ...          ...        ...                ...   ...   \n",
       "216823        9            0          5               4.65  41.2   \n",
       "46348        10            0          2               0.35  17.9   \n",
       "47623         8            0          2               4.20  44.3   \n",
       "131867        5            0          7              14.05  48.4   \n",
       "182546        8            0          4               1.25  47.2   \n",
       "\n",
       "        duracion_baja  epiweek  cnae_cat  icd9_cat codipostal_cat  \n",
       "92385              37       10         3        10             25  \n",
       "188227              3        5         7         8             08  \n",
       "160076              2        7        14         8             46  \n",
       "214550             32       15         7         9             08  \n",
       "109145              2        3         3         8             25  \n",
       "...               ...      ...       ...       ...            ...  \n",
       "216823              2       17         3        16             08  \n",
       "46348               1       45        15         8             08  \n",
       "47623              33       40         3        13             08  \n",
       "131867             24       29        16        16             28  \n",
       "182546             21       44        19         9             30  \n",
       "\n",
       "[40000 rows x 15 columns]"
      ]
     },
     "execution_count": 325,
     "metadata": {},
     "output_type": "execute_result"
    }
   ],
   "source": [
    "sample"
   ]
  },
  {
   "cell_type": "code",
   "execution_count": 328,
   "metadata": {},
   "outputs": [],
   "source": [
    "\n",
    "X_train, X_test, y_train, y_test = train_test_split(\n",
    "                        sample.drop('duracion_baja', axis = 1), sample['duracion_baja'], test_size=0.3)\n",
    "\n",
    "def prepare_data(X_train, X_test):\n",
    "    # One hot Encode Categorical Features.\n",
    "    ohe_cols = ['sexo', 'recaida', 'grupcoti', 'pluriempleo',\n",
    "                'cnae_cat', 'icd9_cat', 'codipostal_cat']\n",
    "    for col in ohe_cols:\n",
    "        ohe = OneHotEncoder(sparse = False, handle_unknown = 'ignore')\n",
    "        ohe.fit(X_train[[col]])\n",
    "        for X_t in [X_train, X_test]:\n",
    "            X_t[ohe.get_feature_names_out()] = ohe.transform(X_t[[col]])\n",
    "            X_t.drop(col, axis = 1, inplace = True)\n",
    "\n",
    "\n",
    "    # Scale numerical features.\n",
    "    robust_cols = ['ContadorBajasDNI', 'ContadordiasBajasDNI', 'numtreb', 'tiempo_en_empresa']\n",
    "    for col in robust_cols:\n",
    "        rb_scaler = RobustScaler()\n",
    "        rb_scaler.fit(X_train[[col]])\n",
    "        for X_t in [X_train, X_test]:\n",
    "            X_t[col] = rb_scaler.transform(X_t[[col]])\n",
    "\n",
    "    standard_cols = ['edad', 'diasemana', 'epiweek']\n",
    "    for col in standard_cols:   \n",
    "        st_scaler = StandardScaler()\n",
    "        st_scaler.fit(X_train[[col]])\n",
    "        for X_t in [X_train, X_test]:\n",
    "            X_t[col] = st_scaler.transform(X_t[[col]])\n",
    "        \n",
    "\n",
    "    return X_train, X_test"
   ]
  },
  {
   "cell_type": "code",
   "execution_count": 329,
   "metadata": {},
   "outputs": [],
   "source": [
    "X_train_p, X_test_p = prepare_data(X_train, X_test)"
   ]
  },
  {
   "cell_type": "code",
   "execution_count": 330,
   "metadata": {},
   "outputs": [],
   "source": [
    "y_log_train = np.log(y_train)\n",
    "y_log_test = np.log(y_test)"
   ]
  },
  {
   "cell_type": "code",
   "execution_count": 331,
   "metadata": {},
   "outputs": [
    {
     "name": "stderr",
     "output_type": "stream",
     "text": [
      "/var/folders/jt/ljcpcwg95nv566n6vzs4822m0000gn/T/ipykernel_4572/1667108410.py:9: RuntimeWarning: overflow encountered in exp\n",
      "  LR_val_rmse = np.exp(cv_results_LR_1['test_neg_root_mean_squared_error'].mean()*(-1))\n"
     ]
    },
    {
     "name": "stdout",
     "output_type": "stream",
     "text": [
      "Validation R2= -91513511177238.84, validation rmse= inf, and training rmse= 3.08\n"
     ]
    }
   ],
   "source": [
    "model_LR_1 = LinearRegression()\n",
    "cv_results_LR_1 = cross_validate(model_LR_1, X_train_p, y_log_train, cv=5,\n",
    "                            scoring=['max_error',\n",
    "                                     'r2',\n",
    "                                     'neg_mean_absolute_error',\n",
    "                                     'neg_mean_squared_error',\n",
    "                                     'neg_root_mean_squared_error']\n",
    ") \n",
    "LR_val_rmse = np.exp(cv_results_LR_1['test_neg_root_mean_squared_error'].mean()*(-1))\n",
    "LR_val_r2 = cv_results_LR_1['test_r2'].mean()\n",
    "\n",
    "model_LR_1.fit(X_train_p, y_log_train)\n",
    "y_pred_LR_1 = model_LR_1.predict(X_test_p)\n",
    "LR_train_rmse = np.exp(mean_squared_error(y_log_test, y_pred_LR_1, squared = False))\n",
    "\n",
    "print(f'Validation R2= {np.round(LR_val_r2, 2)}, validation rmse= {np.round(LR_val_rmse, 2)}, and training rmse= {np.round(LR_train_rmse, 2)}')"
   ]
  },
  {
   "cell_type": "code",
   "execution_count": 332,
   "metadata": {},
   "outputs": [
    {
     "name": "stdout",
     "output_type": "stream",
     "text": [
      "Validation R2= 0.27, validation rmse= 3.08, and training rmse= 3.09\n"
     ]
    }
   ],
   "source": [
    "model_SGD_1 = SGDRegressor(loss='squared_error', alpha = 0.0001, max_iter = 1000, learning_rate = \"invscaling\", eta0 = 0.01)\n",
    "cv_results_SGD_1 = cross_validate(model_SGD_1, X_train_p, y_log_train, cv=5,\n",
    "                            scoring=['max_error',\n",
    "                                     'r2',\n",
    "                                     'neg_mean_absolute_error',\n",
    "                                     'neg_mean_squared_error',\n",
    "                                     'neg_root_mean_squared_error']\n",
    ") \n",
    "SGD_val_rmse = np.exp(cv_results_SGD_1['test_neg_root_mean_squared_error'].mean()*(-1))\n",
    "SGD_val_r2 = cv_results_SGD_1['test_r2'].mean()\n",
    "\n",
    "model_SGD_1.fit(X_train_p, y_log_train)\n",
    "y_pred_SGD_1 = model_SGD_1.predict(X_test_p)\n",
    "SGD_train_rmse = np.exp(mean_squared_error(y_log_test, y_pred_SGD_1, squared = False))\n",
    "\n",
    "print(f'Validation R2= {np.round(SGD_val_r2, 2)}, validation rmse= {np.round(SGD_val_rmse, 2)}, and training rmse= {np.round(SGD_train_rmse, 2)}')"
   ]
  },
  {
   "cell_type": "code",
   "execution_count": 333,
   "metadata": {},
   "outputs": [],
   "source": [
    "model_RF_1 = RandomForestRegressor(n_estimators=  750, min_samples_leaf= 4, min_samples_split= 10, n_jobs= -1, random_state=0)"
   ]
  },
  {
   "cell_type": "code",
   "execution_count": 334,
   "metadata": {},
   "outputs": [
    {
     "name": "stdout",
     "output_type": "stream",
     "text": [
      "Validation R2= 0.31, validation rmse= 2.98, and training rmse= 2.95\n"
     ]
    }
   ],
   "source": [
    "cv_results_RF_1 = cross_validate(model_RF_1, X_train_p, y_log_train, cv=2,\n",
    "                            scoring=['max_error',\n",
    "                                     'r2',\n",
    "                                     'neg_mean_absolute_error',\n",
    "                                     'neg_mean_squared_error',\n",
    "                                     'neg_root_mean_squared_error']\n",
    ") \n",
    "RF_val_rmse = np.exp(cv_results_RF_1['test_neg_root_mean_squared_error'].mean()*(-1))\n",
    "RF_val_r2 = cv_results_RF_1['test_r2'].mean()\n",
    "\n",
    "model_RF_1.fit(X_train_p, y_log_train)\n",
    "y_pred_RF = model_RF_1.predict(X_test_p)\n",
    "RF_test_rmse = np.exp(mean_squared_error(y_log_test, y_pred_RF, squared = False))\n",
    "\n",
    "print(f'Validation R2= {np.round(RF_val_r2, 2)}, validation rmse= {np.round(RF_val_rmse, 2)}, and testing rmse= {np.round(RF_test_rmse, 2)}')"
   ]
  },
  {
   "cell_type": "code",
   "execution_count": 335,
   "metadata": {},
   "outputs": [
    {
     "data": {
      "text/plain": [
       "<matplotlib.legend.Legend at 0x1770dc8e0>"
      ]
     },
     "execution_count": 335,
     "metadata": {},
     "output_type": "execute_result"
    },
    {
     "data": {
      "image/png": "[encoded data removed]",
      "text/plain": [
       "<Figure size 1200x480 with 1 Axes>"
      ]
     },
     "metadata": {},
     "output_type": "display_data"
    }
   ],
   "source": [
    "figure(figsize=(15, 6), dpi=80)\n",
    "plt.plot(np.exp(y_pred_RF[1000:1200]), label = 'pred')\n",
    "plt.plot(np.array(y_test)[1000:1200], label = 'test')\n",
    "plt.legend()"
   ]
  },
  {
   "cell_type": "code",
   "execution_count": 338,
   "metadata": {},
   "outputs": [],
   "source": [
    "model_xgb_1 = xgb.XGBRegressor(booster= 'dart', objective ='reg:squarederror', n_estimators = 750, learning_rate= 0.01,\n",
    "                               min_child_weight= 4, max_depth= 8, colsample_bytree= 0.7, n_jobs=-1)"
   ]
  },
  {
   "cell_type": "code",
   "execution_count": 339,
   "metadata": {},
   "outputs": [
    {
     "data": {
      "text/plain": [
       "0.330691759415193"
      ]
     },
     "execution_count": 339,
     "metadata": {},
     "output_type": "execute_result"
    }
   ],
   "source": [
    "# XGB_val_r2 = cross_val_score(model_xgb_1, X_train_p, y_log_train, scoring='r2', cv=5).mean()\n",
    "# XGB_val_rmse = cross_val_score(model_xgb_1, X_train_p, y_log_train, scoring='neg_root_mean_squared_error', cv=5).mean()*(-1)\n",
    "\n",
    "model_xgb_1.fit(X_train_p, y_log_train)\n",
    "y_pred_xgb = model_xgb_1.predict(X_test_p)\n",
    "# XGB_train_rmse = np.exp(mean_squared_error(y_log_test, y_pred_xgb, squared = False))\n",
    "\n",
    "# print(f'Validation R2= {np.round(XGB_val_r2, 2)}, validation rmse= {np.round(XGB_val_rmse, 2)}, and training rmse= {np.round(XGB_train_rmse, 2)}')\n",
    "model_xgb_1.score(X_test_p, y_log_test)"
   ]
  },
  {
   "cell_type": "code",
   "execution_count": 340,
   "metadata": {},
   "outputs": [],
   "source": [
    "y_pred_xgb = model_xgb_1.predict(X_test_p)"
   ]
  },
  {
   "cell_type": "code",
   "execution_count": 345,
   "metadata": {},
   "outputs": [
    {
     "data": {
      "text/plain": [
       "<matplotlib.legend.Legend at 0x2aa08e800>"
      ]
     },
     "execution_count": 345,
     "metadata": {},
     "output_type": "execute_result"
    },
    {
     "data": {
      "image/png": "[encoded data removed]",
      "text/plain": [
       "<Figure size 2000x480 with 1 Axes>"
      ]
     },
     "metadata": {},
     "output_type": "display_data"
    }
   ],
   "source": [
    "figure(figsize=(25, 6), dpi=80)\n",
    "plt.plot(np.exp(y_pred_xgb[1000:1500]), label = 'pred')\n",
    "plt.plot(np.array(y_test)[1000:1500], label = 'test')\n",
    "plt.legend()"
   ]
  },
  {
   "cell_type": "code",
   "execution_count": 50,
   "metadata": {},
   "outputs": [
    {
     "name": "stdout",
     "output_type": "stream",
     "text": [
      "Validation R2= 0.26, validation rmse= 3.53, and training rmse= 3.48\n"
     ]
    }
   ],
   "source": [
    "model_KNR_1 = KNeighborsRegressor(n_neighbors = 20, leaf_size = 40)\n",
    "cv_results_KNR_1 = cross_validate(model_KNR_1, X_train_p, y_log_train, cv=5,\n",
    "                            scoring=['max_error',\n",
    "                                     'r2',\n",
    "                                     'neg_mean_absolute_error',\n",
    "                                     'neg_mean_squared_error',\n",
    "                                     'neg_root_mean_squared_error']\n",
    ")\n",
    "\n",
    "KNR_val_rmse = np.exp(cv_results_KNR_1['test_neg_root_mean_squared_error'].mean()*(-1))\n",
    "KNR_val_r2 = cv_results_KNR_1['test_r2'].mean()\n",
    "\n",
    "model_KNR_1.fit(X_train_p, y_log_train)\n",
    "y_pred_KNR_1 = model_KNR_1.predict(X_test_p)\n",
    "KNR_train_rmse = np.exp(mean_squared_error(y_log_test, y_pred_KNR_1, squared = False))\n",
    "\n",
    "print(f'Validation R2= {np.round(KNR_val_r2, 2)}, validation rmse= {np.round(KNR_val_rmse, 2)}, and training rmse= {np.round(KNR_train_rmse, 2)}')"
   ]
  },
  {
   "cell_type": "code",
   "execution_count": 52,
   "metadata": {},
   "outputs": [
    {
     "name": "stdout",
     "output_type": "stream",
     "text": [
      "Validation R2= 0.31, validation rmse= 3.39, and training rmse= 3.38\n"
     ]
    }
   ],
   "source": [
    "model_ridge_1 = Ridge()\n",
    "cv_results_ridge_1 = cross_validate(model_ridge_1, X_train_p, y_log_train, cv=5,\n",
    "                            scoring=['max_error',\n",
    "                                     'r2',\n",
    "                                     'neg_mean_absolute_error',\n",
    "                                     'neg_mean_squared_error',\n",
    "                                     'neg_root_mean_squared_error']\n",
    ") \n",
    "pd.DataFrame(cv_results_ridge_1)\n",
    "ridge_val_rmse = np.exp(cv_results_ridge_1['test_neg_root_mean_squared_error'].mean()*(-1))\n",
    "ridge_val_r2 = cv_results_ridge_1['test_r2'].mean()\n",
    "\n",
    "model_ridge_1.fit(X_train_p, y_log_train)\n",
    "y_pred_ridge_1 = model_ridge_1.predict(X_test_p)\n",
    "ridge_train_rmse = np.exp(mean_squared_error(y_log_test, y_pred_ridge_1, squared = False))\n",
    "\n",
    "print(f'Validation R2= {np.round(ridge_val_r2, 2)}, validation rmse= {np.round(ridge_val_rmse, 2)}, and training rmse= {np.round(ridge_train_rmse, 2)}')"
   ]
  },
  {
   "cell_type": "code",
   "execution_count": 69,
   "metadata": {},
   "outputs": [
    {
     "name": "stdout",
     "output_type": "stream",
     "text": [
      "0.35751170497700846\n",
      "{'min_samples_leaf': 4, 'min_samples_split': 50, 'n_estimators': 1500}\n",
      "RandomForestRegressor(min_samples_leaf=4, min_samples_split=50,\n",
      "                      n_estimators=1500)\n"
     ]
    }
   ],
   "source": [
    "model_RF = RandomForestRegressor()\n",
    "# Hyperparameter Grid\n",
    "RF_grid = {'n_estimators': [600, 1500],\n",
    "        'min_samples_split': [10, 15, 50],\n",
    "        'min_samples_leaf': [4, 6]}\n",
    "# Instanciate Grid Search\n",
    "RF_search = GridSearchCV(model_RF, RF_grid,\n",
    "                           scoring = 'r2',\n",
    "                           cv = 3,\n",
    "                           n_jobs=-1 # paralellize computation\n",
    "                           )\n",
    "\n",
    "# Fit data to Grid Search\n",
    "RF_search.fit(X_train_p, y_log_train)\n",
    "\n",
    "print(RF_search.best_score_)\n",
    "print(RF_search.best_params_)\n",
    "print(RF_search.best_estimator_)"
   ]
  },
  {
   "cell_type": "code",
   "execution_count": 72,
   "metadata": {},
   "outputs": [
    {
     "name": "stdout",
     "output_type": "stream",
     "text": [
      "0.3576410632397629\n",
      "{'n_estimators': 1500, 'min_samples_split': 50, 'min_samples_leaf': 4}\n",
      "RandomForestRegressor(min_samples_leaf=4, min_samples_split=50,\n",
      "                      n_estimators=1500)\n"
     ]
    }
   ],
   "source": [
    "model_RF = RandomForestRegressor()\n",
    "# Hyperparameter Grid\n",
    "RF_grid = {'n_estimators': [600, 1500],\n",
    "        'min_samples_split': [10, 15, 50],\n",
    "        'min_samples_leaf': [4, 6]}\n",
    "# Instanciate Grid Search\n",
    "RF_search_2 = RandomizedSearchCV(model_RF, RF_grid,\n",
    "                           scoring = 'r2',\n",
    "                           cv = 3,\n",
    "                           n_jobs=-1 # paralellize computation\n",
    "                           )\n",
    "\n",
    "# Fit data to Grid Search\n",
    "RF_search_2.fit(X_train_p, y_log_train)\n",
    "\n",
    "print(RF_search_2.best_score_)\n",
    "print(RF_search_2.best_params_)\n",
    "print(RF_search_2.best_estimator_)"
   ]
  },
  {
   "cell_type": "code",
   "execution_count": 73,
   "metadata": {},
   "outputs": [
    {
     "name": "stdout",
     "output_type": "stream",
     "text": [
      "Fitting 5 folds for each of 48 candidates, totalling 240 fits\n",
      "0.38602885880855003\n",
      "{'colsample_bytree': 0.7, 'learning_rate': 0.01, 'max_depth': 8, 'min_child_weight': 4, 'n_estimators': 750, 'nthread': 4, 'objective': 'reg:squarederror', 'subsample': 0.7}\n"
     ]
    }
   ],
   "source": [
    "model_XGB_2 = xgb.XGBRegressor()\n",
    "parameters_XGB = {'nthread':[4, 6], #when use hyperthread, xgboost may become slower\n",
    "              'objective':['reg:squarederror'],\n",
    "              'learning_rate': [0.01, 0.03], #so called `eta` value\n",
    "              'max_depth': [7, 8, 10],\n",
    "              'min_child_weight': [4, 6],\n",
    "              'subsample': [0.7, 0.9],\n",
    "              'colsample_bytree': [0.7],\n",
    "              'n_estimators': [500, 750]}\n",
    "\n",
    "xgb_grid = GridSearchCV(model_XGB_2,\n",
    "                        parameters_XGB,\n",
    "                        scoring = 'r2',\n",
    "                        cv = 5,\n",
    "                        n_jobs = -1,\n",
    "                        verbose=True)\n",
    "\n",
    "xgb_grid.fit(X_train_p, y_log_train)\n",
    "\n",
    "print(xgb_grid.best_score_)\n",
    "print(xgb_grid.best_params_)"
   ]
  },
  {
   "cell_type": "code",
   "execution_count": 78,
   "metadata": {},
   "outputs": [
    {
     "name": "stdout",
     "output_type": "stream",
     "text": [
      "[17:53:02] WARNING: /Users/runner/work/xgboost/xgboost/python-package/build/temp.macosx-11.0-arm64-cpython-38/xgboost/src/learner.cc:767: \n",
      "Parameters: { \"colsample_bytree\", \"max_depth\", \"min_child_weight\" } are not used.\n",
      "\n",
      "[17:53:05] WARNING: /Users/runner/work/xgboost/xgboost/python-package/build/temp.macosx-11.0-arm64-cpython-38/xgboost/src/learner.cc:767: \n",
      "Parameters: { \"colsample_bytree\", \"max_depth\", \"min_child_weight\" } are not used.\n",
      "\n",
      "[17:53:08] WARNING: /Users/runner/work/xgboost/xgboost/python-package/build/temp.macosx-11.0-arm64-cpython-38/xgboost/src/learner.cc:767: \n",
      "Parameters: { \"colsample_bytree\", \"max_depth\", \"min_child_weight\" } are not used.\n",
      "\n",
      "[17:53:11] WARNING: /Users/runner/work/xgboost/xgboost/python-package/build/temp.macosx-11.0-arm64-cpython-38/xgboost/src/learner.cc:767: \n",
      "Parameters: { \"colsample_bytree\", \"max_depth\", \"min_child_weight\" } are not used.\n",
      "\n",
      "[17:53:13] WARNING: /Users/runner/work/xgboost/xgboost/python-package/build/temp.macosx-11.0-arm64-cpython-38/xgboost/src/learner.cc:767: \n",
      "Parameters: { \"colsample_bytree\", \"max_depth\", \"min_child_weight\" } are not used.\n",
      "\n",
      "[20:14:18] WARNING: /Users/runner/work/xgboost/xgboost/python-package/build/temp.macosx-11.0-arm64-cpython-38/xgboost/src/learner.cc:767: \n",
      "Parameters: { \"colsample_bytree\", \"max_depth\", \"min_child_weight\" } are not used.\n",
      "\n",
      "[20:14:21] WARNING: /Users/runner/work/xgboost/xgboost/python-package/build/temp.macosx-11.0-arm64-cpython-38/xgboost/src/learner.cc:767: \n",
      "Parameters: { \"colsample_bytree\", \"max_depth\", \"min_child_weight\" } are not used.\n",
      "\n",
      "[20:14:23] WARNING: /Users/runner/work/xgboost/xgboost/python-package/build/temp.macosx-11.0-arm64-cpython-38/xgboost/src/learner.cc:767: \n",
      "Parameters: { \"colsample_bytree\", \"max_depth\", \"min_child_weight\" } are not used.\n",
      "\n",
      "[20:14:26] WARNING: /Users/runner/work/xgboost/xgboost/python-package/build/temp.macosx-11.0-arm64-cpython-38/xgboost/src/learner.cc:767: \n",
      "Parameters: { \"colsample_bytree\", \"max_depth\", \"min_child_weight\" } are not used.\n",
      "\n",
      "[20:14:29] WARNING: /Users/runner/work/xgboost/xgboost/python-package/build/temp.macosx-11.0-arm64-cpython-38/xgboost/src/learner.cc:767: \n",
      "Parameters: { \"colsample_bytree\", \"max_depth\", \"min_child_weight\" } are not used.\n",
      "\n",
      "[22:16:46] WARNING: /Users/runner/work/xgboost/xgboost/python-package/build/temp.macosx-11.0-arm64-cpython-38/xgboost/src/learner.cc:767: \n",
      "Parameters: { \"colsample_bytree\", \"max_depth\", \"min_child_weight\" } are not used.\n",
      "\n",
      "[22:16:52] WARNING: /Users/runner/work/xgboost/xgboost/python-package/build/temp.macosx-11.0-arm64-cpython-38/xgboost/src/learner.cc:767: \n",
      "Parameters: { \"colsample_bytree\", \"max_depth\", \"min_child_weight\" } are not used.\n",
      "\n",
      "[22:16:57] WARNING: /Users/runner/work/xgboost/xgboost/python-package/build/temp.macosx-11.0-arm64-cpython-38/xgboost/src/learner.cc:767: \n",
      "Parameters: { \"colsample_bytree\", \"max_depth\", \"min_child_weight\" } are not used.\n",
      "\n",
      "[22:17:03] WARNING: /Users/runner/work/xgboost/xgboost/python-package/build/temp.macosx-11.0-arm64-cpython-38/xgboost/src/learner.cc:767: \n",
      "Parameters: { \"colsample_bytree\", \"max_depth\", \"min_child_weight\" } are not used.\n",
      "\n",
      "[22:17:08] WARNING: /Users/runner/work/xgboost/xgboost/python-package/build/temp.macosx-11.0-arm64-cpython-38/xgboost/src/learner.cc:767: \n",
      "Parameters: { \"colsample_bytree\", \"max_depth\", \"min_child_weight\" } are not used.\n",
      "\n",
      "XGBRegressor(base_score=0.5, booster='dart', callbacks=None,\n",
      "             colsample_bylevel=1, colsample_bynode=1, colsample_bytree=0.7,\n",
      "             early_stopping_rounds=None, enable_categorical=False,\n",
      "             eval_metric=None, feature_types=None, gamma=0, gpu_id=-1,\n",
      "             grow_policy='depthwise', importance_type=None,\n",
      "             interaction_constraints='', learning_rate=0.01, max_bin=256,\n",
      "             max_cat_threshold=64, max_cat_to_onehot=4, max_delta_step=0,\n",
      "             max_depth=8, max_leaves=0, min_child_weight=4, missing=nan,\n",
      "             monotone_constraints='()', n_estimators=750, n_jobs=4, nthread=4,\n",
      "             num_parallel_tree=1, predictor='auto', ...)\n",
      "0.383057615372138\n",
      "{'objective': 'reg:squarederror', 'nthread': 4, 'n_estimators': 750, 'min_child_weight': 4, 'max_depth': 8, 'learning_rate': 0.01, 'colsample_bytree': 0.7, 'booster': 'dart'}\n"
     ]
    }
   ],
   "source": [
    "\n",
    "\n",
    "# Instanciate model\n",
    "model_XGB = xgb.XGBRegressor() # Hyperparameter Grid\n",
    "grid_XGB = {'booster': ['dart'],\n",
    "            'nthread':[4], #when use hyperthread, xgboost may become slower\n",
    "              'objective':['reg:squarederror'],\n",
    "              'learning_rate': [0.01], #so called `eta` value\n",
    "              'max_depth': [8, 10],\n",
    "              'min_child_weight': [4],\n",
    "              'colsample_bytree': [0.7],\n",
    "              'n_estimators': [750]}\n",
    "\n",
    "# {'booster': ['gbtree', 'gblinear'],\n",
    "#               'nthread':[4, 6], #when use hyperthread, xgboost may become slower\n",
    "#               'objective':['reg:squarederror'],\n",
    "#               'learning_rate': [0.001, 0.01], #so called `eta` value\n",
    "#               'max_depth': [10, 20],\n",
    "#               'colsample_bytree': [0.9, 1],\n",
    "#               'n_estimators': [250, 500]}\n",
    "\n",
    "# Instanciate Grid Search\n",
    "search_XGB = RandomizedSearchCV(model_XGB, grid_XGB, scoring='r2')\n",
    "# Fit data to Grid Search\n",
    "search_XGB.fit(X_train_p, y_log_train)\n",
    "print(search_XGB.best_estimator_)\n",
    "print(search_XGB.best_score_)\n",
    "print(search_XGB.best_params_)"
   ]
  },
  {
   "cell_type": "code",
   "execution_count": 4,
   "metadata": {},
   "outputs": [],
   "source": [
    "X_train_2 = pd.read_csv('../raw_data/optim_12_05_10-00/X_train_p')\n",
    "X_train_2.drop(columns='Unnamed: 0', inplace = True)\n",
    "X_test_2 = pd.read_csv('../raw_data/optim_12_05_10-00/X_test_p')\n",
    "X_test_2.drop(columns='Unnamed: 0', inplace = True)\n",
    "y_train_2 = pd.read_csv('../raw_data/optim_12_05_10-00/y_train')\n",
    "y_train_2.drop(columns='Unnamed: 0', inplace = True)\n",
    "y_test_2 = pd.read_csv('../raw_data/optim_12_05_10-00/y_test')\n",
    "y_test_2.drop(columns='Unnamed: 0', inplace = True)\n"
   ]
  },
  {
   "cell_type": "code",
   "execution_count": 5,
   "metadata": {},
   "outputs": [],
   "source": [
    "df_train_2 = pd.concat((X_train_2, y_train_2), axis = 1)\n",
    "df_test_2 = pd.concat((X_test_2, y_test_2), axis = 1)"
   ]
  },
  {
   "cell_type": "code",
   "execution_count": 6,
   "metadata": {},
   "outputs": [],
   "source": [
    "df_train_opt = df_train_2.sample(n = 40000, random_state = 8)\n",
    "df_test_opt = df_test_2.sample(n = 20000, random_state = 8)\n"
   ]
  },
  {
   "cell_type": "code",
   "execution_count": 7,
   "metadata": {},
   "outputs": [],
   "source": [
    "X_train_opt = df_train_opt.drop(columns = 'duracion_baja')\n",
    "y_train_opt = df_train_opt['duracion_baja']\n",
    "X_test_opt = df_test_opt.drop(columns = 'duracion_baja')\n",
    "y_test_opt = df_test_opt['duracion_baja']"
   ]
  },
  {
   "cell_type": "code",
   "execution_count": 255,
   "metadata": {},
   "outputs": [],
   "source": [
    "y_log_train_opt = np.log(y_train_opt)\n",
    "y_log_test_opt = np.log(y_test_opt)"
   ]
  },
  {
   "cell_type": "code",
   "execution_count": 256,
   "metadata": {},
   "outputs": [
    {
     "name": "stdout",
     "output_type": "stream",
     "text": [
      "Validation R2= 0.32, validation rmse= 3.35, and training rmse= 3.33\n"
     ]
    }
   ],
   "source": [
    "cv_results_RF_opt = cross_validate(model_RF_1, X_train_opt, y_log_train_opt, cv=2,\n",
    "                            scoring=['max_error',\n",
    "                                     'r2',\n",
    "                                     'neg_mean_absolute_error',\n",
    "                                     'neg_mean_squared_error',\n",
    "                                     'neg_root_mean_squared_error']\n",
    ") \n",
    "RF_val_rmse_opt = np.exp(cv_results_RF_opt['test_neg_root_mean_squared_error'].mean()*(-1))\n",
    "RF_val_r2_opt = cv_results_RF_opt['test_r2'].mean()\n",
    "\n",
    "model_RF_1.fit(X_train_opt, y_log_train_opt)\n",
    "y_pred_RF_opt = model_RF_1.predict(X_test_opt)\n",
    "RF_train_rmse_opt = np.exp(mean_squared_error(y_log_test_opt, y_pred_RF_opt, squared = False))\n",
    "\n",
    "print(f'Validation R2= {np.round(RF_val_r2_opt, 2)}, validation rmse= {np.round(RF_val_rmse_opt, 2)}, and training rmse= {np.round(RF_train_rmse_opt, 2)}')"
   ]
  },
  {
   "cell_type": "code",
   "execution_count": 78,
   "metadata": {},
   "outputs": [
    {
     "ename": "KeyboardInterrupt",
     "evalue": "",
     "output_type": "error",
     "traceback": [
      "\u001b[0;31m---------------------------------------------------------------------------\u001b[0m",
      "\u001b[0;31mKeyboardInterrupt\u001b[0m                         Traceback (most recent call last)",
      "Cell \u001b[0;32mIn [78], line 1\u001b[0m\n\u001b[0;32m----> 1\u001b[0m XGB_val_r2_opt \u001b[39m=\u001b[39m cross_val_score(model_xgb_1, X_train_opt, y_log_train_opt, scoring\u001b[39m=\u001b[39;49m\u001b[39m'\u001b[39;49m\u001b[39mr2\u001b[39;49m\u001b[39m'\u001b[39;49m, cv\u001b[39m=\u001b[39;49m\u001b[39m5\u001b[39;49m)\u001b[39m.\u001b[39mmean()\n\u001b[1;32m      2\u001b[0m XGB_val_rmse_opt \u001b[39m=\u001b[39m cross_val_score(model_xgb_1, X_train_opt, y_log_train_opt, scoring\u001b[39m=\u001b[39m\u001b[39m'\u001b[39m\u001b[39mneg_root_mean_squared_error\u001b[39m\u001b[39m'\u001b[39m, cv\u001b[39m=\u001b[39m\u001b[39m5\u001b[39m)\u001b[39m.\u001b[39mmean()\u001b[39m*\u001b[39m(\u001b[39m-\u001b[39m\u001b[39m1\u001b[39m)\n\u001b[1;32m      4\u001b[0m model_xgb_1\u001b[39m.\u001b[39mfit(X_train_opt, y_log_train_opt)\n",
      "File \u001b[0;32m~/.pyenv/versions/3.10.6/envs/smarthealing/lib/python3.10/site-packages/sklearn/model_selection/_validation.py:515\u001b[0m, in \u001b[0;36mcross_val_score\u001b[0;34m(estimator, X, y, groups, scoring, cv, n_jobs, verbose, fit_params, pre_dispatch, error_score)\u001b[0m\n\u001b[1;32m    512\u001b[0m \u001b[39m# To ensure multimetric format is not supported\u001b[39;00m\n\u001b[1;32m    513\u001b[0m scorer \u001b[39m=\u001b[39m check_scoring(estimator, scoring\u001b[39m=\u001b[39mscoring)\n\u001b[0;32m--> 515\u001b[0m cv_results \u001b[39m=\u001b[39m cross_validate(\n\u001b[1;32m    516\u001b[0m     estimator\u001b[39m=\u001b[39;49mestimator,\n\u001b[1;32m    517\u001b[0m     X\u001b[39m=\u001b[39;49mX,\n\u001b[1;32m    518\u001b[0m     y\u001b[39m=\u001b[39;49my,\n\u001b[1;32m    519\u001b[0m     groups\u001b[39m=\u001b[39;49mgroups,\n\u001b[1;32m    520\u001b[0m     scoring\u001b[39m=\u001b[39;49m{\u001b[39m\"\u001b[39;49m\u001b[39mscore\u001b[39;49m\u001b[39m\"\u001b[39;49m: scorer},\n\u001b[1;32m    521\u001b[0m     cv\u001b[39m=\u001b[39;49mcv,\n\u001b[1;32m    522\u001b[0m     n_jobs\u001b[39m=\u001b[39;49mn_jobs,\n\u001b[1;32m    523\u001b[0m     verbose\u001b[39m=\u001b[39;49mverbose,\n\u001b[1;32m    524\u001b[0m     fit_params\u001b[39m=\u001b[39;49mfit_params,\n\u001b[1;32m    525\u001b[0m     pre_dispatch\u001b[39m=\u001b[39;49mpre_dispatch,\n\u001b[1;32m    526\u001b[0m     error_score\u001b[39m=\u001b[39;49merror_score,\n\u001b[1;32m    527\u001b[0m )\n\u001b[1;32m    528\u001b[0m \u001b[39mreturn\u001b[39;00m cv_results[\u001b[39m\"\u001b[39m\u001b[39mtest_score\u001b[39m\u001b[39m\"\u001b[39m]\n",
      "File \u001b[0;32m~/.pyenv/versions/3.10.6/envs/smarthealing/lib/python3.10/site-packages/sklearn/model_selection/_validation.py:266\u001b[0m, in \u001b[0;36mcross_validate\u001b[0;34m(estimator, X, y, groups, scoring, cv, n_jobs, verbose, fit_params, pre_dispatch, return_train_score, return_estimator, error_score)\u001b[0m\n\u001b[1;32m    263\u001b[0m \u001b[39m# We clone the estimator to make sure that all the folds are\u001b[39;00m\n\u001b[1;32m    264\u001b[0m \u001b[39m# independent, and that it is pickle-able.\u001b[39;00m\n\u001b[1;32m    265\u001b[0m parallel \u001b[39m=\u001b[39m Parallel(n_jobs\u001b[39m=\u001b[39mn_jobs, verbose\u001b[39m=\u001b[39mverbose, pre_dispatch\u001b[39m=\u001b[39mpre_dispatch)\n\u001b[0;32m--> 266\u001b[0m results \u001b[39m=\u001b[39m parallel(\n\u001b[1;32m    267\u001b[0m     delayed(_fit_and_score)(\n\u001b[1;32m    268\u001b[0m         clone(estimator),\n\u001b[1;32m    269\u001b[0m         X,\n\u001b[1;32m    270\u001b[0m         y,\n\u001b[1;32m    271\u001b[0m         scorers,\n\u001b[1;32m    272\u001b[0m         train,\n\u001b[1;32m    273\u001b[0m         test,\n\u001b[1;32m    274\u001b[0m         verbose,\n\u001b[1;32m    275\u001b[0m         \u001b[39mNone\u001b[39;49;00m,\n\u001b[1;32m    276\u001b[0m         fit_params,\n\u001b[1;32m    277\u001b[0m         return_train_score\u001b[39m=\u001b[39;49mreturn_train_score,\n\u001b[1;32m    278\u001b[0m         return_times\u001b[39m=\u001b[39;49m\u001b[39mTrue\u001b[39;49;00m,\n\u001b[1;32m    279\u001b[0m         return_estimator\u001b[39m=\u001b[39;49mreturn_estimator,\n\u001b[1;32m    280\u001b[0m         error_score\u001b[39m=\u001b[39;49merror_score,\n\u001b[1;32m    281\u001b[0m     )\n\u001b[1;32m    282\u001b[0m     \u001b[39mfor\u001b[39;49;00m train, test \u001b[39min\u001b[39;49;00m cv\u001b[39m.\u001b[39;49msplit(X, y, groups)\n\u001b[1;32m    283\u001b[0m )\n\u001b[1;32m    285\u001b[0m _warn_or_raise_about_fit_failures(results, error_score)\n\u001b[1;32m    287\u001b[0m \u001b[39m# For callabe scoring, the return type is only know after calling. If the\u001b[39;00m\n\u001b[1;32m    288\u001b[0m \u001b[39m# return type is a dictionary, the error scores can now be inserted with\u001b[39;00m\n\u001b[1;32m    289\u001b[0m \u001b[39m# the correct key.\u001b[39;00m\n",
      "File \u001b[0;32m~/.pyenv/versions/3.10.6/envs/smarthealing/lib/python3.10/site-packages/joblib/parallel.py:1088\u001b[0m, in \u001b[0;36mParallel.__call__\u001b[0;34m(self, iterable)\u001b[0m\n\u001b[1;32m   1085\u001b[0m \u001b[39mif\u001b[39;00m \u001b[39mself\u001b[39m\u001b[39m.\u001b[39mdispatch_one_batch(iterator):\n\u001b[1;32m   1086\u001b[0m     \u001b[39mself\u001b[39m\u001b[39m.\u001b[39m_iterating \u001b[39m=\u001b[39m \u001b[39mself\u001b[39m\u001b[39m.\u001b[39m_original_iterator \u001b[39mis\u001b[39;00m \u001b[39mnot\u001b[39;00m \u001b[39mNone\u001b[39;00m\n\u001b[0;32m-> 1088\u001b[0m \u001b[39mwhile\u001b[39;00m \u001b[39mself\u001b[39;49m\u001b[39m.\u001b[39;49mdispatch_one_batch(iterator):\n\u001b[1;32m   1089\u001b[0m     \u001b[39mpass\u001b[39;00m\n\u001b[1;32m   1091\u001b[0m \u001b[39mif\u001b[39;00m pre_dispatch \u001b[39m==\u001b[39m \u001b[39m\"\u001b[39m\u001b[39mall\u001b[39m\u001b[39m\"\u001b[39m \u001b[39mor\u001b[39;00m n_jobs \u001b[39m==\u001b[39m \u001b[39m1\u001b[39m:\n\u001b[1;32m   1092\u001b[0m     \u001b[39m# The iterable was consumed all at once by the above for loop.\u001b[39;00m\n\u001b[1;32m   1093\u001b[0m     \u001b[39m# No need to wait for async callbacks to trigger to\u001b[39;00m\n\u001b[1;32m   1094\u001b[0m     \u001b[39m# consumption.\u001b[39;00m\n",
      "File \u001b[0;32m~/.pyenv/versions/3.10.6/envs/smarthealing/lib/python3.10/site-packages/joblib/parallel.py:901\u001b[0m, in \u001b[0;36mParallel.dispatch_one_batch\u001b[0;34m(self, iterator)\u001b[0m\n\u001b[1;32m    899\u001b[0m     \u001b[39mreturn\u001b[39;00m \u001b[39mFalse\u001b[39;00m\n\u001b[1;32m    900\u001b[0m \u001b[39melse\u001b[39;00m:\n\u001b[0;32m--> 901\u001b[0m     \u001b[39mself\u001b[39;49m\u001b[39m.\u001b[39;49m_dispatch(tasks)\n\u001b[1;32m    902\u001b[0m     \u001b[39mreturn\u001b[39;00m \u001b[39mTrue\u001b[39;00m\n",
      "File \u001b[0;32m~/.pyenv/versions/3.10.6/envs/smarthealing/lib/python3.10/site-packages/joblib/parallel.py:819\u001b[0m, in \u001b[0;36mParallel._dispatch\u001b[0;34m(self, batch)\u001b[0m\n\u001b[1;32m    817\u001b[0m \u001b[39mwith\u001b[39;00m \u001b[39mself\u001b[39m\u001b[39m.\u001b[39m_lock:\n\u001b[1;32m    818\u001b[0m     job_idx \u001b[39m=\u001b[39m \u001b[39mlen\u001b[39m(\u001b[39mself\u001b[39m\u001b[39m.\u001b[39m_jobs)\n\u001b[0;32m--> 819\u001b[0m     job \u001b[39m=\u001b[39m \u001b[39mself\u001b[39;49m\u001b[39m.\u001b[39;49m_backend\u001b[39m.\u001b[39;49mapply_async(batch, callback\u001b[39m=\u001b[39;49mcb)\n\u001b[1;32m    820\u001b[0m     \u001b[39m# A job can complete so quickly than its callback is\u001b[39;00m\n\u001b[1;32m    821\u001b[0m     \u001b[39m# called before we get here, causing self._jobs to\u001b[39;00m\n\u001b[1;32m    822\u001b[0m     \u001b[39m# grow. To ensure correct results ordering, .insert is\u001b[39;00m\n\u001b[1;32m    823\u001b[0m     \u001b[39m# used (rather than .append) in the following line\u001b[39;00m\n\u001b[1;32m    824\u001b[0m     \u001b[39mself\u001b[39m\u001b[39m.\u001b[39m_jobs\u001b[39m.\u001b[39minsert(job_idx, job)\n",
      "File \u001b[0;32m~/.pyenv/versions/3.10.6/envs/smarthealing/lib/python3.10/site-packages/joblib/_parallel_backends.py:208\u001b[0m, in \u001b[0;36mSequentialBackend.apply_async\u001b[0;34m(self, func, callback)\u001b[0m\n\u001b[1;32m    206\u001b[0m \u001b[39mdef\u001b[39;00m \u001b[39mapply_async\u001b[39m(\u001b[39mself\u001b[39m, func, callback\u001b[39m=\u001b[39m\u001b[39mNone\u001b[39;00m):\n\u001b[1;32m    207\u001b[0m     \u001b[39m\"\"\"Schedule a func to be run\"\"\"\u001b[39;00m\n\u001b[0;32m--> 208\u001b[0m     result \u001b[39m=\u001b[39m ImmediateResult(func)\n\u001b[1;32m    209\u001b[0m     \u001b[39mif\u001b[39;00m callback:\n\u001b[1;32m    210\u001b[0m         callback(result)\n",
      "File \u001b[0;32m~/.pyenv/versions/3.10.6/envs/smarthealing/lib/python3.10/site-packages/joblib/_parallel_backends.py:597\u001b[0m, in \u001b[0;36mImmediateResult.__init__\u001b[0;34m(self, batch)\u001b[0m\n\u001b[1;32m    594\u001b[0m \u001b[39mdef\u001b[39;00m \u001b[39m__init__\u001b[39m(\u001b[39mself\u001b[39m, batch):\n\u001b[1;32m    595\u001b[0m     \u001b[39m# Don't delay the application, to avoid keeping the input\u001b[39;00m\n\u001b[1;32m    596\u001b[0m     \u001b[39m# arguments in memory\u001b[39;00m\n\u001b[0;32m--> 597\u001b[0m     \u001b[39mself\u001b[39m\u001b[39m.\u001b[39mresults \u001b[39m=\u001b[39m batch()\n",
      "File \u001b[0;32m~/.pyenv/versions/3.10.6/envs/smarthealing/lib/python3.10/site-packages/joblib/parallel.py:288\u001b[0m, in \u001b[0;36mBatchedCalls.__call__\u001b[0;34m(self)\u001b[0m\n\u001b[1;32m    284\u001b[0m \u001b[39mdef\u001b[39;00m \u001b[39m__call__\u001b[39m(\u001b[39mself\u001b[39m):\n\u001b[1;32m    285\u001b[0m     \u001b[39m# Set the default nested backend to self._backend but do not set the\u001b[39;00m\n\u001b[1;32m    286\u001b[0m     \u001b[39m# change the default number of processes to -1\u001b[39;00m\n\u001b[1;32m    287\u001b[0m     \u001b[39mwith\u001b[39;00m parallel_backend(\u001b[39mself\u001b[39m\u001b[39m.\u001b[39m_backend, n_jobs\u001b[39m=\u001b[39m\u001b[39mself\u001b[39m\u001b[39m.\u001b[39m_n_jobs):\n\u001b[0;32m--> 288\u001b[0m         \u001b[39mreturn\u001b[39;00m [func(\u001b[39m*\u001b[39margs, \u001b[39m*\u001b[39m\u001b[39m*\u001b[39mkwargs)\n\u001b[1;32m    289\u001b[0m                 \u001b[39mfor\u001b[39;00m func, args, kwargs \u001b[39min\u001b[39;00m \u001b[39mself\u001b[39m\u001b[39m.\u001b[39mitems]\n",
      "File \u001b[0;32m~/.pyenv/versions/3.10.6/envs/smarthealing/lib/python3.10/site-packages/joblib/parallel.py:288\u001b[0m, in \u001b[0;36m<listcomp>\u001b[0;34m(.0)\u001b[0m\n\u001b[1;32m    284\u001b[0m \u001b[39mdef\u001b[39;00m \u001b[39m__call__\u001b[39m(\u001b[39mself\u001b[39m):\n\u001b[1;32m    285\u001b[0m     \u001b[39m# Set the default nested backend to self._backend but do not set the\u001b[39;00m\n\u001b[1;32m    286\u001b[0m     \u001b[39m# change the default number of processes to -1\u001b[39;00m\n\u001b[1;32m    287\u001b[0m     \u001b[39mwith\u001b[39;00m parallel_backend(\u001b[39mself\u001b[39m\u001b[39m.\u001b[39m_backend, n_jobs\u001b[39m=\u001b[39m\u001b[39mself\u001b[39m\u001b[39m.\u001b[39m_n_jobs):\n\u001b[0;32m--> 288\u001b[0m         \u001b[39mreturn\u001b[39;00m [func(\u001b[39m*\u001b[39;49margs, \u001b[39m*\u001b[39;49m\u001b[39m*\u001b[39;49mkwargs)\n\u001b[1;32m    289\u001b[0m                 \u001b[39mfor\u001b[39;00m func, args, kwargs \u001b[39min\u001b[39;00m \u001b[39mself\u001b[39m\u001b[39m.\u001b[39mitems]\n",
      "File \u001b[0;32m~/.pyenv/versions/3.10.6/envs/smarthealing/lib/python3.10/site-packages/sklearn/utils/fixes.py:117\u001b[0m, in \u001b[0;36m_FuncWrapper.__call__\u001b[0;34m(self, *args, **kwargs)\u001b[0m\n\u001b[1;32m    115\u001b[0m \u001b[39mdef\u001b[39;00m \u001b[39m__call__\u001b[39m(\u001b[39mself\u001b[39m, \u001b[39m*\u001b[39margs, \u001b[39m*\u001b[39m\u001b[39m*\u001b[39mkwargs):\n\u001b[1;32m    116\u001b[0m     \u001b[39mwith\u001b[39;00m config_context(\u001b[39m*\u001b[39m\u001b[39m*\u001b[39m\u001b[39mself\u001b[39m\u001b[39m.\u001b[39mconfig):\n\u001b[0;32m--> 117\u001b[0m         \u001b[39mreturn\u001b[39;00m \u001b[39mself\u001b[39;49m\u001b[39m.\u001b[39;49mfunction(\u001b[39m*\u001b[39;49margs, \u001b[39m*\u001b[39;49m\u001b[39m*\u001b[39;49mkwargs)\n",
      "File \u001b[0;32m~/.pyenv/versions/3.10.6/envs/smarthealing/lib/python3.10/site-packages/sklearn/model_selection/_validation.py:686\u001b[0m, in \u001b[0;36m_fit_and_score\u001b[0;34m(estimator, X, y, scorer, train, test, verbose, parameters, fit_params, return_train_score, return_parameters, return_n_test_samples, return_times, return_estimator, split_progress, candidate_progress, error_score)\u001b[0m\n\u001b[1;32m    684\u001b[0m         estimator\u001b[39m.\u001b[39mfit(X_train, \u001b[39m*\u001b[39m\u001b[39m*\u001b[39mfit_params)\n\u001b[1;32m    685\u001b[0m     \u001b[39melse\u001b[39;00m:\n\u001b[0;32m--> 686\u001b[0m         estimator\u001b[39m.\u001b[39;49mfit(X_train, y_train, \u001b[39m*\u001b[39;49m\u001b[39m*\u001b[39;49mfit_params)\n\u001b[1;32m    688\u001b[0m \u001b[39mexcept\u001b[39;00m \u001b[39mException\u001b[39;00m:\n\u001b[1;32m    689\u001b[0m     \u001b[39m# Note fit time as time until error\u001b[39;00m\n\u001b[1;32m    690\u001b[0m     fit_time \u001b[39m=\u001b[39m time\u001b[39m.\u001b[39mtime() \u001b[39m-\u001b[39m start_time\n",
      "File \u001b[0;32m~/.pyenv/versions/3.10.6/envs/smarthealing/lib/python3.10/site-packages/xgboost/core.py:620\u001b[0m, in \u001b[0;36mrequire_keyword_args.<locals>.throw_if.<locals>.inner_f\u001b[0;34m(*args, **kwargs)\u001b[0m\n\u001b[1;32m    618\u001b[0m \u001b[39mfor\u001b[39;00m k, arg \u001b[39min\u001b[39;00m \u001b[39mzip\u001b[39m(sig\u001b[39m.\u001b[39mparameters, args):\n\u001b[1;32m    619\u001b[0m     kwargs[k] \u001b[39m=\u001b[39m arg\n\u001b[0;32m--> 620\u001b[0m \u001b[39mreturn\u001b[39;00m func(\u001b[39m*\u001b[39;49m\u001b[39m*\u001b[39;49mkwargs)\n",
      "File \u001b[0;32m~/.pyenv/versions/3.10.6/envs/smarthealing/lib/python3.10/site-packages/xgboost/sklearn.py:1051\u001b[0m, in \u001b[0;36mXGBModel.fit\u001b[0;34m(self, X, y, sample_weight, base_margin, eval_set, eval_metric, early_stopping_rounds, verbose, xgb_model, sample_weight_eval_set, base_margin_eval_set, feature_weights, callbacks)\u001b[0m\n\u001b[1;32m   1040\u001b[0m     obj \u001b[39m=\u001b[39m \u001b[39mNone\u001b[39;00m\n\u001b[1;32m   1042\u001b[0m (\n\u001b[1;32m   1043\u001b[0m     model,\n\u001b[1;32m   1044\u001b[0m     metric,\n\u001b[0;32m   (...)\u001b[0m\n\u001b[1;32m   1049\u001b[0m     xgb_model, eval_metric, params, early_stopping_rounds, callbacks\n\u001b[1;32m   1050\u001b[0m )\n\u001b[0;32m-> 1051\u001b[0m \u001b[39mself\u001b[39m\u001b[39m.\u001b[39m_Booster \u001b[39m=\u001b[39m train(\n\u001b[1;32m   1052\u001b[0m     params,\n\u001b[1;32m   1053\u001b[0m     train_dmatrix,\n\u001b[1;32m   1054\u001b[0m     \u001b[39mself\u001b[39;49m\u001b[39m.\u001b[39;49mget_num_boosting_rounds(),\n\u001b[1;32m   1055\u001b[0m     evals\u001b[39m=\u001b[39;49mevals,\n\u001b[1;32m   1056\u001b[0m     early_stopping_rounds\u001b[39m=\u001b[39;49mearly_stopping_rounds,\n\u001b[1;32m   1057\u001b[0m     evals_result\u001b[39m=\u001b[39;49mevals_result,\n\u001b[1;32m   1058\u001b[0m     obj\u001b[39m=\u001b[39;49mobj,\n\u001b[1;32m   1059\u001b[0m     custom_metric\u001b[39m=\u001b[39;49mmetric,\n\u001b[1;32m   1060\u001b[0m     verbose_eval\u001b[39m=\u001b[39;49mverbose,\n\u001b[1;32m   1061\u001b[0m     xgb_model\u001b[39m=\u001b[39;49mmodel,\n\u001b[1;32m   1062\u001b[0m     callbacks\u001b[39m=\u001b[39;49mcallbacks,\n\u001b[1;32m   1063\u001b[0m )\n\u001b[1;32m   1065\u001b[0m \u001b[39mself\u001b[39m\u001b[39m.\u001b[39m_set_evaluation_result(evals_result)\n\u001b[1;32m   1066\u001b[0m \u001b[39mreturn\u001b[39;00m \u001b[39mself\u001b[39m\n",
      "File \u001b[0;32m~/.pyenv/versions/3.10.6/envs/smarthealing/lib/python3.10/site-packages/xgboost/core.py:620\u001b[0m, in \u001b[0;36mrequire_keyword_args.<locals>.throw_if.<locals>.inner_f\u001b[0;34m(*args, **kwargs)\u001b[0m\n\u001b[1;32m    618\u001b[0m \u001b[39mfor\u001b[39;00m k, arg \u001b[39min\u001b[39;00m \u001b[39mzip\u001b[39m(sig\u001b[39m.\u001b[39mparameters, args):\n\u001b[1;32m    619\u001b[0m     kwargs[k] \u001b[39m=\u001b[39m arg\n\u001b[0;32m--> 620\u001b[0m \u001b[39mreturn\u001b[39;00m func(\u001b[39m*\u001b[39;49m\u001b[39m*\u001b[39;49mkwargs)\n",
      "File \u001b[0;32m~/.pyenv/versions/3.10.6/envs/smarthealing/lib/python3.10/site-packages/xgboost/training.py:185\u001b[0m, in \u001b[0;36mtrain\u001b[0;34m(params, dtrain, num_boost_round, evals, obj, feval, maximize, early_stopping_rounds, evals_result, verbose_eval, xgb_model, callbacks, custom_metric)\u001b[0m\n\u001b[1;32m    183\u001b[0m \u001b[39mif\u001b[39;00m cb_container\u001b[39m.\u001b[39mbefore_iteration(bst, i, dtrain, evals):\n\u001b[1;32m    184\u001b[0m     \u001b[39mbreak\u001b[39;00m\n\u001b[0;32m--> 185\u001b[0m bst\u001b[39m.\u001b[39;49mupdate(dtrain, i, obj)\n\u001b[1;32m    186\u001b[0m \u001b[39mif\u001b[39;00m cb_container\u001b[39m.\u001b[39mafter_iteration(bst, i, dtrain, evals):\n\u001b[1;32m    187\u001b[0m     \u001b[39mbreak\u001b[39;00m\n",
      "File \u001b[0;32m~/.pyenv/versions/3.10.6/envs/smarthealing/lib/python3.10/site-packages/xgboost/core.py:1918\u001b[0m, in \u001b[0;36mBooster.update\u001b[0;34m(self, dtrain, iteration, fobj)\u001b[0m\n\u001b[1;32m   1915\u001b[0m \u001b[39mself\u001b[39m\u001b[39m.\u001b[39m_validate_dmatrix_features(dtrain)\n\u001b[1;32m   1917\u001b[0m \u001b[39mif\u001b[39;00m fobj \u001b[39mis\u001b[39;00m \u001b[39mNone\u001b[39;00m:\n\u001b[0;32m-> 1918\u001b[0m     _check_call(_LIB\u001b[39m.\u001b[39;49mXGBoosterUpdateOneIter(\u001b[39mself\u001b[39;49m\u001b[39m.\u001b[39;49mhandle,\n\u001b[1;32m   1919\u001b[0m                                             ctypes\u001b[39m.\u001b[39;49mc_int(iteration),\n\u001b[1;32m   1920\u001b[0m                                             dtrain\u001b[39m.\u001b[39;49mhandle))\n\u001b[1;32m   1921\u001b[0m \u001b[39melse\u001b[39;00m:\n\u001b[1;32m   1922\u001b[0m     pred \u001b[39m=\u001b[39m \u001b[39mself\u001b[39m\u001b[39m.\u001b[39mpredict(dtrain, output_margin\u001b[39m=\u001b[39m\u001b[39mTrue\u001b[39;00m, training\u001b[39m=\u001b[39m\u001b[39mTrue\u001b[39;00m)\n",
      "\u001b[0;31mKeyboardInterrupt\u001b[0m: "
     ]
    }
   ],
   "source": [
    "XGB_val_r2_opt = cross_val_score(model_xgb_1, X_train_opt, y_log_train_opt, scoring='r2', cv=5).mean()\n",
    "XGB_val_rmse_opt = cross_val_score(model_xgb_1, X_train_opt, y_log_train_opt, scoring='neg_root_mean_squared_error', cv=5).mean()*(-1)\n",
    "\n",
    "model_xgb_1.fit(X_train_opt, y_log_train_opt)\n",
    "y_pred_xgb_opt = model_xgb_1.predict(X_test_opt)\n",
    "XGB_train_rmse_opt = np.exp(mean_squared_error(y_log_test_opt, y_pred_xgb_opt, squared = False))\n",
    "\n",
    "print(f'Validation R2= {np.round(XGB_val_r2_opt, 2)}, validation rmse= {np.round(XGB_val_rmse_opt, 2)}, and training rmse= {np.round(XGB_train_rmse_opt, 2)}')"
   ]
  },
  {
   "cell_type": "code",
   "execution_count": 250,
   "metadata": {},
   "outputs": [
    {
     "name": "stdout",
     "output_type": "stream",
     "text": [
      "Validation R2= 0.32, validation rmse= 3.25, and training rmse= 3.24\n"
     ]
    }
   ],
   "source": [
    "cv_results_RF_opt = cross_validate(model_RF_1, X_train_opt, y_log_train_opt, cv=2,\n",
    "                            scoring=['max_error',\n",
    "                                     'r2',\n",
    "                                     'neg_mean_absolute_error',\n",
    "                                     'neg_mean_squared_error',\n",
    "                                     'neg_root_mean_squared_error']\n",
    ") \n",
    "RF_val_rmse_opt = np.exp(cv_results_RF_opt['test_neg_root_mean_squared_error'].mean()*(-1))\n",
    "RF_val_r2_opt = cv_results_RF_opt['test_r2'].mean()\n",
    "\n",
    "model_RF_1.fit(X_train_opt, y_log_train_opt)\n",
    "y_pred_RF_opt = model_RF_1.predict(X_test_opt)\n",
    "RF_train_rmse_opt = np.exp(mean_squared_error(y_log_test_opt, y_pred_RF_opt, squared = False))\n",
    "\n",
    "print(f'Validation R2= {np.round(RF_val_r2_opt, 2)}, validation rmse= {np.round(RF_val_rmse_opt, 2)}, and training rmse= {np.round(RF_train_rmse_opt, 2)}')"
   ]
  },
  {
   "cell_type": "code",
   "execution_count": 9,
   "metadata": {},
   "outputs": [],
   "source": [
    "def y_encode_10(y):\n",
    "    if y<2:\n",
    "        return 1\n",
    "    elif y<5:\n",
    "        return 2\n",
    "    elif y<10:\n",
    "        return 3\n",
    "    elif y<15:\n",
    "        return 4\n",
    "    elif y<25:\n",
    "        return 5\n",
    "    elif y<50:\n",
    "        return 6\n",
    "    elif y<75:\n",
    "        return 7\n",
    "    else:\n",
    "        return 8"
   ]
  },
  {
   "cell_type": "code",
   "execution_count": 8,
   "metadata": {},
   "outputs": [],
   "source": [
    "def y_encode_2(y):\n",
    "    if y<15:\n",
    "        return 0\n",
    "    else:\n",
    "        return 1"
   ]
  },
  {
   "cell_type": "code",
   "execution_count": 10,
   "metadata": {},
   "outputs": [],
   "source": [
    "def y_encode_3(y):\n",
    "    if y<3:\n",
    "        return 0\n",
    "    if y<15:\n",
    "        return 2\n",
    "    else:\n",
    "        return 1"
   ]
  },
  {
   "cell_type": "code",
   "execution_count": 12,
   "metadata": {},
   "outputs": [],
   "source": [
    "y_train_encoded = y_train_opt.apply(y_encode_2)"
   ]
  },
  {
   "cell_type": "code",
   "execution_count": 15,
   "metadata": {},
   "outputs": [
    {
     "data": {
      "text/plain": [
       "11464"
      ]
     },
     "execution_count": 15,
     "metadata": {},
     "output_type": "execute_result"
    }
   ],
   "source": [
    "y_train_encoded.sum()"
   ]
  },
  {
   "cell_type": "code",
   "execution_count": 72,
   "metadata": {},
   "outputs": [],
   "source": [
    "y_test_encoded = y_test_opt.map(lambda x: y_encode_2(x))"
   ]
  },
  {
   "cell_type": "code",
   "execution_count": 52,
   "metadata": {},
   "outputs": [
    {
     "name": "stderr",
     "output_type": "stream",
     "text": [
      "/Users/jaimesoroarubio/.pyenv/versions/3.10.6/envs/smarthealing/lib/python3.10/site-packages/sklearn/linear_model/_logistic.py:444: ConvergenceWarning: lbfgs failed to converge (status=1):\n",
      "STOP: TOTAL NO. of ITERATIONS REACHED LIMIT.\n",
      "\n",
      "Increase the number of iterations (max_iter) or scale the data as shown in:\n",
      "    https://scikit-learn.org/stable/modules/preprocessing.html\n",
      "Please also refer to the documentation for alternative solver options:\n",
      "    https://scikit-learn.org/stable/modules/linear_model.html#logistic-regression\n",
      "  n_iter_i = _check_optimize_result(\n"
     ]
    },
    {
     "data": {
      "text/plain": [
       "0.51745"
      ]
     },
     "execution_count": 52,
     "metadata": {},
     "output_type": "execute_result"
    }
   ],
   "source": [
    "from sklearn.linear_model import LogisticRegression\n",
    "model_log = LogisticRegression(max_iter=500)\n",
    "model_log.fit(X_train_opt, y_train_encoded)\n",
    "model_log.score(X_test_opt, y_test_encoded)"
   ]
  },
  {
   "cell_type": "code",
   "execution_count": 53,
   "metadata": {},
   "outputs": [
    {
     "data": {
      "text/plain": [
       "0.5406"
      ]
     },
     "execution_count": 53,
     "metadata": {},
     "output_type": "execute_result"
    }
   ],
   "source": [
    "from sklearn.ensemble import RandomForestClassifier\n",
    "model_RFC = RandomForestClassifier(n_estimators= 300, criterion= 'entropy', min_samples_split= 10, max_depth= 100)\n",
    "model_RFC.fit(X_train_opt, y_train_encoded)\n",
    "model_RFC.score(X_test_opt, y_test_encoded)"
   ]
  },
  {
   "cell_type": "code",
   "execution_count": 358,
   "metadata": {},
   "outputs": [
    {
     "name": "stderr",
     "output_type": "stream",
     "text": [
      "/Users/jaimesoroarubio/.pyenv/versions/3.10.6/envs/smarthealing/lib/python3.10/site-packages/sklearn/model_selection/_search.py:306: UserWarning: The total space of parameters 8 is smaller than n_iter=10. Running 8 iterations. For exhaustive searches, use GridSearchCV.\n",
      "  warnings.warn(\n"
     ]
    },
    {
     "name": "stdout",
     "output_type": "stream",
     "text": [
      "RandomForestClassifier(criterion='entropy', max_depth=75, min_samples_split=10,\n",
      "                       n_estimators=300)\n",
      "0.7776749859724443\n",
      "{'n_estimators': 300, 'min_samples_split': 10, 'max_depth': 75, 'criterion': 'entropy'}\n"
     ]
    }
   ],
   "source": [
    "grid_RFC = {'n_estimators': [200, 300],\n",
    "            'criterion': ['entropy'],\n",
    "            'min_samples_split': [10, 15],\n",
    "            'max_depth': [50, 75]\n",
    "            }\n",
    "# Instanciate Grid Search\n",
    "search_RFC = RandomizedSearchCV(model_RFC, grid_RFC, scoring='accuracy', n_jobs = -1, cv = 3)\n",
    "# Fit data to Grid Search\n",
    "search_RFC.fit(X_train_opt, y_train_encoded)\n",
    "print(search_RFC.best_estimator_)\n",
    "print(search_RFC.best_score_)\n",
    "print(search_RFC.best_params_)"
   ]
  },
  {
   "cell_type": "code",
   "execution_count": 73,
   "metadata": {},
   "outputs": [],
   "source": [
    "model_XGBC = xgb.XGBClassifier(objective= 'reg:logistic', max_depth= 3)#, num_class= 2)"
   ]
  },
  {
   "cell_type": "code",
   "execution_count": 74,
   "metadata": {},
   "outputs": [
    {
     "data": {
      "text/plain": [
       "0.78415"
      ]
     },
     "execution_count": 74,
     "metadata": {},
     "output_type": "execute_result"
    }
   ],
   "source": [
    "model_XGBC.fit(X_train_opt, y_train_encoded)\n",
    "model_XGBC.score(X_test_opt, y_test_encoded)"
   ]
  },
  {
   "cell_type": "code",
   "execution_count": 371,
   "metadata": {},
   "outputs": [
    {
     "name": "stdout",
     "output_type": "stream",
     "text": [
      "XGBClassifier(base_score=0.5, booster='gbtree', callbacks=None,\n",
      "              colsample_bylevel=1, colsample_bynode=1, colsample_bytree=0.6,\n",
      "              early_stopping_rounds=None, enable_categorical=False,\n",
      "              eval_metric=None, feature_types=None, gamma=3, gpu_id=-1,\n",
      "              grow_policy='depthwise', importance_type=None,\n",
      "              interaction_constraints='', learning_rate=0.300000012,\n",
      "              max_bin=256, max_cat_threshold=64, max_cat_to_onehot=4,\n",
      "              max_delta_step=0, max_depth=3, max_leaves=0, min_child_weight=1,\n",
      "              missing=nan, monotone_constraints='()', n_estimators=100,\n",
      "              n_jobs=0, num_parallel_tree=1, objective='binary:hinge',\n",
      "              predictor='auto', ...)\n",
      "0.770425\n",
      "{'colsample_bytree': 0.6, 'gamma': 3, 'max_depth': 3, 'min_child_weight': 1, 'subsample': 0.6}\n"
     ]
    }
   ],
   "source": [
    "grid_XGBC = {\n",
    "        'min_child_weight': [1],\n",
    "        'gamma': [1.5, 3],\n",
    "        'subsample': [0.6, 0.8],\n",
    "        'colsample_bytree': [0.6],\n",
    "        'max_depth': [3, 10]\n",
    "        }\n",
    "# Instanciate Grid Search\n",
    "search_XGBC = GridSearchCV(model_XGBC, grid_XGBC, scoring='accuracy', n_jobs = -1, cv = 2)\n",
    "# Fit data to Grid Search\n",
    "search_XGBC.fit(X_train_opt, y_train_encoded)\n",
    "print(search_XGBC.best_estimator_)\n",
    "print(search_XGBC.best_score_)\n",
    "print(search_XGBC.best_params_)"
   ]
  },
  {
   "cell_type": "code",
   "execution_count": 306,
   "metadata": {},
   "outputs": [
    {
     "data": {
      "text/plain": [
       "0.57175"
      ]
     },
     "execution_count": 306,
     "metadata": {},
     "output_type": "execute_result"
    }
   ],
   "source": [
    "from sklearn.neighbors import KNeighborsClassifier\n",
    "model_KNC = KNeighborsClassifier()\n",
    "model_KNC.fit(X_train_opt, y_train_encoded)\n",
    "model_KNC.score(X_test_opt, y_test_encoded)"
   ]
  },
  {
   "cell_type": "code",
   "execution_count": 299,
   "metadata": {},
   "outputs": [
    {
     "data": {
      "text/plain": [
       "0.7582"
      ]
     },
     "execution_count": 299,
     "metadata": {},
     "output_type": "execute_result"
    }
   ],
   "source": [
    "from sklearn.svm import SVC\n",
    "model_SVC = SVC()\n",
    "model_SVC.fit(X_train_opt, y_train_encoded)\n",
    "model_SVC.score(X_test_opt, y_test_encoded)"
   ]
  },
  {
   "cell_type": "code",
   "execution_count": 56,
   "metadata": {},
   "outputs": [],
   "source": [
    "from imblearn.over_sampling import SMOTE\n",
    "X_train_resampled, y_train_resampled = SMOTE().fit_resample(X_train_opt, y_train_encoded)"
   ]
  },
  {
   "cell_type": "code",
   "execution_count": 49,
   "metadata": {},
   "outputs": [
    {
     "data": {
      "text/plain": [
       "0        0\n",
       "1        1\n",
       "2        0\n",
       "3        1\n",
       "4        0\n",
       "        ..\n",
       "57067    1\n",
       "57068    1\n",
       "57069    1\n",
       "57070    1\n",
       "57071    1\n",
       "Name: duracion_baja, Length: 57072, dtype: int64"
      ]
     },
     "execution_count": 49,
     "metadata": {},
     "output_type": "execute_result"
    }
   ],
   "source": [
    "y_train_resampled"
   ]
  },
  {
   "cell_type": "code",
   "execution_count": 57,
   "metadata": {},
   "outputs": [
    {
     "name": "stderr",
     "output_type": "stream",
     "text": [
      "/Users/jaimesoroarubio/.pyenv/versions/3.10.6/envs/smarthealing/lib/python3.10/site-packages/sklearn/linear_model/_logistic.py:444: ConvergenceWarning: lbfgs failed to converge (status=1):\n",
      "STOP: TOTAL NO. of ITERATIONS REACHED LIMIT.\n",
      "\n",
      "Increase the number of iterations (max_iter) or scale the data as shown in:\n",
      "    https://scikit-learn.org/stable/modules/preprocessing.html\n",
      "Please also refer to the documentation for alternative solver options:\n",
      "    https://scikit-learn.org/stable/modules/linear_model.html#logistic-regression\n",
      "  n_iter_i = _check_optimize_result(\n"
     ]
    },
    {
     "data": {
      "text/plain": [
       "0.51385"
      ]
     },
     "execution_count": 57,
     "metadata": {},
     "output_type": "execute_result"
    }
   ],
   "source": [
    "from sklearn.linear_model import LogisticRegression\n",
    "model_LR_2 = LogisticRegression(max_iter=500)\n",
    "model_LR_2.fit(X_train_resampled, y_train_resampled)\n",
    "model_LR_2.score(X_test_opt, y_test_encoded)"
   ]
  },
  {
   "cell_type": "code",
   "execution_count": 58,
   "metadata": {},
   "outputs": [
    {
     "data": {
      "text/plain": [
       "0.5388"
      ]
     },
     "execution_count": 58,
     "metadata": {},
     "output_type": "execute_result"
    }
   ],
   "source": [
    "from sklearn.ensemble import RandomForestClassifier\n",
    "model_RFC = RandomForestClassifier(n_estimators= 300, criterion= 'entropy', min_samples_split= 10, max_depth= 100)\n",
    "model_RFC.fit(X_train_resampled, y_train_resampled)\n",
    "model_RFC.score(X_test_opt, y_test_encoded)"
   ]
  },
  {
   "cell_type": "code",
   "execution_count": 59,
   "metadata": {},
   "outputs": [
    {
     "data": {
      "text/plain": [
       "0.54685"
      ]
     },
     "execution_count": 59,
     "metadata": {},
     "output_type": "execute_result"
    }
   ],
   "source": [
    "model_XGBC = xgb.XGBClassifier(objective= 'reg:logistic', max_depth= 3)\n",
    "model_XGBC.fit(X_train_resampled, y_train_resampled)\n",
    "model_XGBC.score(X_test_opt, y_test_encoded)"
   ]
  },
  {
   "cell_type": "code",
   "execution_count": 39,
   "metadata": {},
   "outputs": [],
   "source": [
    "X_train_3 = pd.read_csv('../raw_data/optim_12_06_15-40/X_train')\n",
    "X_test_3 = pd.read_csv('../raw_data/optim_12_06_15-40/X_test')\n",
    "y_train_3 = pd.read_csv('../raw_data/optim_12_06_15-40/y_train')\n",
    "y_test_3 = pd.read_csv('../raw_data/optim_12_06_15-40/y_test')"
   ]
  },
  {
   "cell_type": "code",
   "execution_count": 40,
   "metadata": {},
   "outputs": [],
   "source": [
    "df_train_3 = pd.concat((X_train_3, y_train_3), axis = 1)\n",
    "df_test_3 = pd.concat((X_test_3, y_test_3), axis = 1)\n",
    "df_train_3_opt = df_train_3.sample(n = 40000, random_state = 8)\n",
    "df_test_3_opt = df_test_3.sample(n = 20000, random_state = 8)\n",
    "X_train_3_opt = df_train_3_opt.drop(columns = 'duracion_baja')\n",
    "y_train_3_opt = df_train_3_opt['duracion_baja']\n",
    "X_test_3_opt = df_test_3_opt.drop(columns = 'duracion_baja')\n",
    "y_test_3_opt = df_test_3_opt['duracion_baja']"
   ]
  },
  {
   "cell_type": "code",
   "execution_count": 41,
   "metadata": {},
   "outputs": [],
   "source": [
    "y_train_3_encoded = y_train_3_opt.map(lambda x: y_encode_2(x))\n",
    "y_test_3_encoded = y_test_3_opt.map(lambda x: y_encode_2(x))"
   ]
  },
  {
   "cell_type": "code",
   "execution_count": 69,
   "metadata": {},
   "outputs": [
    {
     "data": {
      "text/plain": [
       "0.7079"
      ]
     },
     "execution_count": 69,
     "metadata": {},
     "output_type": "execute_result"
    }
   ],
   "source": [
    "from sklearn.linear_model import LogisticRegression\n",
    "model_LR_3 = LogisticRegression(max_iter=500)\n",
    "model_LR_3.fit(X_train_3_opt, y_train_3_encoded)\n",
    "model_LR_3.score(X_test_3_opt, y_test_3_encoded)"
   ]
  },
  {
   "cell_type": "code",
   "execution_count": 198,
   "metadata": {},
   "outputs": [
    {
     "data": {
      "text/plain": [
       "0.79395"
      ]
     },
     "execution_count": 198,
     "metadata": {},
     "output_type": "execute_result"
    }
   ],
   "source": [
    "model_XGBC_3 = xgb.XGBClassifier(objective= 'binary:logistic', max_depth= 3, eval_metric= 'aucpr')\n",
    "model_XGBC_3.fit(X_train_3_opt, y_train_3_encoded)\n",
    "y_pred_3_encoded = model_XGBC_3.predict(X_test_3_opt)\n",
    "model_XGBC_3.score(X_test_3_opt, y_test_3_encoded)"
   ]
  },
  {
   "cell_type": "code",
   "execution_count": 193,
   "metadata": {},
   "outputs": [
    {
     "name": "stdout",
     "output_type": "stream",
     "text": [
      "Precision: 0.701\n",
      "Recall: 0.587\n"
     ]
    }
   ],
   "source": [
    "from sklearn.metrics import precision_score\n",
    "precision = precision_score(y_test_3_encoded, y_pred_3_encoded, average='binary')\n",
    "print('Precision: %.3f' % precision)\n",
    "from sklearn.metrics import recall_score\n",
    "recall = recall_score(y_test_3_encoded, y_pred_3_encoded, average='binary')\n",
    "print('Recall: %.3f' % recall)"
   ]
  },
  {
   "cell_type": "code",
   "execution_count": 192,
   "metadata": {},
   "outputs": [
    {
     "data": {
      "text/plain": [
       "5202"
      ]
     },
     "execution_count": 192,
     "metadata": {},
     "output_type": "execute_result"
    }
   ],
   "source": [
    "y_pred_3_encoded.sum()"
   ]
  },
  {
   "cell_type": "code",
   "execution_count": 185,
   "metadata": {},
   "outputs": [
    {
     "data": {
      "text/plain": [
       "array([0.49705675, 0.6781013 , 0.04258581, ..., 0.4497992 , 0.3329168 ,\n",
       "       0.11531298], dtype=float32)"
      ]
     },
     "execution_count": 185,
     "metadata": {},
     "output_type": "execute_result"
    }
   ],
   "source": [
    "probs_xgc = model_XGBC_3.predict_proba(X_test_3_opt)[:, 1]\n",
    "probs_xgc"
   ]
  },
  {
   "cell_type": "code",
   "execution_count": 186,
   "metadata": {},
   "outputs": [],
   "source": [
    "from sklearn.metrics import auc, precision_recall_curve\n",
    "baseline_model = sum(y_test_3_encoded == 1) / len(y_test_3_encoded)\n",
    "precision_xgc, recall_xgc, _ = precision_recall_curve(y_test_3_encoded, probs_xgc)\n",
    "auc_xg = auc(recall_xgc, precision_xgc)"
   ]
  },
  {
   "cell_type": "code",
   "execution_count": 187,
   "metadata": {},
   "outputs": [
    {
     "data": {
      "image/png": "[encoded data removed]",
      "text/plain": [
       "<Figure size 1200x700 with 1 Axes>"
      ]
     },
     "metadata": {},
     "output_type": "display_data"
    }
   ],
   "source": [
    "plt.figure(figsize=(12, 7))\n",
    "plt.plot([0, 1], [baseline_model, baseline_model], linestyle='--', label='Baseline model')\n",
    "plt.plot(recall_xgc, precision_xgc, label=f'AUC (XGBoost) = {auc_xg:.2f}')\n",
    "plt.title('Precision-Recall Curve', size=20)\n",
    "plt.xlabel('Recall', size=14)\n",
    "plt.ylabel('Precision', size=14)\n",
    "plt.legend();"
   ]
  },
  {
   "cell_type": "code",
   "execution_count": 109,
   "metadata": {},
   "outputs": [
    {
     "data": {
      "text/plain": [
       "<matplotlib.legend.Legend at 0x29aa8f790>"
      ]
     },
     "execution_count": 109,
     "metadata": {},
     "output_type": "execute_result"
    },
    {
     "data": {
      "image/png": "[encoded data removed]",
      "text/plain": [
       "<Figure size 2000x480 with 1 Axes>"
      ]
     },
     "metadata": {},
     "output_type": "display_data"
    }
   ],
   "source": [
    "figure(figsize=(25, 6), dpi=80)\n",
    "plt.hist(y_test_3_encoded, label = 'test', color = 'r', alpha= 0.5)\n",
    "plt.hist(y_pred_3_encoded, label = 'pred', color= 'g', alpha= 0.5)\n",
    "#plt.xlim([0, 200])\n",
    "plt.legend()"
   ]
  },
  {
   "cell_type": "code",
   "execution_count": 194,
   "metadata": {},
   "outputs": [],
   "source": [
    "from imblearn.over_sampling import SMOTE\n",
    "X_train_3_resampled, y_train_3_resampled = SMOTE().fit_resample(X_train_3_opt, y_train_3_encoded)"
   ]
  },
  {
   "cell_type": "code",
   "execution_count": 196,
   "metadata": {},
   "outputs": [
    {
     "data": {
      "text/plain": [
       "0.7855"
      ]
     },
     "execution_count": 196,
     "metadata": {},
     "output_type": "execute_result"
    }
   ],
   "source": [
    "model_XGBC_3_SMOTE = xgb.XGBClassifier(objective= 'binary:logistic', max_depth= 3, eval_metric= 'aucpr')\n",
    "model_XGBC_3_SMOTE.fit(X_train_3_resampled, y_train_3_resampled)\n",
    "y_pred_XGBC_3_SMOTE = model_XGBC_3_SMOTE.predict(X_test_3_opt)\n",
    "model_XGBC_3_SMOTE.score(X_test_3_opt, y_test_3_encoded)"
   ]
  },
  {
   "cell_type": "code",
   "execution_count": 197,
   "metadata": {},
   "outputs": [
    {
     "name": "stdout",
     "output_type": "stream",
     "text": [
      "Precision: 0.658\n",
      "Recall: 0.647\n"
     ]
    }
   ],
   "source": [
    "precision = precision_score(y_test_3_encoded, y_pred_XGBC_3_SMOTE, average='binary')\n",
    "print('Precision: %.3f' % precision)\n",
    "recall = recall_score(y_test_3_encoded, y_pred_XGBC_3_SMOTE, average='binary')\n",
    "print('Recall: %.3f' % recall)"
   ]
  },
  {
   "cell_type": "code",
   "execution_count": 95,
   "metadata": {},
   "outputs": [
    {
     "name": "stdout",
     "output_type": "stream",
     "text": [
      "XGBClassifier(base_score=0.5, booster='gbtree', callbacks=None,\n",
      "              colsample_bylevel=1, colsample_bynode=1, colsample_bytree=0.6,\n",
      "              early_stopping_rounds=None, enable_categorical=False,\n",
      "              eval_metric=None, feature_types=None, gamma=6, gpu_id=-1,\n",
      "              grow_policy='depthwise', importance_type=None,\n",
      "              interaction_constraints='', learning_rate=0.300000012,\n",
      "              max_bin=256, max_cat_threshold=64, max_cat_to_onehot=4,\n",
      "              max_delta_step=0, max_depth=3, max_leaves=0, min_child_weight=1,\n",
      "              missing=nan, monotone_constraints='()', n_estimators=100,\n",
      "              n_jobs=0, num_parallel_tree=1, objective='reg:logistic',\n",
      "              predictor='auto', ...)\n",
      "0.79745\n",
      "{'colsample_bytree': 0.6, 'gamma': 6, 'max_depth': 3, 'min_child_weight': 1, 'objective': 'reg:logistic', 'subsample': 0.6}\n"
     ]
    }
   ],
   "source": [
    "grid_XGBC_3 = {'objective': ['reg:logistic'],\n",
    "        'min_child_weight': [1, 10],\n",
    "        'gamma': [6, 15],\n",
    "        'subsample': [0.5, 0.6],\n",
    "        'colsample_bytree': [0.6, 0.8],\n",
    "        'max_depth': [3, 4]\n",
    "        }\n",
    "# Instanciate Grid Search\n",
    "search_XGBC_3 = GridSearchCV(model_XGBC_3, grid_XGBC_3, scoring='accuracy', n_jobs = -1, cv = 2)\n",
    "# Fit data to Grid Search\n",
    "search_XGBC_3.fit(X_train_3_opt, y_train_3_encoded)\n",
    "print(search_XGBC_3.best_estimator_)\n",
    "print(search_XGBC_3.best_score_)\n",
    "print(search_XGBC_3.best_params_)"
   ]
  },
  {
   "cell_type": "code",
   "execution_count": 42,
   "metadata": {},
   "outputs": [],
   "source": [
    "y_log_3_train_opt = np.log(y_train_3_opt)\n",
    "y_log_3_test_opt = np.log(y_test_3_opt)"
   ]
  },
  {
   "cell_type": "code",
   "execution_count": 49,
   "metadata": {},
   "outputs": [
    {
     "data": {
      "text/plain": [
       "2.5217095456124268"
      ]
     },
     "execution_count": 49,
     "metadata": {},
     "output_type": "execute_result"
    }
   ],
   "source": [
    "model_xgb_3 = xgb.XGBRegressor(booster= 'dart', objective ='reg:absoluteerror', n_estimators = 750, learning_rate= 0.01,\n",
    "                               min_child_weight= 4, max_depth= 8, colsample_bytree= 0.7, n_jobs=-1, eval_metric = 'mae')\n",
    "model_xgb_3.fit(X_train_3_opt, y_log_3_train_opt)\n",
    "y_pred_3_xgb = model_xgb_3.predict(X_test_3_opt)\n",
    "np.exp(mean_absolute_error(y_log_3_test_opt, y_pred_3_xgb))"
   ]
  },
  {
   "cell_type": "code",
   "execution_count": 59,
   "metadata": {},
   "outputs": [
    {
     "data": {
      "text/plain": [
       "<matplotlib.legend.Legend at 0x2ba75d1b0>"
      ]
     },
     "execution_count": 59,
     "metadata": {},
     "output_type": "execute_result"
    },
    {
     "data": {
      "image/png": "[encoded data removed]",
      "text/plain": [
       "<Figure size 2000x480 with 1 Axes>"
      ]
     },
     "metadata": {},
     "output_type": "display_data"
    }
   ],
   "source": [
    "figure(figsize=(25, 6), dpi=80)\n",
    "plt.plot(np.exp(y_pred_3_xgb[1000:1100]), label = 'pred')\n",
    "plt.plot(np.array(y_test_3_opt)[1000:1100], label = 'test')\n",
    "plt.ylim([0, 100])\n",
    "plt.legend()"
   ]
  },
  {
   "cell_type": "code",
   "execution_count": 70,
   "metadata": {},
   "outputs": [
    {
     "data": {
      "text/plain": [
       "48647     7\n",
       "9308      7\n",
       "50884     1\n",
       "1473      2\n",
       "48244     4\n",
       "         ..\n",
       "23996     6\n",
       "9617      3\n",
       "48181    34\n",
       "4633      3\n",
       "48299     3\n",
       "Name: duracion_baja, Length: 20000, dtype: int64"
      ]
     },
     "execution_count": 70,
     "metadata": {},
     "output_type": "execute_result"
    }
   ],
   "source": [
    "y_test_3_opt"
   ]
  },
  {
   "cell_type": "code",
   "execution_count": 69,
   "metadata": {},
   "outputs": [
    {
     "data": {
      "text/plain": [
       "array([13.364204 , 13.8113365,  3.3695273, ..., 12.367645 ,  6.45409  ,\n",
       "        4.1544814], dtype=float32)"
      ]
     },
     "execution_count": 69,
     "metadata": {},
     "output_type": "execute_result"
    }
   ],
   "source": [
    "np.exp(y_pred_3_xgb)"
   ]
  },
  {
   "cell_type": "code",
   "execution_count": 82,
   "metadata": {},
   "outputs": [
    {
     "data": {
      "text/plain": [
       "<matplotlib.legend.Legend at 0x2bc560a60>"
      ]
     },
     "execution_count": 82,
     "metadata": {},
     "output_type": "execute_result"
    },
    {
     "data": {
      "image/png": "[encoded data removed]",
      "text/plain": [
       "<Figure size 2000x480 with 1 Axes>"
      ]
     },
     "metadata": {},
     "output_type": "display_data"
    }
   ],
   "source": [
    "figure(figsize=(25, 6), dpi=80)\n",
    "plt.hist(np.array(y_test_3_opt), label = 'test', bins = 58, color = 'r', alpha= 0.5)\n",
    "plt.hist(np.exp(y_pred_3_xgb), label = 'pred', bins = 25, color= 'g', alpha= 0.5)\n",
    "plt.xlim([0, 200])\n",
    "plt.legend()"
   ]
  },
  {
   "cell_type": "code",
   "execution_count": 31,
   "metadata": {},
   "outputs": [
    {
     "data": {
      "text/html": [
       "<div>\n",
       "<style scoped>\n",
       "    .dataframe tbody tr th:only-of-type {\n",
       "        vertical-align: middle;\n",
       "    }\n",
       "\n",
       "    .dataframe tbody tr th {\n",
       "        vertical-align: top;\n",
       "    }\n",
       "\n",
       "    .dataframe thead th {\n",
       "        text-align: right;\n",
       "    }\n",
       "</style>\n",
       "<table border=\"1\" class=\"dataframe\">\n",
       "  <thead>\n",
       "    <tr style=\"text-align: right;\">\n",
       "      <th></th>\n",
       "      <th>train-mae-mean</th>\n",
       "      <th>train-mae-std</th>\n",
       "      <th>test-mae-mean</th>\n",
       "      <th>test-mae-std</th>\n",
       "    </tr>\n",
       "  </thead>\n",
       "  <tbody>\n",
       "    <tr>\n",
       "      <th>0</th>\n",
       "      <td>3.458465</td>\n",
       "      <td>1.001884</td>\n",
       "      <td>3.458756</td>\n",
       "      <td>1.007739</td>\n",
       "    </tr>\n",
       "    <tr>\n",
       "      <th>1</th>\n",
       "      <td>3.449430</td>\n",
       "      <td>1.001899</td>\n",
       "      <td>3.449981</td>\n",
       "      <td>1.007691</td>\n",
       "    </tr>\n",
       "    <tr>\n",
       "      <th>2</th>\n",
       "      <td>3.440783</td>\n",
       "      <td>1.001841</td>\n",
       "      <td>3.441561</td>\n",
       "      <td>1.007710</td>\n",
       "    </tr>\n",
       "    <tr>\n",
       "      <th>3</th>\n",
       "      <td>3.431887</td>\n",
       "      <td>1.001820</td>\n",
       "      <td>3.432913</td>\n",
       "      <td>1.007650</td>\n",
       "    </tr>\n",
       "    <tr>\n",
       "      <th>4</th>\n",
       "      <td>3.423268</td>\n",
       "      <td>1.001808</td>\n",
       "      <td>3.424486</td>\n",
       "      <td>1.007615</td>\n",
       "    </tr>\n",
       "    <tr>\n",
       "      <th>5</th>\n",
       "      <td>3.414595</td>\n",
       "      <td>1.001773</td>\n",
       "      <td>3.416107</td>\n",
       "      <td>1.007565</td>\n",
       "    </tr>\n",
       "    <tr>\n",
       "      <th>6</th>\n",
       "      <td>3.406073</td>\n",
       "      <td>1.001758</td>\n",
       "      <td>3.407881</td>\n",
       "      <td>1.007527</td>\n",
       "    </tr>\n",
       "    <tr>\n",
       "      <th>7</th>\n",
       "      <td>3.397408</td>\n",
       "      <td>1.001742</td>\n",
       "      <td>3.399501</td>\n",
       "      <td>1.007486</td>\n",
       "    </tr>\n",
       "    <tr>\n",
       "      <th>8</th>\n",
       "      <td>3.388827</td>\n",
       "      <td>1.001691</td>\n",
       "      <td>3.391113</td>\n",
       "      <td>1.007482</td>\n",
       "    </tr>\n",
       "    <tr>\n",
       "      <th>9</th>\n",
       "      <td>3.380449</td>\n",
       "      <td>1.001727</td>\n",
       "      <td>3.382888</td>\n",
       "      <td>1.007424</td>\n",
       "    </tr>\n",
       "  </tbody>\n",
       "</table>\n",
       "</div>"
      ],
      "text/plain": [
       "   train-mae-mean  train-mae-std  test-mae-mean  test-mae-std\n",
       "0        3.458465       1.001884       3.458756      1.007739\n",
       "1        3.449430       1.001899       3.449981      1.007691\n",
       "2        3.440783       1.001841       3.441561      1.007710\n",
       "3        3.431887       1.001820       3.432913      1.007650\n",
       "4        3.423268       1.001808       3.424486      1.007615\n",
       "5        3.414595       1.001773       3.416107      1.007565\n",
       "6        3.406073       1.001758       3.407881      1.007527\n",
       "7        3.397408       1.001742       3.399501      1.007486\n",
       "8        3.388827       1.001691       3.391113      1.007482\n",
       "9        3.380449       1.001727       3.382888      1.007424"
      ]
     },
     "execution_count": 31,
     "metadata": {},
     "output_type": "execute_result"
    }
   ],
   "source": [
    "data_dmatrix = xgb.DMatrix(data=X_train_3_opt,label=y_log_3_train_opt)\n",
    "params = {'booster': 'dart','objective':'reg:absoluteerror','eval_metric':'mae',\n",
    "          'eta':0.01,'subsample':0.1}\n",
    "xgb_cv = xgb.cv(dtrain=data_dmatrix, params=params, nfold=5, metrics = 'mae',seed=42) \n",
    "np.exp(xgb_cv)"
   ]
  },
  {
   "cell_type": "code",
   "execution_count": 33,
   "metadata": {},
   "outputs": [
    {
     "name": "stdout",
     "output_type": "stream",
     "text": [
      "Validation mae= 2.41, test mae= 2.41\n"
     ]
    }
   ],
   "source": [
    "\n",
    "XGB_val_mae = np.exp(cross_val_score(model_xgb_3, X_train_3_opt, y_log_3_train_opt, scoring='neg_mean_absolute_error', cv=2).mean()*(-1))\n",
    "XGB_test_mae = np.exp(mean_absolute_error(y_log_3_test_opt, y_pred_3_xgb))\n",
    "\n",
    "print(f'Validation mae= {np.round(XGB_val_mae, 2)}, test mae= {np.round(XGB_test_mae, 2)}')"
   ]
  },
  {
   "cell_type": "code",
   "execution_count": 178,
   "metadata": {},
   "outputs": [
    {
     "data": {
      "image/png": "[encoded data removed]",
      "text/plain": [
       "<Figure size 1000x300 with 1 Axes>"
      ]
     },
     "metadata": {},
     "output_type": "display_data"
    }
   ],
   "source": [
    "# plt.figure(figsize=(25,15))\n",
    "plt.rcParams[\"figure.figsize\"] = (10,3)\n",
    "xgb.plot_importance(model_xgb_3, max_num_features=15)\n",
    "plt.show()"
   ]
  },
  {
   "cell_type": "code",
   "execution_count": 48,
   "metadata": {},
   "outputs": [
    {
     "name": "stdout",
     "output_type": "stream",
     "text": [
      "Validation R2= 0.43, validation mae= 2.42\n"
     ]
    }
   ],
   "source": [
    "cv_results_xgb_3 = cross_validate(model_xgb_3, X_train_3_opt, y_log_3_train_opt, cv=2,\n",
    "                            scoring=['r2', 'neg_mean_absolute_error']) \n",
    "xgb_3_val_mae = np.exp(cv_results_xgb_3['test_neg_mean_absolute_error'].mean()*(-1))\n",
    "xgb_3_val_r2 = cv_results_xgb_3['test_r2'].mean()\n",
    "# xgb_3_test_mae = np.exp(mean_absolute_error(y_log_3_test_opt, y_pred_RF, squared = False))\n",
    "\n",
    "print(f'Validation R2= {np.round(xgb_3_val_r2, 2)}, validation mae= {np.round(xgb_3_val_mae, 2)}')#, and testing mae= {np.round(xgb_3_test_mae, 2)}')"
   ]
  },
  {
   "cell_type": "code",
   "execution_count": null,
   "metadata": {},
   "outputs": [],
   "source": []
  },
  {
   "cell_type": "code",
   "execution_count": null,
   "metadata": {},
   "outputs": [],
   "source": [
    "grid = pd.DataFrame({'eta':[0.01,0.05,0.1]*2,\n",
    "'subsample':np.repeat([0.1,0.3],3)})\n",
    "\n",
    "def fit(x):\n",
    "    params = {'objective':'reg:absoluteerror',\n",
    "              'eval_metric':'mae',\n",
    "              'eta':x[0],\n",
    "              'subsample':x[1]}\n",
    "    xgb_cv = xgb.cv(dtrain=data_dmatrix, params=params, \n",
    "    nfold=5, metrics = 'logloss',seed=42)\n",
    "    return xgb_cv[-1:].values[0]\n",
    "\n",
    "grid[['train-mae-mean','train-mae-std',\n",
    "      'test-maes-mean','test-mae-std']] = grid.apply(fit,axis=1,result_type='expand')"
   ]
  },
  {
   "cell_type": "code",
   "execution_count": 4,
   "metadata": {},
   "outputs": [],
   "source": [
    "\n",
    "X_train = pd.read_csv('../raw_data/X_train', delimiter = ',', low_memory = False)\n",
    "y_train = pd.read_csv('../raw_data/y_train', delimiter = ',', low_memory = False)\n",
    "X_test = pd.read_csv('../raw_data/X_test', delimiter = ',', low_memory = False)\n",
    "y_test = pd.read_csv('../raw_data/y_test', delimiter = ',', low_memory = False)"
   ]
  },
  {
   "cell_type": "code",
   "execution_count": 21,
   "metadata": {},
   "outputs": [
    {
     "data": {
      "text/html": [
       "<div>\n",
       "<style scoped>\n",
       "    .dataframe tbody tr th:only-of-type {\n",
       "        vertical-align: middle;\n",
       "    }\n",
       "\n",
       "    .dataframe tbody tr th {\n",
       "        vertical-align: top;\n",
       "    }\n",
       "\n",
       "    .dataframe thead th {\n",
       "        text-align: right;\n",
       "    }\n",
       "</style>\n",
       "<table border=\"1\" class=\"dataframe\">\n",
       "  <thead>\n",
       "    <tr style=\"text-align: right;\">\n",
       "      <th></th>\n",
       "      <th>duracion_baja</th>\n",
       "    </tr>\n",
       "  </thead>\n",
       "  <tbody>\n",
       "    <tr>\n",
       "      <th>0</th>\n",
       "      <td>4</td>\n",
       "    </tr>\n",
       "    <tr>\n",
       "      <th>1</th>\n",
       "      <td>53</td>\n",
       "    </tr>\n",
       "    <tr>\n",
       "      <th>2</th>\n",
       "      <td>7</td>\n",
       "    </tr>\n",
       "    <tr>\n",
       "      <th>3</th>\n",
       "      <td>4</td>\n",
       "    </tr>\n",
       "    <tr>\n",
       "      <th>4</th>\n",
       "      <td>27</td>\n",
       "    </tr>\n",
       "    <tr>\n",
       "      <th>...</th>\n",
       "      <td>...</td>\n",
       "    </tr>\n",
       "    <tr>\n",
       "      <th>181327</th>\n",
       "      <td>7</td>\n",
       "    </tr>\n",
       "    <tr>\n",
       "      <th>181328</th>\n",
       "      <td>1</td>\n",
       "    </tr>\n",
       "    <tr>\n",
       "      <th>181329</th>\n",
       "      <td>26</td>\n",
       "    </tr>\n",
       "    <tr>\n",
       "      <th>181330</th>\n",
       "      <td>1</td>\n",
       "    </tr>\n",
       "    <tr>\n",
       "      <th>181331</th>\n",
       "      <td>3</td>\n",
       "    </tr>\n",
       "  </tbody>\n",
       "</table>\n",
       "<p>181332 rows × 1 columns</p>\n",
       "</div>"
      ],
      "text/plain": [
       "        duracion_baja\n",
       "0                   4\n",
       "1                  53\n",
       "2                   7\n",
       "3                   4\n",
       "4                  27\n",
       "...               ...\n",
       "181327              7\n",
       "181328              1\n",
       "181329             26\n",
       "181330              1\n",
       "181331              3\n",
       "\n",
       "[181332 rows x 1 columns]"
      ]
     },
     "execution_count": 21,
     "metadata": {},
     "output_type": "execute_result"
    }
   ],
   "source": [
    "y_train"
   ]
  },
  {
   "cell_type": "code",
   "execution_count": 8,
   "metadata": {},
   "outputs": [],
   "source": [
    "import pickle"
   ]
  },
  {
   "cell_type": "code",
   "execution_count": 9,
   "metadata": {},
   "outputs": [],
   "source": [
    "def y_encode_2(y):\n",
    "    if y<=15:\n",
    "        return 0\n",
    "    else:\n",
    "        return 1"
   ]
  },
  {
   "cell_type": "code",
   "execution_count": 11,
   "metadata": {},
   "outputs": [],
   "source": [
    "y_train_encoded = y_train.copy()\n",
    "y_train_encoded['duracion_baja'] = y_train['duracion_baja'].map(y_encode_2)\n",
    "y_test_encoded = y_test.copy()\n",
    "y_test_encoded['duracion_baja'] = y_test['duracion_baja'].map(y_encode_2)"
   ]
  },
  {
   "cell_type": "code",
   "execution_count": 12,
   "metadata": {},
   "outputs": [],
   "source": [
    "LOCAL_REGISTRY_PATH = os.path.expanduser(os.environ.get(\"LOCAL_REGISTRY_PATH\"))\n",
    "reg_model_path = os.path.join(LOCAL_REGISTRY_PATH, \"trained_models\" + \"xgb_regression_model.pkl\")\n",
    "with open(reg_model_path, \"rb\") as file:\n",
    "    model_reg = pickle.load(file)\n",
    "        \n",
    "class_model_path = os.path.join(LOCAL_REGISTRY_PATH, \"trained_models\" + \"xgb_classifier_model.pkl\")\n",
    "with open(class_model_path, \"rb\") as file:\n",
    "    model_class = pickle.load(file)"
   ]
  },
  {
   "cell_type": "code",
   "execution_count": 13,
   "metadata": {},
   "outputs": [
    {
     "data": {
      "text/plain": [
       "array([ 8.086987 ,  3.4446018, 13.452205 , ..., 10.727723 ,  2.8601696,\n",
       "        5.514429 ], dtype=float32)"
      ]
     },
     "execution_count": 13,
     "metadata": {},
     "output_type": "execute_result"
    }
   ],
   "source": [
    "y_pred_reg = np.exp(model_reg.predict(X_test))\n",
    "y_pred_reg"
   ]
  },
  {
   "cell_type": "code",
   "execution_count": 18,
   "metadata": {},
   "outputs": [
    {
     "data": {
      "text/plain": [
       "array([0, 0, 0, ..., 1, 0, 0])"
      ]
     },
     "execution_count": 18,
     "metadata": {},
     "output_type": "execute_result"
    }
   ],
   "source": [
    "y_pred_class = model_class.predict(X_test)\n",
    "y_pred_class"
   ]
  },
  {
   "cell_type": "code",
   "execution_count": 20,
   "metadata": {},
   "outputs": [
    {
     "name": "stdout",
     "output_type": "stream",
     "text": [
      "Precision: 0.676\n",
      "Recall: 0.589\n"
     ]
    }
   ],
   "source": [
    "from sklearn.metrics import precision_score\n",
    "from sklearn.metrics import recall_score\n",
    "precision = precision_score(y_test_encoded, y_pred_class, average='binary')\n",
    "print('Precision: %.3f' % precision)\n",
    "recall = recall_score(y_test_encoded, y_pred_class, average='binary')\n",
    "print('Recall: %.3f' % recall)"
   ]
  },
  {
   "cell_type": "code",
   "execution_count": 36,
   "metadata": {},
   "outputs": [],
   "source": [
    "data = pd.read_csv('../raw_data/datos.csv', delimiter = ';', low_memory = False)"
   ]
  },
  {
   "cell_type": "code",
   "execution_count": 5,
   "metadata": {},
   "outputs": [],
   "source": [
    "data_interf = data.drop(columns = ['ContadorBajasCCC', 'ContadorBajasDNI', 'sexo', 'mes_baja', 'duracion_baja'])"
   ]
  },
  {
   "cell_type": "code",
   "execution_count": 6,
   "metadata": {},
   "outputs": [
    {
     "data": {
      "text/html": [
       "<div>\n",
       "<style scoped>\n",
       "    .dataframe tbody tr th:only-of-type {\n",
       "        vertical-align: middle;\n",
       "    }\n",
       "\n",
       "    .dataframe tbody tr th {\n",
       "        vertical-align: top;\n",
       "    }\n",
       "\n",
       "    .dataframe thead th {\n",
       "        text-align: right;\n",
       "    }\n",
       "</style>\n",
       "<table border=\"1\" class=\"dataframe\">\n",
       "  <thead>\n",
       "    <tr style=\"text-align: right;\">\n",
       "      <th></th>\n",
       "      <th>ContadorBajasCCC</th>\n",
       "      <th>ContadorBajasDNI</th>\n",
       "      <th>sexo</th>\n",
       "      <th>cnae</th>\n",
       "      <th>icd9</th>\n",
       "      <th>recaida</th>\n",
       "      <th>numtreb</th>\n",
       "      <th>codipostal</th>\n",
       "      <th>ContadordiasBajasDNI</th>\n",
       "      <th>contracte</th>\n",
       "      <th>grupcoti</th>\n",
       "      <th>pluriempleo</th>\n",
       "      <th>diasemana</th>\n",
       "      <th>tiempo_en_empresa</th>\n",
       "      <th>edad</th>\n",
       "      <th>duracion_baja</th>\n",
       "      <th>mes_baja</th>\n",
       "      <th>epiweek</th>\n",
       "    </tr>\n",
       "  </thead>\n",
       "  <tbody>\n",
       "    <tr>\n",
       "      <th>0</th>\n",
       "      <td>17664</td>\n",
       "      <td>30</td>\n",
       "      <td>2</td>\n",
       "      <td>5110</td>\n",
       "      <td>009.3</td>\n",
       "      <td>0</td>\n",
       "      <td>3187</td>\n",
       "      <td>08037</td>\n",
       "      <td>224</td>\n",
       "      <td>420</td>\n",
       "      <td>2</td>\n",
       "      <td>0</td>\n",
       "      <td>7</td>\n",
       "      <td>0.51</td>\n",
       "      <td>27.2</td>\n",
       "      <td>2</td>\n",
       "      <td>12</td>\n",
       "      <td>51</td>\n",
       "    </tr>\n",
       "  </tbody>\n",
       "</table>\n",
       "</div>"
      ],
      "text/plain": [
       "   ContadorBajasCCC  ContadorBajasDNI  sexo  cnae   icd9  recaida  numtreb  \\\n",
       "0             17664                30     2  5110  009.3        0     3187   \n",
       "\n",
       "  codipostal  ContadordiasBajasDNI contracte grupcoti  pluriempleo  diasemana  \\\n",
       "0      08037                   224       420        2            0          7   \n",
       "\n",
       "   tiempo_en_empresa  edad  duracion_baja  mes_baja  epiweek  \n",
       "0               0.51  27.2              2        12       51  "
      ]
     },
     "execution_count": 6,
     "metadata": {},
     "output_type": "execute_result"
    }
   ],
   "source": [
    "data.loc[0:0]"
   ]
  },
  {
   "cell_type": "code",
   "execution_count": 7,
   "metadata": {},
   "outputs": [],
   "source": [
    "X_new = data_interf.loc[0:0]"
   ]
  },
  {
   "cell_type": "code",
   "execution_count": 8,
   "metadata": {},
   "outputs": [
    {
     "data": {
      "text/html": [
       "<div>\n",
       "<style scoped>\n",
       "    .dataframe tbody tr th:only-of-type {\n",
       "        vertical-align: middle;\n",
       "    }\n",
       "\n",
       "    .dataframe tbody tr th {\n",
       "        vertical-align: top;\n",
       "    }\n",
       "\n",
       "    .dataframe thead th {\n",
       "        text-align: right;\n",
       "    }\n",
       "</style>\n",
       "<table border=\"1\" class=\"dataframe\">\n",
       "  <thead>\n",
       "    <tr style=\"text-align: right;\">\n",
       "      <th></th>\n",
       "      <th>cnae</th>\n",
       "      <th>icd9</th>\n",
       "      <th>recaida</th>\n",
       "      <th>numtreb</th>\n",
       "      <th>codipostal</th>\n",
       "      <th>ContadordiasBajasDNI</th>\n",
       "      <th>contracte</th>\n",
       "      <th>grupcoti</th>\n",
       "      <th>pluriempleo</th>\n",
       "      <th>diasemana</th>\n",
       "      <th>tiempo_en_empresa</th>\n",
       "      <th>edad</th>\n",
       "      <th>epiweek</th>\n",
       "    </tr>\n",
       "  </thead>\n",
       "  <tbody>\n",
       "    <tr>\n",
       "      <th>0</th>\n",
       "      <td>5110</td>\n",
       "      <td>009.3</td>\n",
       "      <td>0</td>\n",
       "      <td>3187</td>\n",
       "      <td>08037</td>\n",
       "      <td>224</td>\n",
       "      <td>420</td>\n",
       "      <td>2</td>\n",
       "      <td>0</td>\n",
       "      <td>7</td>\n",
       "      <td>0.51</td>\n",
       "      <td>27.2</td>\n",
       "      <td>51</td>\n",
       "    </tr>\n",
       "  </tbody>\n",
       "</table>\n",
       "</div>"
      ],
      "text/plain": [
       "   cnae   icd9  recaida  numtreb codipostal  ContadordiasBajasDNI contracte  \\\n",
       "0  5110  009.3        0     3187      08037                   224       420   \n",
       "\n",
       "  grupcoti  pluriempleo  diasemana  tiempo_en_empresa  edad  epiweek  \n",
       "0        2            0          7               0.51  27.2       51  "
      ]
     },
     "execution_count": 8,
     "metadata": {},
     "output_type": "execute_result"
    }
   ],
   "source": [
    "X_new"
   ]
  },
  {
   "cell_type": "code",
   "execution_count": 3,
   "metadata": {},
   "outputs": [],
   "source": [
    "from smarthealing_mod.preprocessor import preprocess_new"
   ]
  },
  {
   "cell_type": "code",
   "execution_count": 4,
   "metadata": {},
   "outputs": [
    {
     "name": "stderr",
     "output_type": "stream",
     "text": [
      "/Users/jaimesoroarubio/code/jaimesoroa/smarthealing/smarthealing_mod/preprocessor.py:38: SettingWithCopyWarning: \n",
      "A value is trying to be set on a copy of a slice from a DataFrame.\n",
      "Try using .loc[row_indexer,col_indexer] = value instead\n",
      "\n",
      "See the caveats in the documentation: https://pandas.pydata.org/pandas-docs/stable/user_guide/indexing.html#returning-a-view-versus-a-copy\n",
      "  data['codipostal'] = data['codipostal'].replace('-', mf_codipostal)\n",
      "/Users/jaimesoroarubio/code/jaimesoroa/smarthealing/smarthealing_mod/preprocessor.py:53: SettingWithCopyWarning: \n",
      "A value is trying to be set on a copy of a slice from a DataFrame\n",
      "\n",
      "See the caveats in the documentation: https://pandas.pydata.org/pandas-docs/stable/user_guide/indexing.html#returning-a-view-versus-a-copy\n",
      "  df.drop('ContadorBajasDNI', axis = 1, inplace = True)\n",
      "/Users/jaimesoroarubio/.pyenv/versions/3.10.6/envs/smarthealing/lib/python3.10/site-packages/openpyxl/worksheet/header_footer.py:48: UserWarning: Cannot parse header or footer so it will be ignored\n",
      "  warn(\"\"\"Cannot parse header or footer so it will be ignored\"\"\")\n",
      "/Users/jaimesoroarubio/code/jaimesoroa/smarthealing/smarthealing_mod/preprocessor.py:64: SettingWithCopyWarning: \n",
      "A value is trying to be set on a copy of a slice from a DataFrame\n",
      "\n",
      "See the caveats in the documentation: https://pandas.pydata.org/pandas-docs/stable/user_guide/indexing.html#returning-a-view-versus-a-copy\n",
      "  df.drop('proporcion_baja', axis = 1, inplace = True)\n"
     ]
    }
   ],
   "source": [
    "from smarthealing_mod.preprocessor import preprocess_raw_data\n",
    "X_train, X_test, y_train, y_test, cnae_categories, icd9_mapper = preprocess_raw_data()"
   ]
  },
  {
   "cell_type": "code",
   "execution_count": 5,
   "metadata": {},
   "outputs": [
    {
     "data": {
      "text/html": [
       "<div>\n",
       "<style scoped>\n",
       "    .dataframe tbody tr th:only-of-type {\n",
       "        vertical-align: middle;\n",
       "    }\n",
       "\n",
       "    .dataframe tbody tr th {\n",
       "        vertical-align: top;\n",
       "    }\n",
       "\n",
       "    .dataframe thead th {\n",
       "        text-align: right;\n",
       "    }\n",
       "</style>\n",
       "<table border=\"1\" class=\"dataframe\">\n",
       "  <thead>\n",
       "    <tr style=\"text-align: right;\">\n",
       "      <th></th>\n",
       "      <th>recaida</th>\n",
       "      <th>numtreb</th>\n",
       "      <th>Code</th>\n",
       "      <th>ContadordiasBajasDNI</th>\n",
       "      <th>contracte</th>\n",
       "      <th>grupcoti</th>\n",
       "      <th>pluriempleo</th>\n",
       "      <th>tiempo_en_empresa</th>\n",
       "      <th>edad</th>\n",
       "      <th>cnae_cat</th>\n",
       "      <th>Value</th>\n",
       "      <th>sin_time</th>\n",
       "      <th>cos_time</th>\n",
       "      <th>icd9_cat_target</th>\n",
       "    </tr>\n",
       "  </thead>\n",
       "  <tbody>\n",
       "    <tr>\n",
       "      <th>233500</th>\n",
       "      <td>0</td>\n",
       "      <td>160</td>\n",
       "      <td>1</td>\n",
       "      <td>39</td>\n",
       "      <td>130</td>\n",
       "      <td>7</td>\n",
       "      <td>0</td>\n",
       "      <td>2.89</td>\n",
       "      <td>36.2</td>\n",
       "      <td>3</td>\n",
       "      <td>22077.0</td>\n",
       "      <td>0.971596</td>\n",
       "      <td>0.236647</td>\n",
       "      <td>6</td>\n",
       "    </tr>\n",
       "    <tr>\n",
       "      <th>115546</th>\n",
       "      <td>0</td>\n",
       "      <td>26</td>\n",
       "      <td>2</td>\n",
       "      <td>1</td>\n",
       "      <td>200</td>\n",
       "      <td>5</td>\n",
       "      <td>0</td>\n",
       "      <td>0.74</td>\n",
       "      <td>26.1</td>\n",
       "      <td>18</td>\n",
       "      <td>23790.0</td>\n",
       "      <td>0.886729</td>\n",
       "      <td>0.462289</td>\n",
       "      <td>5</td>\n",
       "    </tr>\n",
       "    <tr>\n",
       "      <th>237149</th>\n",
       "      <td>1</td>\n",
       "      <td>313</td>\n",
       "      <td>1</td>\n",
       "      <td>27</td>\n",
       "      <td>189</td>\n",
       "      <td>9</td>\n",
       "      <td>0</td>\n",
       "      <td>2.47</td>\n",
       "      <td>24.3</td>\n",
       "      <td>7</td>\n",
       "      <td>42485.0</td>\n",
       "      <td>0.999985</td>\n",
       "      <td>-0.005494</td>\n",
       "      <td>7</td>\n",
       "    </tr>\n",
       "    <tr>\n",
       "      <th>67582</th>\n",
       "      <td>0</td>\n",
       "      <td>55</td>\n",
       "      <td>1</td>\n",
       "      <td>1</td>\n",
       "      <td>189</td>\n",
       "      <td>5</td>\n",
       "      <td>0</td>\n",
       "      <td>1.28</td>\n",
       "      <td>30.1</td>\n",
       "      <td>7</td>\n",
       "      <td>21345.0</td>\n",
       "      <td>-0.739332</td>\n",
       "      <td>0.673342</td>\n",
       "      <td>3</td>\n",
       "    </tr>\n",
       "    <tr>\n",
       "      <th>51710</th>\n",
       "      <td>0</td>\n",
       "      <td>165</td>\n",
       "      <td>4</td>\n",
       "      <td>83</td>\n",
       "      <td>189</td>\n",
       "      <td>9</td>\n",
       "      <td>0</td>\n",
       "      <td>4.30</td>\n",
       "      <td>41.7</td>\n",
       "      <td>3</td>\n",
       "      <td>21220.0</td>\n",
       "      <td>0.359737</td>\n",
       "      <td>0.933054</td>\n",
       "      <td>8</td>\n",
       "    </tr>\n",
       "    <tr>\n",
       "      <th>...</th>\n",
       "      <td>...</td>\n",
       "      <td>...</td>\n",
       "      <td>...</td>\n",
       "      <td>...</td>\n",
       "      <td>...</td>\n",
       "      <td>...</td>\n",
       "      <td>...</td>\n",
       "      <td>...</td>\n",
       "      <td>...</td>\n",
       "      <td>...</td>\n",
       "      <td>...</td>\n",
       "      <td>...</td>\n",
       "      <td>...</td>\n",
       "      <td>...</td>\n",
       "    </tr>\n",
       "    <tr>\n",
       "      <th>11186</th>\n",
       "      <td>0</td>\n",
       "      <td>1128</td>\n",
       "      <td>1</td>\n",
       "      <td>5</td>\n",
       "      <td>289</td>\n",
       "      <td>6</td>\n",
       "      <td>0</td>\n",
       "      <td>0.25</td>\n",
       "      <td>18.8</td>\n",
       "      <td>9</td>\n",
       "      <td>22240.0</td>\n",
       "      <td>0.974754</td>\n",
       "      <td>0.223279</td>\n",
       "      <td>2</td>\n",
       "    </tr>\n",
       "    <tr>\n",
       "      <th>43990</th>\n",
       "      <td>0</td>\n",
       "      <td>211</td>\n",
       "      <td>1</td>\n",
       "      <td>1</td>\n",
       "      <td>189</td>\n",
       "      <td>8</td>\n",
       "      <td>0</td>\n",
       "      <td>13.80</td>\n",
       "      <td>44.3</td>\n",
       "      <td>3</td>\n",
       "      <td>22240.0</td>\n",
       "      <td>-0.364858</td>\n",
       "      <td>-0.931063</td>\n",
       "      <td>6</td>\n",
       "    </tr>\n",
       "    <tr>\n",
       "      <th>236847</th>\n",
       "      <td>0</td>\n",
       "      <td>1</td>\n",
       "      <td>1</td>\n",
       "      <td>3</td>\n",
       "      <td>100</td>\n",
       "      <td>8</td>\n",
       "      <td>0</td>\n",
       "      <td>1.38</td>\n",
       "      <td>32.3</td>\n",
       "      <td>8</td>\n",
       "      <td>25326.0</td>\n",
       "      <td>0.993036</td>\n",
       "      <td>0.117809</td>\n",
       "      <td>6</td>\n",
       "    </tr>\n",
       "    <tr>\n",
       "      <th>93499</th>\n",
       "      <td>0</td>\n",
       "      <td>51</td>\n",
       "      <td>1</td>\n",
       "      <td>8</td>\n",
       "      <td>289</td>\n",
       "      <td>8</td>\n",
       "      <td>0</td>\n",
       "      <td>3.98</td>\n",
       "      <td>38.1</td>\n",
       "      <td>18</td>\n",
       "      <td>31355.0</td>\n",
       "      <td>0.753951</td>\n",
       "      <td>0.656931</td>\n",
       "      <td>4</td>\n",
       "    </tr>\n",
       "    <tr>\n",
       "      <th>84531</th>\n",
       "      <td>0</td>\n",
       "      <td>0</td>\n",
       "      <td>1</td>\n",
       "      <td>1</td>\n",
       "      <td>189</td>\n",
       "      <td>3</td>\n",
       "      <td>0</td>\n",
       "      <td>1.54</td>\n",
       "      <td>25.6</td>\n",
       "      <td>14</td>\n",
       "      <td>22240.0</td>\n",
       "      <td>0.969612</td>\n",
       "      <td>-0.244647</td>\n",
       "      <td>5</td>\n",
       "    </tr>\n",
       "  </tbody>\n",
       "</table>\n",
       "<p>62218 rows × 14 columns</p>\n",
       "</div>"
      ],
      "text/plain": [
       "        recaida  numtreb Code  ContadordiasBajasDNI contracte grupcoti  \\\n",
       "233500        0      160    1                    39       130        7   \n",
       "115546        0       26    2                     1       200        5   \n",
       "237149        1      313    1                    27       189        9   \n",
       "67582         0       55    1                     1       189        5   \n",
       "51710         0      165    4                    83       189        9   \n",
       "...         ...      ...  ...                   ...       ...      ...   \n",
       "11186         0     1128    1                     5       289        6   \n",
       "43990         0      211    1                     1       189        8   \n",
       "236847        0        1    1                     3       100        8   \n",
       "93499         0       51    1                     8       289        8   \n",
       "84531         0        0    1                     1       189        3   \n",
       "\n",
       "        pluriempleo  tiempo_en_empresa  edad  cnae_cat    Value  sin_time  \\\n",
       "233500            0               2.89  36.2         3  22077.0  0.971596   \n",
       "115546            0               0.74  26.1        18  23790.0  0.886729   \n",
       "237149            0               2.47  24.3         7  42485.0  0.999985   \n",
       "67582             0               1.28  30.1         7  21345.0 -0.739332   \n",
       "51710             0               4.30  41.7         3  21220.0  0.359737   \n",
       "...             ...                ...   ...       ...      ...       ...   \n",
       "11186             0               0.25  18.8         9  22240.0  0.974754   \n",
       "43990             0              13.80  44.3         3  22240.0 -0.364858   \n",
       "236847            0               1.38  32.3         8  25326.0  0.993036   \n",
       "93499             0               3.98  38.1        18  31355.0  0.753951   \n",
       "84531             0               1.54  25.6        14  22240.0  0.969612   \n",
       "\n",
       "        cos_time  icd9_cat_target  \n",
       "233500  0.236647                6  \n",
       "115546  0.462289                5  \n",
       "237149 -0.005494                7  \n",
       "67582   0.673342                3  \n",
       "51710   0.933054                8  \n",
       "...          ...              ...  \n",
       "11186   0.223279                2  \n",
       "43990  -0.931063                6  \n",
       "236847  0.117809                6  \n",
       "93499   0.656931                4  \n",
       "84531  -0.244647                5  \n",
       "\n",
       "[62218 rows x 14 columns]"
      ]
     },
     "execution_count": 5,
     "metadata": {},
     "output_type": "execute_result"
    }
   ],
   "source": [
    "X_test"
   ]
  },
  {
   "cell_type": "code",
   "execution_count": 6,
   "metadata": {},
   "outputs": [],
   "source": [
    "from smarthealing_mod.preprocessor import fit_pipelines"
   ]
  },
  {
   "cell_type": "code",
   "execution_count": 7,
   "metadata": {},
   "outputs": [],
   "source": [
    "preproc = fit_pipelines(X_train, y_train)"
   ]
  },
  {
   "cell_type": "code",
   "execution_count": 8,
   "metadata": {},
   "outputs": [
    {
     "data": {
      "text/html": [
       "<style>#sk-container-id-1 {color: black;background-color: white;}#sk-container-id-1 pre{padding: 0;}#sk-container-id-1 div.sk-toggleable {background-color: white;}#sk-container-id-1 label.sk-toggleable__label {cursor: pointer;display: block;width: 100%;margin-bottom: 0;padding: 0.3em;box-sizing: border-box;text-align: center;}#sk-container-id-1 label.sk-toggleable__label-arrow:before {content: \"▸\";float: left;margin-right: 0.25em;color: #696969;}#sk-container-id-1 label.sk-toggleable__label-arrow:hover:before {color: black;}#sk-container-id-1 div.sk-estimator:hover label.sk-toggleable__label-arrow:before {color: black;}#sk-container-id-1 div.sk-toggleable__content {max-height: 0;max-width: 0;overflow: hidden;text-align: left;background-color: #f0f8ff;}#sk-container-id-1 div.sk-toggleable__content pre {margin: 0.2em;color: black;border-radius: 0.25em;background-color: #f0f8ff;}#sk-container-id-1 input.sk-toggleable__control:checked~div.sk-toggleable__content {max-height: 200px;max-width: 100%;overflow: auto;}#sk-container-id-1 input.sk-toggleable__control:checked~label.sk-toggleable__label-arrow:before {content: \"▾\";}#sk-container-id-1 div.sk-estimator input.sk-toggleable__control:checked~label.sk-toggleable__label {background-color: #d4ebff;}#sk-container-id-1 div.sk-label input.sk-toggleable__control:checked~label.sk-toggleable__label {background-color: #d4ebff;}#sk-container-id-1 input.sk-hidden--visually {border: 0;clip: rect(1px 1px 1px 1px);clip: rect(1px, 1px, 1px, 1px);height: 1px;margin: -1px;overflow: hidden;padding: 0;position: absolute;width: 1px;}#sk-container-id-1 div.sk-estimator {font-family: monospace;background-color: #f0f8ff;border: 1px dotted black;border-radius: 0.25em;box-sizing: border-box;margin-bottom: 0.5em;}#sk-container-id-1 div.sk-estimator:hover {background-color: #d4ebff;}#sk-container-id-1 div.sk-parallel-item::after {content: \"\";width: 100%;border-bottom: 1px solid gray;flex-grow: 1;}#sk-container-id-1 div.sk-label:hover label.sk-toggleable__label {background-color: #d4ebff;}#sk-container-id-1 div.sk-serial::before {content: \"\";position: absolute;border-left: 1px solid gray;box-sizing: border-box;top: 0;bottom: 0;left: 50%;z-index: 0;}#sk-container-id-1 div.sk-serial {display: flex;flex-direction: column;align-items: center;background-color: white;padding-right: 0.2em;padding-left: 0.2em;position: relative;}#sk-container-id-1 div.sk-item {position: relative;z-index: 1;}#sk-container-id-1 div.sk-parallel {display: flex;align-items: stretch;justify-content: center;background-color: white;position: relative;}#sk-container-id-1 div.sk-item::before, #sk-container-id-1 div.sk-parallel-item::before {content: \"\";position: absolute;border-left: 1px solid gray;box-sizing: border-box;top: 0;bottom: 0;left: 50%;z-index: -1;}#sk-container-id-1 div.sk-parallel-item {display: flex;flex-direction: column;z-index: 1;position: relative;background-color: white;}#sk-container-id-1 div.sk-parallel-item:first-child::after {align-self: flex-end;width: 50%;}#sk-container-id-1 div.sk-parallel-item:last-child::after {align-self: flex-start;width: 50%;}#sk-container-id-1 div.sk-parallel-item:only-child::after {width: 0;}#sk-container-id-1 div.sk-dashed-wrapped {border: 1px dashed gray;margin: 0 0.4em 0.5em 0.4em;box-sizing: border-box;padding-bottom: 0.4em;background-color: white;}#sk-container-id-1 div.sk-label label {font-family: monospace;font-weight: bold;display: inline-block;line-height: 1.2em;}#sk-container-id-1 div.sk-label-container {text-align: center;}#sk-container-id-1 div.sk-container {/* jupyter's `normalize.less` sets `[hidden] { display: none; }` but bootstrap.min.css set `[hidden] { display: none !important; }` so we also need the `!important` here to be able to override the default hidden behavior on the sphinx rendered scikit-learn.org. See: https://github.com/scikit-learn/scikit-learn/issues/21755 */display: inline-block !important;position: relative;}#sk-container-id-1 div.sk-text-repr-fallback {display: none;}</style><div id=\"sk-container-id-1\" class=\"sk-top-container\"><div class=\"sk-text-repr-fallback\"><pre>Pipeline(steps=[(&#x27;columntransformer&#x27;,\n",
       "                 ColumnTransformer(remainder=&#x27;passthrough&#x27;,\n",
       "                                   transformers=[(&#x27;robustscaler&#x27;,\n",
       "                                                  RobustScaler(),\n",
       "                                                  [&#x27;ContadordiasBajasDNI&#x27;,\n",
       "                                                   &#x27;numtreb&#x27;,\n",
       "                                                   &#x27;tiempo_en_empresa&#x27;]),\n",
       "                                                 (&#x27;standardscaler&#x27;,\n",
       "                                                  StandardScaler(), [&#x27;edad&#x27;]),\n",
       "                                                 (&#x27;onehotencoder&#x27;,\n",
       "                                                  OneHotEncoder(drop=&#x27;if_binary&#x27;,\n",
       "                                                                handle_unknown=&#x27;ignore&#x27;,\n",
       "                                                                sparse=False),\n",
       "                                                  [&#x27;grupcoti&#x27;, &#x27;recaida&#x27;,\n",
       "                                                   &#x27;pluriempleo&#x27;, &#x27;cnae_cat&#x27;,\n",
       "                                                   &#x27;icd9_cat_target&#x27;])]))])</pre><b>In a Jupyter environment, please rerun this cell to show the HTML representation or trust the notebook. <br />On GitHub, the HTML representation is unable to render, please try loading this page with nbviewer.org.</b></div><div class=\"sk-container\" hidden><div class=\"sk-item sk-dashed-wrapped\"><div class=\"sk-label-container\"><div class=\"sk-label sk-toggleable\"><input class=\"sk-toggleable__control sk-hidden--visually\" id=\"sk-estimator-id-1\" type=\"checkbox\" ><label for=\"sk-estimator-id-1\" class=\"sk-toggleable__label sk-toggleable__label-arrow\">Pipeline</label><div class=\"sk-toggleable__content\"><pre>Pipeline(steps=[(&#x27;columntransformer&#x27;,\n",
       "                 ColumnTransformer(remainder=&#x27;passthrough&#x27;,\n",
       "                                   transformers=[(&#x27;robustscaler&#x27;,\n",
       "                                                  RobustScaler(),\n",
       "                                                  [&#x27;ContadordiasBajasDNI&#x27;,\n",
       "                                                   &#x27;numtreb&#x27;,\n",
       "                                                   &#x27;tiempo_en_empresa&#x27;]),\n",
       "                                                 (&#x27;standardscaler&#x27;,\n",
       "                                                  StandardScaler(), [&#x27;edad&#x27;]),\n",
       "                                                 (&#x27;onehotencoder&#x27;,\n",
       "                                                  OneHotEncoder(drop=&#x27;if_binary&#x27;,\n",
       "                                                                handle_unknown=&#x27;ignore&#x27;,\n",
       "                                                                sparse=False),\n",
       "                                                  [&#x27;grupcoti&#x27;, &#x27;recaida&#x27;,\n",
       "                                                   &#x27;pluriempleo&#x27;, &#x27;cnae_cat&#x27;,\n",
       "                                                   &#x27;icd9_cat_target&#x27;])]))])</pre></div></div></div><div class=\"sk-serial\"><div class=\"sk-item sk-dashed-wrapped\"><div class=\"sk-label-container\"><div class=\"sk-label sk-toggleable\"><input class=\"sk-toggleable__control sk-hidden--visually\" id=\"sk-estimator-id-2\" type=\"checkbox\" ><label for=\"sk-estimator-id-2\" class=\"sk-toggleable__label sk-toggleable__label-arrow\">columntransformer: ColumnTransformer</label><div class=\"sk-toggleable__content\"><pre>ColumnTransformer(remainder=&#x27;passthrough&#x27;,\n",
       "                  transformers=[(&#x27;robustscaler&#x27;, RobustScaler(),\n",
       "                                 [&#x27;ContadordiasBajasDNI&#x27;, &#x27;numtreb&#x27;,\n",
       "                                  &#x27;tiempo_en_empresa&#x27;]),\n",
       "                                (&#x27;standardscaler&#x27;, StandardScaler(), [&#x27;edad&#x27;]),\n",
       "                                (&#x27;onehotencoder&#x27;,\n",
       "                                 OneHotEncoder(drop=&#x27;if_binary&#x27;,\n",
       "                                               handle_unknown=&#x27;ignore&#x27;,\n",
       "                                               sparse=False),\n",
       "                                 [&#x27;grupcoti&#x27;, &#x27;recaida&#x27;, &#x27;pluriempleo&#x27;,\n",
       "                                  &#x27;cnae_cat&#x27;, &#x27;icd9_cat_target&#x27;])])</pre></div></div></div><div class=\"sk-parallel\"><div class=\"sk-parallel-item\"><div class=\"sk-item\"><div class=\"sk-label-container\"><div class=\"sk-label sk-toggleable\"><input class=\"sk-toggleable__control sk-hidden--visually\" id=\"sk-estimator-id-3\" type=\"checkbox\" ><label for=\"sk-estimator-id-3\" class=\"sk-toggleable__label sk-toggleable__label-arrow\">robustscaler</label><div class=\"sk-toggleable__content\"><pre>[&#x27;ContadordiasBajasDNI&#x27;, &#x27;numtreb&#x27;, &#x27;tiempo_en_empresa&#x27;]</pre></div></div></div><div class=\"sk-serial\"><div class=\"sk-item\"><div class=\"sk-estimator sk-toggleable\"><input class=\"sk-toggleable__control sk-hidden--visually\" id=\"sk-estimator-id-4\" type=\"checkbox\" ><label for=\"sk-estimator-id-4\" class=\"sk-toggleable__label sk-toggleable__label-arrow\">RobustScaler</label><div class=\"sk-toggleable__content\"><pre>RobustScaler()</pre></div></div></div></div></div></div><div class=\"sk-parallel-item\"><div class=\"sk-item\"><div class=\"sk-label-container\"><div class=\"sk-label sk-toggleable\"><input class=\"sk-toggleable__control sk-hidden--visually\" id=\"sk-estimator-id-5\" type=\"checkbox\" ><label for=\"sk-estimator-id-5\" class=\"sk-toggleable__label sk-toggleable__label-arrow\">standardscaler</label><div class=\"sk-toggleable__content\"><pre>[&#x27;edad&#x27;]</pre></div></div></div><div class=\"sk-serial\"><div class=\"sk-item\"><div class=\"sk-estimator sk-toggleable\"><input class=\"sk-toggleable__control sk-hidden--visually\" id=\"sk-estimator-id-6\" type=\"checkbox\" ><label for=\"sk-estimator-id-6\" class=\"sk-toggleable__label sk-toggleable__label-arrow\">StandardScaler</label><div class=\"sk-toggleable__content\"><pre>StandardScaler()</pre></div></div></div></div></div></div><div class=\"sk-parallel-item\"><div class=\"sk-item\"><div class=\"sk-label-container\"><div class=\"sk-label sk-toggleable\"><input class=\"sk-toggleable__control sk-hidden--visually\" id=\"sk-estimator-id-7\" type=\"checkbox\" ><label for=\"sk-estimator-id-7\" class=\"sk-toggleable__label sk-toggleable__label-arrow\">onehotencoder</label><div class=\"sk-toggleable__content\"><pre>[&#x27;grupcoti&#x27;, &#x27;recaida&#x27;, &#x27;pluriempleo&#x27;, &#x27;cnae_cat&#x27;, &#x27;icd9_cat_target&#x27;]</pre></div></div></div><div class=\"sk-serial\"><div class=\"sk-item\"><div class=\"sk-estimator sk-toggleable\"><input class=\"sk-toggleable__control sk-hidden--visually\" id=\"sk-estimator-id-8\" type=\"checkbox\" ><label for=\"sk-estimator-id-8\" class=\"sk-toggleable__label sk-toggleable__label-arrow\">OneHotEncoder</label><div class=\"sk-toggleable__content\"><pre>OneHotEncoder(drop=&#x27;if_binary&#x27;, handle_unknown=&#x27;ignore&#x27;, sparse=False)</pre></div></div></div></div></div></div><div class=\"sk-parallel-item\"><div class=\"sk-item\"><div class=\"sk-label-container\"><div class=\"sk-label sk-toggleable\"><input class=\"sk-toggleable__control sk-hidden--visually\" id=\"sk-estimator-id-9\" type=\"checkbox\" ><label for=\"sk-estimator-id-9\" class=\"sk-toggleable__label sk-toggleable__label-arrow\">remainder</label><div class=\"sk-toggleable__content\"><pre>[&#x27;Code&#x27;, &#x27;contracte&#x27;, &#x27;Value&#x27;, &#x27;sin_time&#x27;, &#x27;cos_time&#x27;]</pre></div></div></div><div class=\"sk-serial\"><div class=\"sk-item\"><div class=\"sk-estimator sk-toggleable\"><input class=\"sk-toggleable__control sk-hidden--visually\" id=\"sk-estimator-id-10\" type=\"checkbox\" ><label for=\"sk-estimator-id-10\" class=\"sk-toggleable__label sk-toggleable__label-arrow\">passthrough</label><div class=\"sk-toggleable__content\"><pre>passthrough</pre></div></div></div></div></div></div></div></div></div></div></div></div>"
      ],
      "text/plain": [
       "Pipeline(steps=[('columntransformer',\n",
       "                 ColumnTransformer(remainder='passthrough',\n",
       "                                   transformers=[('robustscaler',\n",
       "                                                  RobustScaler(),\n",
       "                                                  ['ContadordiasBajasDNI',\n",
       "                                                   'numtreb',\n",
       "                                                   'tiempo_en_empresa']),\n",
       "                                                 ('standardscaler',\n",
       "                                                  StandardScaler(), ['edad']),\n",
       "                                                 ('onehotencoder',\n",
       "                                                  OneHotEncoder(drop='if_binary',\n",
       "                                                                handle_unknown='ignore',\n",
       "                                                                sparse=False),\n",
       "                                                  ['grupcoti', 'recaida',\n",
       "                                                   'pluriempleo', 'cnae_cat',\n",
       "                                                   'icd9_cat_target'])]))])"
      ]
     },
     "execution_count": 8,
     "metadata": {},
     "output_type": "execute_result"
    }
   ],
   "source": [
    "preproc"
   ]
  },
  {
   "cell_type": "code",
   "execution_count": 9,
   "metadata": {},
   "outputs": [],
   "source": [
    "def y_encode_2(y):\n",
    "        if y<15:\n",
    "            return 0\n",
    "        else:\n",
    "            return 1"
   ]
  },
  {
   "cell_type": "code",
   "execution_count": null,
   "metadata": {},
   "outputs": [],
   "source": [
    "# API"
   ]
  },
  {
   "cell_type": "code",
   "execution_count": 10,
   "metadata": {},
   "outputs": [],
   "source": [
    "from datetime import datetime\n",
    "import numpy as np\n",
    "from fastapi import FastAPI\n",
    "from fastapi.middleware.cors import CORSMiddleware\n",
    "import pandas as pd\n",
    "import os\n",
    "from smarthealing_mod.preprocessor import preprocess_new\n",
    "import pickle"
   ]
  },
  {
   "cell_type": "code",
   "execution_count": 11,
   "metadata": {},
   "outputs": [],
   "source": [
    "LOCAL_REGISTRY_PATH = os.path.expanduser(os.environ.get(\"LOCAL_REGISTRY_PATH\"))\n",
    "\n",
    "\n",
    "def load_models():\n",
    "    '''\n",
    "    persist trained model, params and metrics\n",
    "    '''\n",
    "        \n",
    "    reg_model_path = os.path.join(LOCAL_REGISTRY_PATH, \"xgb_regression_model.pkl\")\n",
    "    with open(reg_model_path, \"rb\") as file:\n",
    "        model_reg = pickle.load(file)\n",
    "        \n",
    "    class_model_path = os.path.join(LOCAL_REGISTRY_PATH, \"xgb_classifier_model.pkl\")\n",
    "    with open(class_model_path, \"rb\") as file:\n",
    "        model_class = pickle.load(file)\n",
    "    \n",
    "    return model_reg, model_class\n",
    "\n",
    "model_reg, model_class = load_models()\n",
    "\n",
    "\n",
    "\n",
    "def load_files():\n",
    "    # Load cnae_categories \n",
    "    cnae_categories_path = os.path.join(LOCAL_REGISTRY_PATH, \"cnae_categories.pkl\")\n",
    "    with open(cnae_categories_path, \"rb\") as file:\n",
    "        cnae_categories = pickle.load(file)\n",
    "\n",
    "    # Load icd9_mapper\n",
    "    icd9_mapper_path = os.path.join(LOCAL_REGISTRY_PATH, \"icd9_mapper.pkl\")\n",
    "    with open(icd9_mapper_path, \"rb\") as file:\n",
    "        icd9_mapper = pickle.load(file)\n",
    "        \n",
    "    # Load preprocessor\n",
    "    preproc_path = os.path.join(LOCAL_REGISTRY_PATH, \"preproc_pipeline.pkl\")\n",
    "    with open(preproc_path, \"rb\") as file:\n",
    "        preproc = pickle.load(file)\n",
    "\n",
    "    \"\"\"\n",
    "    # Load regressor pipeline\n",
    "    regressor_path = os.path.join(LOCAL_REGISTRY_PATH, \"regressor_pipeline.pkl\")\n",
    "    with open(regressor_path, \"rb\") as file:\n",
    "        regressor_pipeline = pickle.load(file)\n",
    "\n",
    "    # Load classifier pipeline\n",
    "    classifier_path = os.path.join(LOCAL_REGISTRY_PATH, \"classifier_pipeline.pkl\")\n",
    "    with open(classifier_path, \"rb\") as file:\n",
    "        classifier_pipeline = pickle.load(file)\n",
    "    \"\"\"\n",
    "\n",
    "    return cnae_categories, icd9_mapper, preproc\n",
    "\n",
    "cnae_categories, icd9_mapper, preproc = load_files()"
   ]
  },
  {
   "cell_type": "code",
   "execution_count": 12,
   "metadata": {},
   "outputs": [],
   "source": [
    "X_train_prep = preproc.transform(X_train)\n",
    "X_test_prep = preproc.transform(X_test)"
   ]
  },
  {
   "cell_type": "code",
   "execution_count": 13,
   "metadata": {},
   "outputs": [],
   "source": [
    "y_pred_reg = np.exp(model_reg.predict(X_test_prep))"
   ]
  },
  {
   "cell_type": "code",
   "execution_count": 14,
   "metadata": {},
   "outputs": [],
   "source": [
    "reg_df = pd.DataFrame(columns=['Prediction', 'Test'])"
   ]
  },
  {
   "cell_type": "code",
   "execution_count": 15,
   "metadata": {},
   "outputs": [],
   "source": [
    "reg_df['Prediction'] = list(y_pred_reg)\n",
    "reg_df['Test'] = list(y_test)"
   ]
  },
  {
   "cell_type": "code",
   "execution_count": 16,
   "metadata": {},
   "outputs": [
    {
     "data": {
      "text/html": [
       "<div>\n",
       "<style scoped>\n",
       "    .dataframe tbody tr th:only-of-type {\n",
       "        vertical-align: middle;\n",
       "    }\n",
       "\n",
       "    .dataframe tbody tr th {\n",
       "        vertical-align: top;\n",
       "    }\n",
       "\n",
       "    .dataframe thead th {\n",
       "        text-align: right;\n",
       "    }\n",
       "</style>\n",
       "<table border=\"1\" class=\"dataframe\">\n",
       "  <thead>\n",
       "    <tr style=\"text-align: right;\">\n",
       "      <th></th>\n",
       "      <th>Prediction</th>\n",
       "      <th>Test</th>\n",
       "    </tr>\n",
       "  </thead>\n",
       "  <tbody>\n",
       "    <tr>\n",
       "      <th>0</th>\n",
       "      <td>8.017342</td>\n",
       "      <td>47</td>\n",
       "    </tr>\n",
       "    <tr>\n",
       "      <th>1</th>\n",
       "      <td>3.506008</td>\n",
       "      <td>5</td>\n",
       "    </tr>\n",
       "    <tr>\n",
       "      <th>2</th>\n",
       "      <td>13.537440</td>\n",
       "      <td>8</td>\n",
       "    </tr>\n",
       "    <tr>\n",
       "      <th>3</th>\n",
       "      <td>1.985112</td>\n",
       "      <td>3</td>\n",
       "    </tr>\n",
       "    <tr>\n",
       "      <th>4</th>\n",
       "      <td>52.335903</td>\n",
       "      <td>262</td>\n",
       "    </tr>\n",
       "    <tr>\n",
       "      <th>...</th>\n",
       "      <td>...</td>\n",
       "      <td>...</td>\n",
       "    </tr>\n",
       "    <tr>\n",
       "      <th>62213</th>\n",
       "      <td>1.841089</td>\n",
       "      <td>1</td>\n",
       "    </tr>\n",
       "    <tr>\n",
       "      <th>62214</th>\n",
       "      <td>10.407502</td>\n",
       "      <td>5</td>\n",
       "    </tr>\n",
       "    <tr>\n",
       "      <th>62215</th>\n",
       "      <td>10.220370</td>\n",
       "      <td>19</td>\n",
       "    </tr>\n",
       "    <tr>\n",
       "      <th>62216</th>\n",
       "      <td>2.781159</td>\n",
       "      <td>1</td>\n",
       "    </tr>\n",
       "    <tr>\n",
       "      <th>62217</th>\n",
       "      <td>5.696328</td>\n",
       "      <td>2</td>\n",
       "    </tr>\n",
       "  </tbody>\n",
       "</table>\n",
       "<p>62218 rows × 2 columns</p>\n",
       "</div>"
      ],
      "text/plain": [
       "       Prediction  Test\n",
       "0        8.017342    47\n",
       "1        3.506008     5\n",
       "2       13.537440     8\n",
       "3        1.985112     3\n",
       "4       52.335903   262\n",
       "...           ...   ...\n",
       "62213    1.841089     1\n",
       "62214   10.407502     5\n",
       "62215   10.220370    19\n",
       "62216    2.781159     1\n",
       "62217    5.696328     2\n",
       "\n",
       "[62218 rows x 2 columns]"
      ]
     },
     "execution_count": 16,
     "metadata": {},
     "output_type": "execute_result"
    }
   ],
   "source": [
    "reg_df"
   ]
  },
  {
   "cell_type": "code",
   "execution_count": 17,
   "metadata": {},
   "outputs": [],
   "source": [
    "y_pred_class = model_class.predict(X_test_prep)"
   ]
  },
  {
   "cell_type": "code",
   "execution_count": 18,
   "metadata": {},
   "outputs": [],
   "source": [
    "y_test_class = y_test.map(y_encode_2)"
   ]
  },
  {
   "cell_type": "code",
   "execution_count": 33,
   "metadata": {},
   "outputs": [
    {
     "data": {
      "image/png": "[encoded data removed]",
      "text/plain": [
       "<Figure size 1000x500 with 1 Axes>"
      ]
     },
     "metadata": {},
     "output_type": "display_data"
    }
   ],
   "source": [
    "fig, ax = plt.subplots()\n",
    "\n",
    "# sns.set(rc={'figure.figsize':(10, 5)})\n",
    "\n",
    "sns.histplot(data = reg_df, ax = ax, binwidth = 10, legend = True)\n",
    "# sns.histplot(y_test, ax = ax, binwidth = 10, legend = True)\n",
    " \n",
    "# This will change the limits of the x-axis\n",
    "ax.set_xlim(0, 300)\n",
    "\n",
    "# This will change the limits of the y-axis\n",
    "#ax.set_xlim(0, 50000)\n",
    " \n",
    "# This will add label to the X-axis\n",
    "ax.set_xlabel( \"Duration of medical sick leave\")\n",
    " \n",
    "# This will add label to the Y-axis\n",
    "ax.set_ylabel( \"Amount of predictions\")\n",
    " \n",
    "# This will add title to the plot\n",
    "ax.set_title( \"Regression predictions\")\n",
    "\n",
    "legend = ax.get_legend()\n",
    "handles = legend.legendHandles\n",
    "# legend.remove()\n",
    "ax.legend(handles, ['Prediction', 'Real Data'])#, 'ind+', 'dep+'], title='Stat.ind.')\n",
    "\n",
    "plt.show()"
   ]
  },
  {
   "cell_type": "code",
   "execution_count": 34,
   "metadata": {},
   "outputs": [
    {
     "data": {
      "image/png": "[encoded data removed]",
      "text/plain": [
       "<Figure size 1000x500 with 1 Axes>"
      ]
     },
     "metadata": {},
     "output_type": "display_data"
    }
   ],
   "source": [
    "fig, ax = plt.subplots()\n",
    "\n",
    "# sns.set(rc={'figure.figsize':(10, 5)})\n",
    "\n",
    "sns.histplot(data = reg_df, ax = ax, binwidth = 3, legend = True)\n",
    "# sns.histplot(y_test, ax = ax, binwidth = 10, legend = True)\n",
    " \n",
    "# This will change the limits of the x-axis\n",
    "ax.set_xlim(0, 50)\n",
    "\n",
    "# This will change the limits of the y-axis\n",
    "#ax.set_xlim(0, 50000)\n",
    " \n",
    "# This will add label to the X-axis\n",
    "ax.set_xlabel( \"Duration of medical sick leave in days\")\n",
    " \n",
    "# This will add label to the Y-axis\n",
    "ax.set_ylabel( \"Amount of predictions\")\n",
    " \n",
    "# This will add title to the plot\n",
    "ax.set_title( \"Regression predictions\")\n",
    "\n",
    "legend = ax.get_legend()\n",
    "handles = legend.legendHandles\n",
    "# legend.remove()\n",
    "ax.legend(handles, ['Prediction', 'Real Data'])#, 'ind+', 'dep+'], title='Stat.ind.')\n",
    "\n",
    "plt.show()"
   ]
  },
  {
   "cell_type": "code",
   "execution_count": 22,
   "metadata": {},
   "outputs": [],
   "source": [
    "class_df = pd.DataFrame(columns=['Prediction', 'Test'])"
   ]
  },
  {
   "cell_type": "code",
   "execution_count": 23,
   "metadata": {},
   "outputs": [],
   "source": [
    "class_df['Prediction'] = list(y_pred_class)\n",
    "class_df['Test'] = list(y_test_class)"
   ]
  },
  {
   "cell_type": "code",
   "execution_count": 41,
   "metadata": {},
   "outputs": [
    {
     "data": {
      "image/png": "[encoded data removed]",
      "text/plain": [
       "<Figure size 1000x500 with 2 Axes>"
      ]
     },
     "metadata": {},
     "output_type": "display_data"
    }
   ],
   "source": [
    "# fig, ax = plt.subplots()\n",
    "fig, (ax1, ax2) = plt.subplots(ncols=2, nrows=1, sharey=True)\n",
    "sns.set(rc={'figure.figsize':(10, 5)})\n",
    "\n",
    "sns.histplot(data = class_df, ax = ax1, legend = True)\n",
    "sns.histplot(data = class_df, ax = ax2, legend = True)\n",
    "# sns.histplot(y_test, ax = ax, binwidth = 10, legend = True)\n",
    " \n",
    "# This will change the limits of the x-axis\n",
    "# ax.set_xlim(0, 50)\n",
    "\n",
    "# This will change the limits of the y-axis\n",
    "ax1.set_xlim(-0.01, 0.05)\n",
    "ax2.set_xlim(0.95, 1.01)\n",
    " \n",
    "# This will add label to the X-axis\n",
    "ax1.set_xlabel('Medical sick leaves shorter or equal to 15 days')\n",
    "ax2.set_xlabel('Medical sick leaves longer than 15 days')\n",
    " \n",
    "# This will add label to the Y-axis\n",
    "ax1.set_ylabel( \"Amount of predictions\")\n",
    " \n",
    "# This will add title to the plot\n",
    "ax1.set_title( \"Classification predictions\")\n",
    "\n",
    "legend = ax.get_legend()\n",
    "handles = legend.legendHandles\n",
    "# legend.remove()\n",
    "ax1.legend(handles, ['Prediction', 'Real Data'])\n",
    "ax2.legend(handles, ['Prediction', 'Real Data'])\n",
    "\n",
    "ax1.set(xticklabels=[])\n",
    "ax2.set(xticklabels=[])\n",
    "\n",
    "plt.show()"
   ]
  },
  {
   "cell_type": "code",
   "execution_count": 37,
   "metadata": {},
   "outputs": [],
   "source": [
    "data_raw = pd.read_csv('../raw_data/datos_raw.csv', delimiter = ';', low_memory = False)"
   ]
  },
  {
   "cell_type": "code",
   "execution_count": 38,
   "metadata": {},
   "outputs": [
    {
     "data": {
      "text/html": [
       "<div>\n",
       "<style scoped>\n",
       "    .dataframe tbody tr th:only-of-type {\n",
       "        vertical-align: middle;\n",
       "    }\n",
       "\n",
       "    .dataframe tbody tr th {\n",
       "        vertical-align: top;\n",
       "    }\n",
       "\n",
       "    .dataframe thead th {\n",
       "        text-align: right;\n",
       "    }\n",
       "</style>\n",
       "<table border=\"1\" class=\"dataframe\">\n",
       "  <thead>\n",
       "    <tr style=\"text-align: right;\">\n",
       "      <th></th>\n",
       "      <th>ContadorBajasCCC</th>\n",
       "      <th>ContadorBajasDNI</th>\n",
       "      <th>sexo</th>\n",
       "      <th>cnae</th>\n",
       "      <th>icd9</th>\n",
       "      <th>recaida</th>\n",
       "      <th>numtreb</th>\n",
       "      <th>codipostal</th>\n",
       "      <th>ContadordiasBajasDNI</th>\n",
       "      <th>contracte</th>\n",
       "      <th>grupcoti</th>\n",
       "      <th>pluriempleo</th>\n",
       "      <th>diasemana</th>\n",
       "      <th>tiempo_en_empresa</th>\n",
       "      <th>edad</th>\n",
       "      <th>duracion_baja</th>\n",
       "      <th>mes_baja</th>\n",
       "      <th>epiweek</th>\n",
       "    </tr>\n",
       "  </thead>\n",
       "  <tbody>\n",
       "    <tr>\n",
       "      <th>0</th>\n",
       "      <td>17664</td>\n",
       "      <td>30</td>\n",
       "      <td>2</td>\n",
       "      <td>5110</td>\n",
       "      <td>009.3</td>\n",
       "      <td>0</td>\n",
       "      <td>3187</td>\n",
       "      <td>08037</td>\n",
       "      <td>224</td>\n",
       "      <td>420</td>\n",
       "      <td>2</td>\n",
       "      <td>0</td>\n",
       "      <td>7</td>\n",
       "      <td>0.51</td>\n",
       "      <td>27.2</td>\n",
       "      <td>2</td>\n",
       "      <td>12</td>\n",
       "      <td>51</td>\n",
       "    </tr>\n",
       "    <tr>\n",
       "      <th>1</th>\n",
       "      <td>17664</td>\n",
       "      <td>5</td>\n",
       "      <td>2</td>\n",
       "      <td>5110</td>\n",
       "      <td>787.01</td>\n",
       "      <td>0</td>\n",
       "      <td>3187</td>\n",
       "      <td>39006</td>\n",
       "      <td>12</td>\n",
       "      <td>420</td>\n",
       "      <td>2</td>\n",
       "      <td>0</td>\n",
       "      <td>4</td>\n",
       "      <td>1.41</td>\n",
       "      <td>31.8</td>\n",
       "      <td>1</td>\n",
       "      <td>12</td>\n",
       "      <td>52</td>\n",
       "    </tr>\n",
       "    <tr>\n",
       "      <th>2</th>\n",
       "      <td>17664</td>\n",
       "      <td>17</td>\n",
       "      <td>2</td>\n",
       "      <td>5110</td>\n",
       "      <td>462</td>\n",
       "      <td>0</td>\n",
       "      <td>3187</td>\n",
       "      <td>38360</td>\n",
       "      <td>46</td>\n",
       "      <td>420</td>\n",
       "      <td>2</td>\n",
       "      <td>0</td>\n",
       "      <td>4</td>\n",
       "      <td>0.54</td>\n",
       "      <td>20.5</td>\n",
       "      <td>1</td>\n",
       "      <td>12</td>\n",
       "      <td>52</td>\n",
       "    </tr>\n",
       "    <tr>\n",
       "      <th>3</th>\n",
       "      <td>17664</td>\n",
       "      <td>16</td>\n",
       "      <td>2</td>\n",
       "      <td>5110</td>\n",
       "      <td>460</td>\n",
       "      <td>0</td>\n",
       "      <td>3187</td>\n",
       "      <td>08830</td>\n",
       "      <td>49</td>\n",
       "      <td>100</td>\n",
       "      <td>2</td>\n",
       "      <td>0</td>\n",
       "      <td>4</td>\n",
       "      <td>2.53</td>\n",
       "      <td>30.6</td>\n",
       "      <td>3</td>\n",
       "      <td>12</td>\n",
       "      <td>52</td>\n",
       "    </tr>\n",
       "    <tr>\n",
       "      <th>4</th>\n",
       "      <td>17664</td>\n",
       "      <td>7</td>\n",
       "      <td>1</td>\n",
       "      <td>5110</td>\n",
       "      <td>462</td>\n",
       "      <td>0</td>\n",
       "      <td>3187</td>\n",
       "      <td>02001</td>\n",
       "      <td>548</td>\n",
       "      <td>189</td>\n",
       "      <td>1</td>\n",
       "      <td>0</td>\n",
       "      <td>5</td>\n",
       "      <td>6.16</td>\n",
       "      <td>32.4</td>\n",
       "      <td>2</td>\n",
       "      <td>12</td>\n",
       "      <td>52</td>\n",
       "    </tr>\n",
       "    <tr>\n",
       "      <th>...</th>\n",
       "      <td>...</td>\n",
       "      <td>...</td>\n",
       "      <td>...</td>\n",
       "      <td>...</td>\n",
       "      <td>...</td>\n",
       "      <td>...</td>\n",
       "      <td>...</td>\n",
       "      <td>...</td>\n",
       "      <td>...</td>\n",
       "      <td>...</td>\n",
       "      <td>...</td>\n",
       "      <td>...</td>\n",
       "      <td>...</td>\n",
       "      <td>...</td>\n",
       "      <td>...</td>\n",
       "      <td>...</td>\n",
       "      <td>...</td>\n",
       "      <td>...</td>\n",
       "    </tr>\n",
       "    <tr>\n",
       "      <th>257755</th>\n",
       "      <td>41</td>\n",
       "      <td>9</td>\n",
       "      <td>2</td>\n",
       "      <td>8121</td>\n",
       "      <td>784.0</td>\n",
       "      <td>0</td>\n",
       "      <td>8</td>\n",
       "      <td>08020</td>\n",
       "      <td>21</td>\n",
       "      <td>200</td>\n",
       "      <td>10</td>\n",
       "      <td>0</td>\n",
       "      <td>7</td>\n",
       "      <td>1.99</td>\n",
       "      <td>44.9</td>\n",
       "      <td>1</td>\n",
       "      <td>1</td>\n",
       "      <td>53</td>\n",
       "    </tr>\n",
       "    <tr>\n",
       "      <th>257756</th>\n",
       "      <td>36</td>\n",
       "      <td>13</td>\n",
       "      <td>2</td>\n",
       "      <td>9319</td>\n",
       "      <td>525.8</td>\n",
       "      <td>0</td>\n",
       "      <td>0</td>\n",
       "      <td>08901</td>\n",
       "      <td>223</td>\n",
       "      <td>289</td>\n",
       "      <td>7</td>\n",
       "      <td>1</td>\n",
       "      <td>7</td>\n",
       "      <td>9.68</td>\n",
       "      <td>45.1</td>\n",
       "      <td>1</td>\n",
       "      <td>1</td>\n",
       "      <td>53</td>\n",
       "    </tr>\n",
       "    <tr>\n",
       "      <th>257757</th>\n",
       "      <td>9</td>\n",
       "      <td>13</td>\n",
       "      <td>2</td>\n",
       "      <td>5630</td>\n",
       "      <td>525.8</td>\n",
       "      <td>0</td>\n",
       "      <td>0</td>\n",
       "      <td>08901</td>\n",
       "      <td>223</td>\n",
       "      <td>200</td>\n",
       "      <td>8</td>\n",
       "      <td>1</td>\n",
       "      <td>7</td>\n",
       "      <td>3.75</td>\n",
       "      <td>45.1</td>\n",
       "      <td>1</td>\n",
       "      <td>1</td>\n",
       "      <td>53</td>\n",
       "    </tr>\n",
       "    <tr>\n",
       "      <th>257758</th>\n",
       "      <td>1</td>\n",
       "      <td>1</td>\n",
       "      <td>2</td>\n",
       "      <td>9700</td>\n",
       "      <td>053.9</td>\n",
       "      <td>0</td>\n",
       "      <td>1</td>\n",
       "      <td>08028</td>\n",
       "      <td>1</td>\n",
       "      <td>200</td>\n",
       "      <td>0</td>\n",
       "      <td>0</td>\n",
       "      <td>7</td>\n",
       "      <td>4.26</td>\n",
       "      <td>36.5</td>\n",
       "      <td>1</td>\n",
       "      <td>1</td>\n",
       "      <td>53</td>\n",
       "    </tr>\n",
       "    <tr>\n",
       "      <th>257759</th>\n",
       "      <td>4778</td>\n",
       "      <td>5</td>\n",
       "      <td>2</td>\n",
       "      <td>5610</td>\n",
       "      <td>729.5</td>\n",
       "      <td>0</td>\n",
       "      <td>1106</td>\n",
       "      <td>08223</td>\n",
       "      <td>12</td>\n",
       "      <td>289</td>\n",
       "      <td>6</td>\n",
       "      <td>0</td>\n",
       "      <td>6</td>\n",
       "      <td>2.12</td>\n",
       "      <td>20.7</td>\n",
       "      <td>1</td>\n",
       "      <td>1</td>\n",
       "      <td>53</td>\n",
       "    </tr>\n",
       "  </tbody>\n",
       "</table>\n",
       "<p>257760 rows × 18 columns</p>\n",
       "</div>"
      ],
      "text/plain": [
       "        ContadorBajasCCC  ContadorBajasDNI  sexo  cnae    icd9  recaida  \\\n",
       "0                  17664                30     2  5110   009.3        0   \n",
       "1                  17664                 5     2  5110  787.01        0   \n",
       "2                  17664                17     2  5110     462        0   \n",
       "3                  17664                16     2  5110     460        0   \n",
       "4                  17664                 7     1  5110     462        0   \n",
       "...                  ...               ...   ...   ...     ...      ...   \n",
       "257755                41                 9     2  8121   784.0        0   \n",
       "257756                36                13     2  9319   525.8        0   \n",
       "257757                 9                13     2  5630   525.8        0   \n",
       "257758                 1                 1     2  9700   053.9        0   \n",
       "257759              4778                 5     2  5610   729.5        0   \n",
       "\n",
       "        numtreb codipostal  ContadordiasBajasDNI contracte grupcoti  \\\n",
       "0          3187      08037                   224       420        2   \n",
       "1          3187      39006                    12       420        2   \n",
       "2          3187      38360                    46       420        2   \n",
       "3          3187      08830                    49       100        2   \n",
       "4          3187      02001                   548       189        1   \n",
       "...         ...        ...                   ...       ...      ...   \n",
       "257755        8      08020                    21       200       10   \n",
       "257756        0      08901                   223       289        7   \n",
       "257757        0      08901                   223       200        8   \n",
       "257758        1      08028                     1       200        0   \n",
       "257759     1106      08223                    12       289        6   \n",
       "\n",
       "        pluriempleo  diasemana  tiempo_en_empresa  edad  duracion_baja  \\\n",
       "0                 0          7               0.51  27.2              2   \n",
       "1                 0          4               1.41  31.8              1   \n",
       "2                 0          4               0.54  20.5              1   \n",
       "3                 0          4               2.53  30.6              3   \n",
       "4                 0          5               6.16  32.4              2   \n",
       "...             ...        ...                ...   ...            ...   \n",
       "257755            0          7               1.99  44.9              1   \n",
       "257756            1          7               9.68  45.1              1   \n",
       "257757            1          7               3.75  45.1              1   \n",
       "257758            0          7               4.26  36.5              1   \n",
       "257759            0          6               2.12  20.7              1   \n",
       "\n",
       "        mes_baja  epiweek  \n",
       "0             12       51  \n",
       "1             12       52  \n",
       "2             12       52  \n",
       "3             12       52  \n",
       "4             12       52  \n",
       "...          ...      ...  \n",
       "257755         1       53  \n",
       "257756         1       53  \n",
       "257757         1       53  \n",
       "257758         1       53  \n",
       "257759         1       53  \n",
       "\n",
       "[257760 rows x 18 columns]"
      ]
     },
     "execution_count": 38,
     "metadata": {},
     "output_type": "execute_result"
    }
   ],
   "source": [
    "data"
   ]
  },
  {
   "cell_type": "code",
   "execution_count": 39,
   "metadata": {},
   "outputs": [
    {
     "data": {
      "text/html": [
       "<div>\n",
       "<style scoped>\n",
       "    .dataframe tbody tr th:only-of-type {\n",
       "        vertical-align: middle;\n",
       "    }\n",
       "\n",
       "    .dataframe tbody tr th {\n",
       "        vertical-align: top;\n",
       "    }\n",
       "\n",
       "    .dataframe thead th {\n",
       "        text-align: right;\n",
       "    }\n",
       "</style>\n",
       "<table border=\"1\" class=\"dataframe\">\n",
       "  <thead>\n",
       "    <tr style=\"text-align: right;\">\n",
       "      <th></th>\n",
       "      <th>ContadorBajasCCC</th>\n",
       "      <th>anycontiat</th>\n",
       "      <th>numcontiat</th>\n",
       "      <th>ContadorBajasDNI</th>\n",
       "      <th>sexo</th>\n",
       "      <th>cnae</th>\n",
       "      <th>Fecha.baja</th>\n",
       "      <th>Fecha.alta</th>\n",
       "      <th>icd9</th>\n",
       "      <th>recaida</th>\n",
       "      <th>...</th>\n",
       "      <th>grupcoti</th>\n",
       "      <th>pluriempleo</th>\n",
       "      <th>diasemana</th>\n",
       "      <th>esprincipal</th>\n",
       "      <th>fecha_nac</th>\n",
       "      <th>tiempo_en_empresa</th>\n",
       "      <th>edad</th>\n",
       "      <th>duracion_baja</th>\n",
       "      <th>mes_baja</th>\n",
       "      <th>epiweek</th>\n",
       "    </tr>\n",
       "  </thead>\n",
       "  <tbody>\n",
       "    <tr>\n",
       "      <th>0</th>\n",
       "      <td>17664</td>\n",
       "      <td>2016</td>\n",
       "      <td>27</td>\n",
       "      <td>5</td>\n",
       "      <td>2</td>\n",
       "      <td>5110</td>\n",
       "      <td>2015-12-29</td>\n",
       "      <td>2015-12-29</td>\n",
       "      <td>079.99</td>\n",
       "      <td>0</td>\n",
       "      <td>...</td>\n",
       "      <td>2</td>\n",
       "      <td>0</td>\n",
       "      <td>3</td>\n",
       "      <td>1</td>\n",
       "      <td>1985-10-13</td>\n",
       "      <td>1,76</td>\n",
       "      <td>30,2</td>\n",
       "      <td>1</td>\n",
       "      <td>12</td>\n",
       "      <td>52</td>\n",
       "    </tr>\n",
       "    <tr>\n",
       "      <th>1</th>\n",
       "      <td>17664</td>\n",
       "      <td>2016</td>\n",
       "      <td>68</td>\n",
       "      <td>7</td>\n",
       "      <td>2</td>\n",
       "      <td>5110</td>\n",
       "      <td>2015-12-27</td>\n",
       "      <td>2015-12-28</td>\n",
       "      <td>780.4</td>\n",
       "      <td>0</td>\n",
       "      <td>...</td>\n",
       "      <td>2</td>\n",
       "      <td>0</td>\n",
       "      <td>1</td>\n",
       "      <td>1</td>\n",
       "      <td>1994-04-24</td>\n",
       "      <td>0,41</td>\n",
       "      <td>21,7</td>\n",
       "      <td>2</td>\n",
       "      <td>12</td>\n",
       "      <td>52</td>\n",
       "    </tr>\n",
       "    <tr>\n",
       "      <th>2</th>\n",
       "      <td>17664</td>\n",
       "      <td>2016</td>\n",
       "      <td>107</td>\n",
       "      <td>1</td>\n",
       "      <td>2</td>\n",
       "      <td>5110</td>\n",
       "      <td>2015-12-29</td>\n",
       "      <td>2015-12-29</td>\n",
       "      <td>487.1</td>\n",
       "      <td>0</td>\n",
       "      <td>...</td>\n",
       "      <td>5</td>\n",
       "      <td>0</td>\n",
       "      <td>3</td>\n",
       "      <td>1</td>\n",
       "      <td>1986-01-01</td>\n",
       "      <td>0,02</td>\n",
       "      <td>30</td>\n",
       "      <td>1</td>\n",
       "      <td>12</td>\n",
       "      <td>52</td>\n",
       "    </tr>\n",
       "    <tr>\n",
       "      <th>3</th>\n",
       "      <td>17664</td>\n",
       "      <td>2016</td>\n",
       "      <td>124</td>\n",
       "      <td>5</td>\n",
       "      <td>2</td>\n",
       "      <td>5110</td>\n",
       "      <td>2015-12-26</td>\n",
       "      <td>2016-01-12</td>\n",
       "      <td>799</td>\n",
       "      <td>0</td>\n",
       "      <td>...</td>\n",
       "      <td>2</td>\n",
       "      <td>0</td>\n",
       "      <td>7</td>\n",
       "      <td>1</td>\n",
       "      <td>1992-07-09</td>\n",
       "      <td>1,53</td>\n",
       "      <td>23,5</td>\n",
       "      <td>18</td>\n",
       "      <td>12</td>\n",
       "      <td>51</td>\n",
       "    </tr>\n",
       "    <tr>\n",
       "      <th>4</th>\n",
       "      <td>17664</td>\n",
       "      <td>2016</td>\n",
       "      <td>159</td>\n",
       "      <td>2</td>\n",
       "      <td>2</td>\n",
       "      <td>5110</td>\n",
       "      <td>2015-12-22</td>\n",
       "      <td>2015-12-28</td>\n",
       "      <td>381.00</td>\n",
       "      <td>0</td>\n",
       "      <td>...</td>\n",
       "      <td>2</td>\n",
       "      <td>0</td>\n",
       "      <td>3</td>\n",
       "      <td>1</td>\n",
       "      <td>1990-07-19</td>\n",
       "      <td>0,48</td>\n",
       "      <td>25,4</td>\n",
       "      <td>7</td>\n",
       "      <td>12</td>\n",
       "      <td>51</td>\n",
       "    </tr>\n",
       "    <tr>\n",
       "      <th>...</th>\n",
       "      <td>...</td>\n",
       "      <td>...</td>\n",
       "      <td>...</td>\n",
       "      <td>...</td>\n",
       "      <td>...</td>\n",
       "      <td>...</td>\n",
       "      <td>...</td>\n",
       "      <td>...</td>\n",
       "      <td>...</td>\n",
       "      <td>...</td>\n",
       "      <td>...</td>\n",
       "      <td>...</td>\n",
       "      <td>...</td>\n",
       "      <td>...</td>\n",
       "      <td>...</td>\n",
       "      <td>...</td>\n",
       "      <td>...</td>\n",
       "      <td>...</td>\n",
       "      <td>...</td>\n",
       "      <td>...</td>\n",
       "      <td>...</td>\n",
       "    </tr>\n",
       "    <tr>\n",
       "      <th>390206</th>\n",
       "      <td>41</td>\n",
       "      <td>2021</td>\n",
       "      <td>335A</td>\n",
       "      <td>9</td>\n",
       "      <td>2</td>\n",
       "      <td>8121</td>\n",
       "      <td>2021-01-02</td>\n",
       "      <td>2021-01-02</td>\n",
       "      <td>784.0</td>\n",
       "      <td>0</td>\n",
       "      <td>...</td>\n",
       "      <td>10</td>\n",
       "      <td>0</td>\n",
       "      <td>7</td>\n",
       "      <td>1</td>\n",
       "      <td>1976-02-12</td>\n",
       "      <td>1,99</td>\n",
       "      <td>44,9</td>\n",
       "      <td>1</td>\n",
       "      <td>1</td>\n",
       "      <td>53</td>\n",
       "    </tr>\n",
       "    <tr>\n",
       "      <th>390207</th>\n",
       "      <td>36</td>\n",
       "      <td>2021</td>\n",
       "      <td>158A</td>\n",
       "      <td>13</td>\n",
       "      <td>2</td>\n",
       "      <td>9319</td>\n",
       "      <td>2021-01-02</td>\n",
       "      <td>2021-01-02</td>\n",
       "      <td>525.8</td>\n",
       "      <td>0</td>\n",
       "      <td>...</td>\n",
       "      <td>7</td>\n",
       "      <td>1</td>\n",
       "      <td>7</td>\n",
       "      <td>1</td>\n",
       "      <td>1975-11-29</td>\n",
       "      <td>9,68</td>\n",
       "      <td>45,1</td>\n",
       "      <td>1</td>\n",
       "      <td>1</td>\n",
       "      <td>53</td>\n",
       "    </tr>\n",
       "    <tr>\n",
       "      <th>390208</th>\n",
       "      <td>9</td>\n",
       "      <td>2021</td>\n",
       "      <td>159A</td>\n",
       "      <td>13</td>\n",
       "      <td>2</td>\n",
       "      <td>5630</td>\n",
       "      <td>2021-01-02</td>\n",
       "      <td>2021-01-02</td>\n",
       "      <td>525.8</td>\n",
       "      <td>0</td>\n",
       "      <td>...</td>\n",
       "      <td>8</td>\n",
       "      <td>1</td>\n",
       "      <td>7</td>\n",
       "      <td>1</td>\n",
       "      <td>1975-11-29</td>\n",
       "      <td>3,75</td>\n",
       "      <td>45,1</td>\n",
       "      <td>1</td>\n",
       "      <td>1</td>\n",
       "      <td>53</td>\n",
       "    </tr>\n",
       "    <tr>\n",
       "      <th>390209</th>\n",
       "      <td>1</td>\n",
       "      <td>2021</td>\n",
       "      <td>176A</td>\n",
       "      <td>1</td>\n",
       "      <td>2</td>\n",
       "      <td>9700</td>\n",
       "      <td>2021-01-02</td>\n",
       "      <td>2021-01-02</td>\n",
       "      <td>053.9</td>\n",
       "      <td>0</td>\n",
       "      <td>...</td>\n",
       "      <td>0</td>\n",
       "      <td>0</td>\n",
       "      <td>7</td>\n",
       "      <td>1</td>\n",
       "      <td>1984-07-02</td>\n",
       "      <td>4,26</td>\n",
       "      <td>36,5</td>\n",
       "      <td>1</td>\n",
       "      <td>1</td>\n",
       "      <td>53</td>\n",
       "    </tr>\n",
       "    <tr>\n",
       "      <th>390210</th>\n",
       "      <td>4778</td>\n",
       "      <td>2021</td>\n",
       "      <td>459A</td>\n",
       "      <td>5</td>\n",
       "      <td>2</td>\n",
       "      <td>5610</td>\n",
       "      <td>2021-01-01</td>\n",
       "      <td>2021-01-01</td>\n",
       "      <td>729.5</td>\n",
       "      <td>0</td>\n",
       "      <td>...</td>\n",
       "      <td>6</td>\n",
       "      <td>0</td>\n",
       "      <td>6</td>\n",
       "      <td>1</td>\n",
       "      <td>2000-04-28</td>\n",
       "      <td>2,12</td>\n",
       "      <td>20,7</td>\n",
       "      <td>1</td>\n",
       "      <td>1</td>\n",
       "      <td>53</td>\n",
       "    </tr>\n",
       "  </tbody>\n",
       "</table>\n",
       "<p>390211 rows × 24 columns</p>\n",
       "</div>"
      ],
      "text/plain": [
       "        ContadorBajasCCC  anycontiat numcontiat  ContadorBajasDNI  sexo  cnae  \\\n",
       "0                  17664        2016         27                 5     2  5110   \n",
       "1                  17664        2016         68                 7     2  5110   \n",
       "2                  17664        2016        107                 1     2  5110   \n",
       "3                  17664        2016        124                 5     2  5110   \n",
       "4                  17664        2016        159                 2     2  5110   \n",
       "...                  ...         ...        ...               ...   ...   ...   \n",
       "390206                41        2021       335A                 9     2  8121   \n",
       "390207                36        2021       158A                13     2  9319   \n",
       "390208                 9        2021       159A                13     2  5630   \n",
       "390209                 1        2021       176A                 1     2  9700   \n",
       "390210              4778        2021       459A                 5     2  5610   \n",
       "\n",
       "        Fecha.baja  Fecha.alta    icd9  recaida  ...  grupcoti pluriempleo  \\\n",
       "0       2015-12-29  2015-12-29  079.99        0  ...         2           0   \n",
       "1       2015-12-27  2015-12-28   780.4        0  ...         2           0   \n",
       "2       2015-12-29  2015-12-29   487.1        0  ...         5           0   \n",
       "3       2015-12-26  2016-01-12     799        0  ...         2           0   \n",
       "4       2015-12-22  2015-12-28  381.00        0  ...         2           0   \n",
       "...            ...         ...     ...      ...  ...       ...         ...   \n",
       "390206  2021-01-02  2021-01-02   784.0        0  ...        10           0   \n",
       "390207  2021-01-02  2021-01-02   525.8        0  ...         7           1   \n",
       "390208  2021-01-02  2021-01-02   525.8        0  ...         8           1   \n",
       "390209  2021-01-02  2021-01-02   053.9        0  ...         0           0   \n",
       "390210  2021-01-01  2021-01-01   729.5        0  ...         6           0   \n",
       "\n",
       "        diasemana esprincipal   fecha_nac  tiempo_en_empresa  edad  \\\n",
       "0               3           1  1985-10-13               1,76  30,2   \n",
       "1               1           1  1994-04-24               0,41  21,7   \n",
       "2               3           1  1986-01-01               0,02    30   \n",
       "3               7           1  1992-07-09               1,53  23,5   \n",
       "4               3           1  1990-07-19               0,48  25,4   \n",
       "...           ...         ...         ...                ...   ...   \n",
       "390206          7           1  1976-02-12               1,99  44,9   \n",
       "390207          7           1  1975-11-29               9,68  45,1   \n",
       "390208          7           1  1975-11-29               3,75  45,1   \n",
       "390209          7           1  1984-07-02               4,26  36,5   \n",
       "390210          6           1  2000-04-28               2,12  20,7   \n",
       "\n",
       "        duracion_baja mes_baja epiweek  \n",
       "0                   1       12      52  \n",
       "1                   2       12      52  \n",
       "2                   1       12      52  \n",
       "3                  18       12      51  \n",
       "4                   7       12      51  \n",
       "...               ...      ...     ...  \n",
       "390206              1        1      53  \n",
       "390207              1        1      53  \n",
       "390208              1        1      53  \n",
       "390209              1        1      53  \n",
       "390210              1        1      53  \n",
       "\n",
       "[390211 rows x 24 columns]"
      ]
     },
     "execution_count": 39,
     "metadata": {},
     "output_type": "execute_result"
    }
   ],
   "source": [
    "data_raw"
   ]
  },
  {
   "cell_type": "code",
   "execution_count": null,
   "metadata": {},
   "outputs": [],
   "source": []
  }
 ],
 "metadata": {
  "kernelspec": {
   "display_name": "Python 3.10.6 64-bit ('smarthealing')",
   "language": "python",
   "name": "python3"
  },
  "language_info": {
   "codemirror_mode": {
    "name": "ipython",
    "version": 3
   },
   "file_extension": ".py",
   "mimetype": "text/x-python",
   "name": "python",
   "nbconvert_exporter": "python",
   "pygments_lexer": "ipython3",
   "version": "3.10.6"
  },
  "toc": {
   "base_numbering": 1,
   "nav_menu": {},
   "number_sections": true,
   "sideBar": true,
   "skip_h1_title": false,
   "title_cell": "Table of Contents",
   "title_sidebar": "Contents",
   "toc_cell": false,
   "toc_position": {},
   "toc_section_display": true,
   "toc_window_display": false
  },
  "vscode": {
   "interpreter": {
    "hash": "a052b50ed818788650ad5d649604661245a9865e7d171455318412d917eecdd4"
   }
  }
 },
 "nbformat": 4,
 "nbformat_minor": 2
}
