{
 "cells": [
  {
   "cell_type": "code",
   "execution_count": null,
   "metadata": {},
   "outputs": [
    {
     "ename": "",
     "evalue": "",
     "output_type": "error",
     "traceback": [
      "\u001b[1;31mFailed to start the Kernel. \n",
      "\u001b[1;31mTraceback (most recent call last):\n",
      "\u001b[1;31m  File \"/Users/jaimesoroarubio/.vscode/extensions/ms-toolsai.jupyter-2022.9.1303220346/pythonFiles/vscode_datascience_helpers/jupyter_daemon.py\", line 158, in _start_notebook\n",
      "\u001b[1;31m    from notebook import notebookapp as app\n",
      "\u001b[1;31m  File \"/Users/jaimesoroarubio/.pyenv/versions/3.10.6/envs/taxifare-env/lib/python3.10/site-packages/notebook/notebookapp.py\", line 57, in <module>\n",
      "\u001b[1;31m    raise ImportError(_(\"The Jupyter Notebook requires tornado >= 5.0, but you have %s\") % tornado.version)\n",
      "\u001b[1;31mImportError: The Jupyter Notebook requires tornado >= 5.0, but you have 4.5.3\n",
      "\u001b[1;31m\n",
      "\u001b[1;31mDuring handling of the above exception, another exception occurred:\n",
      "\u001b[1;31m\n",
      "\u001b[1;31mTraceback (most recent call last):\n",
      "\u001b[1;31m  File \"/Users/jaimesoroarubio/.vscode/extensions/ms-toolsai.jupyter-2022.9.1303220346/pythonFiles/vscode_datascience_helpers/daemon/daemon_python.py\", line 54, in _decorator\n",
      "\u001b[1;31m    return func(self, *args, **kwargs)\n",
      "\u001b[1;31m  File \"/Users/jaimesoroarubio/.vscode/extensions/ms-toolsai.jupyter-2022.9.1303220346/pythonFiles/vscode_datascience_helpers/jupyter_daemon.py\", line 111, in m_exec_module_observable\n",
      "\u001b[1;31m    self._start_notebook(args, cwd, env)\n",
      "\u001b[1;31m  File \"/Users/jaimesoroarubio/.vscode/extensions/ms-toolsai.jupyter-2022.9.1303220346/pythonFiles/vscode_datascience_helpers/jupyter_daemon.py\", line 160, in _start_notebook\n",
      "\u001b[1;31m    from notebook import app as app\n",
      "\u001b[1;31mImportError: cannot import name 'app' from 'notebook' (/Users/jaimesoroarubio/.pyenv/versions/3.10.6/envs/taxifare-env/lib/python3.10/site-packages/notebook/__init__.py)\n",
      "\u001b[1;31m\n",
      "\u001b[1;31mFailed to run jupyter as observable with args notebook --no-browser --notebook-dir=\"/Users/jaimesoroarubio/code/jaimesoroa/smarthealing/notebooks\" --config=/var/folders/jt/ljcpcwg95nv566n6vzs4822m0000gn/T/3e67de7f-e2b2-4d16-83b2-95db9ecb2545/jupyter_notebook_config.py --NotebookApp.iopub_data_rate_limit=10000000000.0. \n",
      "\u001b[1;31mView Jupyter <a href='command:jupyter.viewOutput'>log</a> for further details."
     ]
    }
   ],
   "source": [
    "import pandas as pd\n",
    "import seaborn as sns\n",
    "import numpy as np\n",
    "import matplotlib.pyplot as plt"
   ]
  },
  {
   "cell_type": "code",
   "execution_count": null,
   "metadata": {},
   "outputs": [
    {
     "ename": "",
     "evalue": "",
     "output_type": "error",
     "traceback": [
      "\u001b[1;31mFailed to start the Kernel. \n",
      "\u001b[1;31mTraceback (most recent call last):\n",
      "\u001b[1;31m  File \"/Users/jaimesoroarubio/.vscode/extensions/ms-toolsai.jupyter-2022.9.1303220346/pythonFiles/vscode_datascience_helpers/jupyter_daemon.py\", line 158, in _start_notebook\n",
      "\u001b[1;31m    from notebook import notebookapp as app\n",
      "\u001b[1;31m  File \"/Users/jaimesoroarubio/.pyenv/versions/3.10.6/envs/taxifare-env/lib/python3.10/site-packages/notebook/notebookapp.py\", line 57, in <module>\n",
      "\u001b[1;31m    raise ImportError(_(\"The Jupyter Notebook requires tornado >= 5.0, but you have %s\") % tornado.version)\n",
      "\u001b[1;31mImportError: The Jupyter Notebook requires tornado >= 5.0, but you have 4.5.3\n",
      "\u001b[1;31m\n",
      "\u001b[1;31mDuring handling of the above exception, another exception occurred:\n",
      "\u001b[1;31m\n",
      "\u001b[1;31mTraceback (most recent call last):\n",
      "\u001b[1;31m  File \"/Users/jaimesoroarubio/.vscode/extensions/ms-toolsai.jupyter-2022.9.1303220346/pythonFiles/vscode_datascience_helpers/daemon/daemon_python.py\", line 54, in _decorator\n",
      "\u001b[1;31m    return func(self, *args, **kwargs)\n",
      "\u001b[1;31m  File \"/Users/jaimesoroarubio/.vscode/extensions/ms-toolsai.jupyter-2022.9.1303220346/pythonFiles/vscode_datascience_helpers/jupyter_daemon.py\", line 111, in m_exec_module_observable\n",
      "\u001b[1;31m    self._start_notebook(args, cwd, env)\n",
      "\u001b[1;31m  File \"/Users/jaimesoroarubio/.vscode/extensions/ms-toolsai.jupyter-2022.9.1303220346/pythonFiles/vscode_datascience_helpers/jupyter_daemon.py\", line 160, in _start_notebook\n",
      "\u001b[1;31m    from notebook import app as app\n",
      "\u001b[1;31mImportError: cannot import name 'app' from 'notebook' (/Users/jaimesoroarubio/.pyenv/versions/3.10.6/envs/taxifare-env/lib/python3.10/site-packages/notebook/__init__.py)\n",
      "\u001b[1;31m\n",
      "\u001b[1;31mFailed to run jupyter as observable with args notebook --no-browser --notebook-dir=\"/Users/jaimesoroarubio/code/jaimesoroa/smarthealing/notebooks\" --config=/var/folders/jt/ljcpcwg95nv566n6vzs4822m0000gn/T/5a3bc81d-e081-4891-a241-15aaa83fb67d/jupyter_notebook_config.py --NotebookApp.iopub_data_rate_limit=10000000000.0. \n",
      "\u001b[1;31mView Jupyter <a href='command:jupyter.viewOutput'>log</a> for further details."
     ]
    }
   ],
   "source": [
    "from sklearn.linear_model import LinearRegression\n",
    "from sklearn.model_selection import cross_validate\n",
    "from sklearn.model_selection import train_test_split\n",
    "from sklearn.model_selection import learning_curve\n",
    "from sklearn.model_selection import train_test_split\n",
    "from fastapi import FastAPI\n",
    "from fastapi.middleware.cors import CORSMiddleware\n",
    "import os\n",
    "from sklearn.model_selection import cross_validate\n",
    "from math import pi\n",
    "from sklearn.preprocessing import OneHotEncoder\n",
    "from sklearn.preprocessing import RobustScaler\n",
    "from sklearn.preprocessing import StandardScaler"
   ]
  },
  {
   "cell_type": "code",
   "execution_count": null,
   "metadata": {},
   "outputs": [
    {
     "ename": "",
     "evalue": "",
     "output_type": "error",
     "traceback": [
      "\u001b[1;31mFailed to start the Kernel. \n",
      "\u001b[1;31mTraceback (most recent call last):\n",
      "\u001b[1;31m  File \"/Users/jaimesoroarubio/.vscode/extensions/ms-toolsai.jupyter-2022.9.1303220346/pythonFiles/vscode_datascience_helpers/jupyter_daemon.py\", line 158, in _start_notebook\n",
      "\u001b[1;31m    from notebook import notebookapp as app\n",
      "\u001b[1;31m  File \"/Users/jaimesoroarubio/.pyenv/versions/3.10.6/envs/taxifare-env/lib/python3.10/site-packages/notebook/notebookapp.py\", line 57, in <module>\n",
      "\u001b[1;31m    raise ImportError(_(\"The Jupyter Notebook requires tornado >= 5.0, but you have %s\") % tornado.version)\n",
      "\u001b[1;31mImportError: The Jupyter Notebook requires tornado >= 5.0, but you have 4.5.3\n",
      "\u001b[1;31m\n",
      "\u001b[1;31mDuring handling of the above exception, another exception occurred:\n",
      "\u001b[1;31m\n",
      "\u001b[1;31mTraceback (most recent call last):\n",
      "\u001b[1;31m  File \"/Users/jaimesoroarubio/.vscode/extensions/ms-toolsai.jupyter-2022.9.1303220346/pythonFiles/vscode_datascience_helpers/daemon/daemon_python.py\", line 54, in _decorator\n",
      "\u001b[1;31m    return func(self, *args, **kwargs)\n",
      "\u001b[1;31m  File \"/Users/jaimesoroarubio/.vscode/extensions/ms-toolsai.jupyter-2022.9.1303220346/pythonFiles/vscode_datascience_helpers/jupyter_daemon.py\", line 111, in m_exec_module_observable\n",
      "\u001b[1;31m    self._start_notebook(args, cwd, env)\n",
      "\u001b[1;31m  File \"/Users/jaimesoroarubio/.vscode/extensions/ms-toolsai.jupyter-2022.9.1303220346/pythonFiles/vscode_datascience_helpers/jupyter_daemon.py\", line 160, in _start_notebook\n",
      "\u001b[1;31m    from notebook import app as app\n",
      "\u001b[1;31mImportError: cannot import name 'app' from 'notebook' (/Users/jaimesoroarubio/.pyenv/versions/3.10.6/envs/taxifare-env/lib/python3.10/site-packages/notebook/__init__.py)\n",
      "\u001b[1;31m\n",
      "\u001b[1;31mFailed to run jupyter as observable with args notebook --no-browser --notebook-dir=\"/Users/jaimesoroarubio/code/jaimesoroa/smarthealing/notebooks\" --config=/var/folders/jt/ljcpcwg95nv566n6vzs4822m0000gn/T/5a3bc81d-e081-4891-a241-15aaa83fb67d/jupyter_notebook_config.py --NotebookApp.iopub_data_rate_limit=10000000000.0. \n",
      "\u001b[1;31mView Jupyter <a href='command:jupyter.viewOutput'>log</a> for further details."
     ]
    }
   ],
   "source": [
    "df = pd.read_csv('../raw_data/datos.csv', delimiter = \";\")"
   ]
  },
  {
   "cell_type": "code",
   "execution_count": null,
   "metadata": {},
   "outputs": [
    {
     "ename": "",
     "evalue": "",
     "output_type": "error",
     "traceback": [
      "\u001b[1;31mFailed to start the Kernel. \n",
      "\u001b[1;31mTraceback (most recent call last):\n",
      "\u001b[1;31m  File \"/Users/jaimesoroarubio/.vscode/extensions/ms-toolsai.jupyter-2022.9.1303220346/pythonFiles/vscode_datascience_helpers/jupyter_daemon.py\", line 158, in _start_notebook\n",
      "\u001b[1;31m    from notebook import notebookapp as app\n",
      "\u001b[1;31m  File \"/Users/jaimesoroarubio/.pyenv/versions/3.10.6/envs/taxifare-env/lib/python3.10/site-packages/notebook/notebookapp.py\", line 57, in <module>\n",
      "\u001b[1;31m    raise ImportError(_(\"The Jupyter Notebook requires tornado >= 5.0, but you have %s\") % tornado.version)\n",
      "\u001b[1;31mImportError: The Jupyter Notebook requires tornado >= 5.0, but you have 4.5.3\n",
      "\u001b[1;31m\n",
      "\u001b[1;31mDuring handling of the above exception, another exception occurred:\n",
      "\u001b[1;31m\n",
      "\u001b[1;31mTraceback (most recent call last):\n",
      "\u001b[1;31m  File \"/Users/jaimesoroarubio/.vscode/extensions/ms-toolsai.jupyter-2022.9.1303220346/pythonFiles/vscode_datascience_helpers/daemon/daemon_python.py\", line 54, in _decorator\n",
      "\u001b[1;31m    return func(self, *args, **kwargs)\n",
      "\u001b[1;31m  File \"/Users/jaimesoroarubio/.vscode/extensions/ms-toolsai.jupyter-2022.9.1303220346/pythonFiles/vscode_datascience_helpers/jupyter_daemon.py\", line 111, in m_exec_module_observable\n",
      "\u001b[1;31m    self._start_notebook(args, cwd, env)\n",
      "\u001b[1;31m  File \"/Users/jaimesoroarubio/.vscode/extensions/ms-toolsai.jupyter-2022.9.1303220346/pythonFiles/vscode_datascience_helpers/jupyter_daemon.py\", line 160, in _start_notebook\n",
      "\u001b[1;31m    from notebook import app as app\n",
      "\u001b[1;31mImportError: cannot import name 'app' from 'notebook' (/Users/jaimesoroarubio/.pyenv/versions/3.10.6/envs/taxifare-env/lib/python3.10/site-packages/notebook/__init__.py)\n",
      "\u001b[1;31m\n",
      "\u001b[1;31mFailed to run jupyter as observable with args notebook --no-browser --notebook-dir=\"/Users/jaimesoroarubio/code/jaimesoroa/smarthealing/notebooks\" --config=/var/folders/jt/ljcpcwg95nv566n6vzs4822m0000gn/T/5a3bc81d-e081-4891-a241-15aaa83fb67d/jupyter_notebook_config.py --NotebookApp.iopub_data_rate_limit=10000000000.0. \n",
      "\u001b[1;31mView Jupyter <a href='command:jupyter.viewOutput'>log</a> for further details."
     ]
    }
   ],
   "source": [
    "df"
   ]
  },
  {
   "cell_type": "code",
   "execution_count": null,
   "metadata": {},
   "outputs": [
    {
     "ename": "",
     "evalue": "",
     "output_type": "error",
     "traceback": [
      "\u001b[1;31mFailed to start the Kernel. \n",
      "\u001b[1;31mTraceback (most recent call last):\n",
      "\u001b[1;31m  File \"/Users/jaimesoroarubio/.vscode/extensions/ms-toolsai.jupyter-2022.9.1303220346/pythonFiles/vscode_datascience_helpers/jupyter_daemon.py\", line 158, in _start_notebook\n",
      "\u001b[1;31m    from notebook import notebookapp as app\n",
      "\u001b[1;31m  File \"/Users/jaimesoroarubio/.pyenv/versions/3.10.6/envs/taxifare-env/lib/python3.10/site-packages/notebook/notebookapp.py\", line 57, in <module>\n",
      "\u001b[1;31m    raise ImportError(_(\"The Jupyter Notebook requires tornado >= 5.0, but you have %s\") % tornado.version)\n",
      "\u001b[1;31mImportError: The Jupyter Notebook requires tornado >= 5.0, but you have 4.5.3\n",
      "\u001b[1;31m\n",
      "\u001b[1;31mDuring handling of the above exception, another exception occurred:\n",
      "\u001b[1;31m\n",
      "\u001b[1;31mTraceback (most recent call last):\n",
      "\u001b[1;31m  File \"/Users/jaimesoroarubio/.vscode/extensions/ms-toolsai.jupyter-2022.9.1303220346/pythonFiles/vscode_datascience_helpers/daemon/daemon_python.py\", line 54, in _decorator\n",
      "\u001b[1;31m    return func(self, *args, **kwargs)\n",
      "\u001b[1;31m  File \"/Users/jaimesoroarubio/.vscode/extensions/ms-toolsai.jupyter-2022.9.1303220346/pythonFiles/vscode_datascience_helpers/jupyter_daemon.py\", line 111, in m_exec_module_observable\n",
      "\u001b[1;31m    self._start_notebook(args, cwd, env)\n",
      "\u001b[1;31m  File \"/Users/jaimesoroarubio/.vscode/extensions/ms-toolsai.jupyter-2022.9.1303220346/pythonFiles/vscode_datascience_helpers/jupyter_daemon.py\", line 160, in _start_notebook\n",
      "\u001b[1;31m    from notebook import app as app\n",
      "\u001b[1;31mImportError: cannot import name 'app' from 'notebook' (/Users/jaimesoroarubio/.pyenv/versions/3.10.6/envs/taxifare-env/lib/python3.10/site-packages/notebook/__init__.py)\n",
      "\u001b[1;31m\n",
      "\u001b[1;31mFailed to run jupyter as observable with args notebook --no-browser --notebook-dir=\"/Users/jaimesoroarubio/code/jaimesoroa/smarthealing/notebooks\" --config=/var/folders/jt/ljcpcwg95nv566n6vzs4822m0000gn/T/5a3bc81d-e081-4891-a241-15aaa83fb67d/jupyter_notebook_config.py --NotebookApp.iopub_data_rate_limit=10000000000.0. \n",
      "\u001b[1;31mView Jupyter <a href='command:jupyter.viewOutput'>log</a> for further details."
     ]
    }
   ],
   "source": [
    "app = FastAPI()"
   ]
  },
  {
   "cell_type": "code",
   "execution_count": null,
   "metadata": {},
   "outputs": [
    {
     "ename": "",
     "evalue": "",
     "output_type": "error",
     "traceback": [
      "\u001b[1;31mFailed to start the Kernel. \n",
      "\u001b[1;31mTraceback (most recent call last):\n",
      "\u001b[1;31m  File \"/Users/jaimesoroarubio/.vscode/extensions/ms-toolsai.jupyter-2022.9.1303220346/pythonFiles/vscode_datascience_helpers/jupyter_daemon.py\", line 158, in _start_notebook\n",
      "\u001b[1;31m    from notebook import notebookapp as app\n",
      "\u001b[1;31m  File \"/Users/jaimesoroarubio/.pyenv/versions/3.10.6/envs/taxifare-env/lib/python3.10/site-packages/notebook/notebookapp.py\", line 57, in <module>\n",
      "\u001b[1;31m    raise ImportError(_(\"The Jupyter Notebook requires tornado >= 5.0, but you have %s\") % tornado.version)\n",
      "\u001b[1;31mImportError: The Jupyter Notebook requires tornado >= 5.0, but you have 4.5.3\n",
      "\u001b[1;31m\n",
      "\u001b[1;31mDuring handling of the above exception, another exception occurred:\n",
      "\u001b[1;31m\n",
      "\u001b[1;31mTraceback (most recent call last):\n",
      "\u001b[1;31m  File \"/Users/jaimesoroarubio/.vscode/extensions/ms-toolsai.jupyter-2022.9.1303220346/pythonFiles/vscode_datascience_helpers/daemon/daemon_python.py\", line 54, in _decorator\n",
      "\u001b[1;31m    return func(self, *args, **kwargs)\n",
      "\u001b[1;31m  File \"/Users/jaimesoroarubio/.vscode/extensions/ms-toolsai.jupyter-2022.9.1303220346/pythonFiles/vscode_datascience_helpers/jupyter_daemon.py\", line 111, in m_exec_module_observable\n",
      "\u001b[1;31m    self._start_notebook(args, cwd, env)\n",
      "\u001b[1;31m  File \"/Users/jaimesoroarubio/.vscode/extensions/ms-toolsai.jupyter-2022.9.1303220346/pythonFiles/vscode_datascience_helpers/jupyter_daemon.py\", line 160, in _start_notebook\n",
      "\u001b[1;31m    from notebook import app as app\n",
      "\u001b[1;31mImportError: cannot import name 'app' from 'notebook' (/Users/jaimesoroarubio/.pyenv/versions/3.10.6/envs/taxifare-env/lib/python3.10/site-packages/notebook/__init__.py)\n",
      "\u001b[1;31m\n",
      "\u001b[1;31mFailed to run jupyter as observable with args notebook --no-browser --notebook-dir=\"/Users/jaimesoroarubio/code/jaimesoroa/smarthealing/notebooks\" --config=/var/folders/jt/ljcpcwg95nv566n6vzs4822m0000gn/T/5a3bc81d-e081-4891-a241-15aaa83fb67d/jupyter_notebook_config.py --NotebookApp.iopub_data_rate_limit=10000000000.0. \n",
      "\u001b[1;31mView Jupyter <a href='command:jupyter.viewOutput'>log</a> for further details."
     ]
    }
   ],
   "source": [
    "# Define a root `/` endpoint\n",
    "@app.get('/')\n",
    "def index():\n",
    "    return {'greeting': 'Hello'}"
   ]
  },
  {
   "cell_type": "code",
   "execution_count": null,
   "metadata": {},
   "outputs": [
    {
     "ename": "",
     "evalue": "",
     "output_type": "error",
     "traceback": [
      "\u001b[1;31mFailed to start the Kernel. \n",
      "\u001b[1;31mTraceback (most recent call last):\n",
      "\u001b[1;31m  File \"/Users/jaimesoroarubio/.vscode/extensions/ms-toolsai.jupyter-2022.9.1303220346/pythonFiles/vscode_datascience_helpers/jupyter_daemon.py\", line 158, in _start_notebook\n",
      "\u001b[1;31m    from notebook import notebookapp as app\n",
      "\u001b[1;31m  File \"/Users/jaimesoroarubio/.pyenv/versions/3.10.6/envs/taxifare-env/lib/python3.10/site-packages/notebook/notebookapp.py\", line 57, in <module>\n",
      "\u001b[1;31m    raise ImportError(_(\"The Jupyter Notebook requires tornado >= 5.0, but you have %s\") % tornado.version)\n",
      "\u001b[1;31mImportError: The Jupyter Notebook requires tornado >= 5.0, but you have 4.5.3\n",
      "\u001b[1;31m\n",
      "\u001b[1;31mDuring handling of the above exception, another exception occurred:\n",
      "\u001b[1;31m\n",
      "\u001b[1;31mTraceback (most recent call last):\n",
      "\u001b[1;31m  File \"/Users/jaimesoroarubio/.vscode/extensions/ms-toolsai.jupyter-2022.9.1303220346/pythonFiles/vscode_datascience_helpers/daemon/daemon_python.py\", line 54, in _decorator\n",
      "\u001b[1;31m    return func(self, *args, **kwargs)\n",
      "\u001b[1;31m  File \"/Users/jaimesoroarubio/.vscode/extensions/ms-toolsai.jupyter-2022.9.1303220346/pythonFiles/vscode_datascience_helpers/jupyter_daemon.py\", line 111, in m_exec_module_observable\n",
      "\u001b[1;31m    self._start_notebook(args, cwd, env)\n",
      "\u001b[1;31m  File \"/Users/jaimesoroarubio/.vscode/extensions/ms-toolsai.jupyter-2022.9.1303220346/pythonFiles/vscode_datascience_helpers/jupyter_daemon.py\", line 160, in _start_notebook\n",
      "\u001b[1;31m    from notebook import app as app\n",
      "\u001b[1;31mImportError: cannot import name 'app' from 'notebook' (/Users/jaimesoroarubio/.pyenv/versions/3.10.6/envs/taxifare-env/lib/python3.10/site-packages/notebook/__init__.py)\n",
      "\u001b[1;31m\n",
      "\u001b[1;31mFailed to run jupyter as observable with args notebook --no-browser --notebook-dir=\"/Users/jaimesoroarubio/code/jaimesoroa/smarthealing/notebooks\" --config=/var/folders/jt/ljcpcwg95nv566n6vzs4822m0000gn/T/5a3bc81d-e081-4891-a241-15aaa83fb67d/jupyter_notebook_config.py --NotebookApp.iopub_data_rate_limit=10000000000.0. \n",
      "\u001b[1;31mView Jupyter <a href='command:jupyter.viewOutput'>log</a> for further details."
     ]
    }
   ],
   "source": [
    "DTYPES_RAW_OPTIMIZED = {\n",
    "    \"key\": \"O\",\n",
    "    \"ContadorBajasCCC\": \"int64\",\n",
    "    \"ContadorBajasDNI\": \"int64\",\n",
    "    \"sexo\": \"int64\",\n",
    "    \"cnae\": \"int64\",\n",
    "    \"icd9\": \"float64\",\n",
    "    \"recaida\": \"int64\",\n",
    "    \"numtreb\": \"int64\",\n",
    "    \"codipostal\": \"int64\",\n",
    "    \"ContadordiasBajasDNI\": \"int64\",\n",
    "    \"contracte\": \"int64\",\n",
    "    \"grupcoti\": \"int64\",\n",
    "    \"pluriempleo\": \"int64\",\n",
    "    \"diasemana\": \"int64\",\n",
    "    \"tiempo_en_empresa\": \"float64\",\n",
    "    \"edad\": \"float64\",\n",
    "    \"mes_baja\": \"int64\",\n",
    "    \"epiweek\": \"int64\"\n",
    "}\n"
   ]
  },
  {
   "cell_type": "code",
   "execution_count": null,
   "metadata": {},
   "outputs": [
    {
     "ename": "",
     "evalue": "",
     "output_type": "error",
     "traceback": [
      "\u001b[1;31mFailed to start the Kernel. \n",
      "\u001b[1;31mTraceback (most recent call last):\n",
      "\u001b[1;31m  File \"/Users/jaimesoroarubio/.vscode/extensions/ms-toolsai.jupyter-2022.9.1303220346/pythonFiles/vscode_datascience_helpers/jupyter_daemon.py\", line 158, in _start_notebook\n",
      "\u001b[1;31m    from notebook import notebookapp as app\n",
      "\u001b[1;31m  File \"/Users/jaimesoroarubio/.pyenv/versions/3.10.6/envs/taxifare-env/lib/python3.10/site-packages/notebook/notebookapp.py\", line 57, in <module>\n",
      "\u001b[1;31m    raise ImportError(_(\"The Jupyter Notebook requires tornado >= 5.0, but you have %s\") % tornado.version)\n",
      "\u001b[1;31mImportError: The Jupyter Notebook requires tornado >= 5.0, but you have 4.5.3\n",
      "\u001b[1;31m\n",
      "\u001b[1;31mDuring handling of the above exception, another exception occurred:\n",
      "\u001b[1;31m\n",
      "\u001b[1;31mTraceback (most recent call last):\n",
      "\u001b[1;31m  File \"/Users/jaimesoroarubio/.vscode/extensions/ms-toolsai.jupyter-2022.9.1303220346/pythonFiles/vscode_datascience_helpers/daemon/daemon_python.py\", line 54, in _decorator\n",
      "\u001b[1;31m    return func(self, *args, **kwargs)\n",
      "\u001b[1;31m  File \"/Users/jaimesoroarubio/.vscode/extensions/ms-toolsai.jupyter-2022.9.1303220346/pythonFiles/vscode_datascience_helpers/jupyter_daemon.py\", line 111, in m_exec_module_observable\n",
      "\u001b[1;31m    self._start_notebook(args, cwd, env)\n",
      "\u001b[1;31m  File \"/Users/jaimesoroarubio/.vscode/extensions/ms-toolsai.jupyter-2022.9.1303220346/pythonFiles/vscode_datascience_helpers/jupyter_daemon.py\", line 160, in _start_notebook\n",
      "\u001b[1;31m    from notebook import app as app\n",
      "\u001b[1;31mImportError: cannot import name 'app' from 'notebook' (/Users/jaimesoroarubio/.pyenv/versions/3.10.6/envs/taxifare-env/lib/python3.10/site-packages/notebook/__init__.py)\n",
      "\u001b[1;31m\n",
      "\u001b[1;31mFailed to run jupyter as observable with args notebook --no-browser --notebook-dir=\"/Users/jaimesoroarubio/code/jaimesoroa/smarthealing/notebooks\" --config=/var/folders/jt/ljcpcwg95nv566n6vzs4822m0000gn/T/5a3bc81d-e081-4891-a241-15aaa83fb67d/jupyter_notebook_config.py --NotebookApp.iopub_data_rate_limit=10000000000.0. \n",
      "\u001b[1;31mView Jupyter <a href='command:jupyter.viewOutput'>log</a> for further details."
     ]
    }
   ],
   "source": [
    "COLUMN_NAMES_RAW = DTYPES_RAW_OPTIMIZED.keys()"
   ]
  },
  {
   "cell_type": "code",
   "execution_count": null,
   "metadata": {},
   "outputs": [
    {
     "ename": "",
     "evalue": "",
     "output_type": "error",
     "traceback": [
      "\u001b[1;31mFailed to start the Kernel. \n",
      "\u001b[1;31mTraceback (most recent call last):\n",
      "\u001b[1;31m  File \"/Users/jaimesoroarubio/.vscode/extensions/ms-toolsai.jupyter-2022.9.1303220346/pythonFiles/vscode_datascience_helpers/jupyter_daemon.py\", line 158, in _start_notebook\n",
      "\u001b[1;31m    from notebook import notebookapp as app\n",
      "\u001b[1;31m  File \"/Users/jaimesoroarubio/.pyenv/versions/3.10.6/envs/taxifare-env/lib/python3.10/site-packages/notebook/notebookapp.py\", line 57, in <module>\n",
      "\u001b[1;31m    raise ImportError(_(\"The Jupyter Notebook requires tornado >= 5.0, but you have %s\") % tornado.version)\n",
      "\u001b[1;31mImportError: The Jupyter Notebook requires tornado >= 5.0, but you have 4.5.3\n",
      "\u001b[1;31m\n",
      "\u001b[1;31mDuring handling of the above exception, another exception occurred:\n",
      "\u001b[1;31m\n",
      "\u001b[1;31mTraceback (most recent call last):\n",
      "\u001b[1;31m  File \"/Users/jaimesoroarubio/.vscode/extensions/ms-toolsai.jupyter-2022.9.1303220346/pythonFiles/vscode_datascience_helpers/daemon/daemon_python.py\", line 54, in _decorator\n",
      "\u001b[1;31m    return func(self, *args, **kwargs)\n",
      "\u001b[1;31m  File \"/Users/jaimesoroarubio/.vscode/extensions/ms-toolsai.jupyter-2022.9.1303220346/pythonFiles/vscode_datascience_helpers/jupyter_daemon.py\", line 111, in m_exec_module_observable\n",
      "\u001b[1;31m    self._start_notebook(args, cwd, env)\n",
      "\u001b[1;31m  File \"/Users/jaimesoroarubio/.vscode/extensions/ms-toolsai.jupyter-2022.9.1303220346/pythonFiles/vscode_datascience_helpers/jupyter_daemon.py\", line 160, in _start_notebook\n",
      "\u001b[1;31m    from notebook import app as app\n",
      "\u001b[1;31mImportError: cannot import name 'app' from 'notebook' (/Users/jaimesoroarubio/.pyenv/versions/3.10.6/envs/taxifare-env/lib/python3.10/site-packages/notebook/__init__.py)\n",
      "\u001b[1;31m\n",
      "\u001b[1;31mFailed to run jupyter as observable with args notebook --no-browser --notebook-dir=\"/Users/jaimesoroarubio/code/jaimesoroa/smarthealing/notebooks\" --config=/var/folders/jt/ljcpcwg95nv566n6vzs4822m0000gn/T/5a3bc81d-e081-4891-a241-15aaa83fb67d/jupyter_notebook_config.py --NotebookApp.iopub_data_rate_limit=10000000000.0. \n",
      "\u001b[1;31mView Jupyter <a href='command:jupyter.viewOutput'>log</a> for further details."
     ]
    }
   ],
   "source": [
    "COLUMN_NAMES_RAW"
   ]
  },
  {
   "cell_type": "code",
   "execution_count": null,
   "metadata": {},
   "outputs": [
    {
     "ename": "",
     "evalue": "",
     "output_type": "error",
     "traceback": [
      "\u001b[1;31mFailed to start the Kernel. \n",
      "\u001b[1;31mTraceback (most recent call last):\n",
      "\u001b[1;31m  File \"/Users/jaimesoroarubio/.vscode/extensions/ms-toolsai.jupyter-2022.9.1303220346/pythonFiles/vscode_datascience_helpers/jupyter_daemon.py\", line 158, in _start_notebook\n",
      "\u001b[1;31m    from notebook import notebookapp as app\n",
      "\u001b[1;31m  File \"/Users/jaimesoroarubio/.pyenv/versions/3.10.6/envs/taxifare-env/lib/python3.10/site-packages/notebook/notebookapp.py\", line 57, in <module>\n",
      "\u001b[1;31m    raise ImportError(_(\"The Jupyter Notebook requires tornado >= 5.0, but you have %s\") % tornado.version)\n",
      "\u001b[1;31mImportError: The Jupyter Notebook requires tornado >= 5.0, but you have 4.5.3\n",
      "\u001b[1;31m\n",
      "\u001b[1;31mDuring handling of the above exception, another exception occurred:\n",
      "\u001b[1;31m\n",
      "\u001b[1;31mTraceback (most recent call last):\n",
      "\u001b[1;31m  File \"/Users/jaimesoroarubio/.vscode/extensions/ms-toolsai.jupyter-2022.9.1303220346/pythonFiles/vscode_datascience_helpers/daemon/daemon_python.py\", line 54, in _decorator\n",
      "\u001b[1;31m    return func(self, *args, **kwargs)\n",
      "\u001b[1;31m  File \"/Users/jaimesoroarubio/.vscode/extensions/ms-toolsai.jupyter-2022.9.1303220346/pythonFiles/vscode_datascience_helpers/jupyter_daemon.py\", line 111, in m_exec_module_observable\n",
      "\u001b[1;31m    self._start_notebook(args, cwd, env)\n",
      "\u001b[1;31m  File \"/Users/jaimesoroarubio/.vscode/extensions/ms-toolsai.jupyter-2022.9.1303220346/pythonFiles/vscode_datascience_helpers/jupyter_daemon.py\", line 160, in _start_notebook\n",
      "\u001b[1;31m    from notebook import app as app\n",
      "\u001b[1;31mImportError: cannot import name 'app' from 'notebook' (/Users/jaimesoroarubio/.pyenv/versions/3.10.6/envs/taxifare-env/lib/python3.10/site-packages/notebook/__init__.py)\n",
      "\u001b[1;31m\n",
      "\u001b[1;31mFailed to run jupyter as observable with args notebook --no-browser --notebook-dir=\"/Users/jaimesoroarubio/code/jaimesoroa/smarthealing/notebooks\" --config=/var/folders/jt/ljcpcwg95nv566n6vzs4822m0000gn/T/5a3bc81d-e081-4891-a241-15aaa83fb67d/jupyter_notebook_config.py --NotebookApp.iopub_data_rate_limit=10000000000.0. \n",
      "\u001b[1;31mView Jupyter <a href='command:jupyter.viewOutput'>log</a> for further details."
     ]
    }
   ],
   "source": [
    "# Define a prediction `/` endpoint\n",
    "@app.get('/predict')\n",
    "def predict(ContadorBajasCCC: int,\n",
    "            ContadorBajasDNI: int,\n",
    "            sexo: int,\n",
    "            cnae: int,\n",
    "            icd9: float,\n",
    "            recaida: int,\n",
    "            numtreb: int,\n",
    "            codipostal: int,\n",
    "            ContadordiasBajasDNI: int,\n",
    "            contracte: int,\n",
    "            grupcoti: int,\n",
    "            pluriempleo: int,\n",
    "            diasemana: int,\n",
    "            tiempo_en_empresa: float,\n",
    "            edad: float,\n",
    "            mes_baja: int,\n",
    "            epiweek: int):\n",
    "    \"\"\"\n",
    "    we use type hinting to indicate the data types expected\n",
    "    for the parameters of the function\n",
    "    FastAPI uses this information in order to hand errors\n",
    "    to the developpers providing incompatible parameters\n",
    "    FastAPI also provides variables of the expected data type to use\n",
    "    without type hinting we need to manually convert\n",
    "    the parameters of the functions which are all received as strings\n",
    "    \"\"\"\n",
    "    key = ContadorBajasCCC\n",
    "    X_new = pd.DataFrame([key, ContadorBajasCCC, ContadorBajasDNI, sexo, cnae, icd9,\n",
    "       recaida, numtreb, codipostal, ContadordiasBajasDNI,\n",
    "       contracte, grupcoti, pluriempleo, diasemana,\n",
    "       tiempo_en_empresa, edad, mes_baja, epiweek]).T\n",
    "    X_new.columns = COLUMN_NAMES_RAW\n",
    "    X_new = X_new.astype(DTYPES_RAW_OPTIMIZED)\n",
    "    # X_new = preprocess_features(X_new)\n",
    "    y_pred = float(model.predict(X_new))\n",
    "    \n",
    "    return {'fare_amount': y_pred}"
   ]
  },
  {
   "cell_type": "code",
   "execution_count": null,
   "metadata": {},
   "outputs": [
    {
     "ename": "",
     "evalue": "",
     "output_type": "error",
     "traceback": [
      "\u001b[1;31mFailed to start the Kernel. \n",
      "\u001b[1;31mTraceback (most recent call last):\n",
      "\u001b[1;31m  File \"/Users/jaimesoroarubio/.vscode/extensions/ms-toolsai.jupyter-2022.9.1303220346/pythonFiles/vscode_datascience_helpers/jupyter_daemon.py\", line 158, in _start_notebook\n",
      "\u001b[1;31m    from notebook import notebookapp as app\n",
      "\u001b[1;31m  File \"/Users/jaimesoroarubio/.pyenv/versions/3.10.6/envs/taxifare-env/lib/python3.10/site-packages/notebook/notebookapp.py\", line 57, in <module>\n",
      "\u001b[1;31m    raise ImportError(_(\"The Jupyter Notebook requires tornado >= 5.0, but you have %s\") % tornado.version)\n",
      "\u001b[1;31mImportError: The Jupyter Notebook requires tornado >= 5.0, but you have 4.5.3\n",
      "\u001b[1;31m\n",
      "\u001b[1;31mDuring handling of the above exception, another exception occurred:\n",
      "\u001b[1;31m\n",
      "\u001b[1;31mTraceback (most recent call last):\n",
      "\u001b[1;31m  File \"/Users/jaimesoroarubio/.vscode/extensions/ms-toolsai.jupyter-2022.9.1303220346/pythonFiles/vscode_datascience_helpers/daemon/daemon_python.py\", line 54, in _decorator\n",
      "\u001b[1;31m    return func(self, *args, **kwargs)\n",
      "\u001b[1;31m  File \"/Users/jaimesoroarubio/.vscode/extensions/ms-toolsai.jupyter-2022.9.1303220346/pythonFiles/vscode_datascience_helpers/jupyter_daemon.py\", line 111, in m_exec_module_observable\n",
      "\u001b[1;31m    self._start_notebook(args, cwd, env)\n",
      "\u001b[1;31m  File \"/Users/jaimesoroarubio/.vscode/extensions/ms-toolsai.jupyter-2022.9.1303220346/pythonFiles/vscode_datascience_helpers/jupyter_daemon.py\", line 160, in _start_notebook\n",
      "\u001b[1;31m    from notebook import app as app\n",
      "\u001b[1;31mImportError: cannot import name 'app' from 'notebook' (/Users/jaimesoroarubio/.pyenv/versions/3.10.6/envs/taxifare-env/lib/python3.10/site-packages/notebook/__init__.py)\n",
      "\u001b[1;31m\n",
      "\u001b[1;31mFailed to run jupyter as observable with args notebook --no-browser --notebook-dir=\"/Users/jaimesoroarubio/code/jaimesoroa/smarthealing/notebooks\" --config=/var/folders/jt/ljcpcwg95nv566n6vzs4822m0000gn/T/5a3bc81d-e081-4891-a241-15aaa83fb67d/jupyter_notebook_config.py --NotebookApp.iopub_data_rate_limit=10000000000.0. \n",
      "\u001b[1;31mView Jupyter <a href='command:jupyter.viewOutput'>log</a> for further details."
     ]
    }
   ],
   "source": [
    "df = pd.read_csv('~/code/jaimesoroa/smarthealing/raw_data/datos.csv', delimiter = \";\")\n",
    "df = df.drop_duplicates()\n",
    "index1 = df[ (df['numtreb'] == 0)].index\n",
    "df.drop(index1 , inplace=True)\n",
    "index2 = df[  (df['contracte'] == '-') ].index\n",
    "df.drop(index2 , inplace=True)\n",
    "index3 = df[ (df['cnae'] == 0) ].index\n",
    "df.drop(index3 , inplace=True)\n",
    "index4 = df[  (df['codipostal'] == '-')].index\n",
    "df.drop(index4 , inplace=True)\n",
    "index5 = df[ (df['tiempo_en_empresa'] == 0.00)].index\n",
    "df.drop(index5 , inplace=True)\n",
    "index6 = df[ (df['grupcoti'] == '-')].index\n",
    "df.drop(index6 , inplace=True)\n",
    "df_2 = df.sort_values('icd9').head(50000)\n",
    "df_2['icd9'] = pd.to_numeric(df_2['icd9'])\n",
    "df_2['codipostal'] = pd.to_numeric(df_2['codipostal'])\n",
    "df_2['contracte'] = pd.to_numeric(df_2['contracte'])\n",
    "df_2['grupcoti'] = pd.to_numeric(df_2['grupcoti'])\n",
    "X = df_2.drop(columns = ['duracion_baja'])\n",
    "y = df_2[\"duracion_baja\"]\n",
    "# X_train, X_test, y_train, y_test = train_test_split(X, y, test_size=0.33)\n",
    "X_train = X.head(30000)\n",
    "y_train = y.head(30000)\n",
    "X_test = X.tail(20000)"
   ]
  },
  {
   "cell_type": "code",
   "execution_count": null,
   "metadata": {},
   "outputs": [
    {
     "ename": "",
     "evalue": "",
     "output_type": "error",
     "traceback": [
      "\u001b[1;31mFailed to start the Kernel. \n",
      "\u001b[1;31mTraceback (most recent call last):\n",
      "\u001b[1;31m  File \"/Users/jaimesoroarubio/.vscode/extensions/ms-toolsai.jupyter-2022.9.1303220346/pythonFiles/vscode_datascience_helpers/jupyter_daemon.py\", line 158, in _start_notebook\n",
      "\u001b[1;31m    from notebook import notebookapp as app\n",
      "\u001b[1;31m  File \"/Users/jaimesoroarubio/.pyenv/versions/3.10.6/envs/taxifare-env/lib/python3.10/site-packages/notebook/notebookapp.py\", line 57, in <module>\n",
      "\u001b[1;31m    raise ImportError(_(\"The Jupyter Notebook requires tornado >= 5.0, but you have %s\") % tornado.version)\n",
      "\u001b[1;31mImportError: The Jupyter Notebook requires tornado >= 5.0, but you have 4.5.3\n",
      "\u001b[1;31m\n",
      "\u001b[1;31mDuring handling of the above exception, another exception occurred:\n",
      "\u001b[1;31m\n",
      "\u001b[1;31mTraceback (most recent call last):\n",
      "\u001b[1;31m  File \"/Users/jaimesoroarubio/.vscode/extensions/ms-toolsai.jupyter-2022.9.1303220346/pythonFiles/vscode_datascience_helpers/daemon/daemon_python.py\", line 54, in _decorator\n",
      "\u001b[1;31m    return func(self, *args, **kwargs)\n",
      "\u001b[1;31m  File \"/Users/jaimesoroarubio/.vscode/extensions/ms-toolsai.jupyter-2022.9.1303220346/pythonFiles/vscode_datascience_helpers/jupyter_daemon.py\", line 111, in m_exec_module_observable\n",
      "\u001b[1;31m    self._start_notebook(args, cwd, env)\n",
      "\u001b[1;31m  File \"/Users/jaimesoroarubio/.vscode/extensions/ms-toolsai.jupyter-2022.9.1303220346/pythonFiles/vscode_datascience_helpers/jupyter_daemon.py\", line 160, in _start_notebook\n",
      "\u001b[1;31m    from notebook import app as app\n",
      "\u001b[1;31mImportError: cannot import name 'app' from 'notebook' (/Users/jaimesoroarubio/.pyenv/versions/3.10.6/envs/taxifare-env/lib/python3.10/site-packages/notebook/__init__.py)\n",
      "\u001b[1;31m\n",
      "\u001b[1;31mFailed to run jupyter as observable with args notebook --no-browser --notebook-dir=\"/Users/jaimesoroarubio/code/jaimesoroa/smarthealing/notebooks\" --config=/var/folders/jt/ljcpcwg95nv566n6vzs4822m0000gn/T/5a3bc81d-e081-4891-a241-15aaa83fb67d/jupyter_notebook_config.py --NotebookApp.iopub_data_rate_limit=10000000000.0. \n",
      "\u001b[1;31mView Jupyter <a href='command:jupyter.viewOutput'>log</a> for further details."
     ]
    }
   ],
   "source": [
    "model = LinearRegression()\n",
    "model_fit = model.fit(X_train, y_train)"
   ]
  },
  {
   "cell_type": "code",
   "execution_count": null,
   "metadata": {},
   "outputs": [
    {
     "ename": "",
     "evalue": "",
     "output_type": "error",
     "traceback": [
      "\u001b[1;31mFailed to start the Kernel. \n",
      "\u001b[1;31mTraceback (most recent call last):\n",
      "\u001b[1;31m  File \"/Users/jaimesoroarubio/.vscode/extensions/ms-toolsai.jupyter-2022.9.1303220346/pythonFiles/vscode_datascience_helpers/jupyter_daemon.py\", line 158, in _start_notebook\n",
      "\u001b[1;31m    from notebook import notebookapp as app\n",
      "\u001b[1;31m  File \"/Users/jaimesoroarubio/.pyenv/versions/3.10.6/envs/taxifare-env/lib/python3.10/site-packages/notebook/notebookapp.py\", line 57, in <module>\n",
      "\u001b[1;31m    raise ImportError(_(\"The Jupyter Notebook requires tornado >= 5.0, but you have %s\") % tornado.version)\n",
      "\u001b[1;31mImportError: The Jupyter Notebook requires tornado >= 5.0, but you have 4.5.3\n",
      "\u001b[1;31m\n",
      "\u001b[1;31mDuring handling of the above exception, another exception occurred:\n",
      "\u001b[1;31m\n",
      "\u001b[1;31mTraceback (most recent call last):\n",
      "\u001b[1;31m  File \"/Users/jaimesoroarubio/.vscode/extensions/ms-toolsai.jupyter-2022.9.1303220346/pythonFiles/vscode_datascience_helpers/daemon/daemon_python.py\", line 54, in _decorator\n",
      "\u001b[1;31m    return func(self, *args, **kwargs)\n",
      "\u001b[1;31m  File \"/Users/jaimesoroarubio/.vscode/extensions/ms-toolsai.jupyter-2022.9.1303220346/pythonFiles/vscode_datascience_helpers/jupyter_daemon.py\", line 111, in m_exec_module_observable\n",
      "\u001b[1;31m    self._start_notebook(args, cwd, env)\n",
      "\u001b[1;31m  File \"/Users/jaimesoroarubio/.vscode/extensions/ms-toolsai.jupyter-2022.9.1303220346/pythonFiles/vscode_datascience_helpers/jupyter_daemon.py\", line 160, in _start_notebook\n",
      "\u001b[1;31m    from notebook import app as app\n",
      "\u001b[1;31mImportError: cannot import name 'app' from 'notebook' (/Users/jaimesoroarubio/.pyenv/versions/3.10.6/envs/taxifare-env/lib/python3.10/site-packages/notebook/__init__.py)\n",
      "\u001b[1;31m\n",
      "\u001b[1;31mFailed to run jupyter as observable with args notebook --no-browser --notebook-dir=\"/Users/jaimesoroarubio/code/jaimesoroa/smarthealing/notebooks\" --config=/var/folders/jt/ljcpcwg95nv566n6vzs4822m0000gn/T/5a3bc81d-e081-4891-a241-15aaa83fb67d/jupyter_notebook_config.py --NotebookApp.iopub_data_rate_limit=10000000000.0. \n",
      "\u001b[1;31mView Jupyter <a href='command:jupyter.viewOutput'>log</a> for further details."
     ]
    }
   ],
   "source": [
    "pred_2 = model_fit.predict(X_test.iloc[[0]])\n",
    "pred_2"
   ]
  },
  {
   "cell_type": "code",
   "execution_count": null,
   "metadata": {},
   "outputs": [
    {
     "ename": "",
     "evalue": "",
     "output_type": "error",
     "traceback": [
      "\u001b[1;31mFailed to start the Kernel. \n",
      "\u001b[1;31mTraceback (most recent call last):\n",
      "\u001b[1;31m  File \"/Users/jaimesoroarubio/.vscode/extensions/ms-toolsai.jupyter-2022.9.1303220346/pythonFiles/vscode_datascience_helpers/jupyter_daemon.py\", line 158, in _start_notebook\n",
      "\u001b[1;31m    from notebook import notebookapp as app\n",
      "\u001b[1;31m  File \"/Users/jaimesoroarubio/.pyenv/versions/3.10.6/envs/taxifare-env/lib/python3.10/site-packages/notebook/notebookapp.py\", line 57, in <module>\n",
      "\u001b[1;31m    raise ImportError(_(\"The Jupyter Notebook requires tornado >= 5.0, but you have %s\") % tornado.version)\n",
      "\u001b[1;31mImportError: The Jupyter Notebook requires tornado >= 5.0, but you have 4.5.3\n",
      "\u001b[1;31m\n",
      "\u001b[1;31mDuring handling of the above exception, another exception occurred:\n",
      "\u001b[1;31m\n",
      "\u001b[1;31mTraceback (most recent call last):\n",
      "\u001b[1;31m  File \"/Users/jaimesoroarubio/.vscode/extensions/ms-toolsai.jupyter-2022.9.1303220346/pythonFiles/vscode_datascience_helpers/daemon/daemon_python.py\", line 54, in _decorator\n",
      "\u001b[1;31m    return func(self, *args, **kwargs)\n",
      "\u001b[1;31m  File \"/Users/jaimesoroarubio/.vscode/extensions/ms-toolsai.jupyter-2022.9.1303220346/pythonFiles/vscode_datascience_helpers/jupyter_daemon.py\", line 111, in m_exec_module_observable\n",
      "\u001b[1;31m    self._start_notebook(args, cwd, env)\n",
      "\u001b[1;31m  File \"/Users/jaimesoroarubio/.vscode/extensions/ms-toolsai.jupyter-2022.9.1303220346/pythonFiles/vscode_datascience_helpers/jupyter_daemon.py\", line 160, in _start_notebook\n",
      "\u001b[1;31m    from notebook import app as app\n",
      "\u001b[1;31mImportError: cannot import name 'app' from 'notebook' (/Users/jaimesoroarubio/.pyenv/versions/3.10.6/envs/taxifare-env/lib/python3.10/site-packages/notebook/__init__.py)\n",
      "\u001b[1;31m\n",
      "\u001b[1;31mFailed to run jupyter as observable with args notebook --no-browser --notebook-dir=\"/Users/jaimesoroarubio/code/jaimesoroa/smarthealing/notebooks\" --config=/var/folders/jt/ljcpcwg95nv566n6vzs4822m0000gn/T/5a3bc81d-e081-4891-a241-15aaa83fb67d/jupyter_notebook_config.py --NotebookApp.iopub_data_rate_limit=10000000000.0. \n",
      "\u001b[1;31mView Jupyter <a href='command:jupyter.viewOutput'>log</a> for further details."
     ]
    }
   ],
   "source": [
    "X_test.iloc[[0]]"
   ]
  },
  {
   "cell_type": "code",
   "execution_count": null,
   "metadata": {},
   "outputs": [
    {
     "ename": "",
     "evalue": "",
     "output_type": "error",
     "traceback": [
      "\u001b[1;31mFailed to start the Kernel. \n",
      "\u001b[1;31mTraceback (most recent call last):\n",
      "\u001b[1;31m  File \"/Users/jaimesoroarubio/.vscode/extensions/ms-toolsai.jupyter-2022.9.1303220346/pythonFiles/vscode_datascience_helpers/jupyter_daemon.py\", line 158, in _start_notebook\n",
      "\u001b[1;31m    from notebook import notebookapp as app\n",
      "\u001b[1;31m  File \"/Users/jaimesoroarubio/.pyenv/versions/3.10.6/envs/taxifare-env/lib/python3.10/site-packages/notebook/notebookapp.py\", line 57, in <module>\n",
      "\u001b[1;31m    raise ImportError(_(\"The Jupyter Notebook requires tornado >= 5.0, but you have %s\") % tornado.version)\n",
      "\u001b[1;31mImportError: The Jupyter Notebook requires tornado >= 5.0, but you have 4.5.3\n",
      "\u001b[1;31m\n",
      "\u001b[1;31mDuring handling of the above exception, another exception occurred:\n",
      "\u001b[1;31m\n",
      "\u001b[1;31mTraceback (most recent call last):\n",
      "\u001b[1;31m  File \"/Users/jaimesoroarubio/.vscode/extensions/ms-toolsai.jupyter-2022.9.1303220346/pythonFiles/vscode_datascience_helpers/daemon/daemon_python.py\", line 54, in _decorator\n",
      "\u001b[1;31m    return func(self, *args, **kwargs)\n",
      "\u001b[1;31m  File \"/Users/jaimesoroarubio/.vscode/extensions/ms-toolsai.jupyter-2022.9.1303220346/pythonFiles/vscode_datascience_helpers/jupyter_daemon.py\", line 111, in m_exec_module_observable\n",
      "\u001b[1;31m    self._start_notebook(args, cwd, env)\n",
      "\u001b[1;31m  File \"/Users/jaimesoroarubio/.vscode/extensions/ms-toolsai.jupyter-2022.9.1303220346/pythonFiles/vscode_datascience_helpers/jupyter_daemon.py\", line 160, in _start_notebook\n",
      "\u001b[1;31m    from notebook import app as app\n",
      "\u001b[1;31mImportError: cannot import name 'app' from 'notebook' (/Users/jaimesoroarubio/.pyenv/versions/3.10.6/envs/taxifare-env/lib/python3.10/site-packages/notebook/__init__.py)\n",
      "\u001b[1;31m\n",
      "\u001b[1;31mFailed to run jupyter as observable with args notebook --no-browser --notebook-dir=\"/Users/jaimesoroarubio/code/jaimesoroa/smarthealing/notebooks\" --config=/var/folders/jt/ljcpcwg95nv566n6vzs4822m0000gn/T/5a3bc81d-e081-4891-a241-15aaa83fb67d/jupyter_notebook_config.py --NotebookApp.iopub_data_rate_limit=10000000000.0. \n",
      "\u001b[1;31mView Jupyter <a href='command:jupyter.viewOutput'>log</a> for further details."
     ]
    }
   ],
   "source": [
    "pred_3 = model_fit.predict(X_test.iloc[[50]])\n",
    "pred_3"
   ]
  },
  {
   "cell_type": "code",
   "execution_count": null,
   "metadata": {},
   "outputs": [
    {
     "ename": "",
     "evalue": "",
     "output_type": "error",
     "traceback": [
      "\u001b[1;31mFailed to start the Kernel. \n",
      "\u001b[1;31mTraceback (most recent call last):\n",
      "\u001b[1;31m  File \"/Users/jaimesoroarubio/.vscode/extensions/ms-toolsai.jupyter-2022.9.1303220346/pythonFiles/vscode_datascience_helpers/jupyter_daemon.py\", line 158, in _start_notebook\n",
      "\u001b[1;31m    from notebook import notebookapp as app\n",
      "\u001b[1;31m  File \"/Users/jaimesoroarubio/.pyenv/versions/3.10.6/envs/taxifare-env/lib/python3.10/site-packages/notebook/notebookapp.py\", line 57, in <module>\n",
      "\u001b[1;31m    raise ImportError(_(\"The Jupyter Notebook requires tornado >= 5.0, but you have %s\") % tornado.version)\n",
      "\u001b[1;31mImportError: The Jupyter Notebook requires tornado >= 5.0, but you have 4.5.3\n",
      "\u001b[1;31m\n",
      "\u001b[1;31mDuring handling of the above exception, another exception occurred:\n",
      "\u001b[1;31m\n",
      "\u001b[1;31mTraceback (most recent call last):\n",
      "\u001b[1;31m  File \"/Users/jaimesoroarubio/.vscode/extensions/ms-toolsai.jupyter-2022.9.1303220346/pythonFiles/vscode_datascience_helpers/daemon/daemon_python.py\", line 54, in _decorator\n",
      "\u001b[1;31m    return func(self, *args, **kwargs)\n",
      "\u001b[1;31m  File \"/Users/jaimesoroarubio/.vscode/extensions/ms-toolsai.jupyter-2022.9.1303220346/pythonFiles/vscode_datascience_helpers/jupyter_daemon.py\", line 111, in m_exec_module_observable\n",
      "\u001b[1;31m    self._start_notebook(args, cwd, env)\n",
      "\u001b[1;31m  File \"/Users/jaimesoroarubio/.vscode/extensions/ms-toolsai.jupyter-2022.9.1303220346/pythonFiles/vscode_datascience_helpers/jupyter_daemon.py\", line 160, in _start_notebook\n",
      "\u001b[1;31m    from notebook import app as app\n",
      "\u001b[1;31mImportError: cannot import name 'app' from 'notebook' (/Users/jaimesoroarubio/.pyenv/versions/3.10.6/envs/taxifare-env/lib/python3.10/site-packages/notebook/__init__.py)\n",
      "\u001b[1;31m\n",
      "\u001b[1;31mFailed to run jupyter as observable with args notebook --no-browser --notebook-dir=\"/Users/jaimesoroarubio/code/jaimesoroa/smarthealing/notebooks\" --config=/var/folders/jt/ljcpcwg95nv566n6vzs4822m0000gn/T/5a3bc81d-e081-4891-a241-15aaa83fb67d/jupyter_notebook_config.py --NotebookApp.iopub_data_rate_limit=10000000000.0. \n",
      "\u001b[1;31mView Jupyter <a href='command:jupyter.viewOutput'>log</a> for further details."
     ]
    }
   ],
   "source": [
    "X_test.iloc[[50]]"
   ]
  },
  {
   "cell_type": "code",
   "execution_count": null,
   "metadata": {},
   "outputs": [
    {
     "ename": "",
     "evalue": "",
     "output_type": "error",
     "traceback": [
      "\u001b[1;31mFailed to start the Kernel. \n",
      "\u001b[1;31mTraceback (most recent call last):\n",
      "\u001b[1;31m  File \"/Users/jaimesoroarubio/.vscode/extensions/ms-toolsai.jupyter-2022.9.1303220346/pythonFiles/vscode_datascience_helpers/jupyter_daemon.py\", line 158, in _start_notebook\n",
      "\u001b[1;31m    from notebook import notebookapp as app\n",
      "\u001b[1;31m  File \"/Users/jaimesoroarubio/.pyenv/versions/3.10.6/envs/taxifare-env/lib/python3.10/site-packages/notebook/notebookapp.py\", line 57, in <module>\n",
      "\u001b[1;31m    raise ImportError(_(\"The Jupyter Notebook requires tornado >= 5.0, but you have %s\") % tornado.version)\n",
      "\u001b[1;31mImportError: The Jupyter Notebook requires tornado >= 5.0, but you have 4.5.3\n",
      "\u001b[1;31m\n",
      "\u001b[1;31mDuring handling of the above exception, another exception occurred:\n",
      "\u001b[1;31m\n",
      "\u001b[1;31mTraceback (most recent call last):\n",
      "\u001b[1;31m  File \"/Users/jaimesoroarubio/.vscode/extensions/ms-toolsai.jupyter-2022.9.1303220346/pythonFiles/vscode_datascience_helpers/daemon/daemon_python.py\", line 54, in _decorator\n",
      "\u001b[1;31m    return func(self, *args, **kwargs)\n",
      "\u001b[1;31m  File \"/Users/jaimesoroarubio/.vscode/extensions/ms-toolsai.jupyter-2022.9.1303220346/pythonFiles/vscode_datascience_helpers/jupyter_daemon.py\", line 111, in m_exec_module_observable\n",
      "\u001b[1;31m    self._start_notebook(args, cwd, env)\n",
      "\u001b[1;31m  File \"/Users/jaimesoroarubio/.vscode/extensions/ms-toolsai.jupyter-2022.9.1303220346/pythonFiles/vscode_datascience_helpers/jupyter_daemon.py\", line 160, in _start_notebook\n",
      "\u001b[1;31m    from notebook import app as app\n",
      "\u001b[1;31mImportError: cannot import name 'app' from 'notebook' (/Users/jaimesoroarubio/.pyenv/versions/3.10.6/envs/taxifare-env/lib/python3.10/site-packages/notebook/__init__.py)\n",
      "\u001b[1;31m\n",
      "\u001b[1;31mFailed to run jupyter as observable with args notebook --no-browser --notebook-dir=\"/Users/jaimesoroarubio/code/jaimesoroa/smarthealing/notebooks\" --config=/var/folders/jt/ljcpcwg95nv566n6vzs4822m0000gn/T/5a3bc81d-e081-4891-a241-15aaa83fb67d/jupyter_notebook_config.py --NotebookApp.iopub_data_rate_limit=10000000000.0. \n",
      "\u001b[1;31mView Jupyter <a href='command:jupyter.viewOutput'>log</a> for further details."
     ]
    }
   ],
   "source": [
    "# 0. Load Data and Drop Duplicates\n",
    "data = pd.read_csv('../raw_data/datos.csv', delimiter = ';', low_memory = False)\n",
    "data.drop_duplicates(inplace = True)\n",
    "outliers = data.query('duracion_baja >= 250')  # Save outliers for analysis.\n",
    "data = data.query('duracion_baja < 250')\n",
    "data.drop_duplicates(inplace = True)\n",
    "\n",
    "# 1. Handle Null Values\n",
    "# CNAE (only 482)\n",
    "data = data.query('cnae != 0')\n",
    "\n",
    "# CodiPostal (Most Frequent)\n",
    "data['codipostal'] = data['codipostal'].replace('-', (data['codipostal']).mode()[0])\n",
    "\n",
    "# Contracte (Delete few wrongs and then Most Frequent)\n",
    "data = data[data['contracte'] != '001']\n",
    "data = data[data['contracte'] != '019']\n",
    "data = data[data['contracte'] != '999']\n",
    "\n",
    "mf_contracte = data['contracte'].mode()[0]\n",
    "data['contracte'] = data['contracte'].replace('000', mf_contracte).replace('-', mf_contracte)\n",
    "\n",
    "# Grupcoti (Most Frequent)\n",
    "mf_grupcoti = data['grupcoti'].mode()[0]\n",
    "data['grupcoti'] = data['grupcoti'].replace('-', mf_grupcoti).replace('0', mf_grupcoti)\n",
    "\n",
    "# 2. Data Cleaning\n",
    "# ContadorBajasCCC (non-sense)\n",
    "data.drop('ContadorBajasCCC', axis = 1, inplace = True)\n",
    "\n",
    "# ContadorBajasDNI vs ContadordiasBajasDNI\n",
    "data = data.query('ContadorBajasDNI <= ContadordiasBajasDNI')\n",
    "\n",
    "# Categorize CNAE\n",
    "c = pd.read_excel('Tabla_cnae.xlsx', usecols = ['GRUPO', 'COD_CNAE2009'])\n",
    "c.rename(columns = {'GRUPO': 'cnae_cat', 'COD_CNAE2009': 'cnae'}, inplace = True)\n",
    "c['cnae_cat'] = c['cnae_cat'].map(lambda x: ord(x) - 64)\n",
    "c = c.query('cnae.str.isnumeric()').astype('int')\n",
    "data = data.merge(c, how = 'left', on = 'cnae')\n",
    "\n",
    "# Sickness Types\n",
    "block_ends = [140,240,280,290,320,390,460,520,580,630,680,710,740,760,780,800,1000]\n",
    "blocks = [[i+1, s] for i, s in enumerate(block_ends)]\n",
    "special_cases = ['E','V','M']\n",
    "\n",
    "def make_icd9_cat(row):\n",
    "    first_str = row.icd9[0]\n",
    "    if first_str == 'E':\n",
    "        return 18\n",
    "    if first_str == 'V':\n",
    "        return 19\n",
    "    if first_str == 'M':\n",
    "        return 20\n",
    "    else:\n",
    "        code = float(row.icd9)\n",
    "        for block in blocks:\n",
    "            if code < block[1]:\n",
    "                return block[0]\n",
    "data['icd9_cat'] = data.apply(lambda row: make_icd9_cat(row), axis=1)\n",
    "\n",
    "# Sickness Wrong Values\n",
    "data = data.query('sexo != 1 | icd9_cat != 11')\n",
    "data = data[~((data['sexo'] == 1) & (data['icd9'].str[:2].isin(['61', '62'])))]\n",
    "data = data[~((data['sexo'] == 2) & (data['icd9'].str[:2] == '60'))]\n",
    "\n",
    "# Post Code Categories.\n",
    "data['codipostal_cat'] = data['codipostal'].str[:2]\n",
    "\n",
    "# Time in company\n",
    "# Add 0.01 to have the upper limit. (0.00 means up to 3 days)\n",
    "data['proporcion_baja'] = (data['duracion_baja'] / (365 * (data['tiempo_en_empresa'] + 0.01)))\n",
    "by_wrong_proportion = data.sort_values(by = 'proporcion_baja', axis = 0, ascending = False)\n",
    "data = data.query('proporcion_baja <= 1')\n",
    "data.drop('proporcion_baja', axis = 1, inplace = True)\n",
    "\n",
    "# Month not required\n",
    "data.drop('mes_baja', axis = 1, inplace = True)\n",
    "\n",
    "# Cyclic Calendar\n",
    "data['time'] = (2 * pi * (data['epiweek'] - 1) + ((data['diasemana'] - 1) / 7)) / 52\n",
    "data['sin_time'] = np.sin(data['time'])\n",
    "data['cos_time'] = np.cos(data['time'])\n",
    "data.drop(['time', 'diasemana', 'epiweek'], axis = 1, inplace = True)\n",
    "\n",
    "# 3. Prepare Data for ML\n",
    "data.drop(['cnae', 'icd9', 'codipostal', 'contracte'], axis = 1, inplace = True)\n",
    "\n"
   ]
  },
  {
   "cell_type": "code",
   "execution_count": null,
   "metadata": {},
   "outputs": [
    {
     "ename": "",
     "evalue": "",
     "output_type": "error",
     "traceback": [
      "\u001b[1;31mFailed to start the Kernel. \n",
      "\u001b[1;31mTraceback (most recent call last):\n",
      "\u001b[1;31m  File \"/Users/jaimesoroarubio/.vscode/extensions/ms-toolsai.jupyter-2022.9.1303220346/pythonFiles/vscode_datascience_helpers/jupyter_daemon.py\", line 158, in _start_notebook\n",
      "\u001b[1;31m    from notebook import notebookapp as app\n",
      "\u001b[1;31m  File \"/Users/jaimesoroarubio/.pyenv/versions/3.10.6/envs/taxifare-env/lib/python3.10/site-packages/notebook/notebookapp.py\", line 57, in <module>\n",
      "\u001b[1;31m    raise ImportError(_(\"The Jupyter Notebook requires tornado >= 5.0, but you have %s\") % tornado.version)\n",
      "\u001b[1;31mImportError: The Jupyter Notebook requires tornado >= 5.0, but you have 4.5.3\n",
      "\u001b[1;31m\n",
      "\u001b[1;31mDuring handling of the above exception, another exception occurred:\n",
      "\u001b[1;31m\n",
      "\u001b[1;31mTraceback (most recent call last):\n",
      "\u001b[1;31m  File \"/Users/jaimesoroarubio/.vscode/extensions/ms-toolsai.jupyter-2022.9.1303220346/pythonFiles/vscode_datascience_helpers/daemon/daemon_python.py\", line 54, in _decorator\n",
      "\u001b[1;31m    return func(self, *args, **kwargs)\n",
      "\u001b[1;31m  File \"/Users/jaimesoroarubio/.vscode/extensions/ms-toolsai.jupyter-2022.9.1303220346/pythonFiles/vscode_datascience_helpers/jupyter_daemon.py\", line 111, in m_exec_module_observable\n",
      "\u001b[1;31m    self._start_notebook(args, cwd, env)\n",
      "\u001b[1;31m  File \"/Users/jaimesoroarubio/.vscode/extensions/ms-toolsai.jupyter-2022.9.1303220346/pythonFiles/vscode_datascience_helpers/jupyter_daemon.py\", line 160, in _start_notebook\n",
      "\u001b[1;31m    from notebook import app as app\n",
      "\u001b[1;31mImportError: cannot import name 'app' from 'notebook' (/Users/jaimesoroarubio/.pyenv/versions/3.10.6/envs/taxifare-env/lib/python3.10/site-packages/notebook/__init__.py)\n",
      "\u001b[1;31m\n",
      "\u001b[1;31mFailed to run jupyter as observable with args notebook --no-browser --notebook-dir=\"/Users/jaimesoroarubio/code/jaimesoroa/smarthealing/notebooks\" --config=/var/folders/jt/ljcpcwg95nv566n6vzs4822m0000gn/T/5a3bc81d-e081-4891-a241-15aaa83fb67d/jupyter_notebook_config.py --NotebookApp.iopub_data_rate_limit=10000000000.0. \n",
      "\u001b[1;31mView Jupyter <a href='command:jupyter.viewOutput'>log</a> for further details."
     ]
    }
   ],
   "source": [
    "data.describe()"
   ]
  },
  {
   "cell_type": "code",
   "execution_count": null,
   "metadata": {},
   "outputs": [
    {
     "ename": "",
     "evalue": "",
     "output_type": "error",
     "traceback": [
      "\u001b[1;31mFailed to start the Kernel. \n",
      "\u001b[1;31mTraceback (most recent call last):\n",
      "\u001b[1;31m  File \"/Users/jaimesoroarubio/.vscode/extensions/ms-toolsai.jupyter-2022.9.1303220346/pythonFiles/vscode_datascience_helpers/jupyter_daemon.py\", line 158, in _start_notebook\n",
      "\u001b[1;31m    from notebook import notebookapp as app\n",
      "\u001b[1;31m  File \"/Users/jaimesoroarubio/.pyenv/versions/3.10.6/envs/taxifare-env/lib/python3.10/site-packages/notebook/notebookapp.py\", line 57, in <module>\n",
      "\u001b[1;31m    raise ImportError(_(\"The Jupyter Notebook requires tornado >= 5.0, but you have %s\") % tornado.version)\n",
      "\u001b[1;31mImportError: The Jupyter Notebook requires tornado >= 5.0, but you have 4.5.3\n",
      "\u001b[1;31m\n",
      "\u001b[1;31mDuring handling of the above exception, another exception occurred:\n",
      "\u001b[1;31m\n",
      "\u001b[1;31mTraceback (most recent call last):\n",
      "\u001b[1;31m  File \"/Users/jaimesoroarubio/.vscode/extensions/ms-toolsai.jupyter-2022.9.1303220346/pythonFiles/vscode_datascience_helpers/daemon/daemon_python.py\", line 54, in _decorator\n",
      "\u001b[1;31m    return func(self, *args, **kwargs)\n",
      "\u001b[1;31m  File \"/Users/jaimesoroarubio/.vscode/extensions/ms-toolsai.jupyter-2022.9.1303220346/pythonFiles/vscode_datascience_helpers/jupyter_daemon.py\", line 111, in m_exec_module_observable\n",
      "\u001b[1;31m    self._start_notebook(args, cwd, env)\n",
      "\u001b[1;31m  File \"/Users/jaimesoroarubio/.vscode/extensions/ms-toolsai.jupyter-2022.9.1303220346/pythonFiles/vscode_datascience_helpers/jupyter_daemon.py\", line 160, in _start_notebook\n",
      "\u001b[1;31m    from notebook import app as app\n",
      "\u001b[1;31mImportError: cannot import name 'app' from 'notebook' (/Users/jaimesoroarubio/.pyenv/versions/3.10.6/envs/taxifare-env/lib/python3.10/site-packages/notebook/__init__.py)\n",
      "\u001b[1;31m\n",
      "\u001b[1;31mFailed to run jupyter as observable with args notebook --no-browser --notebook-dir=\"/Users/jaimesoroarubio/code/jaimesoroa/smarthealing/notebooks\" --config=/var/folders/jt/ljcpcwg95nv566n6vzs4822m0000gn/T/5a3bc81d-e081-4891-a241-15aaa83fb67d/jupyter_notebook_config.py --NotebookApp.iopub_data_rate_limit=10000000000.0. \n",
      "\u001b[1;31mView Jupyter <a href='command:jupyter.viewOutput'>log</a> for further details."
     ]
    }
   ],
   "source": [
    "data[(data['ContadorBajasDNI']>25)].count() + data[(data['numtreb']>3200)].count() + data[(data['ContadordiasBajasDNI']>750)].count()"
   ]
  },
  {
   "cell_type": "code",
   "execution_count": null,
   "metadata": {},
   "outputs": [
    {
     "ename": "",
     "evalue": "",
     "output_type": "error",
     "traceback": [
      "\u001b[1;31mFailed to start the Kernel. \n",
      "\u001b[1;31mTraceback (most recent call last):\n",
      "\u001b[1;31m  File \"/Users/jaimesoroarubio/.vscode/extensions/ms-toolsai.jupyter-2022.9.1303220346/pythonFiles/vscode_datascience_helpers/jupyter_daemon.py\", line 158, in _start_notebook\n",
      "\u001b[1;31m    from notebook import notebookapp as app\n",
      "\u001b[1;31m  File \"/Users/jaimesoroarubio/.pyenv/versions/3.10.6/envs/taxifare-env/lib/python3.10/site-packages/notebook/notebookapp.py\", line 57, in <module>\n",
      "\u001b[1;31m    raise ImportError(_(\"The Jupyter Notebook requires tornado >= 5.0, but you have %s\") % tornado.version)\n",
      "\u001b[1;31mImportError: The Jupyter Notebook requires tornado >= 5.0, but you have 4.5.3\n",
      "\u001b[1;31m\n",
      "\u001b[1;31mDuring handling of the above exception, another exception occurred:\n",
      "\u001b[1;31m\n",
      "\u001b[1;31mTraceback (most recent call last):\n",
      "\u001b[1;31m  File \"/Users/jaimesoroarubio/.vscode/extensions/ms-toolsai.jupyter-2022.9.1303220346/pythonFiles/vscode_datascience_helpers/daemon/daemon_python.py\", line 54, in _decorator\n",
      "\u001b[1;31m    return func(self, *args, **kwargs)\n",
      "\u001b[1;31m  File \"/Users/jaimesoroarubio/.vscode/extensions/ms-toolsai.jupyter-2022.9.1303220346/pythonFiles/vscode_datascience_helpers/jupyter_daemon.py\", line 111, in m_exec_module_observable\n",
      "\u001b[1;31m    self._start_notebook(args, cwd, env)\n",
      "\u001b[1;31m  File \"/Users/jaimesoroarubio/.vscode/extensions/ms-toolsai.jupyter-2022.9.1303220346/pythonFiles/vscode_datascience_helpers/jupyter_daemon.py\", line 160, in _start_notebook\n",
      "\u001b[1;31m    from notebook import app as app\n",
      "\u001b[1;31mImportError: cannot import name 'app' from 'notebook' (/Users/jaimesoroarubio/.pyenv/versions/3.10.6/envs/taxifare-env/lib/python3.10/site-packages/notebook/__init__.py)\n",
      "\u001b[1;31m\n",
      "\u001b[1;31mFailed to run jupyter as observable with args notebook --no-browser --notebook-dir=\"/Users/jaimesoroarubio/code/jaimesoroa/smarthealing/notebooks\" --config=/var/folders/jt/ljcpcwg95nv566n6vzs4822m0000gn/T/5a3bc81d-e081-4891-a241-15aaa83fb67d/jupyter_notebook_config.py --NotebookApp.iopub_data_rate_limit=10000000000.0. \n",
      "\u001b[1;31mView Jupyter <a href='command:jupyter.viewOutput'>log</a> for further details."
     ]
    }
   ],
   "source": [
    "data.drop(data[(data['ContadorBajasDNI']>25)].index, axis = 0, inplace = True)"
   ]
  },
  {
   "cell_type": "code",
   "execution_count": null,
   "metadata": {},
   "outputs": [
    {
     "ename": "",
     "evalue": "",
     "output_type": "error",
     "traceback": [
      "\u001b[1;31mFailed to start the Kernel. \n",
      "\u001b[1;31mTraceback (most recent call last):\n",
      "\u001b[1;31m  File \"/Users/jaimesoroarubio/.vscode/extensions/ms-toolsai.jupyter-2022.9.1303220346/pythonFiles/vscode_datascience_helpers/jupyter_daemon.py\", line 158, in _start_notebook\n",
      "\u001b[1;31m    from notebook import notebookapp as app\n",
      "\u001b[1;31m  File \"/Users/jaimesoroarubio/.pyenv/versions/3.10.6/envs/taxifare-env/lib/python3.10/site-packages/notebook/notebookapp.py\", line 57, in <module>\n",
      "\u001b[1;31m    raise ImportError(_(\"The Jupyter Notebook requires tornado >= 5.0, but you have %s\") % tornado.version)\n",
      "\u001b[1;31mImportError: The Jupyter Notebook requires tornado >= 5.0, but you have 4.5.3\n",
      "\u001b[1;31m\n",
      "\u001b[1;31mDuring handling of the above exception, another exception occurred:\n",
      "\u001b[1;31m\n",
      "\u001b[1;31mTraceback (most recent call last):\n",
      "\u001b[1;31m  File \"/Users/jaimesoroarubio/.vscode/extensions/ms-toolsai.jupyter-2022.9.1303220346/pythonFiles/vscode_datascience_helpers/daemon/daemon_python.py\", line 54, in _decorator\n",
      "\u001b[1;31m    return func(self, *args, **kwargs)\n",
      "\u001b[1;31m  File \"/Users/jaimesoroarubio/.vscode/extensions/ms-toolsai.jupyter-2022.9.1303220346/pythonFiles/vscode_datascience_helpers/jupyter_daemon.py\", line 111, in m_exec_module_observable\n",
      "\u001b[1;31m    self._start_notebook(args, cwd, env)\n",
      "\u001b[1;31m  File \"/Users/jaimesoroarubio/.vscode/extensions/ms-toolsai.jupyter-2022.9.1303220346/pythonFiles/vscode_datascience_helpers/jupyter_daemon.py\", line 160, in _start_notebook\n",
      "\u001b[1;31m    from notebook import app as app\n",
      "\u001b[1;31mImportError: cannot import name 'app' from 'notebook' (/Users/jaimesoroarubio/.pyenv/versions/3.10.6/envs/taxifare-env/lib/python3.10/site-packages/notebook/__init__.py)\n",
      "\u001b[1;31m\n",
      "\u001b[1;31mFailed to run jupyter as observable with args notebook --no-browser --notebook-dir=\"/Users/jaimesoroarubio/code/jaimesoroa/smarthealing/notebooks\" --config=/var/folders/jt/ljcpcwg95nv566n6vzs4822m0000gn/T/5a3bc81d-e081-4891-a241-15aaa83fb67d/jupyter_notebook_config.py --NotebookApp.iopub_data_rate_limit=10000000000.0. \n",
      "\u001b[1;31mView Jupyter <a href='command:jupyter.viewOutput'>log</a> for further details."
     ]
    }
   ],
   "source": [
    "data.describe()"
   ]
  },
  {
   "cell_type": "code",
   "execution_count": null,
   "metadata": {},
   "outputs": [
    {
     "ename": "",
     "evalue": "",
     "output_type": "error",
     "traceback": [
      "\u001b[1;31mFailed to start the Kernel. \n",
      "\u001b[1;31mTraceback (most recent call last):\n",
      "\u001b[1;31m  File \"/Users/jaimesoroarubio/.vscode/extensions/ms-toolsai.jupyter-2022.9.1303220346/pythonFiles/vscode_datascience_helpers/jupyter_daemon.py\", line 158, in _start_notebook\n",
      "\u001b[1;31m    from notebook import notebookapp as app\n",
      "\u001b[1;31m  File \"/Users/jaimesoroarubio/.pyenv/versions/3.10.6/envs/taxifare-env/lib/python3.10/site-packages/notebook/notebookapp.py\", line 57, in <module>\n",
      "\u001b[1;31m    raise ImportError(_(\"The Jupyter Notebook requires tornado >= 5.0, but you have %s\") % tornado.version)\n",
      "\u001b[1;31mImportError: The Jupyter Notebook requires tornado >= 5.0, but you have 4.5.3\n",
      "\u001b[1;31m\n",
      "\u001b[1;31mDuring handling of the above exception, another exception occurred:\n",
      "\u001b[1;31m\n",
      "\u001b[1;31mTraceback (most recent call last):\n",
      "\u001b[1;31m  File \"/Users/jaimesoroarubio/.vscode/extensions/ms-toolsai.jupyter-2022.9.1303220346/pythonFiles/vscode_datascience_helpers/daemon/daemon_python.py\", line 54, in _decorator\n",
      "\u001b[1;31m    return func(self, *args, **kwargs)\n",
      "\u001b[1;31m  File \"/Users/jaimesoroarubio/.vscode/extensions/ms-toolsai.jupyter-2022.9.1303220346/pythonFiles/vscode_datascience_helpers/jupyter_daemon.py\", line 111, in m_exec_module_observable\n",
      "\u001b[1;31m    self._start_notebook(args, cwd, env)\n",
      "\u001b[1;31m  File \"/Users/jaimesoroarubio/.vscode/extensions/ms-toolsai.jupyter-2022.9.1303220346/pythonFiles/vscode_datascience_helpers/jupyter_daemon.py\", line 160, in _start_notebook\n",
      "\u001b[1;31m    from notebook import app as app\n",
      "\u001b[1;31mImportError: cannot import name 'app' from 'notebook' (/Users/jaimesoroarubio/.pyenv/versions/3.10.6/envs/taxifare-env/lib/python3.10/site-packages/notebook/__init__.py)\n",
      "\u001b[1;31m\n",
      "\u001b[1;31mFailed to run jupyter as observable with args notebook --no-browser --notebook-dir=\"/Users/jaimesoroarubio/code/jaimesoroa/smarthealing/notebooks\" --config=/var/folders/jt/ljcpcwg95nv566n6vzs4822m0000gn/T/5a3bc81d-e081-4891-a241-15aaa83fb67d/jupyter_notebook_config.py --NotebookApp.iopub_data_rate_limit=10000000000.0. \n",
      "\u001b[1;31mView Jupyter <a href='command:jupyter.viewOutput'>log</a> for further details."
     ]
    }
   ],
   "source": [
    "\n",
    "data.drop(data[(data['numtreb']>3200)].index, axis = 0, inplace = True)\n",
    "data.drop(data[(data['ContadordiasBajasDNI']>750)].index, axis = 0, inplace = True)"
   ]
  },
  {
   "cell_type": "code",
   "execution_count": null,
   "metadata": {},
   "outputs": [
    {
     "ename": "",
     "evalue": "",
     "output_type": "error",
     "traceback": [
      "\u001b[1;31mFailed to start the Kernel. \n",
      "\u001b[1;31mTraceback (most recent call last):\n",
      "\u001b[1;31m  File \"/Users/jaimesoroarubio/.vscode/extensions/ms-toolsai.jupyter-2022.9.1303220346/pythonFiles/vscode_datascience_helpers/jupyter_daemon.py\", line 158, in _start_notebook\n",
      "\u001b[1;31m    from notebook import notebookapp as app\n",
      "\u001b[1;31m  File \"/Users/jaimesoroarubio/.pyenv/versions/3.10.6/envs/taxifare-env/lib/python3.10/site-packages/notebook/notebookapp.py\", line 57, in <module>\n",
      "\u001b[1;31m    raise ImportError(_(\"The Jupyter Notebook requires tornado >= 5.0, but you have %s\") % tornado.version)\n",
      "\u001b[1;31mImportError: The Jupyter Notebook requires tornado >= 5.0, but you have 4.5.3\n",
      "\u001b[1;31m\n",
      "\u001b[1;31mDuring handling of the above exception, another exception occurred:\n",
      "\u001b[1;31m\n",
      "\u001b[1;31mTraceback (most recent call last):\n",
      "\u001b[1;31m  File \"/Users/jaimesoroarubio/.vscode/extensions/ms-toolsai.jupyter-2022.9.1303220346/pythonFiles/vscode_datascience_helpers/daemon/daemon_python.py\", line 54, in _decorator\n",
      "\u001b[1;31m    return func(self, *args, **kwargs)\n",
      "\u001b[1;31m  File \"/Users/jaimesoroarubio/.vscode/extensions/ms-toolsai.jupyter-2022.9.1303220346/pythonFiles/vscode_datascience_helpers/jupyter_daemon.py\", line 111, in m_exec_module_observable\n",
      "\u001b[1;31m    self._start_notebook(args, cwd, env)\n",
      "\u001b[1;31m  File \"/Users/jaimesoroarubio/.vscode/extensions/ms-toolsai.jupyter-2022.9.1303220346/pythonFiles/vscode_datascience_helpers/jupyter_daemon.py\", line 160, in _start_notebook\n",
      "\u001b[1;31m    from notebook import app as app\n",
      "\u001b[1;31mImportError: cannot import name 'app' from 'notebook' (/Users/jaimesoroarubio/.pyenv/versions/3.10.6/envs/taxifare-env/lib/python3.10/site-packages/notebook/__init__.py)\n",
      "\u001b[1;31m\n",
      "\u001b[1;31mFailed to run jupyter as observable with args notebook --no-browser --notebook-dir=\"/Users/jaimesoroarubio/code/jaimesoroa/smarthealing/notebooks\" --config=/var/folders/jt/ljcpcwg95nv566n6vzs4822m0000gn/T/5a3bc81d-e081-4891-a241-15aaa83fb67d/jupyter_notebook_config.py --NotebookApp.iopub_data_rate_limit=10000000000.0. \n",
      "\u001b[1;31mView Jupyter <a href='command:jupyter.viewOutput'>log</a> for further details."
     ]
    }
   ],
   "source": [
    "data"
   ]
  },
  {
   "cell_type": "code",
   "execution_count": null,
   "metadata": {},
   "outputs": [
    {
     "ename": "",
     "evalue": "",
     "output_type": "error",
     "traceback": [
      "\u001b[1;31mFailed to start the Kernel. \n",
      "\u001b[1;31mTraceback (most recent call last):\n",
      "\u001b[1;31m  File \"/Users/jaimesoroarubio/.vscode/extensions/ms-toolsai.jupyter-2022.9.1303220346/pythonFiles/vscode_datascience_helpers/jupyter_daemon.py\", line 158, in _start_notebook\n",
      "\u001b[1;31m    from notebook import notebookapp as app\n",
      "\u001b[1;31m  File \"/Users/jaimesoroarubio/.pyenv/versions/3.10.6/envs/taxifare-env/lib/python3.10/site-packages/notebook/notebookapp.py\", line 57, in <module>\n",
      "\u001b[1;31m    raise ImportError(_(\"The Jupyter Notebook requires tornado >= 5.0, but you have %s\") % tornado.version)\n",
      "\u001b[1;31mImportError: The Jupyter Notebook requires tornado >= 5.0, but you have 4.5.3\n",
      "\u001b[1;31m\n",
      "\u001b[1;31mDuring handling of the above exception, another exception occurred:\n",
      "\u001b[1;31m\n",
      "\u001b[1;31mTraceback (most recent call last):\n",
      "\u001b[1;31m  File \"/Users/jaimesoroarubio/.vscode/extensions/ms-toolsai.jupyter-2022.9.1303220346/pythonFiles/vscode_datascience_helpers/daemon/daemon_python.py\", line 54, in _decorator\n",
      "\u001b[1;31m    return func(self, *args, **kwargs)\n",
      "\u001b[1;31m  File \"/Users/jaimesoroarubio/.vscode/extensions/ms-toolsai.jupyter-2022.9.1303220346/pythonFiles/vscode_datascience_helpers/jupyter_daemon.py\", line 111, in m_exec_module_observable\n",
      "\u001b[1;31m    self._start_notebook(args, cwd, env)\n",
      "\u001b[1;31m  File \"/Users/jaimesoroarubio/.vscode/extensions/ms-toolsai.jupyter-2022.9.1303220346/pythonFiles/vscode_datascience_helpers/jupyter_daemon.py\", line 160, in _start_notebook\n",
      "\u001b[1;31m    from notebook import app as app\n",
      "\u001b[1;31mImportError: cannot import name 'app' from 'notebook' (/Users/jaimesoroarubio/.pyenv/versions/3.10.6/envs/taxifare-env/lib/python3.10/site-packages/notebook/__init__.py)\n",
      "\u001b[1;31m\n",
      "\u001b[1;31mFailed to run jupyter as observable with args notebook --no-browser --notebook-dir=\"/Users/jaimesoroarubio/code/jaimesoroa/smarthealing/notebooks\" --config=/var/folders/jt/ljcpcwg95nv566n6vzs4822m0000gn/T/5a3bc81d-e081-4891-a241-15aaa83fb67d/jupyter_notebook_config.py --NotebookApp.iopub_data_rate_limit=10000000000.0. \n",
      "\u001b[1;31mView Jupyter <a href='command:jupyter.viewOutput'>log</a> for further details."
     ]
    }
   ],
   "source": [
    "sample = data.sample(n = 236000, random_state = 8)"
   ]
  },
  {
   "cell_type": "code",
   "execution_count": null,
   "metadata": {},
   "outputs": [
    {
     "ename": "",
     "evalue": "",
     "output_type": "error",
     "traceback": [
      "\u001b[1;31mFailed to start the Kernel. \n",
      "\u001b[1;31mTraceback (most recent call last):\n",
      "\u001b[1;31m  File \"/Users/jaimesoroarubio/.vscode/extensions/ms-toolsai.jupyter-2022.9.1303220346/pythonFiles/vscode_datascience_helpers/jupyter_daemon.py\", line 158, in _start_notebook\n",
      "\u001b[1;31m    from notebook import notebookapp as app\n",
      "\u001b[1;31m  File \"/Users/jaimesoroarubio/.pyenv/versions/3.10.6/envs/taxifare-env/lib/python3.10/site-packages/notebook/notebookapp.py\", line 57, in <module>\n",
      "\u001b[1;31m    raise ImportError(_(\"The Jupyter Notebook requires tornado >= 5.0, but you have %s\") % tornado.version)\n",
      "\u001b[1;31mImportError: The Jupyter Notebook requires tornado >= 5.0, but you have 4.5.3\n",
      "\u001b[1;31m\n",
      "\u001b[1;31mDuring handling of the above exception, another exception occurred:\n",
      "\u001b[1;31m\n",
      "\u001b[1;31mTraceback (most recent call last):\n",
      "\u001b[1;31m  File \"/Users/jaimesoroarubio/.vscode/extensions/ms-toolsai.jupyter-2022.9.1303220346/pythonFiles/vscode_datascience_helpers/daemon/daemon_python.py\", line 54, in _decorator\n",
      "\u001b[1;31m    return func(self, *args, **kwargs)\n",
      "\u001b[1;31m  File \"/Users/jaimesoroarubio/.vscode/extensions/ms-toolsai.jupyter-2022.9.1303220346/pythonFiles/vscode_datascience_helpers/jupyter_daemon.py\", line 111, in m_exec_module_observable\n",
      "\u001b[1;31m    self._start_notebook(args, cwd, env)\n",
      "\u001b[1;31m  File \"/Users/jaimesoroarubio/.vscode/extensions/ms-toolsai.jupyter-2022.9.1303220346/pythonFiles/vscode_datascience_helpers/jupyter_daemon.py\", line 160, in _start_notebook\n",
      "\u001b[1;31m    from notebook import app as app\n",
      "\u001b[1;31mImportError: cannot import name 'app' from 'notebook' (/Users/jaimesoroarubio/.pyenv/versions/3.10.6/envs/taxifare-env/lib/python3.10/site-packages/notebook/__init__.py)\n",
      "\u001b[1;31m\n",
      "\u001b[1;31mFailed to run jupyter as observable with args notebook --no-browser --notebook-dir=\"/Users/jaimesoroarubio/code/jaimesoroa/smarthealing/notebooks\" --config=/var/folders/jt/ljcpcwg95nv566n6vzs4822m0000gn/T/5a3bc81d-e081-4891-a241-15aaa83fb67d/jupyter_notebook_config.py --NotebookApp.iopub_data_rate_limit=10000000000.0. \n",
      "\u001b[1;31mView Jupyter <a href='command:jupyter.viewOutput'>log</a> for further details."
     ]
    }
   ],
   "source": [
    "\n",
    "X_train, X_test, y_train, y_test = train_test_split(\n",
    "                        sample.drop('duracion_baja', axis = 1), sample['duracion_baja'], test_size=0.3)\n",
    "\n",
    "def prepare_data(X_train, X_test):\n",
    "    # One hot Encode Categorical Features.\n",
    "    ohe_cols = ['sexo', 'recaida', 'grupcoti', 'pluriempleo',\n",
    "                'cnae_cat', 'icd9_cat', 'codipostal_cat']\n",
    "    for col in ohe_cols:\n",
    "        ohe = OneHotEncoder(sparse = False, handle_unknown = 'ignore')\n",
    "        ohe.fit(X_train[[col]])\n",
    "        for X_t in [X_train, X_test]:\n",
    "            X_t[ohe.get_feature_names_out()] = ohe.transform(X_t[[col]])\n",
    "            X_t.drop(col, axis = 1, inplace = True)\n",
    "\n",
    "\n",
    "    # Scale numerical features.\n",
    "    robust_cols = ['ContadorBajasDNI', 'ContadordiasBajasDNI', 'numtreb', 'tiempo_en_empresa']\n",
    "    for col in robust_cols:\n",
    "        rb_scaler = RobustScaler()\n",
    "        rb_scaler.fit(X_train[[col]])\n",
    "        for X_t in [X_train, X_test]:\n",
    "            X_t[col] = rb_scaler.transform(X_t[[col]])\n",
    "\n",
    "    st_scaler = StandardScaler()\n",
    "    st_scaler.fit(X_train[['edad']])\n",
    "    for X_t in [X_train, X_test]:\n",
    "        X_t['edad'] = st_scaler.transform(X_t[['edad']])\n",
    "\n",
    "    return X_train, X_test"
   ]
  },
  {
   "cell_type": "code",
   "execution_count": null,
   "metadata": {},
   "outputs": [
    {
     "ename": "",
     "evalue": "",
     "output_type": "error",
     "traceback": [
      "\u001b[1;31mFailed to start the Kernel. \n",
      "\u001b[1;31mTraceback (most recent call last):\n",
      "\u001b[1;31m  File \"/Users/jaimesoroarubio/.vscode/extensions/ms-toolsai.jupyter-2022.9.1303220346/pythonFiles/vscode_datascience_helpers/jupyter_daemon.py\", line 158, in _start_notebook\n",
      "\u001b[1;31m    from notebook import notebookapp as app\n",
      "\u001b[1;31m  File \"/Users/jaimesoroarubio/.pyenv/versions/3.10.6/envs/taxifare-env/lib/python3.10/site-packages/notebook/notebookapp.py\", line 57, in <module>\n",
      "\u001b[1;31m    raise ImportError(_(\"The Jupyter Notebook requires tornado >= 5.0, but you have %s\") % tornado.version)\n",
      "\u001b[1;31mImportError: The Jupyter Notebook requires tornado >= 5.0, but you have 4.5.3\n",
      "\u001b[1;31m\n",
      "\u001b[1;31mDuring handling of the above exception, another exception occurred:\n",
      "\u001b[1;31m\n",
      "\u001b[1;31mTraceback (most recent call last):\n",
      "\u001b[1;31m  File \"/Users/jaimesoroarubio/.vscode/extensions/ms-toolsai.jupyter-2022.9.1303220346/pythonFiles/vscode_datascience_helpers/daemon/daemon_python.py\", line 54, in _decorator\n",
      "\u001b[1;31m    return func(self, *args, **kwargs)\n",
      "\u001b[1;31m  File \"/Users/jaimesoroarubio/.vscode/extensions/ms-toolsai.jupyter-2022.9.1303220346/pythonFiles/vscode_datascience_helpers/jupyter_daemon.py\", line 111, in m_exec_module_observable\n",
      "\u001b[1;31m    self._start_notebook(args, cwd, env)\n",
      "\u001b[1;31m  File \"/Users/jaimesoroarubio/.vscode/extensions/ms-toolsai.jupyter-2022.9.1303220346/pythonFiles/vscode_datascience_helpers/jupyter_daemon.py\", line 160, in _start_notebook\n",
      "\u001b[1;31m    from notebook import app as app\n",
      "\u001b[1;31mImportError: cannot import name 'app' from 'notebook' (/Users/jaimesoroarubio/.pyenv/versions/3.10.6/envs/taxifare-env/lib/python3.10/site-packages/notebook/__init__.py)\n",
      "\u001b[1;31m\n",
      "\u001b[1;31mFailed to run jupyter as observable with args notebook --no-browser --notebook-dir=\"/Users/jaimesoroarubio/code/jaimesoroa/smarthealing/notebooks\" --config=/var/folders/jt/ljcpcwg95nv566n6vzs4822m0000gn/T/5a3bc81d-e081-4891-a241-15aaa83fb67d/jupyter_notebook_config.py --NotebookApp.iopub_data_rate_limit=10000000000.0. \n",
      "\u001b[1;31mView Jupyter <a href='command:jupyter.viewOutput'>log</a> for further details."
     ]
    }
   ],
   "source": [
    "X_train_p, X_test_p = prepare_data(X_train, X_test)"
   ]
  },
  {
   "cell_type": "code",
   "execution_count": null,
   "metadata": {},
   "outputs": [
    {
     "ename": "",
     "evalue": "",
     "output_type": "error",
     "traceback": [
      "\u001b[1;31mFailed to start the Kernel. \n",
      "\u001b[1;31mTraceback (most recent call last):\n",
      "\u001b[1;31m  File \"/Users/jaimesoroarubio/.vscode/extensions/ms-toolsai.jupyter-2022.9.1303220346/pythonFiles/vscode_datascience_helpers/jupyter_daemon.py\", line 158, in _start_notebook\n",
      "\u001b[1;31m    from notebook import notebookapp as app\n",
      "\u001b[1;31m  File \"/Users/jaimesoroarubio/.pyenv/versions/3.10.6/envs/taxifare-env/lib/python3.10/site-packages/notebook/notebookapp.py\", line 57, in <module>\n",
      "\u001b[1;31m    raise ImportError(_(\"The Jupyter Notebook requires tornado >= 5.0, but you have %s\") % tornado.version)\n",
      "\u001b[1;31mImportError: The Jupyter Notebook requires tornado >= 5.0, but you have 4.5.3\n",
      "\u001b[1;31m\n",
      "\u001b[1;31mDuring handling of the above exception, another exception occurred:\n",
      "\u001b[1;31m\n",
      "\u001b[1;31mTraceback (most recent call last):\n",
      "\u001b[1;31m  File \"/Users/jaimesoroarubio/.vscode/extensions/ms-toolsai.jupyter-2022.9.1303220346/pythonFiles/vscode_datascience_helpers/daemon/daemon_python.py\", line 54, in _decorator\n",
      "\u001b[1;31m    return func(self, *args, **kwargs)\n",
      "\u001b[1;31m  File \"/Users/jaimesoroarubio/.vscode/extensions/ms-toolsai.jupyter-2022.9.1303220346/pythonFiles/vscode_datascience_helpers/jupyter_daemon.py\", line 111, in m_exec_module_observable\n",
      "\u001b[1;31m    self._start_notebook(args, cwd, env)\n",
      "\u001b[1;31m  File \"/Users/jaimesoroarubio/.vscode/extensions/ms-toolsai.jupyter-2022.9.1303220346/pythonFiles/vscode_datascience_helpers/jupyter_daemon.py\", line 160, in _start_notebook\n",
      "\u001b[1;31m    from notebook import app as app\n",
      "\u001b[1;31mImportError: cannot import name 'app' from 'notebook' (/Users/jaimesoroarubio/.pyenv/versions/3.10.6/envs/taxifare-env/lib/python3.10/site-packages/notebook/__init__.py)\n",
      "\u001b[1;31m\n",
      "\u001b[1;31mFailed to run jupyter as observable with args notebook --no-browser --notebook-dir=\"/Users/jaimesoroarubio/code/jaimesoroa/smarthealing/notebooks\" --config=/var/folders/jt/ljcpcwg95nv566n6vzs4822m0000gn/T/5a3bc81d-e081-4891-a241-15aaa83fb67d/jupyter_notebook_config.py --NotebookApp.iopub_data_rate_limit=10000000000.0. \n",
      "\u001b[1;31mView Jupyter <a href='command:jupyter.viewOutput'>log</a> for further details."
     ]
    }
   ],
   "source": [
    "y_log_train = np.log(y_train)\n",
    "y_log_test = np.log(y_test)"
   ]
  },
  {
   "cell_type": "code",
   "execution_count": null,
   "metadata": {},
   "outputs": [
    {
     "ename": "",
     "evalue": "",
     "output_type": "error",
     "traceback": [
      "\u001b[1;31mFailed to start the Kernel. \n",
      "\u001b[1;31mTraceback (most recent call last):\n",
      "\u001b[1;31m  File \"/Users/jaimesoroarubio/.vscode/extensions/ms-toolsai.jupyter-2022.9.1303220346/pythonFiles/vscode_datascience_helpers/jupyter_daemon.py\", line 158, in _start_notebook\n",
      "\u001b[1;31m    from notebook import notebookapp as app\n",
      "\u001b[1;31m  File \"/Users/jaimesoroarubio/.pyenv/versions/3.10.6/envs/taxifare-env/lib/python3.10/site-packages/notebook/notebookapp.py\", line 57, in <module>\n",
      "\u001b[1;31m    raise ImportError(_(\"The Jupyter Notebook requires tornado >= 5.0, but you have %s\") % tornado.version)\n",
      "\u001b[1;31mImportError: The Jupyter Notebook requires tornado >= 5.0, but you have 4.5.3\n",
      "\u001b[1;31m\n",
      "\u001b[1;31mDuring handling of the above exception, another exception occurred:\n",
      "\u001b[1;31m\n",
      "\u001b[1;31mTraceback (most recent call last):\n",
      "\u001b[1;31m  File \"/Users/jaimesoroarubio/.vscode/extensions/ms-toolsai.jupyter-2022.9.1303220346/pythonFiles/vscode_datascience_helpers/daemon/daemon_python.py\", line 54, in _decorator\n",
      "\u001b[1;31m    return func(self, *args, **kwargs)\n",
      "\u001b[1;31m  File \"/Users/jaimesoroarubio/.vscode/extensions/ms-toolsai.jupyter-2022.9.1303220346/pythonFiles/vscode_datascience_helpers/jupyter_daemon.py\", line 111, in m_exec_module_observable\n",
      "\u001b[1;31m    self._start_notebook(args, cwd, env)\n",
      "\u001b[1;31m  File \"/Users/jaimesoroarubio/.vscode/extensions/ms-toolsai.jupyter-2022.9.1303220346/pythonFiles/vscode_datascience_helpers/jupyter_daemon.py\", line 160, in _start_notebook\n",
      "\u001b[1;31m    from notebook import app as app\n",
      "\u001b[1;31mImportError: cannot import name 'app' from 'notebook' (/Users/jaimesoroarubio/.pyenv/versions/3.10.6/envs/taxifare-env/lib/python3.10/site-packages/notebook/__init__.py)\n",
      "\u001b[1;31m\n",
      "\u001b[1;31mFailed to run jupyter as observable with args notebook --no-browser --notebook-dir=\"/Users/jaimesoroarubio/code/jaimesoroa/smarthealing/notebooks\" --config=/var/folders/jt/ljcpcwg95nv566n6vzs4822m0000gn/T/5a3bc81d-e081-4891-a241-15aaa83fb67d/jupyter_notebook_config.py --NotebookApp.iopub_data_rate_limit=10000000000.0. \n",
      "\u001b[1;31mView Jupyter <a href='command:jupyter.viewOutput'>log</a> for further details."
     ]
    }
   ],
   "source": [
    "from sklearn.metrics import mean_squared_error, mean_absolute_error"
   ]
  },
  {
   "cell_type": "code",
   "execution_count": null,
   "metadata": {},
   "outputs": [
    {
     "ename": "",
     "evalue": "",
     "output_type": "error",
     "traceback": [
      "\u001b[1;31mFailed to start the Kernel. \n",
      "\u001b[1;31mTraceback (most recent call last):\n",
      "\u001b[1;31m  File \"/Users/jaimesoroarubio/.vscode/extensions/ms-toolsai.jupyter-2022.9.1303220346/pythonFiles/vscode_datascience_helpers/jupyter_daemon.py\", line 158, in _start_notebook\n",
      "\u001b[1;31m    from notebook import notebookapp as app\n",
      "\u001b[1;31m  File \"/Users/jaimesoroarubio/.pyenv/versions/3.10.6/envs/taxifare-env/lib/python3.10/site-packages/notebook/notebookapp.py\", line 57, in <module>\n",
      "\u001b[1;31m    raise ImportError(_(\"The Jupyter Notebook requires tornado >= 5.0, but you have %s\") % tornado.version)\n",
      "\u001b[1;31mImportError: The Jupyter Notebook requires tornado >= 5.0, but you have 4.5.3\n",
      "\u001b[1;31m\n",
      "\u001b[1;31mDuring handling of the above exception, another exception occurred:\n",
      "\u001b[1;31m\n",
      "\u001b[1;31mTraceback (most recent call last):\n",
      "\u001b[1;31m  File \"/Users/jaimesoroarubio/.vscode/extensions/ms-toolsai.jupyter-2022.9.1303220346/pythonFiles/vscode_datascience_helpers/daemon/daemon_python.py\", line 54, in _decorator\n",
      "\u001b[1;31m    return func(self, *args, **kwargs)\n",
      "\u001b[1;31m  File \"/Users/jaimesoroarubio/.vscode/extensions/ms-toolsai.jupyter-2022.9.1303220346/pythonFiles/vscode_datascience_helpers/jupyter_daemon.py\", line 111, in m_exec_module_observable\n",
      "\u001b[1;31m    self._start_notebook(args, cwd, env)\n",
      "\u001b[1;31m  File \"/Users/jaimesoroarubio/.vscode/extensions/ms-toolsai.jupyter-2022.9.1303220346/pythonFiles/vscode_datascience_helpers/jupyter_daemon.py\", line 160, in _start_notebook\n",
      "\u001b[1;31m    from notebook import app as app\n",
      "\u001b[1;31mImportError: cannot import name 'app' from 'notebook' (/Users/jaimesoroarubio/.pyenv/versions/3.10.6/envs/taxifare-env/lib/python3.10/site-packages/notebook/__init__.py)\n",
      "\u001b[1;31m\n",
      "\u001b[1;31mFailed to run jupyter as observable with args notebook --no-browser --notebook-dir=\"/Users/jaimesoroarubio/code/jaimesoroa/smarthealing/notebooks\" --config=/var/folders/jt/ljcpcwg95nv566n6vzs4822m0000gn/T/5a3bc81d-e081-4891-a241-15aaa83fb67d/jupyter_notebook_config.py --NotebookApp.iopub_data_rate_limit=10000000000.0. \n",
      "\u001b[1;31mView Jupyter <a href='command:jupyter.viewOutput'>log</a> for further details."
     ]
    }
   ],
   "source": [
    "model_LR_1 = LinearRegression()\n",
    "cv_results_LR_1 = cross_validate(model_LR_1, X_train_p, y_log_train, cv=5,\n",
    "                            scoring=['max_error',\n",
    "                                     'r2',\n",
    "                                     'neg_mean_absolute_error',\n",
    "                                     'neg_mean_squared_error',\n",
    "                                     'neg_root_mean_squared_error']\n",
    ") \n",
    "LR_val_rmse = np.exp(cv_results_LR_1['test_neg_root_mean_squared_error'].mean()*(-1))\n",
    "LR_val_r2 = cv_results_LR_1['test_r2'].mean()\n",
    "\n",
    "model_LR_1.fit(X_train_p, y_log_train)\n",
    "y_pred_LR_1 = model_LR_1.predict(X_test_p)\n",
    "LR_train_rmse = np.exp(mean_squared_error(y_log_test, y_pred_LR_1, squared = False))\n",
    "\n",
    "print(f'Validation R2= {np.round(LR_val_r2, 2)}, validation rmse= {np.round(LR_val_rmse, 2)}, and training rmse= {np.round(LR_train_rmse, 2)}')"
   ]
  },
  {
   "cell_type": "code",
   "execution_count": null,
   "metadata": {},
   "outputs": [
    {
     "ename": "",
     "evalue": "",
     "output_type": "error",
     "traceback": [
      "\u001b[1;31mFailed to start the Kernel. \n",
      "\u001b[1;31mTraceback (most recent call last):\n",
      "\u001b[1;31m  File \"/Users/jaimesoroarubio/.vscode/extensions/ms-toolsai.jupyter-2022.9.1303220346/pythonFiles/vscode_datascience_helpers/jupyter_daemon.py\", line 158, in _start_notebook\n",
      "\u001b[1;31m    from notebook import notebookapp as app\n",
      "\u001b[1;31m  File \"/Users/jaimesoroarubio/.pyenv/versions/3.10.6/envs/taxifare-env/lib/python3.10/site-packages/notebook/notebookapp.py\", line 57, in <module>\n",
      "\u001b[1;31m    raise ImportError(_(\"The Jupyter Notebook requires tornado >= 5.0, but you have %s\") % tornado.version)\n",
      "\u001b[1;31mImportError: The Jupyter Notebook requires tornado >= 5.0, but you have 4.5.3\n",
      "\u001b[1;31m\n",
      "\u001b[1;31mDuring handling of the above exception, another exception occurred:\n",
      "\u001b[1;31m\n",
      "\u001b[1;31mTraceback (most recent call last):\n",
      "\u001b[1;31m  File \"/Users/jaimesoroarubio/.vscode/extensions/ms-toolsai.jupyter-2022.9.1303220346/pythonFiles/vscode_datascience_helpers/daemon/daemon_python.py\", line 54, in _decorator\n",
      "\u001b[1;31m    return func(self, *args, **kwargs)\n",
      "\u001b[1;31m  File \"/Users/jaimesoroarubio/.vscode/extensions/ms-toolsai.jupyter-2022.9.1303220346/pythonFiles/vscode_datascience_helpers/jupyter_daemon.py\", line 111, in m_exec_module_observable\n",
      "\u001b[1;31m    self._start_notebook(args, cwd, env)\n",
      "\u001b[1;31m  File \"/Users/jaimesoroarubio/.vscode/extensions/ms-toolsai.jupyter-2022.9.1303220346/pythonFiles/vscode_datascience_helpers/jupyter_daemon.py\", line 160, in _start_notebook\n",
      "\u001b[1;31m    from notebook import app as app\n",
      "\u001b[1;31mImportError: cannot import name 'app' from 'notebook' (/Users/jaimesoroarubio/.pyenv/versions/3.10.6/envs/taxifare-env/lib/python3.10/site-packages/notebook/__init__.py)\n",
      "\u001b[1;31m\n",
      "\u001b[1;31mFailed to run jupyter as observable with args notebook --no-browser --notebook-dir=\"/Users/jaimesoroarubio/code/jaimesoroa/smarthealing/notebooks\" --config=/var/folders/jt/ljcpcwg95nv566n6vzs4822m0000gn/T/5a3bc81d-e081-4891-a241-15aaa83fb67d/jupyter_notebook_config.py --NotebookApp.iopub_data_rate_limit=10000000000.0. \n",
      "\u001b[1;31mView Jupyter <a href='command:jupyter.viewOutput'>log</a> for further details."
     ]
    }
   ],
   "source": [
    "from sklearn.linear_model import PoissonRegressor\n",
    "model_poi_1 = PoissonRegressor(alpha=2, fit_intercept=True, max_iter=1000, tol=0.001)\n",
    "cv_results_poi_1 = cross_validate(model_poi_1, X_train_p, y_log_train, cv=5,\n",
    "                            scoring=['max_error',\n",
    "                                     'r2',\n",
    "                                     'neg_mean_absolute_error',\n",
    "                                     'neg_mean_squared_error',\n",
    "                                     'neg_root_mean_squared_error']\n",
    ") \n",
    "\n",
    "poi_val_rmse = np.exp(cv_results_poi_1['test_neg_root_mean_squared_error'].mean()*(-1))\n",
    "poi_val_r2 = cv_results_poi_1['test_r2'].mean()\n",
    "\n",
    "model_poi_1.fit(X_train_p, y_log_train)\n",
    "y_pred_poi_1 = model_poi_1.predict(X_test_p)\n",
    "poi_train_rmse = np.exp(mean_squared_error(y_log_test, y_pred_poi_1, squared = False))\n",
    "\n",
    "print(f'Validation R2= {np.round(poi_val_r2, 2)}, validation rmse= {np.round(poi_val_rmse, 2)}, and training rmse= {np.round(poi_train_rmse, 2)}')"
   ]
  },
  {
   "cell_type": "code",
   "execution_count": null,
   "metadata": {},
   "outputs": [
    {
     "ename": "",
     "evalue": "",
     "output_type": "error",
     "traceback": [
      "\u001b[1;31mFailed to start the Kernel. \n",
      "\u001b[1;31mTraceback (most recent call last):\n",
      "\u001b[1;31m  File \"/Users/jaimesoroarubio/.vscode/extensions/ms-toolsai.jupyter-2022.9.1303220346/pythonFiles/vscode_datascience_helpers/jupyter_daemon.py\", line 158, in _start_notebook\n",
      "\u001b[1;31m    from notebook import notebookapp as app\n",
      "\u001b[1;31m  File \"/Users/jaimesoroarubio/.pyenv/versions/3.10.6/envs/taxifare-env/lib/python3.10/site-packages/notebook/notebookapp.py\", line 57, in <module>\n",
      "\u001b[1;31m    raise ImportError(_(\"The Jupyter Notebook requires tornado >= 5.0, but you have %s\") % tornado.version)\n",
      "\u001b[1;31mImportError: The Jupyter Notebook requires tornado >= 5.0, but you have 4.5.3\n",
      "\u001b[1;31m\n",
      "\u001b[1;31mDuring handling of the above exception, another exception occurred:\n",
      "\u001b[1;31m\n",
      "\u001b[1;31mTraceback (most recent call last):\n",
      "\u001b[1;31m  File \"/Users/jaimesoroarubio/.vscode/extensions/ms-toolsai.jupyter-2022.9.1303220346/pythonFiles/vscode_datascience_helpers/daemon/daemon_python.py\", line 54, in _decorator\n",
      "\u001b[1;31m    return func(self, *args, **kwargs)\n",
      "\u001b[1;31m  File \"/Users/jaimesoroarubio/.vscode/extensions/ms-toolsai.jupyter-2022.9.1303220346/pythonFiles/vscode_datascience_helpers/jupyter_daemon.py\", line 111, in m_exec_module_observable\n",
      "\u001b[1;31m    self._start_notebook(args, cwd, env)\n",
      "\u001b[1;31m  File \"/Users/jaimesoroarubio/.vscode/extensions/ms-toolsai.jupyter-2022.9.1303220346/pythonFiles/vscode_datascience_helpers/jupyter_daemon.py\", line 160, in _start_notebook\n",
      "\u001b[1;31m    from notebook import app as app\n",
      "\u001b[1;31mImportError: cannot import name 'app' from 'notebook' (/Users/jaimesoroarubio/.pyenv/versions/3.10.6/envs/taxifare-env/lib/python3.10/site-packages/notebook/__init__.py)\n",
      "\u001b[1;31m\n",
      "\u001b[1;31mFailed to run jupyter as observable with args notebook --no-browser --notebook-dir=\"/Users/jaimesoroarubio/code/jaimesoroa/smarthealing/notebooks\" --config=/var/folders/jt/ljcpcwg95nv566n6vzs4822m0000gn/T/5a3bc81d-e081-4891-a241-15aaa83fb67d/jupyter_notebook_config.py --NotebookApp.iopub_data_rate_limit=10000000000.0. \n",
      "\u001b[1;31mView Jupyter <a href='command:jupyter.viewOutput'>log</a> for further details."
     ]
    }
   ],
   "source": [
    "from sklearn.linear_model import SGDRegressor\n",
    "model_SGD_1 = SGDRegressor(loss='squared_error', alpha = 0.0001, max_iter = 1000, learning_rate = \"invscaling\", eta0 = 0.01)\n",
    "cv_results_SGD_1 = cross_validate(model_SGD_1, X_train_p, y_log_train, cv=5,\n",
    "                            scoring=['max_error',\n",
    "                                     'r2',\n",
    "                                     'neg_mean_absolute_error',\n",
    "                                     'neg_mean_squared_error',\n",
    "                                     'neg_root_mean_squared_error']\n",
    ") \n",
    "SGD_val_rmse = np.exp(cv_results_SGD_1['test_neg_root_mean_squared_error'].mean()*(-1))\n",
    "SGD_val_r2 = cv_results_SGD_1['test_r2'].mean()\n",
    "\n",
    "model_SGD_1.fit(X_train_p, y_log_train)\n",
    "y_pred_SGD_1 = model_SGD_1.predict(X_test_p)\n",
    "SGD_train_rmse = np.exp(mean_squared_error(y_log_test, y_pred_SGD_1, squared = False))\n",
    "\n",
    "print(f'Validation R2= {np.round(SGD_val_r2, 2)}, validation rmse= {np.round(SGD_val_rmse, 2)}, and training rmse= {np.round(SGD_train_rmse, 2)}')"
   ]
  },
  {
   "cell_type": "code",
   "execution_count": null,
   "metadata": {},
   "outputs": [
    {
     "ename": "",
     "evalue": "",
     "output_type": "error",
     "traceback": [
      "\u001b[1;31mFailed to start the Kernel. \n",
      "\u001b[1;31mTraceback (most recent call last):\n",
      "\u001b[1;31m  File \"/Users/jaimesoroarubio/.vscode/extensions/ms-toolsai.jupyter-2022.9.1303220346/pythonFiles/vscode_datascience_helpers/jupyter_daemon.py\", line 158, in _start_notebook\n",
      "\u001b[1;31m    from notebook import notebookapp as app\n",
      "\u001b[1;31m  File \"/Users/jaimesoroarubio/.pyenv/versions/3.10.6/envs/taxifare-env/lib/python3.10/site-packages/notebook/notebookapp.py\", line 57, in <module>\n",
      "\u001b[1;31m    raise ImportError(_(\"The Jupyter Notebook requires tornado >= 5.0, but you have %s\") % tornado.version)\n",
      "\u001b[1;31mImportError: The Jupyter Notebook requires tornado >= 5.0, but you have 4.5.3\n",
      "\u001b[1;31m\n",
      "\u001b[1;31mDuring handling of the above exception, another exception occurred:\n",
      "\u001b[1;31m\n",
      "\u001b[1;31mTraceback (most recent call last):\n",
      "\u001b[1;31m  File \"/Users/jaimesoroarubio/.vscode/extensions/ms-toolsai.jupyter-2022.9.1303220346/pythonFiles/vscode_datascience_helpers/daemon/daemon_python.py\", line 54, in _decorator\n",
      "\u001b[1;31m    return func(self, *args, **kwargs)\n",
      "\u001b[1;31m  File \"/Users/jaimesoroarubio/.vscode/extensions/ms-toolsai.jupyter-2022.9.1303220346/pythonFiles/vscode_datascience_helpers/jupyter_daemon.py\", line 111, in m_exec_module_observable\n",
      "\u001b[1;31m    self._start_notebook(args, cwd, env)\n",
      "\u001b[1;31m  File \"/Users/jaimesoroarubio/.vscode/extensions/ms-toolsai.jupyter-2022.9.1303220346/pythonFiles/vscode_datascience_helpers/jupyter_daemon.py\", line 160, in _start_notebook\n",
      "\u001b[1;31m    from notebook import app as app\n",
      "\u001b[1;31mImportError: cannot import name 'app' from 'notebook' (/Users/jaimesoroarubio/.pyenv/versions/3.10.6/envs/taxifare-env/lib/python3.10/site-packages/notebook/__init__.py)\n",
      "\u001b[1;31m\n",
      "\u001b[1;31mFailed to run jupyter as observable with args notebook --no-browser --notebook-dir=\"/Users/jaimesoroarubio/code/jaimesoroa/smarthealing/notebooks\" --config=/var/folders/jt/ljcpcwg95nv566n6vzs4822m0000gn/T/5a3bc81d-e081-4891-a241-15aaa83fb67d/jupyter_notebook_config.py --NotebookApp.iopub_data_rate_limit=10000000000.0. \n",
      "\u001b[1;31mView Jupyter <a href='command:jupyter.viewOutput'>log</a> for further details."
     ]
    }
   ],
   "source": [
    "from sklearn.svm import SVR\n",
    "model_SVR_1 = SVR(epsilon=0.1, C=1, kernel='rbf', max_iter=1000)\n",
    "cv_results_SVR_1 = cross_validate(model_SVR_1, X_train_p, y_log_train, cv=5,\n",
    "                            scoring=['max_error',\n",
    "                                     'r2',\n",
    "                                     'neg_mean_absolute_error',\n",
    "                                     'neg_mean_squared_error',\n",
    "                                     'neg_root_mean_squared_error']\n",
    ") \n",
    "SVR_val_rmse = np.exp(cv_results_SVR_1['test_neg_root_mean_squared_error'].mean()*(-1))\n",
    "SVR_val_r2 = cv_results_SVR_1['test_r2'].mean()\n",
    "\n",
    "model_SVR_1.fit(X_train_p, y_log_train)\n",
    "y_pred_SVR_1 = model_SVR_1.predict(X_test_p)\n",
    "SVR_train_rmse = np.exp(mean_squared_error(y_log_test, y_pred_SVR_1, squared = False))\n",
    "\n",
    "print(f'Validation R2= {np.round(SVR_val_r2, 2)}, validation rmse= {np.round(SVR_val_rmse, 2)}, and training rmse= {np.round(SVR_train_rmse, 2)}')\n"
   ]
  },
  {
   "cell_type": "code",
   "execution_count": null,
   "metadata": {},
   "outputs": [
    {
     "ename": "",
     "evalue": "",
     "output_type": "error",
     "traceback": [
      "\u001b[1;31mFailed to start the Kernel. \n",
      "\u001b[1;31mTraceback (most recent call last):\n",
      "\u001b[1;31m  File \"/Users/jaimesoroarubio/.vscode/extensions/ms-toolsai.jupyter-2022.9.1303220346/pythonFiles/vscode_datascience_helpers/jupyter_daemon.py\", line 158, in _start_notebook\n",
      "\u001b[1;31m    from notebook import notebookapp as app\n",
      "\u001b[1;31m  File \"/Users/jaimesoroarubio/.pyenv/versions/3.10.6/envs/taxifare-env/lib/python3.10/site-packages/notebook/notebookapp.py\", line 57, in <module>\n",
      "\u001b[1;31m    raise ImportError(_(\"The Jupyter Notebook requires tornado >= 5.0, but you have %s\") % tornado.version)\n",
      "\u001b[1;31mImportError: The Jupyter Notebook requires tornado >= 5.0, but you have 4.5.3\n",
      "\u001b[1;31m\n",
      "\u001b[1;31mDuring handling of the above exception, another exception occurred:\n",
      "\u001b[1;31m\n",
      "\u001b[1;31mTraceback (most recent call last):\n",
      "\u001b[1;31m  File \"/Users/jaimesoroarubio/.vscode/extensions/ms-toolsai.jupyter-2022.9.1303220346/pythonFiles/vscode_datascience_helpers/daemon/daemon_python.py\", line 54, in _decorator\n",
      "\u001b[1;31m    return func(self, *args, **kwargs)\n",
      "\u001b[1;31m  File \"/Users/jaimesoroarubio/.vscode/extensions/ms-toolsai.jupyter-2022.9.1303220346/pythonFiles/vscode_datascience_helpers/jupyter_daemon.py\", line 111, in m_exec_module_observable\n",
      "\u001b[1;31m    self._start_notebook(args, cwd, env)\n",
      "\u001b[1;31m  File \"/Users/jaimesoroarubio/.vscode/extensions/ms-toolsai.jupyter-2022.9.1303220346/pythonFiles/vscode_datascience_helpers/jupyter_daemon.py\", line 160, in _start_notebook\n",
      "\u001b[1;31m    from notebook import app as app\n",
      "\u001b[1;31mImportError: cannot import name 'app' from 'notebook' (/Users/jaimesoroarubio/.pyenv/versions/3.10.6/envs/taxifare-env/lib/python3.10/site-packages/notebook/__init__.py)\n",
      "\u001b[1;31m\n",
      "\u001b[1;31mFailed to run jupyter as observable with args notebook --no-browser --notebook-dir=\"/Users/jaimesoroarubio/code/jaimesoroa/smarthealing/notebooks\" --config=/var/folders/jt/ljcpcwg95nv566n6vzs4822m0000gn/T/5a3bc81d-e081-4891-a241-15aaa83fb67d/jupyter_notebook_config.py --NotebookApp.iopub_data_rate_limit=10000000000.0. \n",
      "\u001b[1;31mView Jupyter <a href='command:jupyter.viewOutput'>log</a> for further details."
     ]
    }
   ],
   "source": [
    "from sklearn.ensemble import RandomForestRegressor\n",
    "model_RF_1 = RandomForestRegressor(n_estimators=  1500, min_samples_leaf= 4, min_samples_split= 10)\n",
    "cv_results_RF_1 = cross_validate(model_RF_1, X_train_p, y_log_train, cv=2,\n",
    "                            scoring=['max_error',\n",
    "                                     'r2',\n",
    "                                     'neg_mean_absolute_error',\n",
    "                                     'neg_mean_squared_error',\n",
    "                                     'neg_root_mean_squared_error']\n",
    ") \n",
    "RF_val_rmse = np.exp(cv_results_RF_1['test_neg_root_mean_squared_error'].mean()*(-1))\n",
    "RF_val_r2 = cv_results_RF_1['test_r2'].mean()\n",
    "\n",
    "model_RF_1.fit(X_train_p, y_log_train)\n",
    "y_pred_RF = model_RF_1.predict(X_test_p)\n",
    "RF_train_rmse = np.exp(mean_squared_error(y_log_test, y_pred_RF, squared = False))\n",
    "\n",
    "print(f'Validation R2= {np.round(RF_val_r2, 2)}, validation rmse= {np.round(RF_val_rmse, 2)}, and training rmse= {np.round(RF_train_rmse, 2)}')"
   ]
  },
  {
   "cell_type": "code",
   "execution_count": null,
   "metadata": {},
   "outputs": [
    {
     "ename": "",
     "evalue": "",
     "output_type": "error",
     "traceback": [
      "\u001b[1;31mFailed to start the Kernel. \n",
      "\u001b[1;31mTraceback (most recent call last):\n",
      "\u001b[1;31m  File \"/Users/jaimesoroarubio/.vscode/extensions/ms-toolsai.jupyter-2022.9.1303220346/pythonFiles/vscode_datascience_helpers/jupyter_daemon.py\", line 158, in _start_notebook\n",
      "\u001b[1;31m    from notebook import notebookapp as app\n",
      "\u001b[1;31m  File \"/Users/jaimesoroarubio/.pyenv/versions/3.10.6/envs/taxifare-env/lib/python3.10/site-packages/notebook/notebookapp.py\", line 57, in <module>\n",
      "\u001b[1;31m    raise ImportError(_(\"The Jupyter Notebook requires tornado >= 5.0, but you have %s\") % tornado.version)\n",
      "\u001b[1;31mImportError: The Jupyter Notebook requires tornado >= 5.0, but you have 4.5.3\n",
      "\u001b[1;31m\n",
      "\u001b[1;31mDuring handling of the above exception, another exception occurred:\n",
      "\u001b[1;31m\n",
      "\u001b[1;31mTraceback (most recent call last):\n",
      "\u001b[1;31m  File \"/Users/jaimesoroarubio/.vscode/extensions/ms-toolsai.jupyter-2022.9.1303220346/pythonFiles/vscode_datascience_helpers/daemon/daemon_python.py\", line 54, in _decorator\n",
      "\u001b[1;31m    return func(self, *args, **kwargs)\n",
      "\u001b[1;31m  File \"/Users/jaimesoroarubio/.vscode/extensions/ms-toolsai.jupyter-2022.9.1303220346/pythonFiles/vscode_datascience_helpers/jupyter_daemon.py\", line 111, in m_exec_module_observable\n",
      "\u001b[1;31m    self._start_notebook(args, cwd, env)\n",
      "\u001b[1;31m  File \"/Users/jaimesoroarubio/.vscode/extensions/ms-toolsai.jupyter-2022.9.1303220346/pythonFiles/vscode_datascience_helpers/jupyter_daemon.py\", line 160, in _start_notebook\n",
      "\u001b[1;31m    from notebook import app as app\n",
      "\u001b[1;31mImportError: cannot import name 'app' from 'notebook' (/Users/jaimesoroarubio/.pyenv/versions/3.10.6/envs/taxifare-env/lib/python3.10/site-packages/notebook/__init__.py)\n",
      "\u001b[1;31m\n",
      "\u001b[1;31mFailed to run jupyter as observable with args notebook --no-browser --notebook-dir=\"/Users/jaimesoroarubio/code/jaimesoroa/smarthealing/notebooks\" --config=/var/folders/jt/ljcpcwg95nv566n6vzs4822m0000gn/T/5a3bc81d-e081-4891-a241-15aaa83fb67d/jupyter_notebook_config.py --NotebookApp.iopub_data_rate_limit=10000000000.0. \n",
      "\u001b[1;31mView Jupyter <a href='command:jupyter.viewOutput'>log</a> for further details."
     ]
    }
   ],
   "source": [
    "import xgboost as xgb\n",
    "model_xgb_1 = xgb.XGBRegressor(objective ='reg:squarederror', n_estimators = 10, seed = 123)"
   ]
  },
  {
   "cell_type": "code",
   "execution_count": null,
   "metadata": {},
   "outputs": [
    {
     "ename": "",
     "evalue": "",
     "output_type": "error",
     "traceback": [
      "\u001b[1;31mFailed to start the Kernel. \n",
      "\u001b[1;31mTraceback (most recent call last):\n",
      "\u001b[1;31m  File \"/Users/jaimesoroarubio/.vscode/extensions/ms-toolsai.jupyter-2022.9.1303220346/pythonFiles/vscode_datascience_helpers/jupyter_daemon.py\", line 158, in _start_notebook\n",
      "\u001b[1;31m    from notebook import notebookapp as app\n",
      "\u001b[1;31m  File \"/Users/jaimesoroarubio/.pyenv/versions/3.10.6/envs/taxifare-env/lib/python3.10/site-packages/notebook/notebookapp.py\", line 57, in <module>\n",
      "\u001b[1;31m    raise ImportError(_(\"The Jupyter Notebook requires tornado >= 5.0, but you have %s\") % tornado.version)\n",
      "\u001b[1;31mImportError: The Jupyter Notebook requires tornado >= 5.0, but you have 4.5.3\n",
      "\u001b[1;31m\n",
      "\u001b[1;31mDuring handling of the above exception, another exception occurred:\n",
      "\u001b[1;31m\n",
      "\u001b[1;31mTraceback (most recent call last):\n",
      "\u001b[1;31m  File \"/Users/jaimesoroarubio/.vscode/extensions/ms-toolsai.jupyter-2022.9.1303220346/pythonFiles/vscode_datascience_helpers/daemon/daemon_python.py\", line 54, in _decorator\n",
      "\u001b[1;31m    return func(self, *args, **kwargs)\n",
      "\u001b[1;31m  File \"/Users/jaimesoroarubio/.vscode/extensions/ms-toolsai.jupyter-2022.9.1303220346/pythonFiles/vscode_datascience_helpers/jupyter_daemon.py\", line 111, in m_exec_module_observable\n",
      "\u001b[1;31m    self._start_notebook(args, cwd, env)\n",
      "\u001b[1;31m  File \"/Users/jaimesoroarubio/.vscode/extensions/ms-toolsai.jupyter-2022.9.1303220346/pythonFiles/vscode_datascience_helpers/jupyter_daemon.py\", line 160, in _start_notebook\n",
      "\u001b[1;31m    from notebook import app as app\n",
      "\u001b[1;31mImportError: cannot import name 'app' from 'notebook' (/Users/jaimesoroarubio/.pyenv/versions/3.10.6/envs/taxifare-env/lib/python3.10/site-packages/notebook/__init__.py)\n",
      "\u001b[1;31m\n",
      "\u001b[1;31mFailed to run jupyter as observable with args notebook --no-browser --notebook-dir=\"/Users/jaimesoroarubio/code/jaimesoroa/smarthealing/notebooks\" --config=/var/folders/jt/ljcpcwg95nv566n6vzs4822m0000gn/T/5a3bc81d-e081-4891-a241-15aaa83fb67d/jupyter_notebook_config.py --NotebookApp.iopub_data_rate_limit=10000000000.0. \n",
      "\u001b[1;31mView Jupyter <a href='command:jupyter.viewOutput'>log</a> for further details."
     ]
    }
   ],
   "source": [
    "from sklearn.model_selection import cross_val_score\n",
    "XGB_val_r2 = cross_val_score(model_xgb_1, X_train_p, y_log_train, scoring='r2', cv=5).mean()\n",
    "XGB_val_rmse = cross_val_score(model_xgb_1, X_train_p, y_log_train, scoring='neg_root_mean_squared_error', cv=5).mean()*(-1)\n",
    "\n",
    "model_xgb_1.fit(X_train_p, y_log_train)\n",
    "y_pred_xgb = model_xgb_1.predict(X_test_p)\n",
    "XGB_train_rmse = np.exp(mean_squared_error(y_log_test, y_pred_xgb, squared = False))\n",
    "\n",
    "print(f'Validation R2= {np.round(XGB_val_r2, 2)}, validation rmse= {np.round(XGB_val_rmse, 2)}, and training rmse= {np.round(XGB_train_rmse, 2)}')"
   ]
  },
  {
   "cell_type": "code",
   "execution_count": null,
   "metadata": {},
   "outputs": [
    {
     "ename": "",
     "evalue": "",
     "output_type": "error",
     "traceback": [
      "\u001b[1;31mFailed to start the Kernel. \n",
      "\u001b[1;31mTraceback (most recent call last):\n",
      "\u001b[1;31m  File \"/Users/jaimesoroarubio/.vscode/extensions/ms-toolsai.jupyter-2022.9.1303220346/pythonFiles/vscode_datascience_helpers/jupyter_daemon.py\", line 158, in _start_notebook\n",
      "\u001b[1;31m    from notebook import notebookapp as app\n",
      "\u001b[1;31m  File \"/Users/jaimesoroarubio/.pyenv/versions/3.10.6/envs/taxifare-env/lib/python3.10/site-packages/notebook/notebookapp.py\", line 57, in <module>\n",
      "\u001b[1;31m    raise ImportError(_(\"The Jupyter Notebook requires tornado >= 5.0, but you have %s\") % tornado.version)\n",
      "\u001b[1;31mImportError: The Jupyter Notebook requires tornado >= 5.0, but you have 4.5.3\n",
      "\u001b[1;31m\n",
      "\u001b[1;31mDuring handling of the above exception, another exception occurred:\n",
      "\u001b[1;31m\n",
      "\u001b[1;31mTraceback (most recent call last):\n",
      "\u001b[1;31m  File \"/Users/jaimesoroarubio/.vscode/extensions/ms-toolsai.jupyter-2022.9.1303220346/pythonFiles/vscode_datascience_helpers/daemon/daemon_python.py\", line 54, in _decorator\n",
      "\u001b[1;31m    return func(self, *args, **kwargs)\n",
      "\u001b[1;31m  File \"/Users/jaimesoroarubio/.vscode/extensions/ms-toolsai.jupyter-2022.9.1303220346/pythonFiles/vscode_datascience_helpers/jupyter_daemon.py\", line 111, in m_exec_module_observable\n",
      "\u001b[1;31m    self._start_notebook(args, cwd, env)\n",
      "\u001b[1;31m  File \"/Users/jaimesoroarubio/.vscode/extensions/ms-toolsai.jupyter-2022.9.1303220346/pythonFiles/vscode_datascience_helpers/jupyter_daemon.py\", line 160, in _start_notebook\n",
      "\u001b[1;31m    from notebook import app as app\n",
      "\u001b[1;31mImportError: cannot import name 'app' from 'notebook' (/Users/jaimesoroarubio/.pyenv/versions/3.10.6/envs/taxifare-env/lib/python3.10/site-packages/notebook/__init__.py)\n",
      "\u001b[1;31m\n",
      "\u001b[1;31mFailed to run jupyter as observable with args notebook --no-browser --notebook-dir=\"/Users/jaimesoroarubio/code/jaimesoroa/smarthealing/notebooks\" --config=/var/folders/jt/ljcpcwg95nv566n6vzs4822m0000gn/T/5a3bc81d-e081-4891-a241-15aaa83fb67d/jupyter_notebook_config.py --NotebookApp.iopub_data_rate_limit=10000000000.0. \n",
      "\u001b[1;31mView Jupyter <a href='command:jupyter.viewOutput'>log</a> for further details."
     ]
    }
   ],
   "source": [
    "from sklearn.neighbors import KNeighborsRegressor"
   ]
  },
  {
   "cell_type": "code",
   "execution_count": null,
   "metadata": {},
   "outputs": [
    {
     "ename": "",
     "evalue": "",
     "output_type": "error",
     "traceback": [
      "\u001b[1;31mFailed to start the Kernel. \n",
      "\u001b[1;31mTraceback (most recent call last):\n",
      "\u001b[1;31m  File \"/Users/jaimesoroarubio/.vscode/extensions/ms-toolsai.jupyter-2022.9.1303220346/pythonFiles/vscode_datascience_helpers/jupyter_daemon.py\", line 158, in _start_notebook\n",
      "\u001b[1;31m    from notebook import notebookapp as app\n",
      "\u001b[1;31m  File \"/Users/jaimesoroarubio/.pyenv/versions/3.10.6/envs/taxifare-env/lib/python3.10/site-packages/notebook/notebookapp.py\", line 57, in <module>\n",
      "\u001b[1;31m    raise ImportError(_(\"The Jupyter Notebook requires tornado >= 5.0, but you have %s\") % tornado.version)\n",
      "\u001b[1;31mImportError: The Jupyter Notebook requires tornado >= 5.0, but you have 4.5.3\n",
      "\u001b[1;31m\n",
      "\u001b[1;31mDuring handling of the above exception, another exception occurred:\n",
      "\u001b[1;31m\n",
      "\u001b[1;31mTraceback (most recent call last):\n",
      "\u001b[1;31m  File \"/Users/jaimesoroarubio/.vscode/extensions/ms-toolsai.jupyter-2022.9.1303220346/pythonFiles/vscode_datascience_helpers/daemon/daemon_python.py\", line 54, in _decorator\n",
      "\u001b[1;31m    return func(self, *args, **kwargs)\n",
      "\u001b[1;31m  File \"/Users/jaimesoroarubio/.vscode/extensions/ms-toolsai.jupyter-2022.9.1303220346/pythonFiles/vscode_datascience_helpers/jupyter_daemon.py\", line 111, in m_exec_module_observable\n",
      "\u001b[1;31m    self._start_notebook(args, cwd, env)\n",
      "\u001b[1;31m  File \"/Users/jaimesoroarubio/.vscode/extensions/ms-toolsai.jupyter-2022.9.1303220346/pythonFiles/vscode_datascience_helpers/jupyter_daemon.py\", line 160, in _start_notebook\n",
      "\u001b[1;31m    from notebook import app as app\n",
      "\u001b[1;31mImportError: cannot import name 'app' from 'notebook' (/Users/jaimesoroarubio/.pyenv/versions/3.10.6/envs/taxifare-env/lib/python3.10/site-packages/notebook/__init__.py)\n",
      "\u001b[1;31m\n",
      "\u001b[1;31mFailed to run jupyter as observable with args notebook --no-browser --notebook-dir=\"/Users/jaimesoroarubio/code/jaimesoroa/smarthealing/notebooks\" --config=/var/folders/jt/ljcpcwg95nv566n6vzs4822m0000gn/T/5a3bc81d-e081-4891-a241-15aaa83fb67d/jupyter_notebook_config.py --NotebookApp.iopub_data_rate_limit=10000000000.0. \n",
      "\u001b[1;31mView Jupyter <a href='command:jupyter.viewOutput'>log</a> for further details."
     ]
    }
   ],
   "source": [
    "model_KNR_1 = KNeighborsRegressor(n_neighbors = 20, leaf_size = 40)\n",
    "cv_results_KNR_1 = cross_validate(model_KNR_1, X_train_p, y_log_train, cv=5,\n",
    "                            scoring=['max_error',\n",
    "                                     'r2',\n",
    "                                     'neg_mean_absolute_error',\n",
    "                                     'neg_mean_squared_error',\n",
    "                                     'neg_root_mean_squared_error']\n",
    ")\n",
    "\n",
    "KNR_val_rmse = np.exp(cv_results_KNR_1['test_neg_root_mean_squared_error'].mean()*(-1))\n",
    "KNR_val_r2 = cv_results_KNR_1['test_r2'].mean()\n",
    "\n",
    "model_KNR_1.fit(X_train_p, y_log_train)\n",
    "y_pred_KNR_1 = model_KNR_1.predict(X_test_p)\n",
    "KNR_train_rmse = np.exp(mean_squared_error(y_log_test, y_pred_KNR_1, squared = False))\n",
    "\n",
    "print(f'Validation R2= {np.round(KNR_val_r2, 2)}, validation rmse= {np.round(KNR_val_rmse, 2)}, and training rmse= {np.round(KNR_train_rmse, 2)}')"
   ]
  },
  {
   "cell_type": "code",
   "execution_count": null,
   "metadata": {},
   "outputs": [
    {
     "ename": "",
     "evalue": "",
     "output_type": "error",
     "traceback": [
      "\u001b[1;31mFailed to start the Kernel. \n",
      "\u001b[1;31mTraceback (most recent call last):\n",
      "\u001b[1;31m  File \"/Users/jaimesoroarubio/.vscode/extensions/ms-toolsai.jupyter-2022.9.1303220346/pythonFiles/vscode_datascience_helpers/jupyter_daemon.py\", line 158, in _start_notebook\n",
      "\u001b[1;31m    from notebook import notebookapp as app\n",
      "\u001b[1;31m  File \"/Users/jaimesoroarubio/.pyenv/versions/3.10.6/envs/taxifare-env/lib/python3.10/site-packages/notebook/notebookapp.py\", line 57, in <module>\n",
      "\u001b[1;31m    raise ImportError(_(\"The Jupyter Notebook requires tornado >= 5.0, but you have %s\") % tornado.version)\n",
      "\u001b[1;31mImportError: The Jupyter Notebook requires tornado >= 5.0, but you have 4.5.3\n",
      "\u001b[1;31m\n",
      "\u001b[1;31mDuring handling of the above exception, another exception occurred:\n",
      "\u001b[1;31m\n",
      "\u001b[1;31mTraceback (most recent call last):\n",
      "\u001b[1;31m  File \"/Users/jaimesoroarubio/.vscode/extensions/ms-toolsai.jupyter-2022.9.1303220346/pythonFiles/vscode_datascience_helpers/daemon/daemon_python.py\", line 54, in _decorator\n",
      "\u001b[1;31m    return func(self, *args, **kwargs)\n",
      "\u001b[1;31m  File \"/Users/jaimesoroarubio/.vscode/extensions/ms-toolsai.jupyter-2022.9.1303220346/pythonFiles/vscode_datascience_helpers/jupyter_daemon.py\", line 111, in m_exec_module_observable\n",
      "\u001b[1;31m    self._start_notebook(args, cwd, env)\n",
      "\u001b[1;31m  File \"/Users/jaimesoroarubio/.vscode/extensions/ms-toolsai.jupyter-2022.9.1303220346/pythonFiles/vscode_datascience_helpers/jupyter_daemon.py\", line 160, in _start_notebook\n",
      "\u001b[1;31m    from notebook import app as app\n",
      "\u001b[1;31mImportError: cannot import name 'app' from 'notebook' (/Users/jaimesoroarubio/.pyenv/versions/3.10.6/envs/taxifare-env/lib/python3.10/site-packages/notebook/__init__.py)\n",
      "\u001b[1;31m\n",
      "\u001b[1;31mFailed to run jupyter as observable with args notebook --no-browser --notebook-dir=\"/Users/jaimesoroarubio/code/jaimesoroa/smarthealing/notebooks\" --config=/var/folders/jt/ljcpcwg95nv566n6vzs4822m0000gn/T/5a3bc81d-e081-4891-a241-15aaa83fb67d/jupyter_notebook_config.py --NotebookApp.iopub_data_rate_limit=10000000000.0. \n",
      "\u001b[1;31mView Jupyter <a href='command:jupyter.viewOutput'>log</a> for further details."
     ]
    }
   ],
   "source": [
    "from sklearn.linear_model import Ridge, Lasso"
   ]
  },
  {
   "cell_type": "code",
   "execution_count": null,
   "metadata": {},
   "outputs": [
    {
     "ename": "",
     "evalue": "",
     "output_type": "error",
     "traceback": [
      "\u001b[1;31mFailed to start the Kernel. \n",
      "\u001b[1;31mTraceback (most recent call last):\n",
      "\u001b[1;31m  File \"/Users/jaimesoroarubio/.vscode/extensions/ms-toolsai.jupyter-2022.9.1303220346/pythonFiles/vscode_datascience_helpers/jupyter_daemon.py\", line 158, in _start_notebook\n",
      "\u001b[1;31m    from notebook import notebookapp as app\n",
      "\u001b[1;31m  File \"/Users/jaimesoroarubio/.pyenv/versions/3.10.6/envs/taxifare-env/lib/python3.10/site-packages/notebook/notebookapp.py\", line 57, in <module>\n",
      "\u001b[1;31m    raise ImportError(_(\"The Jupyter Notebook requires tornado >= 5.0, but you have %s\") % tornado.version)\n",
      "\u001b[1;31mImportError: The Jupyter Notebook requires tornado >= 5.0, but you have 4.5.3\n",
      "\u001b[1;31m\n",
      "\u001b[1;31mDuring handling of the above exception, another exception occurred:\n",
      "\u001b[1;31m\n",
      "\u001b[1;31mTraceback (most recent call last):\n",
      "\u001b[1;31m  File \"/Users/jaimesoroarubio/.vscode/extensions/ms-toolsai.jupyter-2022.9.1303220346/pythonFiles/vscode_datascience_helpers/daemon/daemon_python.py\", line 54, in _decorator\n",
      "\u001b[1;31m    return func(self, *args, **kwargs)\n",
      "\u001b[1;31m  File \"/Users/jaimesoroarubio/.vscode/extensions/ms-toolsai.jupyter-2022.9.1303220346/pythonFiles/vscode_datascience_helpers/jupyter_daemon.py\", line 111, in m_exec_module_observable\n",
      "\u001b[1;31m    self._start_notebook(args, cwd, env)\n",
      "\u001b[1;31m  File \"/Users/jaimesoroarubio/.vscode/extensions/ms-toolsai.jupyter-2022.9.1303220346/pythonFiles/vscode_datascience_helpers/jupyter_daemon.py\", line 160, in _start_notebook\n",
      "\u001b[1;31m    from notebook import app as app\n",
      "\u001b[1;31mImportError: cannot import name 'app' from 'notebook' (/Users/jaimesoroarubio/.pyenv/versions/3.10.6/envs/taxifare-env/lib/python3.10/site-packages/notebook/__init__.py)\n",
      "\u001b[1;31m\n",
      "\u001b[1;31mFailed to run jupyter as observable with args notebook --no-browser --notebook-dir=\"/Users/jaimesoroarubio/code/jaimesoroa/smarthealing/notebooks\" --config=/var/folders/jt/ljcpcwg95nv566n6vzs4822m0000gn/T/5a3bc81d-e081-4891-a241-15aaa83fb67d/jupyter_notebook_config.py --NotebookApp.iopub_data_rate_limit=10000000000.0. \n",
      "\u001b[1;31mView Jupyter <a href='command:jupyter.viewOutput'>log</a> for further details."
     ]
    }
   ],
   "source": [
    "model_ridge_1 = Ridge()\n",
    "cv_results_ridge_1 = cross_validate(model_ridge_1, X_train_p, y_log_train, cv=5,\n",
    "                            scoring=['max_error',\n",
    "                                     'r2',\n",
    "                                     'neg_mean_absolute_error',\n",
    "                                     'neg_mean_squared_error',\n",
    "                                     'neg_root_mean_squared_error']\n",
    ") \n",
    "pd.DataFrame(cv_results_ridge_1)\n",
    "ridge_val_rmse = np.exp(cv_results_ridge_1['test_neg_root_mean_squared_error'].mean()*(-1))\n",
    "ridge_val_r2 = cv_results_ridge_1['test_r2'].mean()\n",
    "\n",
    "model_ridge_1.fit(X_train_p, y_log_train)\n",
    "y_pred_ridge_1 = model_ridge_1.predict(X_test_p)\n",
    "ridge_train_rmse = np.exp(mean_squared_error(y_log_test, y_pred_ridge_1, squared = False))\n",
    "\n",
    "print(f'Validation R2= {np.round(ridge_val_r2, 2)}, validation rmse= {np.round(ridge_val_rmse, 2)}, and training rmse= {np.round(ridge_train_rmse, 2)}')"
   ]
  },
  {
   "cell_type": "code",
   "execution_count": null,
   "metadata": {},
   "outputs": [
    {
     "ename": "",
     "evalue": "",
     "output_type": "error",
     "traceback": [
      "\u001b[1;31mFailed to start the Kernel. \n",
      "\u001b[1;31mTraceback (most recent call last):\n",
      "\u001b[1;31m  File \"/Users/jaimesoroarubio/.vscode/extensions/ms-toolsai.jupyter-2022.9.1303220346/pythonFiles/vscode_datascience_helpers/jupyter_daemon.py\", line 158, in _start_notebook\n",
      "\u001b[1;31m    from notebook import notebookapp as app\n",
      "\u001b[1;31m  File \"/Users/jaimesoroarubio/.pyenv/versions/3.10.6/envs/taxifare-env/lib/python3.10/site-packages/notebook/notebookapp.py\", line 57, in <module>\n",
      "\u001b[1;31m    raise ImportError(_(\"The Jupyter Notebook requires tornado >= 5.0, but you have %s\") % tornado.version)\n",
      "\u001b[1;31mImportError: The Jupyter Notebook requires tornado >= 5.0, but you have 4.5.3\n",
      "\u001b[1;31m\n",
      "\u001b[1;31mDuring handling of the above exception, another exception occurred:\n",
      "\u001b[1;31m\n",
      "\u001b[1;31mTraceback (most recent call last):\n",
      "\u001b[1;31m  File \"/Users/jaimesoroarubio/.vscode/extensions/ms-toolsai.jupyter-2022.9.1303220346/pythonFiles/vscode_datascience_helpers/daemon/daemon_python.py\", line 54, in _decorator\n",
      "\u001b[1;31m    return func(self, *args, **kwargs)\n",
      "\u001b[1;31m  File \"/Users/jaimesoroarubio/.vscode/extensions/ms-toolsai.jupyter-2022.9.1303220346/pythonFiles/vscode_datascience_helpers/jupyter_daemon.py\", line 111, in m_exec_module_observable\n",
      "\u001b[1;31m    self._start_notebook(args, cwd, env)\n",
      "\u001b[1;31m  File \"/Users/jaimesoroarubio/.vscode/extensions/ms-toolsai.jupyter-2022.9.1303220346/pythonFiles/vscode_datascience_helpers/jupyter_daemon.py\", line 160, in _start_notebook\n",
      "\u001b[1;31m    from notebook import app as app\n",
      "\u001b[1;31mImportError: cannot import name 'app' from 'notebook' (/Users/jaimesoroarubio/.pyenv/versions/3.10.6/envs/taxifare-env/lib/python3.10/site-packages/notebook/__init__.py)\n",
      "\u001b[1;31m\n",
      "\u001b[1;31mFailed to run jupyter as observable with args notebook --no-browser --notebook-dir=\"/Users/jaimesoroarubio/code/jaimesoroa/smarthealing/notebooks\" --config=/var/folders/jt/ljcpcwg95nv566n6vzs4822m0000gn/T/5a3bc81d-e081-4891-a241-15aaa83fb67d/jupyter_notebook_config.py --NotebookApp.iopub_data_rate_limit=10000000000.0. \n",
      "\u001b[1;31mView Jupyter <a href='command:jupyter.viewOutput'>log</a> for further details."
     ]
    }
   ],
   "source": [
    "model_lasso_1 = Lasso()\n",
    "cv_results_lasso_1 = cross_validate(model_lasso_1, X_train_p, y_log_train, cv=5,\n",
    "                            scoring=['max_error',\n",
    "                                     'r2',\n",
    "                                     'neg_mean_absolute_error',\n",
    "                                     'neg_mean_squared_error',\n",
    "                                     'neg_root_mean_squared_error']\n",
    ") \n",
    "lasso_val_rmse = np.exp(cv_results_lasso_1['test_neg_root_mean_squared_error'].mean()*(-1))\n",
    "lasso_val_r2 = cv_results_lasso_1['test_r2'].mean()\n",
    "\n",
    "model_lasso_1.fit(X_train_p, y_log_train)\n",
    "y_pred_lasso_1 = model_lasso_1.predict(X_test_p)\n",
    "lasso_train_rmse = np.exp(mean_squared_error(y_log_test, y_pred_lasso_1, squared = False))\n",
    "\n",
    "print(f'Validation R2= {np.round(lasso_val_r2, 2)}, validation rmse= {np.round(lasso_val_rmse, 2)}, and training rmse= {np.round(lasso_train_rmse, 2)}')"
   ]
  },
  {
   "cell_type": "code",
   "execution_count": null,
   "metadata": {},
   "outputs": [
    {
     "ename": "",
     "evalue": "",
     "output_type": "error",
     "traceback": [
      "\u001b[1;31mFailed to start the Kernel. \n",
      "\u001b[1;31mTraceback (most recent call last):\n",
      "\u001b[1;31m  File \"/Users/jaimesoroarubio/.vscode/extensions/ms-toolsai.jupyter-2022.9.1303220346/pythonFiles/vscode_datascience_helpers/jupyter_daemon.py\", line 158, in _start_notebook\n",
      "\u001b[1;31m    from notebook import notebookapp as app\n",
      "\u001b[1;31m  File \"/Users/jaimesoroarubio/.pyenv/versions/3.10.6/envs/taxifare-env/lib/python3.10/site-packages/notebook/notebookapp.py\", line 57, in <module>\n",
      "\u001b[1;31m    raise ImportError(_(\"The Jupyter Notebook requires tornado >= 5.0, but you have %s\") % tornado.version)\n",
      "\u001b[1;31mImportError: The Jupyter Notebook requires tornado >= 5.0, but you have 4.5.3\n",
      "\u001b[1;31m\n",
      "\u001b[1;31mDuring handling of the above exception, another exception occurred:\n",
      "\u001b[1;31m\n",
      "\u001b[1;31mTraceback (most recent call last):\n",
      "\u001b[1;31m  File \"/Users/jaimesoroarubio/.vscode/extensions/ms-toolsai.jupyter-2022.9.1303220346/pythonFiles/vscode_datascience_helpers/daemon/daemon_python.py\", line 54, in _decorator\n",
      "\u001b[1;31m    return func(self, *args, **kwargs)\n",
      "\u001b[1;31m  File \"/Users/jaimesoroarubio/.vscode/extensions/ms-toolsai.jupyter-2022.9.1303220346/pythonFiles/vscode_datascience_helpers/jupyter_daemon.py\", line 111, in m_exec_module_observable\n",
      "\u001b[1;31m    self._start_notebook(args, cwd, env)\n",
      "\u001b[1;31m  File \"/Users/jaimesoroarubio/.vscode/extensions/ms-toolsai.jupyter-2022.9.1303220346/pythonFiles/vscode_datascience_helpers/jupyter_daemon.py\", line 160, in _start_notebook\n",
      "\u001b[1;31m    from notebook import app as app\n",
      "\u001b[1;31mImportError: cannot import name 'app' from 'notebook' (/Users/jaimesoroarubio/.pyenv/versions/3.10.6/envs/taxifare-env/lib/python3.10/site-packages/notebook/__init__.py)\n",
      "\u001b[1;31m\n",
      "\u001b[1;31mFailed to run jupyter as observable with args notebook --no-browser --notebook-dir=\"/Users/jaimesoroarubio/code/jaimesoroa/smarthealing/notebooks\" --config=/var/folders/jt/ljcpcwg95nv566n6vzs4822m0000gn/T/5a3bc81d-e081-4891-a241-15aaa83fb67d/jupyter_notebook_config.py --NotebookApp.iopub_data_rate_limit=10000000000.0. \n",
      "\u001b[1;31mView Jupyter <a href='command:jupyter.viewOutput'>log</a> for further details."
     ]
    }
   ],
   "source": [
    "from sklearn.linear_model import ElasticNet"
   ]
  },
  {
   "cell_type": "code",
   "execution_count": null,
   "metadata": {},
   "outputs": [
    {
     "ename": "",
     "evalue": "",
     "output_type": "error",
     "traceback": [
      "\u001b[1;31mFailed to start the Kernel. \n",
      "\u001b[1;31mTraceback (most recent call last):\n",
      "\u001b[1;31m  File \"/Users/jaimesoroarubio/.vscode/extensions/ms-toolsai.jupyter-2022.9.1303220346/pythonFiles/vscode_datascience_helpers/jupyter_daemon.py\", line 158, in _start_notebook\n",
      "\u001b[1;31m    from notebook import notebookapp as app\n",
      "\u001b[1;31m  File \"/Users/jaimesoroarubio/.pyenv/versions/3.10.6/envs/taxifare-env/lib/python3.10/site-packages/notebook/notebookapp.py\", line 57, in <module>\n",
      "\u001b[1;31m    raise ImportError(_(\"The Jupyter Notebook requires tornado >= 5.0, but you have %s\") % tornado.version)\n",
      "\u001b[1;31mImportError: The Jupyter Notebook requires tornado >= 5.0, but you have 4.5.3\n",
      "\u001b[1;31m\n",
      "\u001b[1;31mDuring handling of the above exception, another exception occurred:\n",
      "\u001b[1;31m\n",
      "\u001b[1;31mTraceback (most recent call last):\n",
      "\u001b[1;31m  File \"/Users/jaimesoroarubio/.vscode/extensions/ms-toolsai.jupyter-2022.9.1303220346/pythonFiles/vscode_datascience_helpers/daemon/daemon_python.py\", line 54, in _decorator\n",
      "\u001b[1;31m    return func(self, *args, **kwargs)\n",
      "\u001b[1;31m  File \"/Users/jaimesoroarubio/.vscode/extensions/ms-toolsai.jupyter-2022.9.1303220346/pythonFiles/vscode_datascience_helpers/jupyter_daemon.py\", line 111, in m_exec_module_observable\n",
      "\u001b[1;31m    self._start_notebook(args, cwd, env)\n",
      "\u001b[1;31m  File \"/Users/jaimesoroarubio/.vscode/extensions/ms-toolsai.jupyter-2022.9.1303220346/pythonFiles/vscode_datascience_helpers/jupyter_daemon.py\", line 160, in _start_notebook\n",
      "\u001b[1;31m    from notebook import app as app\n",
      "\u001b[1;31mImportError: cannot import name 'app' from 'notebook' (/Users/jaimesoroarubio/.pyenv/versions/3.10.6/envs/taxifare-env/lib/python3.10/site-packages/notebook/__init__.py)\n",
      "\u001b[1;31m\n",
      "\u001b[1;31mFailed to run jupyter as observable with args notebook --no-browser --notebook-dir=\"/Users/jaimesoroarubio/code/jaimesoroa/smarthealing/notebooks\" --config=/var/folders/jt/ljcpcwg95nv566n6vzs4822m0000gn/T/5a3bc81d-e081-4891-a241-15aaa83fb67d/jupyter_notebook_config.py --NotebookApp.iopub_data_rate_limit=10000000000.0. \n",
      "\u001b[1;31mView Jupyter <a href='command:jupyter.viewOutput'>log</a> for further details."
     ]
    }
   ],
   "source": [
    "model_EN_1 = ElasticNet()\n",
    "cv_results_EN_1 = cross_validate(model_EN_1, X_train_p, y_log_train, cv=5,\n",
    "                            scoring=['max_error',\n",
    "                                     'r2',\n",
    "                                     'neg_mean_absolute_error',\n",
    "                                     'neg_mean_squared_error',\n",
    "                                     'neg_root_mean_squared_error']\n",
    ") \n",
    "pd.DataFrame(cv_results_EN_1)\n",
    "val_EN_rmse = np.exp(cv_results_lasso_1['test_neg_root_mean_squared_error'].mean()*(-1))\n",
    "val_EN_r2 = cv_results_lasso_1['test_r2'].mean()\n",
    "\n",
    "model_EN_1.fit(X_train_p, y_log_train)\n",
    "y_pred_EN_1 = model_EN_1.predict(X_test_p)\n",
    "pred_EN_rmse = np.exp(mean_squared_error(y_log_test, y_pred_EN_1, squared = False))\n",
    "\n",
    "print(f'Validation R2= {np.round(lasso_val_r2, 2)}, validation rmse= {np.round(val_EN_rmse, 2)}, and training rmse= {np.round(pred_EN_rmse, 2)}')"
   ]
  },
  {
   "cell_type": "code",
   "execution_count": null,
   "metadata": {},
   "outputs": [
    {
     "ename": "",
     "evalue": "",
     "output_type": "error",
     "traceback": [
      "\u001b[1;31mFailed to start the Kernel. \n",
      "\u001b[1;31mTraceback (most recent call last):\n",
      "\u001b[1;31m  File \"/Users/jaimesoroarubio/.vscode/extensions/ms-toolsai.jupyter-2022.9.1303220346/pythonFiles/vscode_datascience_helpers/jupyter_daemon.py\", line 158, in _start_notebook\n",
      "\u001b[1;31m    from notebook import notebookapp as app\n",
      "\u001b[1;31m  File \"/Users/jaimesoroarubio/.pyenv/versions/3.10.6/envs/taxifare-env/lib/python3.10/site-packages/notebook/notebookapp.py\", line 57, in <module>\n",
      "\u001b[1;31m    raise ImportError(_(\"The Jupyter Notebook requires tornado >= 5.0, but you have %s\") % tornado.version)\n",
      "\u001b[1;31mImportError: The Jupyter Notebook requires tornado >= 5.0, but you have 4.5.3\n",
      "\u001b[1;31m\n",
      "\u001b[1;31mDuring handling of the above exception, another exception occurred:\n",
      "\u001b[1;31m\n",
      "\u001b[1;31mTraceback (most recent call last):\n",
      "\u001b[1;31m  File \"/Users/jaimesoroarubio/.vscode/extensions/ms-toolsai.jupyter-2022.9.1303220346/pythonFiles/vscode_datascience_helpers/daemon/daemon_python.py\", line 54, in _decorator\n",
      "\u001b[1;31m    return func(self, *args, **kwargs)\n",
      "\u001b[1;31m  File \"/Users/jaimesoroarubio/.vscode/extensions/ms-toolsai.jupyter-2022.9.1303220346/pythonFiles/vscode_datascience_helpers/jupyter_daemon.py\", line 111, in m_exec_module_observable\n",
      "\u001b[1;31m    self._start_notebook(args, cwd, env)\n",
      "\u001b[1;31m  File \"/Users/jaimesoroarubio/.vscode/extensions/ms-toolsai.jupyter-2022.9.1303220346/pythonFiles/vscode_datascience_helpers/jupyter_daemon.py\", line 160, in _start_notebook\n",
      "\u001b[1;31m    from notebook import app as app\n",
      "\u001b[1;31mImportError: cannot import name 'app' from 'notebook' (/Users/jaimesoroarubio/.pyenv/versions/3.10.6/envs/taxifare-env/lib/python3.10/site-packages/notebook/__init__.py)\n",
      "\u001b[1;31m\n",
      "\u001b[1;31mFailed to run jupyter as observable with args notebook --no-browser --notebook-dir=\"/Users/jaimesoroarubio/code/jaimesoroa/smarthealing/notebooks\" --config=/var/folders/jt/ljcpcwg95nv566n6vzs4822m0000gn/T/5a3bc81d-e081-4891-a241-15aaa83fb67d/jupyter_notebook_config.py --NotebookApp.iopub_data_rate_limit=10000000000.0. \n",
      "\u001b[1;31mView Jupyter <a href='command:jupyter.viewOutput'>log</a> for further details."
     ]
    }
   ],
   "source": [
    "from sklearn.tree import DecisionTreeRegressor\n",
    "model_DTR_1 = DecisionTreeRegressor()\n",
    "cv_results_DTR_1 = cross_validate(model_DTR_1, X_train_p, y_log_train, cv=5,\n",
    "                            scoring=['max_error',\n",
    "                                     'r2',\n",
    "                                     'neg_mean_absolute_error',\n",
    "                                     'neg_mean_squared_error',\n",
    "                                     'neg_root_mean_squared_error']\n",
    ") \n",
    "val_DTR_rmse = np.exp(cv_results_DTR_1['test_neg_root_mean_squared_error'].mean()*(-1))\n",
    "val_DTR_r2 = cv_results_DTR_1['test_r2'].mean()\n",
    "model_DTR_1.fit(X_train_p, y_log_train)\n",
    "y_pred_DTR_1 = model_DTR_1.predict(X_test_p)\n",
    "pred_DTR_rmse = np.exp(mean_squared_error(y_log_test, y_pred_DTR_1, squared = False))\n",
    "\n",
    "print(f'Validation R2= {np.round(lasso_val_r2, 2)}, validation rmse= {np.round(val_DTR_rmse, 2)}, and training rmse= {np.round(pred_DTR_rmse, 2)}')"
   ]
  },
  {
   "cell_type": "code",
   "execution_count": null,
   "metadata": {},
   "outputs": [
    {
     "ename": "",
     "evalue": "",
     "output_type": "error",
     "traceback": [
      "\u001b[1;31mFailed to start the Kernel. \n",
      "\u001b[1;31mTraceback (most recent call last):\n",
      "\u001b[1;31m  File \"/Users/jaimesoroarubio/.vscode/extensions/ms-toolsai.jupyter-2022.9.1303220346/pythonFiles/vscode_datascience_helpers/jupyter_daemon.py\", line 158, in _start_notebook\n",
      "\u001b[1;31m    from notebook import notebookapp as app\n",
      "\u001b[1;31m  File \"/Users/jaimesoroarubio/.pyenv/versions/3.10.6/envs/taxifare-env/lib/python3.10/site-packages/notebook/notebookapp.py\", line 57, in <module>\n",
      "\u001b[1;31m    raise ImportError(_(\"The Jupyter Notebook requires tornado >= 5.0, but you have %s\") % tornado.version)\n",
      "\u001b[1;31mImportError: The Jupyter Notebook requires tornado >= 5.0, but you have 4.5.3\n",
      "\u001b[1;31m\n",
      "\u001b[1;31mDuring handling of the above exception, another exception occurred:\n",
      "\u001b[1;31m\n",
      "\u001b[1;31mTraceback (most recent call last):\n",
      "\u001b[1;31m  File \"/Users/jaimesoroarubio/.vscode/extensions/ms-toolsai.jupyter-2022.9.1303220346/pythonFiles/vscode_datascience_helpers/daemon/daemon_python.py\", line 54, in _decorator\n",
      "\u001b[1;31m    return func(self, *args, **kwargs)\n",
      "\u001b[1;31m  File \"/Users/jaimesoroarubio/.vscode/extensions/ms-toolsai.jupyter-2022.9.1303220346/pythonFiles/vscode_datascience_helpers/jupyter_daemon.py\", line 111, in m_exec_module_observable\n",
      "\u001b[1;31m    self._start_notebook(args, cwd, env)\n",
      "\u001b[1;31m  File \"/Users/jaimesoroarubio/.vscode/extensions/ms-toolsai.jupyter-2022.9.1303220346/pythonFiles/vscode_datascience_helpers/jupyter_daemon.py\", line 160, in _start_notebook\n",
      "\u001b[1;31m    from notebook import app as app\n",
      "\u001b[1;31mImportError: cannot import name 'app' from 'notebook' (/Users/jaimesoroarubio/.pyenv/versions/3.10.6/envs/taxifare-env/lib/python3.10/site-packages/notebook/__init__.py)\n",
      "\u001b[1;31m\n",
      "\u001b[1;31mFailed to run jupyter as observable with args notebook --no-browser --notebook-dir=\"/Users/jaimesoroarubio/code/jaimesoroa/smarthealing/notebooks\" --config=/var/folders/jt/ljcpcwg95nv566n6vzs4822m0000gn/T/5a3bc81d-e081-4891-a241-15aaa83fb67d/jupyter_notebook_config.py --NotebookApp.iopub_data_rate_limit=10000000000.0. \n",
      "\u001b[1;31mView Jupyter <a href='command:jupyter.viewOutput'>log</a> for further details."
     ]
    }
   ],
   "source": [
    "from tensorflow.keras import models\n",
    "from tensorflow.keras import layers\n",
    "from tensorflow.keras.callbacks import EarlyStopping"
   ]
  },
  {
   "cell_type": "code",
   "execution_count": null,
   "metadata": {},
   "outputs": [
    {
     "ename": "",
     "evalue": "",
     "output_type": "error",
     "traceback": [
      "\u001b[1;31mFailed to start the Kernel. \n",
      "\u001b[1;31mTraceback (most recent call last):\n",
      "\u001b[1;31m  File \"/Users/jaimesoroarubio/.vscode/extensions/ms-toolsai.jupyter-2022.9.1303220346/pythonFiles/vscode_datascience_helpers/jupyter_daemon.py\", line 158, in _start_notebook\n",
      "\u001b[1;31m    from notebook import notebookapp as app\n",
      "\u001b[1;31m  File \"/Users/jaimesoroarubio/.pyenv/versions/3.10.6/envs/taxifare-env/lib/python3.10/site-packages/notebook/notebookapp.py\", line 57, in <module>\n",
      "\u001b[1;31m    raise ImportError(_(\"The Jupyter Notebook requires tornado >= 5.0, but you have %s\") % tornado.version)\n",
      "\u001b[1;31mImportError: The Jupyter Notebook requires tornado >= 5.0, but you have 4.5.3\n",
      "\u001b[1;31m\n",
      "\u001b[1;31mDuring handling of the above exception, another exception occurred:\n",
      "\u001b[1;31m\n",
      "\u001b[1;31mTraceback (most recent call last):\n",
      "\u001b[1;31m  File \"/Users/jaimesoroarubio/.vscode/extensions/ms-toolsai.jupyter-2022.9.1303220346/pythonFiles/vscode_datascience_helpers/daemon/daemon_python.py\", line 54, in _decorator\n",
      "\u001b[1;31m    return func(self, *args, **kwargs)\n",
      "\u001b[1;31m  File \"/Users/jaimesoroarubio/.vscode/extensions/ms-toolsai.jupyter-2022.9.1303220346/pythonFiles/vscode_datascience_helpers/jupyter_daemon.py\", line 111, in m_exec_module_observable\n",
      "\u001b[1;31m    self._start_notebook(args, cwd, env)\n",
      "\u001b[1;31m  File \"/Users/jaimesoroarubio/.vscode/extensions/ms-toolsai.jupyter-2022.9.1303220346/pythonFiles/vscode_datascience_helpers/jupyter_daemon.py\", line 160, in _start_notebook\n",
      "\u001b[1;31m    from notebook import app as app\n",
      "\u001b[1;31mImportError: cannot import name 'app' from 'notebook' (/Users/jaimesoroarubio/.pyenv/versions/3.10.6/envs/taxifare-env/lib/python3.10/site-packages/notebook/__init__.py)\n",
      "\u001b[1;31m\n",
      "\u001b[1;31mFailed to run jupyter as observable with args notebook --no-browser --notebook-dir=\"/Users/jaimesoroarubio/code/jaimesoroa/smarthealing/notebooks\" --config=/var/folders/jt/ljcpcwg95nv566n6vzs4822m0000gn/T/5a3bc81d-e081-4891-a241-15aaa83fb67d/jupyter_notebook_config.py --NotebookApp.iopub_data_rate_limit=10000000000.0. \n",
      "\u001b[1;31mView Jupyter <a href='command:jupyter.viewOutput'>log</a> for further details."
     ]
    }
   ],
   "source": [
    "model = models.Sequential()\n",
    "model.add(layers.Dense(10, activation='relu', input_dim=116))\n",
    "model.add(layers.Dense(64, activation='relu'))\n",
    "model.add(layers.Dense(32, activation='relu'))\n",
    "# model.add(layers.Dropout(rate=0.2))\n",
    "model.add(layers.Dense(1, activation='linear'))\n",
    "model.summary()"
   ]
  },
  {
   "cell_type": "code",
   "execution_count": null,
   "metadata": {},
   "outputs": [
    {
     "ename": "",
     "evalue": "",
     "output_type": "error",
     "traceback": [
      "\u001b[1;31mFailed to start the Kernel. \n",
      "\u001b[1;31mTraceback (most recent call last):\n",
      "\u001b[1;31m  File \"/Users/jaimesoroarubio/.vscode/extensions/ms-toolsai.jupyter-2022.9.1303220346/pythonFiles/vscode_datascience_helpers/jupyter_daemon.py\", line 158, in _start_notebook\n",
      "\u001b[1;31m    from notebook import notebookapp as app\n",
      "\u001b[1;31m  File \"/Users/jaimesoroarubio/.pyenv/versions/3.10.6/envs/taxifare-env/lib/python3.10/site-packages/notebook/notebookapp.py\", line 57, in <module>\n",
      "\u001b[1;31m    raise ImportError(_(\"The Jupyter Notebook requires tornado >= 5.0, but you have %s\") % tornado.version)\n",
      "\u001b[1;31mImportError: The Jupyter Notebook requires tornado >= 5.0, but you have 4.5.3\n",
      "\u001b[1;31m\n",
      "\u001b[1;31mDuring handling of the above exception, another exception occurred:\n",
      "\u001b[1;31m\n",
      "\u001b[1;31mTraceback (most recent call last):\n",
      "\u001b[1;31m  File \"/Users/jaimesoroarubio/.vscode/extensions/ms-toolsai.jupyter-2022.9.1303220346/pythonFiles/vscode_datascience_helpers/daemon/daemon_python.py\", line 54, in _decorator\n",
      "\u001b[1;31m    return func(self, *args, **kwargs)\n",
      "\u001b[1;31m  File \"/Users/jaimesoroarubio/.vscode/extensions/ms-toolsai.jupyter-2022.9.1303220346/pythonFiles/vscode_datascience_helpers/jupyter_daemon.py\", line 111, in m_exec_module_observable\n",
      "\u001b[1;31m    self._start_notebook(args, cwd, env)\n",
      "\u001b[1;31m  File \"/Users/jaimesoroarubio/.vscode/extensions/ms-toolsai.jupyter-2022.9.1303220346/pythonFiles/vscode_datascience_helpers/jupyter_daemon.py\", line 160, in _start_notebook\n",
      "\u001b[1;31m    from notebook import app as app\n",
      "\u001b[1;31mImportError: cannot import name 'app' from 'notebook' (/Users/jaimesoroarubio/.pyenv/versions/3.10.6/envs/taxifare-env/lib/python3.10/site-packages/notebook/__init__.py)\n",
      "\u001b[1;31m\n",
      "\u001b[1;31mFailed to run jupyter as observable with args notebook --no-browser --notebook-dir=\"/Users/jaimesoroarubio/code/jaimesoroa/smarthealing/notebooks\" --config=/var/folders/jt/ljcpcwg95nv566n6vzs4822m0000gn/T/5a3bc81d-e081-4891-a241-15aaa83fb67d/jupyter_notebook_config.py --NotebookApp.iopub_data_rate_limit=10000000000.0. \n",
      "\u001b[1;31mView Jupyter <a href='command:jupyter.viewOutput'>log</a> for further details."
     ]
    }
   ],
   "source": [
    "model.compile(loss='mse', optimizer = 'adam', metrics='RootMeanSquaredError')"
   ]
  },
  {
   "cell_type": "code",
   "execution_count": null,
   "metadata": {},
   "outputs": [
    {
     "ename": "",
     "evalue": "",
     "output_type": "error",
     "traceback": [
      "\u001b[1;31mFailed to start the Kernel. \n",
      "\u001b[1;31mTraceback (most recent call last):\n",
      "\u001b[1;31m  File \"/Users/jaimesoroarubio/.vscode/extensions/ms-toolsai.jupyter-2022.9.1303220346/pythonFiles/vscode_datascience_helpers/jupyter_daemon.py\", line 158, in _start_notebook\n",
      "\u001b[1;31m    from notebook import notebookapp as app\n",
      "\u001b[1;31m  File \"/Users/jaimesoroarubio/.pyenv/versions/3.10.6/envs/taxifare-env/lib/python3.10/site-packages/notebook/notebookapp.py\", line 57, in <module>\n",
      "\u001b[1;31m    raise ImportError(_(\"The Jupyter Notebook requires tornado >= 5.0, but you have %s\") % tornado.version)\n",
      "\u001b[1;31mImportError: The Jupyter Notebook requires tornado >= 5.0, but you have 4.5.3\n",
      "\u001b[1;31m\n",
      "\u001b[1;31mDuring handling of the above exception, another exception occurred:\n",
      "\u001b[1;31m\n",
      "\u001b[1;31mTraceback (most recent call last):\n",
      "\u001b[1;31m  File \"/Users/jaimesoroarubio/.vscode/extensions/ms-toolsai.jupyter-2022.9.1303220346/pythonFiles/vscode_datascience_helpers/daemon/daemon_python.py\", line 54, in _decorator\n",
      "\u001b[1;31m    return func(self, *args, **kwargs)\n",
      "\u001b[1;31m  File \"/Users/jaimesoroarubio/.vscode/extensions/ms-toolsai.jupyter-2022.9.1303220346/pythonFiles/vscode_datascience_helpers/jupyter_daemon.py\", line 111, in m_exec_module_observable\n",
      "\u001b[1;31m    self._start_notebook(args, cwd, env)\n",
      "\u001b[1;31m  File \"/Users/jaimesoroarubio/.vscode/extensions/ms-toolsai.jupyter-2022.9.1303220346/pythonFiles/vscode_datascience_helpers/jupyter_daemon.py\", line 160, in _start_notebook\n",
      "\u001b[1;31m    from notebook import app as app\n",
      "\u001b[1;31mImportError: cannot import name 'app' from 'notebook' (/Users/jaimesoroarubio/.pyenv/versions/3.10.6/envs/taxifare-env/lib/python3.10/site-packages/notebook/__init__.py)\n",
      "\u001b[1;31m\n",
      "\u001b[1;31mFailed to run jupyter as observable with args notebook --no-browser --notebook-dir=\"/Users/jaimesoroarubio/code/jaimesoroa/smarthealing/notebooks\" --config=/var/folders/jt/ljcpcwg95nv566n6vzs4822m0000gn/T/5a3bc81d-e081-4891-a241-15aaa83fb67d/jupyter_notebook_config.py --NotebookApp.iopub_data_rate_limit=10000000000.0. \n",
      "\u001b[1;31mView Jupyter <a href='command:jupyter.viewOutput'>log</a> for further details."
     ]
    }
   ],
   "source": [
    "es = EarlyStopping(patience=10, restore_best_weights=True)\n",
    "history = model.fit(X_train_p, y_log_train, validation_split=0.3, callbacks = [es], epochs = 100)"
   ]
  },
  {
   "cell_type": "code",
   "execution_count": null,
   "metadata": {},
   "outputs": [
    {
     "ename": "",
     "evalue": "",
     "output_type": "error",
     "traceback": [
      "\u001b[1;31mFailed to start the Kernel. \n",
      "\u001b[1;31mTraceback (most recent call last):\n",
      "\u001b[1;31m  File \"/Users/jaimesoroarubio/.vscode/extensions/ms-toolsai.jupyter-2022.9.1303220346/pythonFiles/vscode_datascience_helpers/jupyter_daemon.py\", line 158, in _start_notebook\n",
      "\u001b[1;31m    from notebook import notebookapp as app\n",
      "\u001b[1;31m  File \"/Users/jaimesoroarubio/.pyenv/versions/3.10.6/envs/taxifare-env/lib/python3.10/site-packages/notebook/notebookapp.py\", line 57, in <module>\n",
      "\u001b[1;31m    raise ImportError(_(\"The Jupyter Notebook requires tornado >= 5.0, but you have %s\") % tornado.version)\n",
      "\u001b[1;31mImportError: The Jupyter Notebook requires tornado >= 5.0, but you have 4.5.3\n",
      "\u001b[1;31m\n",
      "\u001b[1;31mDuring handling of the above exception, another exception occurred:\n",
      "\u001b[1;31m\n",
      "\u001b[1;31mTraceback (most recent call last):\n",
      "\u001b[1;31m  File \"/Users/jaimesoroarubio/.vscode/extensions/ms-toolsai.jupyter-2022.9.1303220346/pythonFiles/vscode_datascience_helpers/daemon/daemon_python.py\", line 54, in _decorator\n",
      "\u001b[1;31m    return func(self, *args, **kwargs)\n",
      "\u001b[1;31m  File \"/Users/jaimesoroarubio/.vscode/extensions/ms-toolsai.jupyter-2022.9.1303220346/pythonFiles/vscode_datascience_helpers/jupyter_daemon.py\", line 111, in m_exec_module_observable\n",
      "\u001b[1;31m    self._start_notebook(args, cwd, env)\n",
      "\u001b[1;31m  File \"/Users/jaimesoroarubio/.vscode/extensions/ms-toolsai.jupyter-2022.9.1303220346/pythonFiles/vscode_datascience_helpers/jupyter_daemon.py\", line 160, in _start_notebook\n",
      "\u001b[1;31m    from notebook import app as app\n",
      "\u001b[1;31mImportError: cannot import name 'app' from 'notebook' (/Users/jaimesoroarubio/.pyenv/versions/3.10.6/envs/taxifare-env/lib/python3.10/site-packages/notebook/__init__.py)\n",
      "\u001b[1;31m\n",
      "\u001b[1;31mFailed to run jupyter as observable with args notebook --no-browser --notebook-dir=\"/Users/jaimesoroarubio/code/jaimesoroa/smarthealing/notebooks\" --config=/var/folders/jt/ljcpcwg95nv566n6vzs4822m0000gn/T/5a3bc81d-e081-4891-a241-15aaa83fb67d/jupyter_notebook_config.py --NotebookApp.iopub_data_rate_limit=10000000000.0. \n",
      "\u001b[1;31mView Jupyter <a href='command:jupyter.viewOutput'>log</a> for further details."
     ]
    }
   ],
   "source": [
    "res = model.evaluate(X_test_p, y_log_test)[1]"
   ]
  },
  {
   "cell_type": "code",
   "execution_count": null,
   "metadata": {},
   "outputs": [
    {
     "ename": "",
     "evalue": "",
     "output_type": "error",
     "traceback": [
      "\u001b[1;31mFailed to start the Kernel. \n",
      "\u001b[1;31mTraceback (most recent call last):\n",
      "\u001b[1;31m  File \"/Users/jaimesoroarubio/.vscode/extensions/ms-toolsai.jupyter-2022.9.1303220346/pythonFiles/vscode_datascience_helpers/jupyter_daemon.py\", line 158, in _start_notebook\n",
      "\u001b[1;31m    from notebook import notebookapp as app\n",
      "\u001b[1;31m  File \"/Users/jaimesoroarubio/.pyenv/versions/3.10.6/envs/taxifare-env/lib/python3.10/site-packages/notebook/notebookapp.py\", line 57, in <module>\n",
      "\u001b[1;31m    raise ImportError(_(\"The Jupyter Notebook requires tornado >= 5.0, but you have %s\") % tornado.version)\n",
      "\u001b[1;31mImportError: The Jupyter Notebook requires tornado >= 5.0, but you have 4.5.3\n",
      "\u001b[1;31m\n",
      "\u001b[1;31mDuring handling of the above exception, another exception occurred:\n",
      "\u001b[1;31m\n",
      "\u001b[1;31mTraceback (most recent call last):\n",
      "\u001b[1;31m  File \"/Users/jaimesoroarubio/.vscode/extensions/ms-toolsai.jupyter-2022.9.1303220346/pythonFiles/vscode_datascience_helpers/daemon/daemon_python.py\", line 54, in _decorator\n",
      "\u001b[1;31m    return func(self, *args, **kwargs)\n",
      "\u001b[1;31m  File \"/Users/jaimesoroarubio/.vscode/extensions/ms-toolsai.jupyter-2022.9.1303220346/pythonFiles/vscode_datascience_helpers/jupyter_daemon.py\", line 111, in m_exec_module_observable\n",
      "\u001b[1;31m    self._start_notebook(args, cwd, env)\n",
      "\u001b[1;31m  File \"/Users/jaimesoroarubio/.vscode/extensions/ms-toolsai.jupyter-2022.9.1303220346/pythonFiles/vscode_datascience_helpers/jupyter_daemon.py\", line 160, in _start_notebook\n",
      "\u001b[1;31m    from notebook import app as app\n",
      "\u001b[1;31mImportError: cannot import name 'app' from 'notebook' (/Users/jaimesoroarubio/.pyenv/versions/3.10.6/envs/taxifare-env/lib/python3.10/site-packages/notebook/__init__.py)\n",
      "\u001b[1;31m\n",
      "\u001b[1;31mFailed to run jupyter as observable with args notebook --no-browser --notebook-dir=\"/Users/jaimesoroarubio/code/jaimesoroa/smarthealing/notebooks\" --config=/var/folders/jt/ljcpcwg95nv566n6vzs4822m0000gn/T/5a3bc81d-e081-4891-a241-15aaa83fb67d/jupyter_notebook_config.py --NotebookApp.iopub_data_rate_limit=10000000000.0. \n",
      "\u001b[1;31mView Jupyter <a href='command:jupyter.viewOutput'>log</a> for further details."
     ]
    }
   ],
   "source": [
    "y_pred_NN = model.predict(X_test_p)"
   ]
  },
  {
   "cell_type": "code",
   "execution_count": null,
   "metadata": {},
   "outputs": [
    {
     "ename": "",
     "evalue": "",
     "output_type": "error",
     "traceback": [
      "\u001b[1;31mFailed to start the Kernel. \n",
      "\u001b[1;31mTraceback (most recent call last):\n",
      "\u001b[1;31m  File \"/Users/jaimesoroarubio/.vscode/extensions/ms-toolsai.jupyter-2022.9.1303220346/pythonFiles/vscode_datascience_helpers/jupyter_daemon.py\", line 158, in _start_notebook\n",
      "\u001b[1;31m    from notebook import notebookapp as app\n",
      "\u001b[1;31m  File \"/Users/jaimesoroarubio/.pyenv/versions/3.10.6/envs/taxifare-env/lib/python3.10/site-packages/notebook/notebookapp.py\", line 57, in <module>\n",
      "\u001b[1;31m    raise ImportError(_(\"The Jupyter Notebook requires tornado >= 5.0, but you have %s\") % tornado.version)\n",
      "\u001b[1;31mImportError: The Jupyter Notebook requires tornado >= 5.0, but you have 4.5.3\n",
      "\u001b[1;31m\n",
      "\u001b[1;31mDuring handling of the above exception, another exception occurred:\n",
      "\u001b[1;31m\n",
      "\u001b[1;31mTraceback (most recent call last):\n",
      "\u001b[1;31m  File \"/Users/jaimesoroarubio/.vscode/extensions/ms-toolsai.jupyter-2022.9.1303220346/pythonFiles/vscode_datascience_helpers/daemon/daemon_python.py\", line 54, in _decorator\n",
      "\u001b[1;31m    return func(self, *args, **kwargs)\n",
      "\u001b[1;31m  File \"/Users/jaimesoroarubio/.vscode/extensions/ms-toolsai.jupyter-2022.9.1303220346/pythonFiles/vscode_datascience_helpers/jupyter_daemon.py\", line 111, in m_exec_module_observable\n",
      "\u001b[1;31m    self._start_notebook(args, cwd, env)\n",
      "\u001b[1;31m  File \"/Users/jaimesoroarubio/.vscode/extensions/ms-toolsai.jupyter-2022.9.1303220346/pythonFiles/vscode_datascience_helpers/jupyter_daemon.py\", line 160, in _start_notebook\n",
      "\u001b[1;31m    from notebook import app as app\n",
      "\u001b[1;31mImportError: cannot import name 'app' from 'notebook' (/Users/jaimesoroarubio/.pyenv/versions/3.10.6/envs/taxifare-env/lib/python3.10/site-packages/notebook/__init__.py)\n",
      "\u001b[1;31m\n",
      "\u001b[1;31mFailed to run jupyter as observable with args notebook --no-browser --notebook-dir=\"/Users/jaimesoroarubio/code/jaimesoroa/smarthealing/notebooks\" --config=/var/folders/jt/ljcpcwg95nv566n6vzs4822m0000gn/T/5a3bc81d-e081-4891-a241-15aaa83fb67d/jupyter_notebook_config.py --NotebookApp.iopub_data_rate_limit=10000000000.0. \n",
      "\u001b[1;31mView Jupyter <a href='command:jupyter.viewOutput'>log</a> for further details."
     ]
    }
   ],
   "source": [
    "np.exp(mean_squared_error(y_log_test, y_pred_NN, squared = False))"
   ]
  },
  {
   "cell_type": "code",
   "execution_count": null,
   "metadata": {},
   "outputs": [
    {
     "ename": "",
     "evalue": "",
     "output_type": "error",
     "traceback": [
      "\u001b[1;31mFailed to start the Kernel. \n",
      "\u001b[1;31mTraceback (most recent call last):\n",
      "\u001b[1;31m  File \"/Users/jaimesoroarubio/.vscode/extensions/ms-toolsai.jupyter-2022.9.1303220346/pythonFiles/vscode_datascience_helpers/jupyter_daemon.py\", line 158, in _start_notebook\n",
      "\u001b[1;31m    from notebook import notebookapp as app\n",
      "\u001b[1;31m  File \"/Users/jaimesoroarubio/.pyenv/versions/3.10.6/envs/taxifare-env/lib/python3.10/site-packages/notebook/notebookapp.py\", line 57, in <module>\n",
      "\u001b[1;31m    raise ImportError(_(\"The Jupyter Notebook requires tornado >= 5.0, but you have %s\") % tornado.version)\n",
      "\u001b[1;31mImportError: The Jupyter Notebook requires tornado >= 5.0, but you have 4.5.3\n",
      "\u001b[1;31m\n",
      "\u001b[1;31mDuring handling of the above exception, another exception occurred:\n",
      "\u001b[1;31m\n",
      "\u001b[1;31mTraceback (most recent call last):\n",
      "\u001b[1;31m  File \"/Users/jaimesoroarubio/.vscode/extensions/ms-toolsai.jupyter-2022.9.1303220346/pythonFiles/vscode_datascience_helpers/daemon/daemon_python.py\", line 54, in _decorator\n",
      "\u001b[1;31m    return func(self, *args, **kwargs)\n",
      "\u001b[1;31m  File \"/Users/jaimesoroarubio/.vscode/extensions/ms-toolsai.jupyter-2022.9.1303220346/pythonFiles/vscode_datascience_helpers/jupyter_daemon.py\", line 111, in m_exec_module_observable\n",
      "\u001b[1;31m    self._start_notebook(args, cwd, env)\n",
      "\u001b[1;31m  File \"/Users/jaimesoroarubio/.vscode/extensions/ms-toolsai.jupyter-2022.9.1303220346/pythonFiles/vscode_datascience_helpers/jupyter_daemon.py\", line 160, in _start_notebook\n",
      "\u001b[1;31m    from notebook import app as app\n",
      "\u001b[1;31mImportError: cannot import name 'app' from 'notebook' (/Users/jaimesoroarubio/.pyenv/versions/3.10.6/envs/taxifare-env/lib/python3.10/site-packages/notebook/__init__.py)\n",
      "\u001b[1;31m\n",
      "\u001b[1;31mFailed to run jupyter as observable with args notebook --no-browser --notebook-dir=\"/Users/jaimesoroarubio/code/jaimesoroa/smarthealing/notebooks\" --config=/var/folders/jt/ljcpcwg95nv566n6vzs4822m0000gn/T/5a3bc81d-e081-4891-a241-15aaa83fb67d/jupyter_notebook_config.py --NotebookApp.iopub_data_rate_limit=10000000000.0. \n",
      "\u001b[1;31mView Jupyter <a href='command:jupyter.viewOutput'>log</a> for further details."
     ]
    }
   ],
   "source": [
    "from sklearn.model_selection import GridSearchCV # Train/Test split\n",
    "\n",
    "model_RF = RandomForestRegressor()\n",
    "# Hyperparameter Grid\n",
    "RF_grid = {'n_estimators': [600, 1500],\n",
    "        'min_samples_split': [10, 15, 50],\n",
    "        'min_samples_leaf': [4, 6]}\n",
    "# Instanciate Grid Search\n",
    "RF_search = GridSearchCV(model_RF, RF_grid,\n",
    "                           scoring = 'r2',\n",
    "                           cv = 3,\n",
    "                           n_jobs=-1 # paralellize computation\n",
    "                           )\n",
    "\n",
    "# Fit data to Grid Search\n",
    "RF_search.fit(X_train_p, y_log_train)\n",
    "\n",
    "print(RF_search.best_score_)\n",
    "print(RF_search.best_params_)"
   ]
  },
  {
   "cell_type": "code",
   "execution_count": null,
   "metadata": {},
   "outputs": [
    {
     "ename": "",
     "evalue": "",
     "output_type": "error",
     "traceback": [
      "\u001b[1;31mFailed to start the Kernel. \n",
      "\u001b[1;31mTraceback (most recent call last):\n",
      "\u001b[1;31m  File \"/Users/jaimesoroarubio/.vscode/extensions/ms-toolsai.jupyter-2022.9.1303220346/pythonFiles/vscode_datascience_helpers/jupyter_daemon.py\", line 158, in _start_notebook\n",
      "\u001b[1;31m    from notebook import notebookapp as app\n",
      "\u001b[1;31m  File \"/Users/jaimesoroarubio/.pyenv/versions/3.10.6/envs/taxifare-env/lib/python3.10/site-packages/notebook/notebookapp.py\", line 57, in <module>\n",
      "\u001b[1;31m    raise ImportError(_(\"The Jupyter Notebook requires tornado >= 5.0, but you have %s\") % tornado.version)\n",
      "\u001b[1;31mImportError: The Jupyter Notebook requires tornado >= 5.0, but you have 4.5.3\n",
      "\u001b[1;31m\n",
      "\u001b[1;31mDuring handling of the above exception, another exception occurred:\n",
      "\u001b[1;31m\n",
      "\u001b[1;31mTraceback (most recent call last):\n",
      "\u001b[1;31m  File \"/Users/jaimesoroarubio/.vscode/extensions/ms-toolsai.jupyter-2022.9.1303220346/pythonFiles/vscode_datascience_helpers/daemon/daemon_python.py\", line 54, in _decorator\n",
      "\u001b[1;31m    return func(self, *args, **kwargs)\n",
      "\u001b[1;31m  File \"/Users/jaimesoroarubio/.vscode/extensions/ms-toolsai.jupyter-2022.9.1303220346/pythonFiles/vscode_datascience_helpers/jupyter_daemon.py\", line 111, in m_exec_module_observable\n",
      "\u001b[1;31m    self._start_notebook(args, cwd, env)\n",
      "\u001b[1;31m  File \"/Users/jaimesoroarubio/.vscode/extensions/ms-toolsai.jupyter-2022.9.1303220346/pythonFiles/vscode_datascience_helpers/jupyter_daemon.py\", line 160, in _start_notebook\n",
      "\u001b[1;31m    from notebook import app as app\n",
      "\u001b[1;31mImportError: cannot import name 'app' from 'notebook' (/Users/jaimesoroarubio/.pyenv/versions/3.10.6/envs/taxifare-env/lib/python3.10/site-packages/notebook/__init__.py)\n",
      "\u001b[1;31m\n",
      "\u001b[1;31mFailed to run jupyter as observable with args notebook --no-browser --notebook-dir=\"/Users/jaimesoroarubio/code/jaimesoroa/smarthealing/notebooks\" --config=/var/folders/jt/ljcpcwg95nv566n6vzs4822m0000gn/T/5a3bc81d-e081-4891-a241-15aaa83fb67d/jupyter_notebook_config.py --NotebookApp.iopub_data_rate_limit=10000000000.0. \n",
      "\u001b[1;31mView Jupyter <a href='command:jupyter.viewOutput'>log</a> for further details."
     ]
    }
   ],
   "source": [
    "search.best_score_"
   ]
  },
  {
   "cell_type": "code",
   "execution_count": null,
   "metadata": {},
   "outputs": [
    {
     "ename": "",
     "evalue": "",
     "output_type": "error",
     "traceback": [
      "\u001b[1;31mFailed to start the Kernel. \n",
      "\u001b[1;31mTraceback (most recent call last):\n",
      "\u001b[1;31m  File \"/Users/jaimesoroarubio/.vscode/extensions/ms-toolsai.jupyter-2022.9.1303220346/pythonFiles/vscode_datascience_helpers/jupyter_daemon.py\", line 158, in _start_notebook\n",
      "\u001b[1;31m    from notebook import notebookapp as app\n",
      "\u001b[1;31m  File \"/Users/jaimesoroarubio/.pyenv/versions/3.10.6/envs/taxifare-env/lib/python3.10/site-packages/notebook/notebookapp.py\", line 57, in <module>\n",
      "\u001b[1;31m    raise ImportError(_(\"The Jupyter Notebook requires tornado >= 5.0, but you have %s\") % tornado.version)\n",
      "\u001b[1;31mImportError: The Jupyter Notebook requires tornado >= 5.0, but you have 4.5.3\n",
      "\u001b[1;31m\n",
      "\u001b[1;31mDuring handling of the above exception, another exception occurred:\n",
      "\u001b[1;31m\n",
      "\u001b[1;31mTraceback (most recent call last):\n",
      "\u001b[1;31m  File \"/Users/jaimesoroarubio/.vscode/extensions/ms-toolsai.jupyter-2022.9.1303220346/pythonFiles/vscode_datascience_helpers/daemon/daemon_python.py\", line 54, in _decorator\n",
      "\u001b[1;31m    return func(self, *args, **kwargs)\n",
      "\u001b[1;31m  File \"/Users/jaimesoroarubio/.vscode/extensions/ms-toolsai.jupyter-2022.9.1303220346/pythonFiles/vscode_datascience_helpers/jupyter_daemon.py\", line 111, in m_exec_module_observable\n",
      "\u001b[1;31m    self._start_notebook(args, cwd, env)\n",
      "\u001b[1;31m  File \"/Users/jaimesoroarubio/.vscode/extensions/ms-toolsai.jupyter-2022.9.1303220346/pythonFiles/vscode_datascience_helpers/jupyter_daemon.py\", line 160, in _start_notebook\n",
      "\u001b[1;31m    from notebook import app as app\n",
      "\u001b[1;31mImportError: cannot import name 'app' from 'notebook' (/Users/jaimesoroarubio/.pyenv/versions/3.10.6/envs/taxifare-env/lib/python3.10/site-packages/notebook/__init__.py)\n",
      "\u001b[1;31m\n",
      "\u001b[1;31mFailed to run jupyter as observable with args notebook --no-browser --notebook-dir=\"/Users/jaimesoroarubio/code/jaimesoroa/smarthealing/notebooks\" --config=/var/folders/jt/ljcpcwg95nv566n6vzs4822m0000gn/T/5a3bc81d-e081-4891-a241-15aaa83fb67d/jupyter_notebook_config.py --NotebookApp.iopub_data_rate_limit=10000000000.0. \n",
      "\u001b[1;31mView Jupyter <a href='command:jupyter.viewOutput'>log</a> for further details."
     ]
    }
   ],
   "source": [
    "search.best_params_"
   ]
  },
  {
   "cell_type": "code",
   "execution_count": null,
   "metadata": {},
   "outputs": [
    {
     "ename": "",
     "evalue": "",
     "output_type": "error",
     "traceback": [
      "\u001b[1;31mFailed to start the Kernel. \n",
      "\u001b[1;31mTraceback (most recent call last):\n",
      "\u001b[1;31m  File \"/Users/jaimesoroarubio/.vscode/extensions/ms-toolsai.jupyter-2022.9.1303220346/pythonFiles/vscode_datascience_helpers/jupyter_daemon.py\", line 158, in _start_notebook\n",
      "\u001b[1;31m    from notebook import notebookapp as app\n",
      "\u001b[1;31m  File \"/Users/jaimesoroarubio/.pyenv/versions/3.10.6/envs/taxifare-env/lib/python3.10/site-packages/notebook/notebookapp.py\", line 57, in <module>\n",
      "\u001b[1;31m    raise ImportError(_(\"The Jupyter Notebook requires tornado >= 5.0, but you have %s\") % tornado.version)\n",
      "\u001b[1;31mImportError: The Jupyter Notebook requires tornado >= 5.0, but you have 4.5.3\n",
      "\u001b[1;31m\n",
      "\u001b[1;31mDuring handling of the above exception, another exception occurred:\n",
      "\u001b[1;31m\n",
      "\u001b[1;31mTraceback (most recent call last):\n",
      "\u001b[1;31m  File \"/Users/jaimesoroarubio/.vscode/extensions/ms-toolsai.jupyter-2022.9.1303220346/pythonFiles/vscode_datascience_helpers/daemon/daemon_python.py\", line 54, in _decorator\n",
      "\u001b[1;31m    return func(self, *args, **kwargs)\n",
      "\u001b[1;31m  File \"/Users/jaimesoroarubio/.vscode/extensions/ms-toolsai.jupyter-2022.9.1303220346/pythonFiles/vscode_datascience_helpers/jupyter_daemon.py\", line 111, in m_exec_module_observable\n",
      "\u001b[1;31m    self._start_notebook(args, cwd, env)\n",
      "\u001b[1;31m  File \"/Users/jaimesoroarubio/.vscode/extensions/ms-toolsai.jupyter-2022.9.1303220346/pythonFiles/vscode_datascience_helpers/jupyter_daemon.py\", line 160, in _start_notebook\n",
      "\u001b[1;31m    from notebook import app as app\n",
      "\u001b[1;31mImportError: cannot import name 'app' from 'notebook' (/Users/jaimesoroarubio/.pyenv/versions/3.10.6/envs/taxifare-env/lib/python3.10/site-packages/notebook/__init__.py)\n",
      "\u001b[1;31m\n",
      "\u001b[1;31mFailed to run jupyter as observable with args notebook --no-browser --notebook-dir=\"/Users/jaimesoroarubio/code/jaimesoroa/smarthealing/notebooks\" --config=/var/folders/jt/ljcpcwg95nv566n6vzs4822m0000gn/T/5a3bc81d-e081-4891-a241-15aaa83fb67d/jupyter_notebook_config.py --NotebookApp.iopub_data_rate_limit=10000000000.0. \n",
      "\u001b[1;31mView Jupyter <a href='command:jupyter.viewOutput'>log</a> for further details."
     ]
    }
   ],
   "source": [
    "model_XGB_2 = xgb.XGBRegressor()\n",
    "parameters_XGB = {'nthread':[4], #when use hyperthread, xgboost may become slower\n",
    "              'objective':['reg:squarederror'],\n",
    "              'learning_rate': [0.01, 0.03], #so called `eta` value\n",
    "              'max_depth': [7, 8, 10],\n",
    "              'min_child_weight': [4, 6],\n",
    "              'subsample': [0.7, 0.9],\n",
    "              'colsample_bytree': [0.7],\n",
    "              'n_estimators': [500, 750]}\n",
    "\n",
    "xgb_grid = GridSearchCV(model_XGB_2,\n",
    "                        parameters_XGB,\n",
    "                        scoring = 'r2',\n",
    "                        cv = 5,\n",
    "                        n_jobs = -1,\n",
    "                        verbose=True)\n",
    "\n",
    "xgb_grid.fit(X_train_p, y_log_train)\n",
    "\n",
    "print(xgb_grid.best_score_)\n",
    "print(xgb_grid.best_params_)"
   ]
  },
  {
   "cell_type": "code",
   "execution_count": null,
   "metadata": {},
   "outputs": [
    {
     "ename": "",
     "evalue": "",
     "output_type": "error",
     "traceback": [
      "\u001b[1;31mFailed to start the Kernel. \n",
      "\u001b[1;31mTraceback (most recent call last):\n",
      "\u001b[1;31m  File \"/Users/jaimesoroarubio/.vscode/extensions/ms-toolsai.jupyter-2022.9.1303220346/pythonFiles/vscode_datascience_helpers/jupyter_daemon.py\", line 158, in _start_notebook\n",
      "\u001b[1;31m    from notebook import notebookapp as app\n",
      "\u001b[1;31m  File \"/Users/jaimesoroarubio/.pyenv/versions/3.10.6/envs/taxifare-env/lib/python3.10/site-packages/notebook/notebookapp.py\", line 57, in <module>\n",
      "\u001b[1;31m    raise ImportError(_(\"The Jupyter Notebook requires tornado >= 5.0, but you have %s\") % tornado.version)\n",
      "\u001b[1;31mImportError: The Jupyter Notebook requires tornado >= 5.0, but you have 4.5.3\n",
      "\u001b[1;31m\n",
      "\u001b[1;31mDuring handling of the above exception, another exception occurred:\n",
      "\u001b[1;31m\n",
      "\u001b[1;31mTraceback (most recent call last):\n",
      "\u001b[1;31m  File \"/Users/jaimesoroarubio/.vscode/extensions/ms-toolsai.jupyter-2022.9.1303220346/pythonFiles/vscode_datascience_helpers/daemon/daemon_python.py\", line 54, in _decorator\n",
      "\u001b[1;31m    return func(self, *args, **kwargs)\n",
      "\u001b[1;31m  File \"/Users/jaimesoroarubio/.vscode/extensions/ms-toolsai.jupyter-2022.9.1303220346/pythonFiles/vscode_datascience_helpers/jupyter_daemon.py\", line 111, in m_exec_module_observable\n",
      "\u001b[1;31m    self._start_notebook(args, cwd, env)\n",
      "\u001b[1;31m  File \"/Users/jaimesoroarubio/.vscode/extensions/ms-toolsai.jupyter-2022.9.1303220346/pythonFiles/vscode_datascience_helpers/jupyter_daemon.py\", line 160, in _start_notebook\n",
      "\u001b[1;31m    from notebook import app as app\n",
      "\u001b[1;31mImportError: cannot import name 'app' from 'notebook' (/Users/jaimesoroarubio/.pyenv/versions/3.10.6/envs/taxifare-env/lib/python3.10/site-packages/notebook/__init__.py)\n",
      "\u001b[1;31m\n",
      "\u001b[1;31mFailed to run jupyter as observable with args notebook --no-browser --notebook-dir=\"/Users/jaimesoroarubio/code/jaimesoroa/smarthealing/notebooks\" --config=/var/folders/jt/ljcpcwg95nv566n6vzs4822m0000gn/T/5a3bc81d-e081-4891-a241-15aaa83fb67d/jupyter_notebook_config.py --NotebookApp.iopub_data_rate_limit=10000000000.0. \n",
      "\u001b[1;31mView Jupyter <a href='command:jupyter.viewOutput'>log</a> for further details."
     ]
    }
   ],
   "source": []
  }
 ],
 "metadata": {
  "kernelspec": {
   "display_name": "Python 3.10.6 64-bit ('smarthealing')",
   "language": "python",
   "name": "python3"
  },
  "language_info": {
   "codemirror_mode": {
    "name": "ipython",
    "version": 3
   },
   "file_extension": ".py",
   "mimetype": "text/x-python",
   "name": "python",
   "nbconvert_exporter": "python",
   "pygments_lexer": "ipython3",
   "version": "3.10.6"
  },
  "orig_nbformat": 4,
  "vscode": {
   "interpreter": {
    "hash": "a052b50ed818788650ad5d649604661245a9865e7d171455318412d917eecdd4"
   }
  }
 },
 "nbformat": 4,
 "nbformat_minor": 2
}
